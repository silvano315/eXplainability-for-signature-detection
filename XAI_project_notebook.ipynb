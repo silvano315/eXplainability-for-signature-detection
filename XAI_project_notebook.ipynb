{
 "cells": [
  {
   "cell_type": "markdown",
   "id": "e4cbc264",
   "metadata": {},
   "source": [
    "# XAI Project for signature classification using CEDAR dataset"
   ]
  },
  {
   "cell_type": "markdown",
   "id": "8821236a",
   "metadata": {},
   "source": [
    "## Configurations Colab & Kaggle API"
   ]
  },
  {
   "cell_type": "code",
   "execution_count": null,
   "id": "7e76ef70",
   "metadata": {},
   "outputs": [],
   "source": [
    "!git clone https://github.com/silvano315/eXplainability-for-signature-detection.git"
   ]
  },
  {
   "cell_type": "code",
   "execution_count": null,
   "id": "56e246a6",
   "metadata": {},
   "outputs": [],
   "source": [
    "import os \n",
    "\n",
    "os.chdir(\"eXplainability-for-signature-detection\")\n",
    "os.getcwd()"
   ]
  },
  {
   "cell_type": "code",
   "execution_count": null,
   "id": "eb9f21fa",
   "metadata": {},
   "outputs": [],
   "source": [
    "from google.colab import drive\n",
    "drive.mount('/content/drive')"
   ]
  },
  {
   "cell_type": "code",
   "execution_count": null,
   "id": "4fa1d795",
   "metadata": {},
   "outputs": [],
   "source": [
    "# Move your Kaggle API to /root/.config/kaggle and /root/.kaggle/kaggle.json\n",
    "\n",
    "os.makedirs('/root/.kaggle', exist_ok = True)\n",
    "\n",
    "!cp /content/drive/MyDrive/Kaggle_api/kaggle.json /root/.config/kaggle.json\n",
    "!cp /content/drive/MyDrive/Kaggle_api/kaggle.json /root/.kaggle/kaggle.json"
   ]
  },
  {
   "cell_type": "markdown",
   "id": "49734ac8",
   "metadata": {},
   "source": [
    "## Import libraries"
   ]
  },
  {
   "cell_type": "code",
   "execution_count": null,
   "id": "845e6e10",
   "metadata": {},
   "outputs": [],
   "source": [
    "import json\n",
    "import logging\n",
    "import yaml\n",
    "import torch\n",
    "import pandas as pd\n",
    "from pathlib import Path\n",
    "from torch.utils.data import DataLoader\n",
    "from torchvision import transforms, datasets\n",
    "\n",
    "from src.utils.kaggle_downloader import setup_dataset\n",
    "from src.utils.logger_setup import get_logger"
   ]
  },
  {
   "cell_type": "markdown",
   "id": "6e0a74a5",
   "metadata": {},
   "source": [
    "## Configurations"
   ]
  },
  {
   "cell_type": "code",
   "execution_count": null,
   "id": "a925e730",
   "metadata": {},
   "outputs": [],
   "source": [
    "# Load config\n",
    "\n",
    "with open('config/config.yaml', 'r') as f:\n",
    "    config = yaml.safe_load(f)"
   ]
  },
  {
   "cell_type": "code",
   "execution_count": null,
   "id": "fe200df0",
   "metadata": {},
   "outputs": [],
   "source": [
    "# Load config\n",
    "\n",
    "with open('config/config.yaml', 'r') as f:\n",
    "    config = yaml.safe_load(f)"
   ]
  },
  {
   "cell_type": "code",
   "execution_count": null,
   "id": "acabf57c",
   "metadata": {},
   "outputs": [],
   "source": [
    "# Setup paths\n",
    "\n",
    "DATA_PATH = Path(config['paths']['data']['raw_path'])\n",
    "MODELS_PATH = Path(config['paths']['data']['models_path'])\n",
    "MODELS_PATH.mkdir(parents=True, exist_ok=True)"
   ]
  },
  {
   "cell_type": "code",
   "execution_count": null,
   "id": "76d42f09",
   "metadata": {},
   "outputs": [],
   "source": [
    "# Training parameters\n",
    "\n",
    "BATCH_SIZE = config['training']['batch_size']\n",
    "NUM_EPOCHS = config['training']['num_epochs']\n",
    "LEARNING_RATE = config['training']['learning_rate']\n",
    "NUM_CLASSES = config['dataset']['num_classes']"
   ]
  },
  {
   "cell_type": "markdown",
   "id": "60a1ede8",
   "metadata": {},
   "source": [
    "## Load data"
   ]
  },
  {
   "cell_type": "code",
   "execution_count": null,
   "id": "298caa61",
   "metadata": {},
   "outputs": [],
   "source": [
    "# Download Malimg dataset from Kaggle\n",
    "\n",
    "dataset_path = setup_dataset()\n",
    "print(f\"Dataset found at: {dataset_path}\")"
   ]
  }
 ],
 "metadata": {
  "language_info": {
   "name": "python"
  }
 },
 "nbformat": 4,
 "nbformat_minor": 5
}
