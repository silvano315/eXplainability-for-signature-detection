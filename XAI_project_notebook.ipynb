{
  "cells": [
    {
      "cell_type": "markdown",
      "id": "e4cbc264",
      "metadata": {
        "id": "e4cbc264"
      },
      "source": [
        "# XAI Project for signature classification using CEDAR dataset"
      ]
    },
    {
      "cell_type": "markdown",
      "id": "8821236a",
      "metadata": {
        "id": "8821236a"
      },
      "source": [
        "## Configurations Colab & Kaggle API"
      ]
    },
    {
      "cell_type": "code",
      "execution_count": 1,
      "id": "7e76ef70",
      "metadata": {
        "colab": {
          "base_uri": "https://localhost:8080/"
        },
        "id": "7e76ef70",
        "outputId": "65612eba-ead4-4988-e8a9-b6912bffc384"
      },
      "outputs": [
        {
          "name": "stdout",
          "output_type": "stream",
          "text": [
            "Cloning into 'eXplainability-for-signature-detection'...\n",
            "remote: Enumerating objects: 125, done.\u001b[K\n",
            "remote: Counting objects: 100% (125/125), done.\u001b[K\n",
            "remote: Compressing objects: 100% (91/91), done.\u001b[K\n",
            "remote: Total 125 (delta 65), reused 83 (delta 28), pack-reused 0 (from 0)\u001b[K\n",
            "Receiving objects: 100% (125/125), 65.49 KiB | 2.42 MiB/s, done.\n",
            "Resolving deltas: 100% (65/65), done.\n"
          ]
        }
      ],
      "source": [
        "!git clone https://github.com/silvano315/eXplainability-for-signature-detection.git"
      ]
    },
    {
      "cell_type": "code",
      "execution_count": 2,
      "id": "56e246a6",
      "metadata": {
        "colab": {
          "base_uri": "https://localhost:8080/",
          "height": 871
        },
        "id": "56e246a6",
        "outputId": "7477c113-441e-4f68-d01a-a554d8810d2e"
      },
      "outputs": [
        {
          "data": {
            "application/vnd.google.colaboratory.intrinsic+json": {
              "type": "string"
            },
            "text/plain": [
              "'/content/eXplainability-for-signature-detection'"
            ]
          },
          "execution_count": 2,
          "metadata": {},
          "output_type": "execute_result"
        }
      ],
      "source": [
        "import os\n",
        "\n",
        "os.chdir(\"eXplainability-for-signature-detection\")\n",
        "os.getcwd()"
      ]
    },
    {
      "cell_type": "code",
      "execution_count": 3,
      "id": "eb9f21fa",
      "metadata": {
        "colab": {
          "base_uri": "https://localhost:8080/"
        },
        "id": "eb9f21fa",
        "outputId": "33e8e447-f7aa-4a9e-bab4-d7daf697c90e"
      },
      "outputs": [
        {
          "name": "stdout",
          "output_type": "stream",
          "text": [
            "Mounted at /content/drive\n"
          ]
        }
      ],
      "source": [
        "from google.colab import drive\n",
        "drive.mount('/content/drive')"
      ]
    },
    {
      "cell_type": "code",
      "execution_count": 4,
      "id": "4fa1d795",
      "metadata": {
        "id": "4fa1d795"
      },
      "outputs": [],
      "source": [
        "# Move your Kaggle API to /root/.config/kaggle and /root/.kaggle/kaggle.json\n",
        "\n",
        "os.makedirs('/root/.kaggle', exist_ok = True)\n",
        "\n",
        "!cp /content/drive/MyDrive/Kaggle_api/kaggle.json /root/.config/kaggle.json\n",
        "!cp /content/drive/MyDrive/Kaggle_api/kaggle.json /root/.kaggle/kaggle.json"
      ]
    },
    {
      "cell_type": "markdown",
      "id": "49734ac8",
      "metadata": {
        "id": "49734ac8"
      },
      "source": [
        "## Import libraries"
      ]
    },
    {
      "cell_type": "code",
      "execution_count": 5,
      "id": "845e6e10",
      "metadata": {
        "id": "845e6e10"
      },
      "outputs": [],
      "source": [
        "import json\n",
        "import logging\n",
        "import yaml\n",
        "import torch\n",
        "import pandas as pd\n",
        "from pathlib import Path\n",
        "from torch.utils.data import DataLoader\n",
        "from torchvision import transforms, datasets\n",
        "\n",
        "from src.utils.kaggle_downloader import setup_dataset\n",
        "from src.utils.logger_setup import get_logger\n",
        "from src.utils.dataset_analyzer import create_dataset_metadata, validate_dataset_consistency, \\\n",
        "                                        save_metadata, load_metadata\n",
        "from src.utils.eda import print_dataset_statistics, plot_dataset_distribution, \\\n",
        "                            show_sample_images, analyze_image_properties, generate_eda_report\n",
        "from src.data.cedar_dataset import CEDARDataset, create_dataloaders, create_balanced_splits\n",
        "from src.model.model_factory import get_available_models, validate_model_config, create_model\n",
        "from src.training.experiment import Experiment\n",
        "from src.training.callbacks import EarlyStopping, ModelCheckpoint, ReduceLROnPlateau\n",
        "from src.training.trainer import ModelTrainer\n",
        "from src.visualization.plot_results import scatter_plot_metrics, plot_confusion_matrix, plot_misclassified_images"
      ]
    },
    {
      "cell_type": "markdown",
      "id": "6e0a74a5",
      "metadata": {
        "id": "6e0a74a5"
      },
      "source": [
        "## Configurations"
      ]
    },
    {
      "cell_type": "code",
      "execution_count": 6,
      "id": "a925e730",
      "metadata": {
        "id": "a925e730"
      },
      "outputs": [],
      "source": [
        "# Load config\n",
        "\n",
        "with open('config/config.yaml', 'r') as f:\n",
        "    config = yaml.safe_load(f)"
      ]
    },
    {
      "cell_type": "code",
      "execution_count": 7,
      "id": "acabf57c",
      "metadata": {
        "id": "acabf57c"
      },
      "outputs": [],
      "source": [
        "# Setup paths\n",
        "\n",
        "DATA_PATH = Path(config['paths']['data']['raw_path'])\n",
        "MODELS_PATH = Path(config['paths']['data']['models_path'])\n",
        "MODELS_PATH.mkdir(parents=True, exist_ok=True)"
      ]
    },
    {
      "cell_type": "code",
      "execution_count": 8,
      "id": "76d42f09",
      "metadata": {
        "id": "76d42f09"
      },
      "outputs": [],
      "source": [
        "# Training parameters\n",
        "\n",
        "BATCH_SIZE = config['training']['batch_size']\n",
        "NUM_EPOCHS = config['training']['num_epochs']\n",
        "LEARNING_RATE = config['training']['learning_rate']\n",
        "NUM_CLASSES = config['dataset']['num_classes']"
      ]
    },
    {
      "cell_type": "markdown",
      "id": "60a1ede8",
      "metadata": {
        "id": "60a1ede8"
      },
      "source": [
        "## Load data"
      ]
    },
    {
      "cell_type": "code",
      "execution_count": 9,
      "id": "298caa61",
      "metadata": {
        "colab": {
          "base_uri": "https://localhost:8080/"
        },
        "id": "298caa61",
        "outputId": "92685944-ccf7-4811-eaff-78745a54dd4c"
      },
      "outputs": [
        {
          "name": "stderr",
          "output_type": "stream",
          "text": [
            "2025-07-28 09:12:05,348 - KaggleDataDownloader - INFO - Downloading dataset: shreelakshmigp/cedardataset\n",
            "INFO:KaggleDataDownloader:Downloading dataset: shreelakshmigp/cedardataset\n"
          ]
        },
        {
          "name": "stdout",
          "output_type": "stream",
          "text": [
            "Dataset URL: https://www.kaggle.com/datasets/shreelakshmigp/cedardataset\n"
          ]
        },
        {
          "name": "stderr",
          "output_type": "stream",
          "text": [
            "2025-07-28 09:12:15,726 - KaggleDataDownloader - INFO - Dataset downloaded successfully to data/raw/cedardataset\n",
            "INFO:KaggleDataDownloader:Dataset downloaded successfully to data/raw/cedardataset\n",
            "2025-07-28 09:12:15,728 - KaggleDataDownloader - INFO - Starting dataset validation...\n",
            "INFO:KaggleDataDownloader:Starting dataset validation...\n",
            "2025-07-28 09:12:15,733 - KaggleDataDownloader - INFO - Readme content:\n",
            "There are two folders\n",
            "\n",
            "1. full_forg: Contains 1320 forgery signatures (24 forgeries for each of 55 writers).\n",
            "2. full_org: Contains 1320 genuine signatures (24 genuines for each of 55 writers). \n",
            "INFO:KaggleDataDownloader:Readme content:\n",
            "There are two folders\n",
            "\n",
            "1. full_forg: Contains 1320 forgery signatures (24 forgeries for each of 55 writers).\n",
            "2. full_org: Contains 1320 genuine signatures (24 genuines for each of 55 writers). \n",
            "2025-07-28 09:12:15,735 - KaggleDataDownloader - INFO - Dataset validation successful\n",
            "INFO:KaggleDataDownloader:Dataset validation successful\n",
            "2025-07-28 09:12:15,736 - KaggleDataDownloader - INFO - Found all required splits: ['full_forg', 'full_org']\n",
            "INFO:KaggleDataDownloader:Found all required splits: ['full_forg', 'full_org']\n"
          ]
        },
        {
          "name": "stdout",
          "output_type": "stream",
          "text": [
            "Dataset found at: data/raw/cedardataset\n"
          ]
        }
      ],
      "source": [
        "# Download Malimg dataset from Kaggle\n",
        "\n",
        "dataset_path = setup_dataset()\n",
        "print(f\"Dataset found at: {dataset_path}\")"
      ]
    },
    {
      "cell_type": "code",
      "execution_count": null,
      "id": "d2fcb74e",
      "metadata": {
        "id": "d2fcb74e"
      },
      "outputs": [],
      "source": [
        "# Generate metadata for the dataset\n",
        "\n",
        "signatures_path = Path(\"data/raw/cedardataset/signatures\")\n",
        "metadata = create_dataset_metadata(signatures_path)"
      ]
    },
    {
      "cell_type": "code",
      "execution_count": null,
      "id": "0b5f4efb",
      "metadata": {
        "id": "0b5f4efb"
      },
      "outputs": [],
      "source": [
        "# Save or load metadata with FLAG\n",
        "\n",
        "SAVE_METADATA = False\n",
        "dataset_metadata_path = Path(\"metadata/metadata.json\")\n",
        "\n",
        "if SAVE_METADATA:\n",
        "    save_metadata(metadata, dataset_metadata_path)\n",
        "else:\n",
        "    metadata = load_metadata(dataset_metadata_path)"
      ]
    },
    {
      "cell_type": "code",
      "execution_count": null,
      "id": "51552082",
      "metadata": {
        "id": "51552082"
      },
      "outputs": [],
      "source": [
        "# Validate dataset consistency (statistics, class distribution, etc.)\n",
        "\n",
        "validate_metadata = validate_dataset_consistency(metadata)\n",
        "for key, value in validate_metadata.items():\n",
        "    if isinstance(value, dict):\n",
        "        print(f\"{key}:\")\n",
        "        for subkey, subvalue in value.items():\n",
        "            print(f\"  {subkey}: {subvalue}\")\n",
        "    else:\n",
        "      print(f\"{key}: {value}\")"
      ]
    },
    {
      "cell_type": "markdown",
      "id": "a65385e4",
      "metadata": {
        "id": "a65385e4"
      },
      "source": [
        "## Exploratory Data Analysis"
      ]
    },
    {
      "cell_type": "code",
      "execution_count": null,
      "id": "6b0ad6d4",
      "metadata": {
        "id": "6b0ad6d4"
      },
      "outputs": [],
      "source": [
        "# Print a complete EDA report\n",
        "\n",
        "signatures_path = Path(\"data/raw/cedardataset/signatures\")\n",
        "output_dir = Path(\"reports/eda\")\n",
        "\n",
        "generate_eda_report(signatures_path, metadata, output_dir)"
      ]
    },
    {
      "cell_type": "code",
      "execution_count": null,
      "id": "a2ebe1ea",
      "metadata": {
        "id": "a2ebe1ea"
      },
      "outputs": [],
      "source": [
        "# I you want to run the EDA report step by step\n",
        "\n",
        "print_dataset_statistics(metadata)"
      ]
    },
    {
      "cell_type": "code",
      "execution_count": null,
      "id": "a1c92b2f",
      "metadata": {
        "id": "a1c92b2f"
      },
      "outputs": [],
      "source": [
        "# I you want to run the EDA report step by step\n",
        "\n",
        "plot_dataset_distribution(metadata)"
      ]
    },
    {
      "cell_type": "markdown",
      "id": "e4cdd330",
      "metadata": {
        "id": "e4cdd330"
      },
      "source": [
        "## Create Data Loaders"
      ]
    },
    {
      "cell_type": "code",
      "execution_count": 10,
      "id": "cb2b1b85",
      "metadata": {
        "colab": {
          "base_uri": "https://localhost:8080/"
        },
        "id": "cb2b1b85",
        "outputId": "04a0e60a-f1e7-49d7-9ab8-728763bc6852"
      },
      "outputs": [
        {
          "name": "stderr",
          "output_type": "stream",
          "text": [
            "2025-07-28 09:12:15,749 - training - INFO - Metadata loaded from: metadata/metadata.json\n",
            "2025-07-28 09:12:15,749 - training - INFO - Metadata loaded from: metadata/metadata.json\n",
            "2025-07-28 09:12:15,749 - training - INFO - Metadata loaded from: metadata/metadata.json\n",
            "INFO:training:Metadata loaded from: metadata/metadata.json\n"
          ]
        }
      ],
      "source": [
        "# If you haven't run it before\n",
        "\n",
        "dataset_metadata_path = Path(\"metadata/metadata.json\")\n",
        "\n",
        "metadata = load_metadata(dataset_metadata_path)"
      ]
    },
    {
      "cell_type": "code",
      "execution_count": 11,
      "id": "84659a9a",
      "metadata": {
        "colab": {
          "base_uri": "https://localhost:8080/"
        },
        "id": "84659a9a",
        "outputId": "5ea292e6-16f3-4cf4-a827-61d4c1f92f6b"
      },
      "outputs": [
        {
          "name": "stderr",
          "output_type": "stream",
          "text": [
            "2025-07-28 09:12:15,756 - training - INFO - Creating balanced splits for signature verification...\n",
            "2025-07-28 09:12:15,756 - training - INFO - Creating balanced splits for signature verification...\n",
            "2025-07-28 09:12:15,756 - training - INFO - Creating balanced splits for signature verification...\n",
            "INFO:training:Creating balanced splits for signature verification...\n",
            "2025-07-28 09:12:15,760 - training - INFO - Found 1320 original and 1320 forged signatures\n",
            "2025-07-28 09:12:15,760 - training - INFO - Found 1320 original and 1320 forged signatures\n",
            "2025-07-28 09:12:15,760 - training - INFO - Found 1320 original and 1320 forged signatures\n",
            "INFO:training:Found 1320 original and 1320 forged signatures\n",
            "2025-07-28 09:12:15,765 - training - INFO - Split distribution:\n",
            "2025-07-28 09:12:15,765 - training - INFO - Split distribution:\n",
            "2025-07-28 09:12:15,765 - training - INFO - Split distribution:\n",
            "INFO:training:Split distribution:\n",
            "2025-07-28 09:12:15,768 - training - INFO -   train: 1846 images (original: 923, forged: 923)\n",
            "2025-07-28 09:12:15,768 - training - INFO -   train: 1846 images (original: 923, forged: 923)\n",
            "2025-07-28 09:12:15,768 - training - INFO -   train: 1846 images (original: 923, forged: 923)\n",
            "INFO:training:  train: 1846 images (original: 923, forged: 923)\n",
            "2025-07-28 09:12:15,771 - training - INFO -   val: 396 images (original: 198, forged: 198)\n",
            "2025-07-28 09:12:15,771 - training - INFO -   val: 396 images (original: 198, forged: 198)\n",
            "2025-07-28 09:12:15,771 - training - INFO -   val: 396 images (original: 198, forged: 198)\n",
            "INFO:training:  val: 396 images (original: 198, forged: 198)\n",
            "2025-07-28 09:12:15,773 - training - INFO -   test: 398 images (original: 199, forged: 199)\n",
            "2025-07-28 09:12:15,773 - training - INFO -   test: 398 images (original: 199, forged: 199)\n",
            "2025-07-28 09:12:15,773 - training - INFO -   test: 398 images (original: 199, forged: 199)\n",
            "INFO:training:  test: 398 images (original: 199, forged: 199)\n"
          ]
        },
        {
          "name": "stdout",
          "output_type": "stream",
          "text": [
            "\n",
            "\n",
            "You can see the split key updated\n",
            "original_43_16.png: {'type': 'original', 'subject_id': 43, 'sample_id': 16, 'split': 'train'}\n",
            "original_10_9.png: {'type': 'original', 'subject_id': 10, 'sample_id': 9, 'split': 'test'}\n",
            "original_18_12.png: {'type': 'original', 'subject_id': 18, 'sample_id': 12, 'split': 'train'}\n",
            "original_3_10.png: {'type': 'original', 'subject_id': 3, 'sample_id': 10, 'split': 'val'}\n",
            "original_9_11.png: {'type': 'original', 'subject_id': 9, 'sample_id': 11, 'split': 'val'}\n",
            "original_50_19.png: {'type': 'original', 'subject_id': 50, 'sample_id': 19, 'split': 'train'}\n"
          ]
        }
      ],
      "source": [
        "# Update metadata with balanced splits\n",
        "\n",
        "metadata_with_splits = create_balanced_splits(metadata)\n",
        "\n",
        "print(\"\\n\")\n",
        "print(\"You can see the split key updated\")\n",
        "for i, (key, value) in enumerate(metadata_with_splits.items()):\n",
        "    print(f\"{key}: {value}\")\n",
        "    if i == 5:\n",
        "      break"
      ]
    },
    {
      "cell_type": "code",
      "execution_count": 12,
      "id": "c1438a46",
      "metadata": {
        "colab": {
          "base_uri": "https://localhost:8080/"
        },
        "id": "c1438a46",
        "outputId": "218425e2-9d3f-40d0-fe7c-6027b2cf3840"
      },
      "outputs": [
        {
          "name": "stderr",
          "output_type": "stream",
          "text": [
            "2025-07-28 09:12:15,786 - training - INFO - Creating dataloaders...\n",
            "2025-07-28 09:12:15,786 - training - INFO - Creating dataloaders...\n",
            "2025-07-28 09:12:15,786 - training - INFO - Creating dataloaders...\n",
            "INFO:training:Creating dataloaders...\n",
            "2025-07-28 09:12:15,793 - training - INFO - Dataset initialized: 1846 images (split: train)\n",
            "2025-07-28 09:12:15,793 - training - INFO - Dataset initialized: 1846 images (split: train)\n",
            "2025-07-28 09:12:15,793 - training - INFO - Dataset initialized: 1846 images (split: train)\n",
            "INFO:training:Dataset initialized: 1846 images (split: train)\n",
            "/usr/local/lib/python3.11/dist-packages/torch/utils/data/dataloader.py:624: UserWarning: This DataLoader will create 4 worker processes in total. Our suggested max number of worker in current system is 2, which is smaller than what this DataLoader is going to create. Please be aware that excessive worker creation might get DataLoader running slow or even freeze, lower the worker number to avoid potential slowness/freeze if necessary.\n",
            "  warnings.warn(\n",
            "2025-07-28 09:12:15,851 - training - INFO - TRAIN SET:\n",
            "2025-07-28 09:12:15,851 - training - INFO - TRAIN SET:\n",
            "2025-07-28 09:12:15,851 - training - INFO - TRAIN SET:\n",
            "INFO:training:TRAIN SET:\n",
            "2025-07-28 09:12:15,854 - training - INFO -   Images: 1846\n",
            "2025-07-28 09:12:15,854 - training - INFO -   Images: 1846\n",
            "2025-07-28 09:12:15,854 - training - INFO -   Images: 1846\n",
            "INFO:training:  Images: 1846\n",
            "2025-07-28 09:12:15,857 - training - INFO -   Classes: {'original': 923, 'forgeries': 923}\n",
            "2025-07-28 09:12:15,857 - training - INFO -   Classes: {'original': 923, 'forgeries': 923}\n",
            "2025-07-28 09:12:15,857 - training - INFO -   Classes: {'original': 923, 'forgeries': 923}\n",
            "INFO:training:  Classes: {'original': 923, 'forgeries': 923}\n",
            "2025-07-28 09:12:15,860 - training - INFO -   Subjects: 55\n",
            "2025-07-28 09:12:15,860 - training - INFO -   Subjects: 55\n",
            "2025-07-28 09:12:15,860 - training - INFO -   Subjects: 55\n",
            "INFO:training:  Subjects: 55\n",
            "2025-07-28 09:12:15,864 - training - INFO -   Batches: 57\n",
            "2025-07-28 09:12:15,864 - training - INFO -   Batches: 57\n",
            "2025-07-28 09:12:15,864 - training - INFO -   Batches: 57\n",
            "INFO:training:  Batches: 57\n",
            "2025-07-28 09:12:15,866 - training - INFO - Dataset initialized: 396 images (split: val)\n",
            "2025-07-28 09:12:15,866 - training - INFO - Dataset initialized: 396 images (split: val)\n",
            "2025-07-28 09:12:15,866 - training - INFO - Dataset initialized: 396 images (split: val)\n",
            "INFO:training:Dataset initialized: 396 images (split: val)\n",
            "2025-07-28 09:12:15,869 - training - INFO - VAL SET:\n",
            "2025-07-28 09:12:15,869 - training - INFO - VAL SET:\n",
            "2025-07-28 09:12:15,869 - training - INFO - VAL SET:\n",
            "INFO:training:VAL SET:\n",
            "2025-07-28 09:12:15,871 - training - INFO -   Images: 396\n",
            "2025-07-28 09:12:15,871 - training - INFO -   Images: 396\n",
            "2025-07-28 09:12:15,871 - training - INFO -   Images: 396\n",
            "INFO:training:  Images: 396\n",
            "2025-07-28 09:12:15,873 - training - INFO -   Classes: {'original': 198, 'forgeries': 198}\n",
            "2025-07-28 09:12:15,873 - training - INFO -   Classes: {'original': 198, 'forgeries': 198}\n",
            "2025-07-28 09:12:15,873 - training - INFO -   Classes: {'original': 198, 'forgeries': 198}\n",
            "INFO:training:  Classes: {'original': 198, 'forgeries': 198}\n",
            "2025-07-28 09:12:15,875 - training - INFO -   Subjects: 55\n",
            "2025-07-28 09:12:15,875 - training - INFO -   Subjects: 55\n",
            "2025-07-28 09:12:15,875 - training - INFO -   Subjects: 55\n",
            "INFO:training:  Subjects: 55\n",
            "2025-07-28 09:12:15,877 - training - INFO -   Batches: 13\n",
            "2025-07-28 09:12:15,877 - training - INFO -   Batches: 13\n",
            "2025-07-28 09:12:15,877 - training - INFO -   Batches: 13\n",
            "INFO:training:  Batches: 13\n",
            "2025-07-28 09:12:15,879 - training - INFO - Dataset initialized: 398 images (split: test)\n",
            "2025-07-28 09:12:15,879 - training - INFO - Dataset initialized: 398 images (split: test)\n",
            "2025-07-28 09:12:15,879 - training - INFO - Dataset initialized: 398 images (split: test)\n",
            "INFO:training:Dataset initialized: 398 images (split: test)\n",
            "2025-07-28 09:12:15,882 - training - INFO - TEST SET:\n",
            "2025-07-28 09:12:15,882 - training - INFO - TEST SET:\n",
            "2025-07-28 09:12:15,882 - training - INFO - TEST SET:\n",
            "INFO:training:TEST SET:\n",
            "2025-07-28 09:12:15,884 - training - INFO -   Images: 398\n",
            "2025-07-28 09:12:15,884 - training - INFO -   Images: 398\n",
            "2025-07-28 09:12:15,884 - training - INFO -   Images: 398\n",
            "INFO:training:  Images: 398\n",
            "2025-07-28 09:12:15,886 - training - INFO -   Classes: {'original': 199, 'forgeries': 199}\n",
            "2025-07-28 09:12:15,886 - training - INFO -   Classes: {'original': 199, 'forgeries': 199}\n",
            "2025-07-28 09:12:15,886 - training - INFO -   Classes: {'original': 199, 'forgeries': 199}\n",
            "INFO:training:  Classes: {'original': 199, 'forgeries': 199}\n",
            "2025-07-28 09:12:15,888 - training - INFO -   Subjects: 55\n",
            "2025-07-28 09:12:15,888 - training - INFO -   Subjects: 55\n",
            "2025-07-28 09:12:15,888 - training - INFO -   Subjects: 55\n",
            "INFO:training:  Subjects: 55\n",
            "2025-07-28 09:12:15,891 - training - INFO -   Batches: 13\n",
            "2025-07-28 09:12:15,891 - training - INFO -   Batches: 13\n",
            "2025-07-28 09:12:15,891 - training - INFO -   Batches: 13\n",
            "INFO:training:  Batches: 13\n"
          ]
        }
      ],
      "source": [
        "# Create dataloaders for training, validation, and test sets\n",
        "\n",
        "data_path = Path(\"data/raw/cedardataset/signatures\")\n",
        "\n",
        "dataloaders = create_dataloaders(data_path, metadata_with_splits)"
      ]
    },
    {
      "cell_type": "code",
      "execution_count": 14,
      "id": "6c9552c1",
      "metadata": {
        "colab": {
          "base_uri": "https://localhost:8080/"
        },
        "id": "6c9552c1",
        "outputId": "484576f1-e168-49a4-a713-2e633160b01f"
      },
      "outputs": [
        {
          "name": "stdout",
          "output_type": "stream",
          "text": [
            "train DataLoader:\n",
            "  Batch 1: 32 images\n",
            "  Labels: tensor([0, 0, 0, 1, 0, 1, 1, 1, 0, 0, 1, 1, 0, 1, 0, 1, 1, 1, 1, 0, 0, 0, 0, 1,\n",
            "        1, 0, 0, 1, 1, 1, 1, 1])\n",
            "  Images shape: torch.Size([32, 3, 224, 224])\n",
            "  Batch 2: 32 images\n",
            "  Labels: tensor([0, 1, 1, 1, 0, 0, 1, 1, 1, 1, 1, 0, 0, 1, 0, 0, 1, 0, 0, 0, 0, 1, 1, 1,\n",
            "        1, 1, 1, 0, 0, 1, 0, 0])\n",
            "  Images shape: torch.Size([32, 3, 224, 224])\n",
            "  Batch 3: 32 images\n",
            "  Labels: tensor([0, 1, 0, 0, 0, 1, 0, 1, 0, 0, 1, 1, 1, 0, 0, 0, 0, 0, 1, 0, 0, 1, 0, 0,\n",
            "        1, 1, 1, 0, 1, 1, 0, 1])\n",
            "  Images shape: torch.Size([32, 3, 224, 224])\n",
            "\n",
            "\n",
            "Class counts: {'original': 923, 'forgeries': 923}\n",
            "Subject info: {'unique_subjects': 55, 'subject_ids': [1, 2, 3, 4, 5, 6, 7, 8, 9, 10, 11, 12, 13, 14, 15, 16, 17, 18, 19, 20, 21, 22, 23, 24, 25, 26, 27, 28, 29, 30, 31, 32, 33, 34, 35, 36, 37, 38, 39, 40, 41, 42, 43, 44, 45, 46, 47, 48, 49, 50, 51, 52, 53, 54, 55]}\n",
            "val DataLoader:\n",
            "  Batch 1: 32 images\n",
            "  Labels: tensor([0, 0, 0, 0, 0, 0, 0, 0, 0, 0, 0, 0, 0, 0, 0, 0, 0, 0, 0, 0, 0, 0, 0, 0,\n",
            "        0, 0, 0, 0, 0, 0, 0, 0])\n",
            "  Images shape: torch.Size([32, 3, 224, 224])\n",
            "  Batch 2: 32 images\n",
            "  Labels: tensor([0, 0, 0, 0, 0, 0, 0, 0, 0, 0, 0, 0, 0, 0, 0, 0, 0, 0, 0, 0, 0, 0, 0, 0,\n",
            "        0, 0, 0, 0, 0, 0, 0, 0])\n",
            "  Images shape: torch.Size([32, 3, 224, 224])\n",
            "  Batch 3: 32 images\n",
            "  Labels: tensor([0, 0, 0, 0, 0, 0, 0, 0, 0, 0, 0, 0, 0, 0, 0, 0, 0, 0, 0, 0, 0, 0, 0, 0,\n",
            "        0, 0, 0, 0, 0, 0, 0, 0])\n",
            "  Images shape: torch.Size([32, 3, 224, 224])\n",
            "\n",
            "\n",
            "Class counts: {'original': 198, 'forgeries': 198}\n",
            "Subject info: {'unique_subjects': 55, 'subject_ids': [1, 2, 3, 4, 5, 6, 7, 8, 9, 10, 11, 12, 13, 14, 15, 16, 17, 18, 19, 20, 21, 22, 23, 24, 25, 26, 27, 28, 29, 30, 31, 32, 33, 34, 35, 36, 37, 38, 39, 40, 41, 42, 43, 44, 45, 46, 47, 48, 49, 50, 51, 52, 53, 54, 55]}\n",
            "test DataLoader:\n",
            "  Batch 1: 32 images\n",
            "  Labels: tensor([0, 0, 0, 0, 0, 0, 0, 0, 0, 0, 0, 0, 0, 0, 0, 0, 0, 0, 0, 0, 0, 0, 0, 0,\n",
            "        0, 0, 0, 0, 0, 0, 0, 0])\n",
            "  Images shape: torch.Size([32, 3, 224, 224])\n",
            "  Batch 2: 32 images\n",
            "  Labels: tensor([0, 0, 0, 0, 0, 0, 0, 0, 0, 0, 0, 0, 0, 0, 0, 0, 0, 0, 0, 0, 0, 0, 0, 0,\n",
            "        0, 0, 0, 0, 0, 0, 0, 0])\n",
            "  Images shape: torch.Size([32, 3, 224, 224])\n",
            "  Batch 3: 32 images\n",
            "  Labels: tensor([0, 0, 0, 0, 0, 0, 0, 0, 0, 0, 0, 0, 0, 0, 0, 0, 0, 0, 0, 0, 0, 0, 0, 0,\n",
            "        0, 0, 0, 0, 0, 0, 0, 0])\n",
            "  Images shape: torch.Size([32, 3, 224, 224])\n",
            "\n",
            "\n",
            "Class counts: {'original': 199, 'forgeries': 199}\n",
            "Subject info: {'unique_subjects': 55, 'subject_ids': [1, 2, 3, 4, 5, 6, 7, 8, 9, 10, 11, 12, 13, 14, 15, 16, 17, 18, 19, 20, 21, 22, 23, 24, 25, 26, 27, 28, 29, 30, 31, 32, 33, 34, 35, 36, 37, 38, 39, 40, 41, 42, 43, 44, 45, 46, 47, 48, 49, 50, 51, 52, 53, 54, 55]}\n"
          ]
        }
      ],
      "source": [
        "# You can check the dataloaders for each split\n",
        "\n",
        "for split, loader in dataloaders.items():\n",
        "    print(f\"{split} DataLoader:\")\n",
        "    for i, (images, labels) in enumerate(loader):\n",
        "        print(f\"  Batch {i+1}: {len(images)} images\")\n",
        "        print(f\"  Labels: {labels}\")\n",
        "        print(f\"  Images shape: {images.shape}\")\n",
        "        if i == 2:\n",
        "            break\n",
        "    print(\"\\n\")\n",
        "    print(f\"Class counts: {loader.dataset.get_class_counts()}\")\n",
        "    print(f\"Subject info: {loader.dataset.get_subject_info()}\")"
      ]
    },
    {
      "cell_type": "markdown",
      "id": "91a8b5cb",
      "metadata": {
        "id": "91a8b5cb"
      },
      "source": [
        "## Model Definition & Setup Training"
      ]
    },
    {
      "cell_type": "code",
      "execution_count": 25,
      "id": "3cf33818",
      "metadata": {
        "id": "3cf33818"
      },
      "outputs": [],
      "source": [
        "# Model configuration --> Baseline model\n",
        "\n",
        "model_config = {\n",
        "    'type': 'baseline',\n",
        "    'num_classes': 2,\n",
        "    'input_channels': 3\n",
        "}"
      ]
    },
    {
      "cell_type": "code",
      "execution_count": null,
      "id": "3fdf54ab",
      "metadata": {
        "id": "3fdf54ab"
      },
      "outputs": [],
      "source": [
        "# Model configuration --> Transfer learning model\n",
        "\n",
        "model_config = {\n",
        "    'type': 'transfer',\n",
        "    'model_name': 'resnet50',\n",
        "    'num_classes': NUM_CLASSES,\n",
        "    'pretrained': True,\n",
        "    'use_custom_classifier': True\n",
        "}"
      ]
    },
    {
      "cell_type": "code",
      "execution_count": null,
      "id": "690000a8",
      "metadata": {
        "id": "690000a8"
      },
      "outputs": [],
      "source": [
        "# Give a look at every avialable model\n",
        "\n",
        "get_available_models()"
      ]
    },
    {
      "cell_type": "code",
      "execution_count": 26,
      "id": "49d8d1e2",
      "metadata": {
        "id": "49d8d1e2"
      },
      "outputs": [],
      "source": [
        "# Validate configuration\n",
        "\n",
        "validate_model_config(model_config)"
      ]
    },
    {
      "cell_type": "code",
      "execution_count": 27,
      "id": "285b8f2f",
      "metadata": {
        "id": "285b8f2f"
      },
      "outputs": [],
      "source": [
        "# Create model\n",
        "\n",
        "model = create_model(model_config)"
      ]
    },
    {
      "cell_type": "code",
      "execution_count": 28,
      "id": "18a3527e",
      "metadata": {
        "id": "18a3527e"
      },
      "outputs": [],
      "source": [
        "# Optimizer e Loss\n",
        "\n",
        "optimizer = torch.optim.Adam(\n",
        "    model.parameters(),\n",
        "    lr=LEARNING_RATE\n",
        ")\n",
        "\n",
        "criterion = torch.nn.CrossEntropyLoss()"
      ]
    },
    {
      "cell_type": "code",
      "execution_count": 29,
      "id": "71d005b4",
      "metadata": {
        "colab": {
          "base_uri": "https://localhost:8080/"
        },
        "id": "71d005b4",
        "outputId": "f72f3c3a-88b2-4eb8-cdf3-b5c3b07981a0"
      },
      "outputs": [
        {
          "name": "stderr",
          "output_type": "stream",
          "text": [
            "2025-07-28 09:14:47,532 - training - INFO - Creating new experiment\n",
            "2025-07-28 09:14:47,532 - training - INFO - Creating new experiment\n",
            "2025-07-28 09:14:47,532 - training - INFO - Creating new experiment\n",
            "2025-07-28 09:14:47,532 - training - INFO - Creating new experiment\n",
            "2025-07-28 09:14:47,532 - training - INFO - Creating new experiment\n",
            "INFO:training:Creating new experiment\n"
          ]
        }
      ],
      "source": [
        "# Setup experiment\n",
        "\n",
        "logger = get_logger()\n",
        "\n",
        "experiment = Experiment(\n",
        "    name=\"signature_detection_baseline_v1\",       # maybe use the name of the model\n",
        "    root=\"/content/drive/MyDrive/XAI_ProfAI/experiments\",\n",
        "    logger=logger\n",
        ")\n",
        "experiment.init()"
      ]
    },
    {
      "cell_type": "code",
      "execution_count": 30,
      "id": "4abe134c",
      "metadata": {
        "id": "4abe134c"
      },
      "outputs": [],
      "source": [
        "# Setup callbacks\n",
        "\n",
        "callbacks = [\n",
        "    EarlyStopping(\n",
        "        monitor='val_loss',\n",
        "        patience=config['training']['early_stopping']['patience'],\n",
        "        min_delta=config['training']['early_stopping']['min_delta'],\n",
        "        verbose=True\n",
        "    ),\n",
        "    ModelCheckpoint(\n",
        "        filepath='best_baseline_model.pth',\n",
        "        monitor='val_loss',\n",
        "        save_best_only=True,\n",
        "        verbose=1\n",
        "    ),\n",
        "    ReduceLROnPlateau(\n",
        "        optimizer=optimizer,\n",
        "        mode='min',\n",
        "        patience=5,\n",
        "        factor=0.1,\n",
        "        verbose=True\n",
        "    )\n",
        "]"
      ]
    },
    {
      "cell_type": "code",
      "execution_count": 31,
      "id": "47f5ea8c",
      "metadata": {
        "colab": {
          "base_uri": "https://localhost:8080/"
        },
        "id": "47f5ea8c",
        "outputId": "639b1885-db68-4889-c5b7-b787a64d88ad"
      },
      "outputs": [
        {
          "name": "stdout",
          "output_type": "stream",
          "text": [
            "Using device: cuda\n"
          ]
        }
      ],
      "source": [
        "# Initialize trainer\n",
        "\n",
        "device = torch.device(\"cuda\" if torch.cuda.is_available() else \"cpu\")\n",
        "print(f\"Using device: {device}\")\n",
        "\n",
        "trainer = ModelTrainer(\n",
        "    model=model,\n",
        "    optimizer=optimizer,\n",
        "    criterion=criterion,\n",
        "    experiment=experiment,\n",
        "    device=device,\n",
        "    logger=logger\n",
        ")"
      ]
    },
    {
      "cell_type": "code",
      "execution_count": 32,
      "id": "533b25b0",
      "metadata": {
        "colab": {
          "base_uri": "https://localhost:8080/"
        },
        "id": "533b25b0",
        "outputId": "41e8ec8a-f64d-49c9-9309-c20d19d5f656"
      },
      "outputs": [
        {
          "name": "stderr",
          "output_type": "stream",
          "text": [
            "2025-07-28 09:14:54,531 - training - INFO - Start training for 50 epoche\n",
            "2025-07-28 09:14:54,531 - training - INFO - Start training for 50 epoche\n",
            "2025-07-28 09:14:54,531 - training - INFO - Start training for 50 epoche\n",
            "2025-07-28 09:14:54,531 - training - INFO - Start training for 50 epoche\n",
            "2025-07-28 09:14:54,531 - training - INFO - Start training for 50 epoche\n",
            "INFO:training:Start training for 50 epoche\n",
            "2025-07-28 09:14:54,542 - training - INFO - Model: BaselineCNN\n",
            "2025-07-28 09:14:54,542 - training - INFO - Model: BaselineCNN\n",
            "2025-07-28 09:14:54,542 - training - INFO - Model: BaselineCNN\n",
            "2025-07-28 09:14:54,542 - training - INFO - Model: BaselineCNN\n",
            "2025-07-28 09:14:54,542 - training - INFO - Model: BaselineCNN\n",
            "INFO:training:Model: BaselineCNN\n",
            "2025-07-28 09:14:54,553 - training - INFO - Optimizer: Adam\n",
            "2025-07-28 09:14:54,553 - training - INFO - Optimizer: Adam\n",
            "2025-07-28 09:14:54,553 - training - INFO - Optimizer: Adam\n",
            "2025-07-28 09:14:54,553 - training - INFO - Optimizer: Adam\n",
            "2025-07-28 09:14:54,553 - training - INFO - Optimizer: Adam\n",
            "INFO:training:Optimizer: Adam\n",
            "2025-07-28 09:14:54,557 - training - INFO - Criterion: CrossEntropyLoss\n",
            "2025-07-28 09:14:54,557 - training - INFO - Criterion: CrossEntropyLoss\n",
            "2025-07-28 09:14:54,557 - training - INFO - Criterion: CrossEntropyLoss\n",
            "2025-07-28 09:14:54,557 - training - INFO - Criterion: CrossEntropyLoss\n",
            "2025-07-28 09:14:54,557 - training - INFO - Criterion: CrossEntropyLoss\n",
            "INFO:training:Criterion: CrossEntropyLoss\n",
            "2025-07-28 09:14:54,560 - training - INFO - Device: cuda\n",
            "2025-07-28 09:14:54,560 - training - INFO - Device: cuda\n",
            "2025-07-28 09:14:54,560 - training - INFO - Device: cuda\n",
            "2025-07-28 09:14:54,560 - training - INFO - Device: cuda\n",
            "2025-07-28 09:14:54,560 - training - INFO - Device: cuda\n",
            "INFO:training:Device: cuda\n",
            "2025-07-28 09:14:54,563 - training - INFO - Epoch 1/50\n",
            "2025-07-28 09:14:54,563 - training - INFO - Epoch 1/50\n",
            "2025-07-28 09:14:54,563 - training - INFO - Epoch 1/50\n",
            "2025-07-28 09:14:54,563 - training - INFO - Epoch 1/50\n",
            "2025-07-28 09:14:54,563 - training - INFO - Epoch 1/50\n",
            "INFO:training:Epoch 1/50\n",
            "/usr/local/lib/python3.11/dist-packages/torch/utils/data/dataloader.py:624: UserWarning: This DataLoader will create 4 worker processes in total. Our suggested max number of worker in current system is 2, which is smaller than what this DataLoader is going to create. Please be aware that excessive worker creation might get DataLoader running slow or even freeze, lower the worker number to avoid potential slowness/freeze if necessary.\n",
            "  warnings.warn(\n",
            "2025-07-28 09:15:09,861 - training - INFO - Epoca 1 - accuracy: 0.5022 | precision: 0.5025 | recall: 0.5022 | f1: 0.5005 | loss: 0.6873 | val_accuracy: 0.5000 | val_precision: 0.7500 | val_recall: 0.5000 | val_f1: 0.3333 | val_loss: 0.6919\n",
            "2025-07-28 09:15:09,861 - training - INFO - Epoca 1 - accuracy: 0.5022 | precision: 0.5025 | recall: 0.5022 | f1: 0.5005 | loss: 0.6873 | val_accuracy: 0.5000 | val_precision: 0.7500 | val_recall: 0.5000 | val_f1: 0.3333 | val_loss: 0.6919\n",
            "2025-07-28 09:15:09,861 - training - INFO - Epoca 1 - accuracy: 0.5022 | precision: 0.5025 | recall: 0.5022 | f1: 0.5005 | loss: 0.6873 | val_accuracy: 0.5000 | val_precision: 0.7500 | val_recall: 0.5000 | val_f1: 0.3333 | val_loss: 0.6919\n",
            "2025-07-28 09:15:09,861 - training - INFO - Epoca 1 - accuracy: 0.5022 | precision: 0.5025 | recall: 0.5022 | f1: 0.5005 | loss: 0.6873 | val_accuracy: 0.5000 | val_precision: 0.7500 | val_recall: 0.5000 | val_f1: 0.3333 | val_loss: 0.6919\n",
            "2025-07-28 09:15:09,861 - training - INFO - Epoca 1 - accuracy: 0.5022 | precision: 0.5025 | recall: 0.5022 | f1: 0.5005 | loss: 0.6873 | val_accuracy: 0.5000 | val_precision: 0.7500 | val_recall: 0.5000 | val_f1: 0.3333 | val_loss: 0.6919\n",
            "INFO:training:Epoca 1 - accuracy: 0.5022 | precision: 0.5025 | recall: 0.5022 | f1: 0.5005 | loss: 0.6873 | val_accuracy: 0.5000 | val_precision: 0.7500 | val_recall: 0.5000 | val_f1: 0.3333 | val_loss: 0.6919\n",
            "2025-07-28 09:15:11,398 - training - INFO - Successfully saved weights to /content/drive/MyDrive/XAI_ProfAI/experiments/signature_detection_baseline_v1/weights/signature_detection_baseline_v1-weights-1-0.502-0.502-0.502-0.501-0.687-0.500-0.750-0.500-0.333-0.692.pth\n",
            "2025-07-28 09:15:11,398 - training - INFO - Successfully saved weights to /content/drive/MyDrive/XAI_ProfAI/experiments/signature_detection_baseline_v1/weights/signature_detection_baseline_v1-weights-1-0.502-0.502-0.502-0.501-0.687-0.500-0.750-0.500-0.333-0.692.pth\n",
            "2025-07-28 09:15:11,398 - training - INFO - Successfully saved weights to /content/drive/MyDrive/XAI_ProfAI/experiments/signature_detection_baseline_v1/weights/signature_detection_baseline_v1-weights-1-0.502-0.502-0.502-0.501-0.687-0.500-0.750-0.500-0.333-0.692.pth\n",
            "2025-07-28 09:15:11,398 - training - INFO - Successfully saved weights to /content/drive/MyDrive/XAI_ProfAI/experiments/signature_detection_baseline_v1/weights/signature_detection_baseline_v1-weights-1-0.502-0.502-0.502-0.501-0.687-0.500-0.750-0.500-0.333-0.692.pth\n",
            "2025-07-28 09:15:11,398 - training - INFO - Successfully saved weights to /content/drive/MyDrive/XAI_ProfAI/experiments/signature_detection_baseline_v1/weights/signature_detection_baseline_v1-weights-1-0.502-0.502-0.502-0.501-0.687-0.500-0.750-0.500-0.333-0.692.pth\n",
            "INFO:training:Successfully saved weights to /content/drive/MyDrive/XAI_ProfAI/experiments/signature_detection_baseline_v1/weights/signature_detection_baseline_v1-weights-1-0.502-0.502-0.502-0.501-0.687-0.500-0.750-0.500-0.333-0.692.pth\n",
            "2025-07-28 09:15:11,434 - training - INFO - Successfully saved optimizer to /content/drive/MyDrive/XAI_ProfAI/experiments/signature_detection_baseline_v1/weights/signature_detection_baseline_v1-optim-1.pth\n",
            "2025-07-28 09:15:11,434 - training - INFO - Successfully saved optimizer to /content/drive/MyDrive/XAI_ProfAI/experiments/signature_detection_baseline_v1/weights/signature_detection_baseline_v1-optim-1.pth\n",
            "2025-07-28 09:15:11,434 - training - INFO - Successfully saved optimizer to /content/drive/MyDrive/XAI_ProfAI/experiments/signature_detection_baseline_v1/weights/signature_detection_baseline_v1-optim-1.pth\n",
            "2025-07-28 09:15:11,434 - training - INFO - Successfully saved optimizer to /content/drive/MyDrive/XAI_ProfAI/experiments/signature_detection_baseline_v1/weights/signature_detection_baseline_v1-optim-1.pth\n",
            "2025-07-28 09:15:11,434 - training - INFO - Successfully saved optimizer to /content/drive/MyDrive/XAI_ProfAI/experiments/signature_detection_baseline_v1/weights/signature_detection_baseline_v1-optim-1.pth\n",
            "INFO:training:Successfully saved optimizer to /content/drive/MyDrive/XAI_ProfAI/experiments/signature_detection_baseline_v1/weights/signature_detection_baseline_v1-optim-1.pth\n",
            "2025-07-28 09:15:11,451 - training - INFO - ModelCheckpoint: Saved model at epoch 1\n",
            "2025-07-28 09:15:11,451 - training - INFO - ModelCheckpoint: Saved model at epoch 1\n",
            "2025-07-28 09:15:11,451 - training - INFO - ModelCheckpoint: Saved model at epoch 1\n",
            "2025-07-28 09:15:11,451 - training - INFO - ModelCheckpoint: Saved model at epoch 1\n",
            "2025-07-28 09:15:11,451 - training - INFO - ModelCheckpoint: Saved model at epoch 1\n",
            "INFO:training:ModelCheckpoint: Saved model at epoch 1\n",
            "2025-07-28 09:15:11,457 - training - INFO - Epoch 2/50\n",
            "2025-07-28 09:15:11,457 - training - INFO - Epoch 2/50\n",
            "2025-07-28 09:15:11,457 - training - INFO - Epoch 2/50\n",
            "2025-07-28 09:15:11,457 - training - INFO - Epoch 2/50\n",
            "2025-07-28 09:15:11,457 - training - INFO - Epoch 2/50\n",
            "INFO:training:Epoch 2/50\n"
          ]
        },
        {
          "name": "stdout",
          "output_type": "stream",
          "text": [
            "\n",
            "Epoch 00001: val_loss improved from inf to 0.69195, saving model to best_baseline_model.pth\n"
          ]
        },
        {
          "name": "stderr",
          "output_type": "stream",
          "text": [
            "/usr/local/lib/python3.11/dist-packages/torch/utils/data/dataloader.py:624: UserWarning: This DataLoader will create 4 worker processes in total. Our suggested max number of worker in current system is 2, which is smaller than what this DataLoader is going to create. Please be aware that excessive worker creation might get DataLoader running slow or even freeze, lower the worker number to avoid potential slowness/freeze if necessary.\n",
            "  warnings.warn(\n",
            "/usr/local/lib/python3.11/dist-packages/torch/utils/data/dataloader.py:624: UserWarning: This DataLoader will create 4 worker processes in total. Our suggested max number of worker in current system is 2, which is smaller than what this DataLoader is going to create. Please be aware that excessive worker creation might get DataLoader running slow or even freeze, lower the worker number to avoid potential slowness/freeze if necessary.\n",
            "  warnings.warn(\n",
            "2025-07-28 09:15:25,831 - training - INFO - Epoca 2 - accuracy: 0.5302 | precision: 0.5325 | recall: 0.5302 | f1: 0.5228 | loss: 0.6817 | val_accuracy: 0.5076 | val_precision: 0.7519 | val_recall: 0.5076 | val_f1: 0.3500 | val_loss: 0.6800\n",
            "2025-07-28 09:15:25,831 - training - INFO - Epoca 2 - accuracy: 0.5302 | precision: 0.5325 | recall: 0.5302 | f1: 0.5228 | loss: 0.6817 | val_accuracy: 0.5076 | val_precision: 0.7519 | val_recall: 0.5076 | val_f1: 0.3500 | val_loss: 0.6800\n",
            "2025-07-28 09:15:25,831 - training - INFO - Epoca 2 - accuracy: 0.5302 | precision: 0.5325 | recall: 0.5302 | f1: 0.5228 | loss: 0.6817 | val_accuracy: 0.5076 | val_precision: 0.7519 | val_recall: 0.5076 | val_f1: 0.3500 | val_loss: 0.6800\n",
            "2025-07-28 09:15:25,831 - training - INFO - Epoca 2 - accuracy: 0.5302 | precision: 0.5325 | recall: 0.5302 | f1: 0.5228 | loss: 0.6817 | val_accuracy: 0.5076 | val_precision: 0.7519 | val_recall: 0.5076 | val_f1: 0.3500 | val_loss: 0.6800\n",
            "2025-07-28 09:15:25,831 - training - INFO - Epoca 2 - accuracy: 0.5302 | precision: 0.5325 | recall: 0.5302 | f1: 0.5228 | loss: 0.6817 | val_accuracy: 0.5076 | val_precision: 0.7519 | val_recall: 0.5076 | val_f1: 0.3500 | val_loss: 0.6800\n",
            "INFO:training:Epoca 2 - accuracy: 0.5302 | precision: 0.5325 | recall: 0.5302 | f1: 0.5228 | loss: 0.6817 | val_accuracy: 0.5076 | val_precision: 0.7519 | val_recall: 0.5076 | val_f1: 0.3500 | val_loss: 0.6800\n",
            "2025-07-28 09:15:27,761 - training - INFO - Successfully saved weights to /content/drive/MyDrive/XAI_ProfAI/experiments/signature_detection_baseline_v1/weights/signature_detection_baseline_v1-weights-2-0.530-0.532-0.530-0.523-0.682-0.508-0.752-0.508-0.350-0.680.pth\n",
            "2025-07-28 09:15:27,761 - training - INFO - Successfully saved weights to /content/drive/MyDrive/XAI_ProfAI/experiments/signature_detection_baseline_v1/weights/signature_detection_baseline_v1-weights-2-0.530-0.532-0.530-0.523-0.682-0.508-0.752-0.508-0.350-0.680.pth\n",
            "2025-07-28 09:15:27,761 - training - INFO - Successfully saved weights to /content/drive/MyDrive/XAI_ProfAI/experiments/signature_detection_baseline_v1/weights/signature_detection_baseline_v1-weights-2-0.530-0.532-0.530-0.523-0.682-0.508-0.752-0.508-0.350-0.680.pth\n",
            "2025-07-28 09:15:27,761 - training - INFO - Successfully saved weights to /content/drive/MyDrive/XAI_ProfAI/experiments/signature_detection_baseline_v1/weights/signature_detection_baseline_v1-weights-2-0.530-0.532-0.530-0.523-0.682-0.508-0.752-0.508-0.350-0.680.pth\n",
            "2025-07-28 09:15:27,761 - training - INFO - Successfully saved weights to /content/drive/MyDrive/XAI_ProfAI/experiments/signature_detection_baseline_v1/weights/signature_detection_baseline_v1-weights-2-0.530-0.532-0.530-0.523-0.682-0.508-0.752-0.508-0.350-0.680.pth\n",
            "INFO:training:Successfully saved weights to /content/drive/MyDrive/XAI_ProfAI/experiments/signature_detection_baseline_v1/weights/signature_detection_baseline_v1-weights-2-0.530-0.532-0.530-0.523-0.682-0.508-0.752-0.508-0.350-0.680.pth\n",
            "2025-07-28 09:15:27,796 - training - INFO - Successfully saved optimizer to /content/drive/MyDrive/XAI_ProfAI/experiments/signature_detection_baseline_v1/weights/signature_detection_baseline_v1-optim-2.pth\n",
            "2025-07-28 09:15:27,796 - training - INFO - Successfully saved optimizer to /content/drive/MyDrive/XAI_ProfAI/experiments/signature_detection_baseline_v1/weights/signature_detection_baseline_v1-optim-2.pth\n",
            "2025-07-28 09:15:27,796 - training - INFO - Successfully saved optimizer to /content/drive/MyDrive/XAI_ProfAI/experiments/signature_detection_baseline_v1/weights/signature_detection_baseline_v1-optim-2.pth\n",
            "2025-07-28 09:15:27,796 - training - INFO - Successfully saved optimizer to /content/drive/MyDrive/XAI_ProfAI/experiments/signature_detection_baseline_v1/weights/signature_detection_baseline_v1-optim-2.pth\n",
            "2025-07-28 09:15:27,796 - training - INFO - Successfully saved optimizer to /content/drive/MyDrive/XAI_ProfAI/experiments/signature_detection_baseline_v1/weights/signature_detection_baseline_v1-optim-2.pth\n",
            "INFO:training:Successfully saved optimizer to /content/drive/MyDrive/XAI_ProfAI/experiments/signature_detection_baseline_v1/weights/signature_detection_baseline_v1-optim-2.pth\n",
            "2025-07-28 09:15:27,817 - training - INFO - Removed old file: signature_detection_baseline_v1-weights-1-0.502-0.502-0.502-0.501-0.687-0.500-0.750-0.500-0.333-0.692.pth\n",
            "2025-07-28 09:15:27,817 - training - INFO - Removed old file: signature_detection_baseline_v1-weights-1-0.502-0.502-0.502-0.501-0.687-0.500-0.750-0.500-0.333-0.692.pth\n",
            "2025-07-28 09:15:27,817 - training - INFO - Removed old file: signature_detection_baseline_v1-weights-1-0.502-0.502-0.502-0.501-0.687-0.500-0.750-0.500-0.333-0.692.pth\n",
            "2025-07-28 09:15:27,817 - training - INFO - Removed old file: signature_detection_baseline_v1-weights-1-0.502-0.502-0.502-0.501-0.687-0.500-0.750-0.500-0.333-0.692.pth\n",
            "2025-07-28 09:15:27,817 - training - INFO - Removed old file: signature_detection_baseline_v1-weights-1-0.502-0.502-0.502-0.501-0.687-0.500-0.750-0.500-0.333-0.692.pth\n",
            "INFO:training:Removed old file: signature_detection_baseline_v1-weights-1-0.502-0.502-0.502-0.501-0.687-0.500-0.750-0.500-0.333-0.692.pth\n",
            "2025-07-28 09:15:27,825 - training - INFO - Removed old file: signature_detection_baseline_v1-optim-1.pth\n",
            "2025-07-28 09:15:27,825 - training - INFO - Removed old file: signature_detection_baseline_v1-optim-1.pth\n",
            "2025-07-28 09:15:27,825 - training - INFO - Removed old file: signature_detection_baseline_v1-optim-1.pth\n",
            "2025-07-28 09:15:27,825 - training - INFO - Removed old file: signature_detection_baseline_v1-optim-1.pth\n",
            "2025-07-28 09:15:27,825 - training - INFO - Removed old file: signature_detection_baseline_v1-optim-1.pth\n",
            "INFO:training:Removed old file: signature_detection_baseline_v1-optim-1.pth\n",
            "2025-07-28 09:15:27,830 - training - INFO - ModelCheckpoint: Saved model at epoch 2\n",
            "2025-07-28 09:15:27,830 - training - INFO - ModelCheckpoint: Saved model at epoch 2\n",
            "2025-07-28 09:15:27,830 - training - INFO - ModelCheckpoint: Saved model at epoch 2\n",
            "2025-07-28 09:15:27,830 - training - INFO - ModelCheckpoint: Saved model at epoch 2\n",
            "2025-07-28 09:15:27,830 - training - INFO - ModelCheckpoint: Saved model at epoch 2\n",
            "INFO:training:ModelCheckpoint: Saved model at epoch 2\n",
            "2025-07-28 09:15:27,834 - training - INFO - Epoch 3/50\n",
            "2025-07-28 09:15:27,834 - training - INFO - Epoch 3/50\n",
            "2025-07-28 09:15:27,834 - training - INFO - Epoch 3/50\n",
            "2025-07-28 09:15:27,834 - training - INFO - Epoch 3/50\n",
            "2025-07-28 09:15:27,834 - training - INFO - Epoch 3/50\n",
            "INFO:training:Epoch 3/50\n"
          ]
        },
        {
          "name": "stdout",
          "output_type": "stream",
          "text": [
            "\n",
            "Epoch 00002: val_loss improved from 0.69195 to 0.67996, saving model to best_baseline_model.pth\n"
          ]
        },
        {
          "name": "stderr",
          "output_type": "stream",
          "text": [
            "/usr/local/lib/python3.11/dist-packages/torch/utils/data/dataloader.py:624: UserWarning: This DataLoader will create 4 worker processes in total. Our suggested max number of worker in current system is 2, which is smaller than what this DataLoader is going to create. Please be aware that excessive worker creation might get DataLoader running slow or even freeze, lower the worker number to avoid potential slowness/freeze if necessary.\n",
            "  warnings.warn(\n",
            "/usr/local/lib/python3.11/dist-packages/torch/utils/data/dataloader.py:624: UserWarning: This DataLoader will create 4 worker processes in total. Our suggested max number of worker in current system is 2, which is smaller than what this DataLoader is going to create. Please be aware that excessive worker creation might get DataLoader running slow or even freeze, lower the worker number to avoid potential slowness/freeze if necessary.\n",
            "  warnings.warn(\n",
            "2025-07-28 09:15:41,908 - training - INFO - Epoca 3 - accuracy: 0.5795 | precision: 0.5795 | recall: 0.5795 | f1: 0.5795 | loss: 0.6613 | val_accuracy: 0.6894 | val_precision: 0.7275 | val_recall: 0.6894 | val_f1: 0.6758 | val_loss: 0.6173\n",
            "2025-07-28 09:15:41,908 - training - INFO - Epoca 3 - accuracy: 0.5795 | precision: 0.5795 | recall: 0.5795 | f1: 0.5795 | loss: 0.6613 | val_accuracy: 0.6894 | val_precision: 0.7275 | val_recall: 0.6894 | val_f1: 0.6758 | val_loss: 0.6173\n",
            "2025-07-28 09:15:41,908 - training - INFO - Epoca 3 - accuracy: 0.5795 | precision: 0.5795 | recall: 0.5795 | f1: 0.5795 | loss: 0.6613 | val_accuracy: 0.6894 | val_precision: 0.7275 | val_recall: 0.6894 | val_f1: 0.6758 | val_loss: 0.6173\n",
            "2025-07-28 09:15:41,908 - training - INFO - Epoca 3 - accuracy: 0.5795 | precision: 0.5795 | recall: 0.5795 | f1: 0.5795 | loss: 0.6613 | val_accuracy: 0.6894 | val_precision: 0.7275 | val_recall: 0.6894 | val_f1: 0.6758 | val_loss: 0.6173\n",
            "2025-07-28 09:15:41,908 - training - INFO - Epoca 3 - accuracy: 0.5795 | precision: 0.5795 | recall: 0.5795 | f1: 0.5795 | loss: 0.6613 | val_accuracy: 0.6894 | val_precision: 0.7275 | val_recall: 0.6894 | val_f1: 0.6758 | val_loss: 0.6173\n",
            "INFO:training:Epoca 3 - accuracy: 0.5795 | precision: 0.5795 | recall: 0.5795 | f1: 0.5795 | loss: 0.6613 | val_accuracy: 0.6894 | val_precision: 0.7275 | val_recall: 0.6894 | val_f1: 0.6758 | val_loss: 0.6173\n",
            "2025-07-28 09:15:43,721 - training - INFO - Successfully saved weights to /content/drive/MyDrive/XAI_ProfAI/experiments/signature_detection_baseline_v1/weights/signature_detection_baseline_v1-weights-3-0.579-0.580-0.579-0.579-0.661-0.689-0.727-0.689-0.676-0.617.pth\n",
            "2025-07-28 09:15:43,721 - training - INFO - Successfully saved weights to /content/drive/MyDrive/XAI_ProfAI/experiments/signature_detection_baseline_v1/weights/signature_detection_baseline_v1-weights-3-0.579-0.580-0.579-0.579-0.661-0.689-0.727-0.689-0.676-0.617.pth\n",
            "2025-07-28 09:15:43,721 - training - INFO - Successfully saved weights to /content/drive/MyDrive/XAI_ProfAI/experiments/signature_detection_baseline_v1/weights/signature_detection_baseline_v1-weights-3-0.579-0.580-0.579-0.579-0.661-0.689-0.727-0.689-0.676-0.617.pth\n",
            "2025-07-28 09:15:43,721 - training - INFO - Successfully saved weights to /content/drive/MyDrive/XAI_ProfAI/experiments/signature_detection_baseline_v1/weights/signature_detection_baseline_v1-weights-3-0.579-0.580-0.579-0.579-0.661-0.689-0.727-0.689-0.676-0.617.pth\n",
            "2025-07-28 09:15:43,721 - training - INFO - Successfully saved weights to /content/drive/MyDrive/XAI_ProfAI/experiments/signature_detection_baseline_v1/weights/signature_detection_baseline_v1-weights-3-0.579-0.580-0.579-0.579-0.661-0.689-0.727-0.689-0.676-0.617.pth\n",
            "INFO:training:Successfully saved weights to /content/drive/MyDrive/XAI_ProfAI/experiments/signature_detection_baseline_v1/weights/signature_detection_baseline_v1-weights-3-0.579-0.580-0.579-0.579-0.661-0.689-0.727-0.689-0.676-0.617.pth\n",
            "2025-07-28 09:15:43,759 - training - INFO - Successfully saved optimizer to /content/drive/MyDrive/XAI_ProfAI/experiments/signature_detection_baseline_v1/weights/signature_detection_baseline_v1-optim-3.pth\n",
            "2025-07-28 09:15:43,759 - training - INFO - Successfully saved optimizer to /content/drive/MyDrive/XAI_ProfAI/experiments/signature_detection_baseline_v1/weights/signature_detection_baseline_v1-optim-3.pth\n",
            "2025-07-28 09:15:43,759 - training - INFO - Successfully saved optimizer to /content/drive/MyDrive/XAI_ProfAI/experiments/signature_detection_baseline_v1/weights/signature_detection_baseline_v1-optim-3.pth\n",
            "2025-07-28 09:15:43,759 - training - INFO - Successfully saved optimizer to /content/drive/MyDrive/XAI_ProfAI/experiments/signature_detection_baseline_v1/weights/signature_detection_baseline_v1-optim-3.pth\n",
            "2025-07-28 09:15:43,759 - training - INFO - Successfully saved optimizer to /content/drive/MyDrive/XAI_ProfAI/experiments/signature_detection_baseline_v1/weights/signature_detection_baseline_v1-optim-3.pth\n",
            "INFO:training:Successfully saved optimizer to /content/drive/MyDrive/XAI_ProfAI/experiments/signature_detection_baseline_v1/weights/signature_detection_baseline_v1-optim-3.pth\n",
            "2025-07-28 09:15:43,780 - training - INFO - Removed old file: signature_detection_baseline_v1-weights-2-0.530-0.532-0.530-0.523-0.682-0.508-0.752-0.508-0.350-0.680.pth\n",
            "2025-07-28 09:15:43,780 - training - INFO - Removed old file: signature_detection_baseline_v1-weights-2-0.530-0.532-0.530-0.523-0.682-0.508-0.752-0.508-0.350-0.680.pth\n",
            "2025-07-28 09:15:43,780 - training - INFO - Removed old file: signature_detection_baseline_v1-weights-2-0.530-0.532-0.530-0.523-0.682-0.508-0.752-0.508-0.350-0.680.pth\n",
            "2025-07-28 09:15:43,780 - training - INFO - Removed old file: signature_detection_baseline_v1-weights-2-0.530-0.532-0.530-0.523-0.682-0.508-0.752-0.508-0.350-0.680.pth\n",
            "2025-07-28 09:15:43,780 - training - INFO - Removed old file: signature_detection_baseline_v1-weights-2-0.530-0.532-0.530-0.523-0.682-0.508-0.752-0.508-0.350-0.680.pth\n",
            "INFO:training:Removed old file: signature_detection_baseline_v1-weights-2-0.530-0.532-0.530-0.523-0.682-0.508-0.752-0.508-0.350-0.680.pth\n",
            "2025-07-28 09:15:43,788 - training - INFO - Removed old file: signature_detection_baseline_v1-optim-2.pth\n",
            "2025-07-28 09:15:43,788 - training - INFO - Removed old file: signature_detection_baseline_v1-optim-2.pth\n",
            "2025-07-28 09:15:43,788 - training - INFO - Removed old file: signature_detection_baseline_v1-optim-2.pth\n",
            "2025-07-28 09:15:43,788 - training - INFO - Removed old file: signature_detection_baseline_v1-optim-2.pth\n",
            "2025-07-28 09:15:43,788 - training - INFO - Removed old file: signature_detection_baseline_v1-optim-2.pth\n",
            "INFO:training:Removed old file: signature_detection_baseline_v1-optim-2.pth\n",
            "2025-07-28 09:15:43,793 - training - INFO - ModelCheckpoint: Saved model at epoch 3\n",
            "2025-07-28 09:15:43,793 - training - INFO - ModelCheckpoint: Saved model at epoch 3\n",
            "2025-07-28 09:15:43,793 - training - INFO - ModelCheckpoint: Saved model at epoch 3\n",
            "2025-07-28 09:15:43,793 - training - INFO - ModelCheckpoint: Saved model at epoch 3\n",
            "2025-07-28 09:15:43,793 - training - INFO - ModelCheckpoint: Saved model at epoch 3\n",
            "INFO:training:ModelCheckpoint: Saved model at epoch 3\n",
            "2025-07-28 09:15:43,797 - training - INFO - Epoch 4/50\n",
            "2025-07-28 09:15:43,797 - training - INFO - Epoch 4/50\n",
            "2025-07-28 09:15:43,797 - training - INFO - Epoch 4/50\n",
            "2025-07-28 09:15:43,797 - training - INFO - Epoch 4/50\n",
            "2025-07-28 09:15:43,797 - training - INFO - Epoch 4/50\n",
            "INFO:training:Epoch 4/50\n"
          ]
        },
        {
          "name": "stdout",
          "output_type": "stream",
          "text": [
            "\n",
            "Epoch 00003: val_loss improved from 0.67996 to 0.61734, saving model to best_baseline_model.pth\n"
          ]
        },
        {
          "name": "stderr",
          "output_type": "stream",
          "text": [
            "/usr/local/lib/python3.11/dist-packages/torch/utils/data/dataloader.py:624: UserWarning: This DataLoader will create 4 worker processes in total. Our suggested max number of worker in current system is 2, which is smaller than what this DataLoader is going to create. Please be aware that excessive worker creation might get DataLoader running slow or even freeze, lower the worker number to avoid potential slowness/freeze if necessary.\n",
            "  warnings.warn(\n",
            "/usr/local/lib/python3.11/dist-packages/torch/utils/data/dataloader.py:624: UserWarning: This DataLoader will create 4 worker processes in total. Our suggested max number of worker in current system is 2, which is smaller than what this DataLoader is going to create. Please be aware that excessive worker creation might get DataLoader running slow or even freeze, lower the worker number to avoid potential slowness/freeze if necessary.\n",
            "  warnings.warn(\n",
            "2025-07-28 09:15:57,989 - training - INFO - Epoca 4 - accuracy: 0.6223 | precision: 0.6223 | recall: 0.6223 | f1: 0.6222 | loss: 0.6422 | val_accuracy: 0.5758 | val_precision: 0.7292 | val_recall: 0.5758 | val_f1: 0.4905 | val_loss: 0.6528\n",
            "2025-07-28 09:15:57,989 - training - INFO - Epoca 4 - accuracy: 0.6223 | precision: 0.6223 | recall: 0.6223 | f1: 0.6222 | loss: 0.6422 | val_accuracy: 0.5758 | val_precision: 0.7292 | val_recall: 0.5758 | val_f1: 0.4905 | val_loss: 0.6528\n",
            "2025-07-28 09:15:57,989 - training - INFO - Epoca 4 - accuracy: 0.6223 | precision: 0.6223 | recall: 0.6223 | f1: 0.6222 | loss: 0.6422 | val_accuracy: 0.5758 | val_precision: 0.7292 | val_recall: 0.5758 | val_f1: 0.4905 | val_loss: 0.6528\n",
            "2025-07-28 09:15:57,989 - training - INFO - Epoca 4 - accuracy: 0.6223 | precision: 0.6223 | recall: 0.6223 | f1: 0.6222 | loss: 0.6422 | val_accuracy: 0.5758 | val_precision: 0.7292 | val_recall: 0.5758 | val_f1: 0.4905 | val_loss: 0.6528\n",
            "2025-07-28 09:15:57,989 - training - INFO - Epoca 4 - accuracy: 0.6223 | precision: 0.6223 | recall: 0.6223 | f1: 0.6222 | loss: 0.6422 | val_accuracy: 0.5758 | val_precision: 0.7292 | val_recall: 0.5758 | val_f1: 0.4905 | val_loss: 0.6528\n",
            "INFO:training:Epoca 4 - accuracy: 0.6223 | precision: 0.6223 | recall: 0.6223 | f1: 0.6222 | loss: 0.6422 | val_accuracy: 0.5758 | val_precision: 0.7292 | val_recall: 0.5758 | val_f1: 0.4905 | val_loss: 0.6528\n",
            "2025-07-28 09:16:00,051 - training - INFO - ModelCheckpoint: Saved model at epoch 4\n",
            "2025-07-28 09:16:00,051 - training - INFO - ModelCheckpoint: Saved model at epoch 4\n",
            "2025-07-28 09:16:00,051 - training - INFO - ModelCheckpoint: Saved model at epoch 4\n",
            "2025-07-28 09:16:00,051 - training - INFO - ModelCheckpoint: Saved model at epoch 4\n",
            "2025-07-28 09:16:00,051 - training - INFO - ModelCheckpoint: Saved model at epoch 4\n",
            "INFO:training:ModelCheckpoint: Saved model at epoch 4\n",
            "2025-07-28 09:16:00,060 - training - INFO - Epoch 5/50\n",
            "2025-07-28 09:16:00,060 - training - INFO - Epoch 5/50\n",
            "2025-07-28 09:16:00,060 - training - INFO - Epoch 5/50\n",
            "2025-07-28 09:16:00,060 - training - INFO - Epoch 5/50\n",
            "2025-07-28 09:16:00,060 - training - INFO - Epoch 5/50\n",
            "INFO:training:Epoch 5/50\n",
            "/usr/local/lib/python3.11/dist-packages/torch/utils/data/dataloader.py:624: UserWarning: This DataLoader will create 4 worker processes in total. Our suggested max number of worker in current system is 2, which is smaller than what this DataLoader is going to create. Please be aware that excessive worker creation might get DataLoader running slow or even freeze, lower the worker number to avoid potential slowness/freeze if necessary.\n",
            "  warnings.warn(\n",
            "/usr/local/lib/python3.11/dist-packages/torch/utils/data/dataloader.py:624: UserWarning: This DataLoader will create 4 worker processes in total. Our suggested max number of worker in current system is 2, which is smaller than what this DataLoader is going to create. Please be aware that excessive worker creation might get DataLoader running slow or even freeze, lower the worker number to avoid potential slowness/freeze if necessary.\n",
            "  warnings.warn(\n",
            "2025-07-28 09:16:14,193 - training - INFO - Epoca 5 - accuracy: 0.6447 | precision: 0.6456 | recall: 0.6447 | f1: 0.6443 | loss: 0.6139 | val_accuracy: 0.6768 | val_precision: 0.7406 | val_recall: 0.6768 | val_f1: 0.6538 | val_loss: 0.6093\n",
            "2025-07-28 09:16:14,193 - training - INFO - Epoca 5 - accuracy: 0.6447 | precision: 0.6456 | recall: 0.6447 | f1: 0.6443 | loss: 0.6139 | val_accuracy: 0.6768 | val_precision: 0.7406 | val_recall: 0.6768 | val_f1: 0.6538 | val_loss: 0.6093\n",
            "2025-07-28 09:16:14,193 - training - INFO - Epoca 5 - accuracy: 0.6447 | precision: 0.6456 | recall: 0.6447 | f1: 0.6443 | loss: 0.6139 | val_accuracy: 0.6768 | val_precision: 0.7406 | val_recall: 0.6768 | val_f1: 0.6538 | val_loss: 0.6093\n",
            "2025-07-28 09:16:14,193 - training - INFO - Epoca 5 - accuracy: 0.6447 | precision: 0.6456 | recall: 0.6447 | f1: 0.6443 | loss: 0.6139 | val_accuracy: 0.6768 | val_precision: 0.7406 | val_recall: 0.6768 | val_f1: 0.6538 | val_loss: 0.6093\n",
            "2025-07-28 09:16:14,193 - training - INFO - Epoca 5 - accuracy: 0.6447 | precision: 0.6456 | recall: 0.6447 | f1: 0.6443 | loss: 0.6139 | val_accuracy: 0.6768 | val_precision: 0.7406 | val_recall: 0.6768 | val_f1: 0.6538 | val_loss: 0.6093\n",
            "INFO:training:Epoca 5 - accuracy: 0.6447 | precision: 0.6456 | recall: 0.6447 | f1: 0.6443 | loss: 0.6139 | val_accuracy: 0.6768 | val_precision: 0.7406 | val_recall: 0.6768 | val_f1: 0.6538 | val_loss: 0.6093\n",
            "2025-07-28 09:16:16,680 - training - INFO - Successfully saved weights to /content/drive/MyDrive/XAI_ProfAI/experiments/signature_detection_baseline_v1/weights/signature_detection_baseline_v1-weights-5-0.645-0.646-0.645-0.644-0.614-0.677-0.741-0.677-0.654-0.609.pth\n",
            "2025-07-28 09:16:16,680 - training - INFO - Successfully saved weights to /content/drive/MyDrive/XAI_ProfAI/experiments/signature_detection_baseline_v1/weights/signature_detection_baseline_v1-weights-5-0.645-0.646-0.645-0.644-0.614-0.677-0.741-0.677-0.654-0.609.pth\n",
            "2025-07-28 09:16:16,680 - training - INFO - Successfully saved weights to /content/drive/MyDrive/XAI_ProfAI/experiments/signature_detection_baseline_v1/weights/signature_detection_baseline_v1-weights-5-0.645-0.646-0.645-0.644-0.614-0.677-0.741-0.677-0.654-0.609.pth\n",
            "2025-07-28 09:16:16,680 - training - INFO - Successfully saved weights to /content/drive/MyDrive/XAI_ProfAI/experiments/signature_detection_baseline_v1/weights/signature_detection_baseline_v1-weights-5-0.645-0.646-0.645-0.644-0.614-0.677-0.741-0.677-0.654-0.609.pth\n",
            "2025-07-28 09:16:16,680 - training - INFO - Successfully saved weights to /content/drive/MyDrive/XAI_ProfAI/experiments/signature_detection_baseline_v1/weights/signature_detection_baseline_v1-weights-5-0.645-0.646-0.645-0.644-0.614-0.677-0.741-0.677-0.654-0.609.pth\n",
            "INFO:training:Successfully saved weights to /content/drive/MyDrive/XAI_ProfAI/experiments/signature_detection_baseline_v1/weights/signature_detection_baseline_v1-weights-5-0.645-0.646-0.645-0.644-0.614-0.677-0.741-0.677-0.654-0.609.pth\n",
            "2025-07-28 09:16:16,717 - training - INFO - Successfully saved optimizer to /content/drive/MyDrive/XAI_ProfAI/experiments/signature_detection_baseline_v1/weights/signature_detection_baseline_v1-optim-5.pth\n",
            "2025-07-28 09:16:16,717 - training - INFO - Successfully saved optimizer to /content/drive/MyDrive/XAI_ProfAI/experiments/signature_detection_baseline_v1/weights/signature_detection_baseline_v1-optim-5.pth\n",
            "2025-07-28 09:16:16,717 - training - INFO - Successfully saved optimizer to /content/drive/MyDrive/XAI_ProfAI/experiments/signature_detection_baseline_v1/weights/signature_detection_baseline_v1-optim-5.pth\n",
            "2025-07-28 09:16:16,717 - training - INFO - Successfully saved optimizer to /content/drive/MyDrive/XAI_ProfAI/experiments/signature_detection_baseline_v1/weights/signature_detection_baseline_v1-optim-5.pth\n",
            "2025-07-28 09:16:16,717 - training - INFO - Successfully saved optimizer to /content/drive/MyDrive/XAI_ProfAI/experiments/signature_detection_baseline_v1/weights/signature_detection_baseline_v1-optim-5.pth\n",
            "INFO:training:Successfully saved optimizer to /content/drive/MyDrive/XAI_ProfAI/experiments/signature_detection_baseline_v1/weights/signature_detection_baseline_v1-optim-5.pth\n",
            "2025-07-28 09:16:16,738 - training - INFO - Removed old file: signature_detection_baseline_v1-weights-3-0.579-0.580-0.579-0.579-0.661-0.689-0.727-0.689-0.676-0.617.pth\n",
            "2025-07-28 09:16:16,738 - training - INFO - Removed old file: signature_detection_baseline_v1-weights-3-0.579-0.580-0.579-0.579-0.661-0.689-0.727-0.689-0.676-0.617.pth\n",
            "2025-07-28 09:16:16,738 - training - INFO - Removed old file: signature_detection_baseline_v1-weights-3-0.579-0.580-0.579-0.579-0.661-0.689-0.727-0.689-0.676-0.617.pth\n",
            "2025-07-28 09:16:16,738 - training - INFO - Removed old file: signature_detection_baseline_v1-weights-3-0.579-0.580-0.579-0.579-0.661-0.689-0.727-0.689-0.676-0.617.pth\n",
            "2025-07-28 09:16:16,738 - training - INFO - Removed old file: signature_detection_baseline_v1-weights-3-0.579-0.580-0.579-0.579-0.661-0.689-0.727-0.689-0.676-0.617.pth\n",
            "INFO:training:Removed old file: signature_detection_baseline_v1-weights-3-0.579-0.580-0.579-0.579-0.661-0.689-0.727-0.689-0.676-0.617.pth\n",
            "2025-07-28 09:16:16,747 - training - INFO - Removed old file: signature_detection_baseline_v1-optim-3.pth\n",
            "2025-07-28 09:16:16,747 - training - INFO - Removed old file: signature_detection_baseline_v1-optim-3.pth\n",
            "2025-07-28 09:16:16,747 - training - INFO - Removed old file: signature_detection_baseline_v1-optim-3.pth\n",
            "2025-07-28 09:16:16,747 - training - INFO - Removed old file: signature_detection_baseline_v1-optim-3.pth\n",
            "2025-07-28 09:16:16,747 - training - INFO - Removed old file: signature_detection_baseline_v1-optim-3.pth\n",
            "INFO:training:Removed old file: signature_detection_baseline_v1-optim-3.pth\n",
            "2025-07-28 09:16:16,751 - training - INFO - ModelCheckpoint: Saved model at epoch 5\n",
            "2025-07-28 09:16:16,751 - training - INFO - ModelCheckpoint: Saved model at epoch 5\n",
            "2025-07-28 09:16:16,751 - training - INFO - ModelCheckpoint: Saved model at epoch 5\n",
            "2025-07-28 09:16:16,751 - training - INFO - ModelCheckpoint: Saved model at epoch 5\n",
            "2025-07-28 09:16:16,751 - training - INFO - ModelCheckpoint: Saved model at epoch 5\n",
            "INFO:training:ModelCheckpoint: Saved model at epoch 5\n",
            "2025-07-28 09:16:16,755 - training - INFO - Epoch 6/50\n",
            "2025-07-28 09:16:16,755 - training - INFO - Epoch 6/50\n",
            "2025-07-28 09:16:16,755 - training - INFO - Epoch 6/50\n",
            "2025-07-28 09:16:16,755 - training - INFO - Epoch 6/50\n",
            "2025-07-28 09:16:16,755 - training - INFO - Epoch 6/50\n",
            "INFO:training:Epoch 6/50\n"
          ]
        },
        {
          "name": "stdout",
          "output_type": "stream",
          "text": [
            "\n",
            "Epoch 00005: val_loss improved from 0.61734 to 0.60935, saving model to best_baseline_model.pth\n"
          ]
        },
        {
          "name": "stderr",
          "output_type": "stream",
          "text": [
            "/usr/local/lib/python3.11/dist-packages/torch/utils/data/dataloader.py:624: UserWarning: This DataLoader will create 4 worker processes in total. Our suggested max number of worker in current system is 2, which is smaller than what this DataLoader is going to create. Please be aware that excessive worker creation might get DataLoader running slow or even freeze, lower the worker number to avoid potential slowness/freeze if necessary.\n",
            "  warnings.warn(\n",
            "/usr/local/lib/python3.11/dist-packages/torch/utils/data/dataloader.py:624: UserWarning: This DataLoader will create 4 worker processes in total. Our suggested max number of worker in current system is 2, which is smaller than what this DataLoader is going to create. Please be aware that excessive worker creation might get DataLoader running slow or even freeze, lower the worker number to avoid potential slowness/freeze if necessary.\n",
            "  warnings.warn(\n",
            "2025-07-28 09:16:30,878 - training - INFO - Epoca 6 - accuracy: 0.6776 | precision: 0.6777 | recall: 0.6776 | f1: 0.6776 | loss: 0.5904 | val_accuracy: 0.6970 | val_precision: 0.7512 | val_recall: 0.6970 | val_f1: 0.6797 | val_loss: 0.6035\n",
            "2025-07-28 09:16:30,878 - training - INFO - Epoca 6 - accuracy: 0.6776 | precision: 0.6777 | recall: 0.6776 | f1: 0.6776 | loss: 0.5904 | val_accuracy: 0.6970 | val_precision: 0.7512 | val_recall: 0.6970 | val_f1: 0.6797 | val_loss: 0.6035\n",
            "2025-07-28 09:16:30,878 - training - INFO - Epoca 6 - accuracy: 0.6776 | precision: 0.6777 | recall: 0.6776 | f1: 0.6776 | loss: 0.5904 | val_accuracy: 0.6970 | val_precision: 0.7512 | val_recall: 0.6970 | val_f1: 0.6797 | val_loss: 0.6035\n",
            "2025-07-28 09:16:30,878 - training - INFO - Epoca 6 - accuracy: 0.6776 | precision: 0.6777 | recall: 0.6776 | f1: 0.6776 | loss: 0.5904 | val_accuracy: 0.6970 | val_precision: 0.7512 | val_recall: 0.6970 | val_f1: 0.6797 | val_loss: 0.6035\n",
            "2025-07-28 09:16:30,878 - training - INFO - Epoca 6 - accuracy: 0.6776 | precision: 0.6777 | recall: 0.6776 | f1: 0.6776 | loss: 0.5904 | val_accuracy: 0.6970 | val_precision: 0.7512 | val_recall: 0.6970 | val_f1: 0.6797 | val_loss: 0.6035\n",
            "INFO:training:Epoca 6 - accuracy: 0.6776 | precision: 0.6777 | recall: 0.6776 | f1: 0.6776 | loss: 0.5904 | val_accuracy: 0.6970 | val_precision: 0.7512 | val_recall: 0.6970 | val_f1: 0.6797 | val_loss: 0.6035\n",
            "2025-07-28 09:16:32,915 - training - INFO - Successfully saved weights to /content/drive/MyDrive/XAI_ProfAI/experiments/signature_detection_baseline_v1/weights/signature_detection_baseline_v1-weights-6-0.678-0.678-0.678-0.678-0.590-0.697-0.751-0.697-0.680-0.603.pth\n",
            "2025-07-28 09:16:32,915 - training - INFO - Successfully saved weights to /content/drive/MyDrive/XAI_ProfAI/experiments/signature_detection_baseline_v1/weights/signature_detection_baseline_v1-weights-6-0.678-0.678-0.678-0.678-0.590-0.697-0.751-0.697-0.680-0.603.pth\n",
            "2025-07-28 09:16:32,915 - training - INFO - Successfully saved weights to /content/drive/MyDrive/XAI_ProfAI/experiments/signature_detection_baseline_v1/weights/signature_detection_baseline_v1-weights-6-0.678-0.678-0.678-0.678-0.590-0.697-0.751-0.697-0.680-0.603.pth\n",
            "2025-07-28 09:16:32,915 - training - INFO - Successfully saved weights to /content/drive/MyDrive/XAI_ProfAI/experiments/signature_detection_baseline_v1/weights/signature_detection_baseline_v1-weights-6-0.678-0.678-0.678-0.678-0.590-0.697-0.751-0.697-0.680-0.603.pth\n",
            "2025-07-28 09:16:32,915 - training - INFO - Successfully saved weights to /content/drive/MyDrive/XAI_ProfAI/experiments/signature_detection_baseline_v1/weights/signature_detection_baseline_v1-weights-6-0.678-0.678-0.678-0.678-0.590-0.697-0.751-0.697-0.680-0.603.pth\n",
            "INFO:training:Successfully saved weights to /content/drive/MyDrive/XAI_ProfAI/experiments/signature_detection_baseline_v1/weights/signature_detection_baseline_v1-weights-6-0.678-0.678-0.678-0.678-0.590-0.697-0.751-0.697-0.680-0.603.pth\n",
            "2025-07-28 09:16:32,953 - training - INFO - Successfully saved optimizer to /content/drive/MyDrive/XAI_ProfAI/experiments/signature_detection_baseline_v1/weights/signature_detection_baseline_v1-optim-6.pth\n",
            "2025-07-28 09:16:32,953 - training - INFO - Successfully saved optimizer to /content/drive/MyDrive/XAI_ProfAI/experiments/signature_detection_baseline_v1/weights/signature_detection_baseline_v1-optim-6.pth\n",
            "2025-07-28 09:16:32,953 - training - INFO - Successfully saved optimizer to /content/drive/MyDrive/XAI_ProfAI/experiments/signature_detection_baseline_v1/weights/signature_detection_baseline_v1-optim-6.pth\n",
            "2025-07-28 09:16:32,953 - training - INFO - Successfully saved optimizer to /content/drive/MyDrive/XAI_ProfAI/experiments/signature_detection_baseline_v1/weights/signature_detection_baseline_v1-optim-6.pth\n",
            "2025-07-28 09:16:32,953 - training - INFO - Successfully saved optimizer to /content/drive/MyDrive/XAI_ProfAI/experiments/signature_detection_baseline_v1/weights/signature_detection_baseline_v1-optim-6.pth\n",
            "INFO:training:Successfully saved optimizer to /content/drive/MyDrive/XAI_ProfAI/experiments/signature_detection_baseline_v1/weights/signature_detection_baseline_v1-optim-6.pth\n",
            "2025-07-28 09:16:32,974 - training - INFO - Removed old file: signature_detection_baseline_v1-weights-5-0.645-0.646-0.645-0.644-0.614-0.677-0.741-0.677-0.654-0.609.pth\n",
            "2025-07-28 09:16:32,974 - training - INFO - Removed old file: signature_detection_baseline_v1-weights-5-0.645-0.646-0.645-0.644-0.614-0.677-0.741-0.677-0.654-0.609.pth\n",
            "2025-07-28 09:16:32,974 - training - INFO - Removed old file: signature_detection_baseline_v1-weights-5-0.645-0.646-0.645-0.644-0.614-0.677-0.741-0.677-0.654-0.609.pth\n",
            "2025-07-28 09:16:32,974 - training - INFO - Removed old file: signature_detection_baseline_v1-weights-5-0.645-0.646-0.645-0.644-0.614-0.677-0.741-0.677-0.654-0.609.pth\n",
            "2025-07-28 09:16:32,974 - training - INFO - Removed old file: signature_detection_baseline_v1-weights-5-0.645-0.646-0.645-0.644-0.614-0.677-0.741-0.677-0.654-0.609.pth\n",
            "INFO:training:Removed old file: signature_detection_baseline_v1-weights-5-0.645-0.646-0.645-0.644-0.614-0.677-0.741-0.677-0.654-0.609.pth\n",
            "2025-07-28 09:16:32,981 - training - INFO - Removed old file: signature_detection_baseline_v1-optim-5.pth\n",
            "2025-07-28 09:16:32,981 - training - INFO - Removed old file: signature_detection_baseline_v1-optim-5.pth\n",
            "2025-07-28 09:16:32,981 - training - INFO - Removed old file: signature_detection_baseline_v1-optim-5.pth\n",
            "2025-07-28 09:16:32,981 - training - INFO - Removed old file: signature_detection_baseline_v1-optim-5.pth\n",
            "2025-07-28 09:16:32,981 - training - INFO - Removed old file: signature_detection_baseline_v1-optim-5.pth\n",
            "INFO:training:Removed old file: signature_detection_baseline_v1-optim-5.pth\n",
            "2025-07-28 09:16:32,986 - training - INFO - ModelCheckpoint: Saved model at epoch 6\n",
            "2025-07-28 09:16:32,986 - training - INFO - ModelCheckpoint: Saved model at epoch 6\n",
            "2025-07-28 09:16:32,986 - training - INFO - ModelCheckpoint: Saved model at epoch 6\n",
            "2025-07-28 09:16:32,986 - training - INFO - ModelCheckpoint: Saved model at epoch 6\n",
            "2025-07-28 09:16:32,986 - training - INFO - ModelCheckpoint: Saved model at epoch 6\n",
            "INFO:training:ModelCheckpoint: Saved model at epoch 6\n",
            "2025-07-28 09:16:32,990 - training - INFO - Epoch 7/50\n",
            "2025-07-28 09:16:32,990 - training - INFO - Epoch 7/50\n",
            "2025-07-28 09:16:32,990 - training - INFO - Epoch 7/50\n",
            "2025-07-28 09:16:32,990 - training - INFO - Epoch 7/50\n",
            "2025-07-28 09:16:32,990 - training - INFO - Epoch 7/50\n",
            "INFO:training:Epoch 7/50\n"
          ]
        },
        {
          "name": "stdout",
          "output_type": "stream",
          "text": [
            "\n",
            "Epoch 00006: val_loss improved from 0.60935 to 0.60347, saving model to best_baseline_model.pth\n"
          ]
        },
        {
          "name": "stderr",
          "output_type": "stream",
          "text": [
            "/usr/local/lib/python3.11/dist-packages/torch/utils/data/dataloader.py:624: UserWarning: This DataLoader will create 4 worker processes in total. Our suggested max number of worker in current system is 2, which is smaller than what this DataLoader is going to create. Please be aware that excessive worker creation might get DataLoader running slow or even freeze, lower the worker number to avoid potential slowness/freeze if necessary.\n",
            "  warnings.warn(\n",
            "/usr/local/lib/python3.11/dist-packages/torch/utils/data/dataloader.py:624: UserWarning: This DataLoader will create 4 worker processes in total. Our suggested max number of worker in current system is 2, which is smaller than what this DataLoader is going to create. Please be aware that excessive worker creation might get DataLoader running slow or even freeze, lower the worker number to avoid potential slowness/freeze if necessary.\n",
            "  warnings.warn(\n",
            "2025-07-28 09:16:47,154 - training - INFO - Epoca 7 - accuracy: 0.6864 | precision: 0.6864 | recall: 0.6864 | f1: 0.6864 | loss: 0.5898 | val_accuracy: 0.6970 | val_precision: 0.7093 | val_recall: 0.6970 | val_f1: 0.6925 | val_loss: 0.5692\n",
            "2025-07-28 09:16:47,154 - training - INFO - Epoca 7 - accuracy: 0.6864 | precision: 0.6864 | recall: 0.6864 | f1: 0.6864 | loss: 0.5898 | val_accuracy: 0.6970 | val_precision: 0.7093 | val_recall: 0.6970 | val_f1: 0.6925 | val_loss: 0.5692\n",
            "2025-07-28 09:16:47,154 - training - INFO - Epoca 7 - accuracy: 0.6864 | precision: 0.6864 | recall: 0.6864 | f1: 0.6864 | loss: 0.5898 | val_accuracy: 0.6970 | val_precision: 0.7093 | val_recall: 0.6970 | val_f1: 0.6925 | val_loss: 0.5692\n",
            "2025-07-28 09:16:47,154 - training - INFO - Epoca 7 - accuracy: 0.6864 | precision: 0.6864 | recall: 0.6864 | f1: 0.6864 | loss: 0.5898 | val_accuracy: 0.6970 | val_precision: 0.7093 | val_recall: 0.6970 | val_f1: 0.6925 | val_loss: 0.5692\n",
            "2025-07-28 09:16:47,154 - training - INFO - Epoca 7 - accuracy: 0.6864 | precision: 0.6864 | recall: 0.6864 | f1: 0.6864 | loss: 0.5898 | val_accuracy: 0.6970 | val_precision: 0.7093 | val_recall: 0.6970 | val_f1: 0.6925 | val_loss: 0.5692\n",
            "INFO:training:Epoca 7 - accuracy: 0.6864 | precision: 0.6864 | recall: 0.6864 | f1: 0.6864 | loss: 0.5898 | val_accuracy: 0.6970 | val_precision: 0.7093 | val_recall: 0.6970 | val_f1: 0.6925 | val_loss: 0.5692\n",
            "2025-07-28 09:16:48,878 - training - INFO - Successfully saved weights to /content/drive/MyDrive/XAI_ProfAI/experiments/signature_detection_baseline_v1/weights/signature_detection_baseline_v1-weights-7-0.686-0.686-0.686-0.686-0.590-0.697-0.709-0.697-0.692-0.569.pth\n",
            "2025-07-28 09:16:48,878 - training - INFO - Successfully saved weights to /content/drive/MyDrive/XAI_ProfAI/experiments/signature_detection_baseline_v1/weights/signature_detection_baseline_v1-weights-7-0.686-0.686-0.686-0.686-0.590-0.697-0.709-0.697-0.692-0.569.pth\n",
            "2025-07-28 09:16:48,878 - training - INFO - Successfully saved weights to /content/drive/MyDrive/XAI_ProfAI/experiments/signature_detection_baseline_v1/weights/signature_detection_baseline_v1-weights-7-0.686-0.686-0.686-0.686-0.590-0.697-0.709-0.697-0.692-0.569.pth\n",
            "2025-07-28 09:16:48,878 - training - INFO - Successfully saved weights to /content/drive/MyDrive/XAI_ProfAI/experiments/signature_detection_baseline_v1/weights/signature_detection_baseline_v1-weights-7-0.686-0.686-0.686-0.686-0.590-0.697-0.709-0.697-0.692-0.569.pth\n",
            "2025-07-28 09:16:48,878 - training - INFO - Successfully saved weights to /content/drive/MyDrive/XAI_ProfAI/experiments/signature_detection_baseline_v1/weights/signature_detection_baseline_v1-weights-7-0.686-0.686-0.686-0.686-0.590-0.697-0.709-0.697-0.692-0.569.pth\n",
            "INFO:training:Successfully saved weights to /content/drive/MyDrive/XAI_ProfAI/experiments/signature_detection_baseline_v1/weights/signature_detection_baseline_v1-weights-7-0.686-0.686-0.686-0.686-0.590-0.697-0.709-0.697-0.692-0.569.pth\n",
            "2025-07-28 09:16:48,915 - training - INFO - Successfully saved optimizer to /content/drive/MyDrive/XAI_ProfAI/experiments/signature_detection_baseline_v1/weights/signature_detection_baseline_v1-optim-7.pth\n",
            "2025-07-28 09:16:48,915 - training - INFO - Successfully saved optimizer to /content/drive/MyDrive/XAI_ProfAI/experiments/signature_detection_baseline_v1/weights/signature_detection_baseline_v1-optim-7.pth\n",
            "2025-07-28 09:16:48,915 - training - INFO - Successfully saved optimizer to /content/drive/MyDrive/XAI_ProfAI/experiments/signature_detection_baseline_v1/weights/signature_detection_baseline_v1-optim-7.pth\n",
            "2025-07-28 09:16:48,915 - training - INFO - Successfully saved optimizer to /content/drive/MyDrive/XAI_ProfAI/experiments/signature_detection_baseline_v1/weights/signature_detection_baseline_v1-optim-7.pth\n",
            "2025-07-28 09:16:48,915 - training - INFO - Successfully saved optimizer to /content/drive/MyDrive/XAI_ProfAI/experiments/signature_detection_baseline_v1/weights/signature_detection_baseline_v1-optim-7.pth\n",
            "INFO:training:Successfully saved optimizer to /content/drive/MyDrive/XAI_ProfAI/experiments/signature_detection_baseline_v1/weights/signature_detection_baseline_v1-optim-7.pth\n",
            "2025-07-28 09:16:48,939 - training - INFO - Removed old file: signature_detection_baseline_v1-weights-6-0.678-0.678-0.678-0.678-0.590-0.697-0.751-0.697-0.680-0.603.pth\n",
            "2025-07-28 09:16:48,939 - training - INFO - Removed old file: signature_detection_baseline_v1-weights-6-0.678-0.678-0.678-0.678-0.590-0.697-0.751-0.697-0.680-0.603.pth\n",
            "2025-07-28 09:16:48,939 - training - INFO - Removed old file: signature_detection_baseline_v1-weights-6-0.678-0.678-0.678-0.678-0.590-0.697-0.751-0.697-0.680-0.603.pth\n",
            "2025-07-28 09:16:48,939 - training - INFO - Removed old file: signature_detection_baseline_v1-weights-6-0.678-0.678-0.678-0.678-0.590-0.697-0.751-0.697-0.680-0.603.pth\n",
            "2025-07-28 09:16:48,939 - training - INFO - Removed old file: signature_detection_baseline_v1-weights-6-0.678-0.678-0.678-0.678-0.590-0.697-0.751-0.697-0.680-0.603.pth\n",
            "INFO:training:Removed old file: signature_detection_baseline_v1-weights-6-0.678-0.678-0.678-0.678-0.590-0.697-0.751-0.697-0.680-0.603.pth\n",
            "2025-07-28 09:16:48,949 - training - INFO - Removed old file: signature_detection_baseline_v1-optim-6.pth\n",
            "2025-07-28 09:16:48,949 - training - INFO - Removed old file: signature_detection_baseline_v1-optim-6.pth\n",
            "2025-07-28 09:16:48,949 - training - INFO - Removed old file: signature_detection_baseline_v1-optim-6.pth\n",
            "2025-07-28 09:16:48,949 - training - INFO - Removed old file: signature_detection_baseline_v1-optim-6.pth\n",
            "2025-07-28 09:16:48,949 - training - INFO - Removed old file: signature_detection_baseline_v1-optim-6.pth\n",
            "INFO:training:Removed old file: signature_detection_baseline_v1-optim-6.pth\n",
            "2025-07-28 09:16:48,957 - training - INFO - ModelCheckpoint: Saved model at epoch 7\n",
            "2025-07-28 09:16:48,957 - training - INFO - ModelCheckpoint: Saved model at epoch 7\n",
            "2025-07-28 09:16:48,957 - training - INFO - ModelCheckpoint: Saved model at epoch 7\n",
            "2025-07-28 09:16:48,957 - training - INFO - ModelCheckpoint: Saved model at epoch 7\n",
            "2025-07-28 09:16:48,957 - training - INFO - ModelCheckpoint: Saved model at epoch 7\n",
            "INFO:training:ModelCheckpoint: Saved model at epoch 7\n",
            "2025-07-28 09:16:48,962 - training - INFO - Epoch 8/50\n",
            "2025-07-28 09:16:48,962 - training - INFO - Epoch 8/50\n",
            "2025-07-28 09:16:48,962 - training - INFO - Epoch 8/50\n",
            "2025-07-28 09:16:48,962 - training - INFO - Epoch 8/50\n",
            "2025-07-28 09:16:48,962 - training - INFO - Epoch 8/50\n",
            "INFO:training:Epoch 8/50\n"
          ]
        },
        {
          "name": "stdout",
          "output_type": "stream",
          "text": [
            "\n",
            "Epoch 00007: val_loss improved from 0.60347 to 0.56916, saving model to best_baseline_model.pth\n"
          ]
        },
        {
          "name": "stderr",
          "output_type": "stream",
          "text": [
            "/usr/local/lib/python3.11/dist-packages/torch/utils/data/dataloader.py:624: UserWarning: This DataLoader will create 4 worker processes in total. Our suggested max number of worker in current system is 2, which is smaller than what this DataLoader is going to create. Please be aware that excessive worker creation might get DataLoader running slow or even freeze, lower the worker number to avoid potential slowness/freeze if necessary.\n",
            "  warnings.warn(\n",
            "/usr/local/lib/python3.11/dist-packages/torch/utils/data/dataloader.py:624: UserWarning: This DataLoader will create 4 worker processes in total. Our suggested max number of worker in current system is 2, which is smaller than what this DataLoader is going to create. Please be aware that excessive worker creation might get DataLoader running slow or even freeze, lower the worker number to avoid potential slowness/freeze if necessary.\n",
            "  warnings.warn(\n",
            "2025-07-28 09:17:03,286 - training - INFO - Epoca 8 - accuracy: 0.6716 | precision: 0.6726 | recall: 0.6716 | f1: 0.6712 | loss: 0.5832 | val_accuracy: 0.7247 | val_precision: 0.7249 | val_recall: 0.7247 | val_f1: 0.7247 | val_loss: 0.5539\n",
            "2025-07-28 09:17:03,286 - training - INFO - Epoca 8 - accuracy: 0.6716 | precision: 0.6726 | recall: 0.6716 | f1: 0.6712 | loss: 0.5832 | val_accuracy: 0.7247 | val_precision: 0.7249 | val_recall: 0.7247 | val_f1: 0.7247 | val_loss: 0.5539\n",
            "2025-07-28 09:17:03,286 - training - INFO - Epoca 8 - accuracy: 0.6716 | precision: 0.6726 | recall: 0.6716 | f1: 0.6712 | loss: 0.5832 | val_accuracy: 0.7247 | val_precision: 0.7249 | val_recall: 0.7247 | val_f1: 0.7247 | val_loss: 0.5539\n",
            "2025-07-28 09:17:03,286 - training - INFO - Epoca 8 - accuracy: 0.6716 | precision: 0.6726 | recall: 0.6716 | f1: 0.6712 | loss: 0.5832 | val_accuracy: 0.7247 | val_precision: 0.7249 | val_recall: 0.7247 | val_f1: 0.7247 | val_loss: 0.5539\n",
            "2025-07-28 09:17:03,286 - training - INFO - Epoca 8 - accuracy: 0.6716 | precision: 0.6726 | recall: 0.6716 | f1: 0.6712 | loss: 0.5832 | val_accuracy: 0.7247 | val_precision: 0.7249 | val_recall: 0.7247 | val_f1: 0.7247 | val_loss: 0.5539\n",
            "INFO:training:Epoca 8 - accuracy: 0.6716 | precision: 0.6726 | recall: 0.6716 | f1: 0.6712 | loss: 0.5832 | val_accuracy: 0.7247 | val_precision: 0.7249 | val_recall: 0.7247 | val_f1: 0.7247 | val_loss: 0.5539\n",
            "2025-07-28 09:17:05,030 - training - INFO - Successfully saved weights to /content/drive/MyDrive/XAI_ProfAI/experiments/signature_detection_baseline_v1/weights/signature_detection_baseline_v1-weights-8-0.672-0.673-0.672-0.671-0.583-0.725-0.725-0.725-0.725-0.554.pth\n",
            "2025-07-28 09:17:05,030 - training - INFO - Successfully saved weights to /content/drive/MyDrive/XAI_ProfAI/experiments/signature_detection_baseline_v1/weights/signature_detection_baseline_v1-weights-8-0.672-0.673-0.672-0.671-0.583-0.725-0.725-0.725-0.725-0.554.pth\n",
            "2025-07-28 09:17:05,030 - training - INFO - Successfully saved weights to /content/drive/MyDrive/XAI_ProfAI/experiments/signature_detection_baseline_v1/weights/signature_detection_baseline_v1-weights-8-0.672-0.673-0.672-0.671-0.583-0.725-0.725-0.725-0.725-0.554.pth\n",
            "2025-07-28 09:17:05,030 - training - INFO - Successfully saved weights to /content/drive/MyDrive/XAI_ProfAI/experiments/signature_detection_baseline_v1/weights/signature_detection_baseline_v1-weights-8-0.672-0.673-0.672-0.671-0.583-0.725-0.725-0.725-0.725-0.554.pth\n",
            "2025-07-28 09:17:05,030 - training - INFO - Successfully saved weights to /content/drive/MyDrive/XAI_ProfAI/experiments/signature_detection_baseline_v1/weights/signature_detection_baseline_v1-weights-8-0.672-0.673-0.672-0.671-0.583-0.725-0.725-0.725-0.725-0.554.pth\n",
            "INFO:training:Successfully saved weights to /content/drive/MyDrive/XAI_ProfAI/experiments/signature_detection_baseline_v1/weights/signature_detection_baseline_v1-weights-8-0.672-0.673-0.672-0.671-0.583-0.725-0.725-0.725-0.725-0.554.pth\n",
            "2025-07-28 09:17:05,085 - training - INFO - Successfully saved optimizer to /content/drive/MyDrive/XAI_ProfAI/experiments/signature_detection_baseline_v1/weights/signature_detection_baseline_v1-optim-8.pth\n",
            "2025-07-28 09:17:05,085 - training - INFO - Successfully saved optimizer to /content/drive/MyDrive/XAI_ProfAI/experiments/signature_detection_baseline_v1/weights/signature_detection_baseline_v1-optim-8.pth\n",
            "2025-07-28 09:17:05,085 - training - INFO - Successfully saved optimizer to /content/drive/MyDrive/XAI_ProfAI/experiments/signature_detection_baseline_v1/weights/signature_detection_baseline_v1-optim-8.pth\n",
            "2025-07-28 09:17:05,085 - training - INFO - Successfully saved optimizer to /content/drive/MyDrive/XAI_ProfAI/experiments/signature_detection_baseline_v1/weights/signature_detection_baseline_v1-optim-8.pth\n",
            "2025-07-28 09:17:05,085 - training - INFO - Successfully saved optimizer to /content/drive/MyDrive/XAI_ProfAI/experiments/signature_detection_baseline_v1/weights/signature_detection_baseline_v1-optim-8.pth\n",
            "INFO:training:Successfully saved optimizer to /content/drive/MyDrive/XAI_ProfAI/experiments/signature_detection_baseline_v1/weights/signature_detection_baseline_v1-optim-8.pth\n",
            "2025-07-28 09:17:05,106 - training - INFO - Removed old file: signature_detection_baseline_v1-weights-7-0.686-0.686-0.686-0.686-0.590-0.697-0.709-0.697-0.692-0.569.pth\n",
            "2025-07-28 09:17:05,106 - training - INFO - Removed old file: signature_detection_baseline_v1-weights-7-0.686-0.686-0.686-0.686-0.590-0.697-0.709-0.697-0.692-0.569.pth\n",
            "2025-07-28 09:17:05,106 - training - INFO - Removed old file: signature_detection_baseline_v1-weights-7-0.686-0.686-0.686-0.686-0.590-0.697-0.709-0.697-0.692-0.569.pth\n",
            "2025-07-28 09:17:05,106 - training - INFO - Removed old file: signature_detection_baseline_v1-weights-7-0.686-0.686-0.686-0.686-0.590-0.697-0.709-0.697-0.692-0.569.pth\n",
            "2025-07-28 09:17:05,106 - training - INFO - Removed old file: signature_detection_baseline_v1-weights-7-0.686-0.686-0.686-0.686-0.590-0.697-0.709-0.697-0.692-0.569.pth\n",
            "INFO:training:Removed old file: signature_detection_baseline_v1-weights-7-0.686-0.686-0.686-0.686-0.590-0.697-0.709-0.697-0.692-0.569.pth\n",
            "2025-07-28 09:17:05,113 - training - INFO - Removed old file: signature_detection_baseline_v1-optim-7.pth\n",
            "2025-07-28 09:17:05,113 - training - INFO - Removed old file: signature_detection_baseline_v1-optim-7.pth\n",
            "2025-07-28 09:17:05,113 - training - INFO - Removed old file: signature_detection_baseline_v1-optim-7.pth\n",
            "2025-07-28 09:17:05,113 - training - INFO - Removed old file: signature_detection_baseline_v1-optim-7.pth\n",
            "2025-07-28 09:17:05,113 - training - INFO - Removed old file: signature_detection_baseline_v1-optim-7.pth\n",
            "INFO:training:Removed old file: signature_detection_baseline_v1-optim-7.pth\n",
            "2025-07-28 09:17:05,119 - training - INFO - ModelCheckpoint: Saved model at epoch 8\n",
            "2025-07-28 09:17:05,119 - training - INFO - ModelCheckpoint: Saved model at epoch 8\n",
            "2025-07-28 09:17:05,119 - training - INFO - ModelCheckpoint: Saved model at epoch 8\n",
            "2025-07-28 09:17:05,119 - training - INFO - ModelCheckpoint: Saved model at epoch 8\n",
            "2025-07-28 09:17:05,119 - training - INFO - ModelCheckpoint: Saved model at epoch 8\n",
            "INFO:training:ModelCheckpoint: Saved model at epoch 8\n",
            "2025-07-28 09:17:05,123 - training - INFO - Epoch 9/50\n",
            "2025-07-28 09:17:05,123 - training - INFO - Epoch 9/50\n",
            "2025-07-28 09:17:05,123 - training - INFO - Epoch 9/50\n",
            "2025-07-28 09:17:05,123 - training - INFO - Epoch 9/50\n",
            "2025-07-28 09:17:05,123 - training - INFO - Epoch 9/50\n",
            "INFO:training:Epoch 9/50\n"
          ]
        },
        {
          "name": "stdout",
          "output_type": "stream",
          "text": [
            "\n",
            "Epoch 00008: val_loss improved from 0.56916 to 0.55391, saving model to best_baseline_model.pth\n"
          ]
        },
        {
          "name": "stderr",
          "output_type": "stream",
          "text": [
            "/usr/local/lib/python3.11/dist-packages/torch/utils/data/dataloader.py:624: UserWarning: This DataLoader will create 4 worker processes in total. Our suggested max number of worker in current system is 2, which is smaller than what this DataLoader is going to create. Please be aware that excessive worker creation might get DataLoader running slow or even freeze, lower the worker number to avoid potential slowness/freeze if necessary.\n",
            "  warnings.warn(\n",
            "/usr/local/lib/python3.11/dist-packages/torch/utils/data/dataloader.py:624: UserWarning: This DataLoader will create 4 worker processes in total. Our suggested max number of worker in current system is 2, which is smaller than what this DataLoader is going to create. Please be aware that excessive worker creation might get DataLoader running slow or even freeze, lower the worker number to avoid potential slowness/freeze if necessary.\n",
            "  warnings.warn(\n",
            "2025-07-28 09:17:19,373 - training - INFO - Epoca 9 - accuracy: 0.6859 | precision: 0.6896 | recall: 0.6859 | f1: 0.6843 | loss: 0.5811 | val_accuracy: 0.7348 | val_precision: 0.7416 | val_recall: 0.7348 | val_f1: 0.7330 | val_loss: 0.5383\n",
            "2025-07-28 09:17:19,373 - training - INFO - Epoca 9 - accuracy: 0.6859 | precision: 0.6896 | recall: 0.6859 | f1: 0.6843 | loss: 0.5811 | val_accuracy: 0.7348 | val_precision: 0.7416 | val_recall: 0.7348 | val_f1: 0.7330 | val_loss: 0.5383\n",
            "2025-07-28 09:17:19,373 - training - INFO - Epoca 9 - accuracy: 0.6859 | precision: 0.6896 | recall: 0.6859 | f1: 0.6843 | loss: 0.5811 | val_accuracy: 0.7348 | val_precision: 0.7416 | val_recall: 0.7348 | val_f1: 0.7330 | val_loss: 0.5383\n",
            "2025-07-28 09:17:19,373 - training - INFO - Epoca 9 - accuracy: 0.6859 | precision: 0.6896 | recall: 0.6859 | f1: 0.6843 | loss: 0.5811 | val_accuracy: 0.7348 | val_precision: 0.7416 | val_recall: 0.7348 | val_f1: 0.7330 | val_loss: 0.5383\n",
            "2025-07-28 09:17:19,373 - training - INFO - Epoca 9 - accuracy: 0.6859 | precision: 0.6896 | recall: 0.6859 | f1: 0.6843 | loss: 0.5811 | val_accuracy: 0.7348 | val_precision: 0.7416 | val_recall: 0.7348 | val_f1: 0.7330 | val_loss: 0.5383\n",
            "INFO:training:Epoca 9 - accuracy: 0.6859 | precision: 0.6896 | recall: 0.6859 | f1: 0.6843 | loss: 0.5811 | val_accuracy: 0.7348 | val_precision: 0.7416 | val_recall: 0.7348 | val_f1: 0.7330 | val_loss: 0.5383\n",
            "2025-07-28 09:17:21,144 - training - INFO - Successfully saved weights to /content/drive/MyDrive/XAI_ProfAI/experiments/signature_detection_baseline_v1/weights/signature_detection_baseline_v1-weights-9-0.686-0.690-0.686-0.684-0.581-0.735-0.742-0.735-0.733-0.538.pth\n",
            "2025-07-28 09:17:21,144 - training - INFO - Successfully saved weights to /content/drive/MyDrive/XAI_ProfAI/experiments/signature_detection_baseline_v1/weights/signature_detection_baseline_v1-weights-9-0.686-0.690-0.686-0.684-0.581-0.735-0.742-0.735-0.733-0.538.pth\n",
            "2025-07-28 09:17:21,144 - training - INFO - Successfully saved weights to /content/drive/MyDrive/XAI_ProfAI/experiments/signature_detection_baseline_v1/weights/signature_detection_baseline_v1-weights-9-0.686-0.690-0.686-0.684-0.581-0.735-0.742-0.735-0.733-0.538.pth\n",
            "2025-07-28 09:17:21,144 - training - INFO - Successfully saved weights to /content/drive/MyDrive/XAI_ProfAI/experiments/signature_detection_baseline_v1/weights/signature_detection_baseline_v1-weights-9-0.686-0.690-0.686-0.684-0.581-0.735-0.742-0.735-0.733-0.538.pth\n",
            "2025-07-28 09:17:21,144 - training - INFO - Successfully saved weights to /content/drive/MyDrive/XAI_ProfAI/experiments/signature_detection_baseline_v1/weights/signature_detection_baseline_v1-weights-9-0.686-0.690-0.686-0.684-0.581-0.735-0.742-0.735-0.733-0.538.pth\n",
            "INFO:training:Successfully saved weights to /content/drive/MyDrive/XAI_ProfAI/experiments/signature_detection_baseline_v1/weights/signature_detection_baseline_v1-weights-9-0.686-0.690-0.686-0.684-0.581-0.735-0.742-0.735-0.733-0.538.pth\n",
            "2025-07-28 09:17:21,196 - training - INFO - Successfully saved optimizer to /content/drive/MyDrive/XAI_ProfAI/experiments/signature_detection_baseline_v1/weights/signature_detection_baseline_v1-optim-9.pth\n",
            "2025-07-28 09:17:21,196 - training - INFO - Successfully saved optimizer to /content/drive/MyDrive/XAI_ProfAI/experiments/signature_detection_baseline_v1/weights/signature_detection_baseline_v1-optim-9.pth\n",
            "2025-07-28 09:17:21,196 - training - INFO - Successfully saved optimizer to /content/drive/MyDrive/XAI_ProfAI/experiments/signature_detection_baseline_v1/weights/signature_detection_baseline_v1-optim-9.pth\n",
            "2025-07-28 09:17:21,196 - training - INFO - Successfully saved optimizer to /content/drive/MyDrive/XAI_ProfAI/experiments/signature_detection_baseline_v1/weights/signature_detection_baseline_v1-optim-9.pth\n",
            "2025-07-28 09:17:21,196 - training - INFO - Successfully saved optimizer to /content/drive/MyDrive/XAI_ProfAI/experiments/signature_detection_baseline_v1/weights/signature_detection_baseline_v1-optim-9.pth\n",
            "INFO:training:Successfully saved optimizer to /content/drive/MyDrive/XAI_ProfAI/experiments/signature_detection_baseline_v1/weights/signature_detection_baseline_v1-optim-9.pth\n",
            "2025-07-28 09:17:21,218 - training - INFO - Removed old file: signature_detection_baseline_v1-weights-8-0.672-0.673-0.672-0.671-0.583-0.725-0.725-0.725-0.725-0.554.pth\n",
            "2025-07-28 09:17:21,218 - training - INFO - Removed old file: signature_detection_baseline_v1-weights-8-0.672-0.673-0.672-0.671-0.583-0.725-0.725-0.725-0.725-0.554.pth\n",
            "2025-07-28 09:17:21,218 - training - INFO - Removed old file: signature_detection_baseline_v1-weights-8-0.672-0.673-0.672-0.671-0.583-0.725-0.725-0.725-0.725-0.554.pth\n",
            "2025-07-28 09:17:21,218 - training - INFO - Removed old file: signature_detection_baseline_v1-weights-8-0.672-0.673-0.672-0.671-0.583-0.725-0.725-0.725-0.725-0.554.pth\n",
            "2025-07-28 09:17:21,218 - training - INFO - Removed old file: signature_detection_baseline_v1-weights-8-0.672-0.673-0.672-0.671-0.583-0.725-0.725-0.725-0.725-0.554.pth\n",
            "INFO:training:Removed old file: signature_detection_baseline_v1-weights-8-0.672-0.673-0.672-0.671-0.583-0.725-0.725-0.725-0.725-0.554.pth\n",
            "2025-07-28 09:17:21,228 - training - INFO - Removed old file: signature_detection_baseline_v1-optim-8.pth\n",
            "2025-07-28 09:17:21,228 - training - INFO - Removed old file: signature_detection_baseline_v1-optim-8.pth\n",
            "2025-07-28 09:17:21,228 - training - INFO - Removed old file: signature_detection_baseline_v1-optim-8.pth\n",
            "2025-07-28 09:17:21,228 - training - INFO - Removed old file: signature_detection_baseline_v1-optim-8.pth\n",
            "2025-07-28 09:17:21,228 - training - INFO - Removed old file: signature_detection_baseline_v1-optim-8.pth\n",
            "INFO:training:Removed old file: signature_detection_baseline_v1-optim-8.pth\n",
            "2025-07-28 09:17:21,236 - training - INFO - ModelCheckpoint: Saved model at epoch 9\n",
            "2025-07-28 09:17:21,236 - training - INFO - ModelCheckpoint: Saved model at epoch 9\n",
            "2025-07-28 09:17:21,236 - training - INFO - ModelCheckpoint: Saved model at epoch 9\n",
            "2025-07-28 09:17:21,236 - training - INFO - ModelCheckpoint: Saved model at epoch 9\n",
            "2025-07-28 09:17:21,236 - training - INFO - ModelCheckpoint: Saved model at epoch 9\n",
            "INFO:training:ModelCheckpoint: Saved model at epoch 9\n",
            "2025-07-28 09:17:21,240 - training - INFO - Epoch 10/50\n",
            "2025-07-28 09:17:21,240 - training - INFO - Epoch 10/50\n",
            "2025-07-28 09:17:21,240 - training - INFO - Epoch 10/50\n",
            "2025-07-28 09:17:21,240 - training - INFO - Epoch 10/50\n",
            "2025-07-28 09:17:21,240 - training - INFO - Epoch 10/50\n",
            "INFO:training:Epoch 10/50\n"
          ]
        },
        {
          "name": "stdout",
          "output_type": "stream",
          "text": [
            "\n",
            "Epoch 00009: val_loss improved from 0.55391 to 0.53832, saving model to best_baseline_model.pth\n"
          ]
        },
        {
          "name": "stderr",
          "output_type": "stream",
          "text": [
            "/usr/local/lib/python3.11/dist-packages/torch/utils/data/dataloader.py:624: UserWarning: This DataLoader will create 4 worker processes in total. Our suggested max number of worker in current system is 2, which is smaller than what this DataLoader is going to create. Please be aware that excessive worker creation might get DataLoader running slow or even freeze, lower the worker number to avoid potential slowness/freeze if necessary.\n",
            "  warnings.warn(\n",
            "/usr/local/lib/python3.11/dist-packages/torch/utils/data/dataloader.py:624: UserWarning: This DataLoader will create 4 worker processes in total. Our suggested max number of worker in current system is 2, which is smaller than what this DataLoader is going to create. Please be aware that excessive worker creation might get DataLoader running slow or even freeze, lower the worker number to avoid potential slowness/freeze if necessary.\n",
            "  warnings.warn(\n",
            "2025-07-28 09:17:35,534 - training - INFO - Epoca 10 - accuracy: 0.6886 | precision: 0.6887 | recall: 0.6886 | f1: 0.6886 | loss: 0.5743 | val_accuracy: 0.7146 | val_precision: 0.7388 | val_recall: 0.7146 | val_f1: 0.7072 | val_loss: 0.5607\n",
            "2025-07-28 09:17:35,534 - training - INFO - Epoca 10 - accuracy: 0.6886 | precision: 0.6887 | recall: 0.6886 | f1: 0.6886 | loss: 0.5743 | val_accuracy: 0.7146 | val_precision: 0.7388 | val_recall: 0.7146 | val_f1: 0.7072 | val_loss: 0.5607\n",
            "2025-07-28 09:17:35,534 - training - INFO - Epoca 10 - accuracy: 0.6886 | precision: 0.6887 | recall: 0.6886 | f1: 0.6886 | loss: 0.5743 | val_accuracy: 0.7146 | val_precision: 0.7388 | val_recall: 0.7146 | val_f1: 0.7072 | val_loss: 0.5607\n",
            "2025-07-28 09:17:35,534 - training - INFO - Epoca 10 - accuracy: 0.6886 | precision: 0.6887 | recall: 0.6886 | f1: 0.6886 | loss: 0.5743 | val_accuracy: 0.7146 | val_precision: 0.7388 | val_recall: 0.7146 | val_f1: 0.7072 | val_loss: 0.5607\n",
            "2025-07-28 09:17:35,534 - training - INFO - Epoca 10 - accuracy: 0.6886 | precision: 0.6887 | recall: 0.6886 | f1: 0.6886 | loss: 0.5743 | val_accuracy: 0.7146 | val_precision: 0.7388 | val_recall: 0.7146 | val_f1: 0.7072 | val_loss: 0.5607\n",
            "INFO:training:Epoca 10 - accuracy: 0.6886 | precision: 0.6887 | recall: 0.6886 | f1: 0.6886 | loss: 0.5743 | val_accuracy: 0.7146 | val_precision: 0.7388 | val_recall: 0.7146 | val_f1: 0.7072 | val_loss: 0.5607\n",
            "2025-07-28 09:17:37,802 - training - INFO - ModelCheckpoint: Saved model at epoch 10\n",
            "2025-07-28 09:17:37,802 - training - INFO - ModelCheckpoint: Saved model at epoch 10\n",
            "2025-07-28 09:17:37,802 - training - INFO - ModelCheckpoint: Saved model at epoch 10\n",
            "2025-07-28 09:17:37,802 - training - INFO - ModelCheckpoint: Saved model at epoch 10\n",
            "2025-07-28 09:17:37,802 - training - INFO - ModelCheckpoint: Saved model at epoch 10\n",
            "INFO:training:ModelCheckpoint: Saved model at epoch 10\n",
            "2025-07-28 09:17:37,810 - training - INFO - Epoch 11/50\n",
            "2025-07-28 09:17:37,810 - training - INFO - Epoch 11/50\n",
            "2025-07-28 09:17:37,810 - training - INFO - Epoch 11/50\n",
            "2025-07-28 09:17:37,810 - training - INFO - Epoch 11/50\n",
            "2025-07-28 09:17:37,810 - training - INFO - Epoch 11/50\n",
            "INFO:training:Epoch 11/50\n",
            "/usr/local/lib/python3.11/dist-packages/torch/utils/data/dataloader.py:624: UserWarning: This DataLoader will create 4 worker processes in total. Our suggested max number of worker in current system is 2, which is smaller than what this DataLoader is going to create. Please be aware that excessive worker creation might get DataLoader running slow or even freeze, lower the worker number to avoid potential slowness/freeze if necessary.\n",
            "  warnings.warn(\n",
            "/usr/local/lib/python3.11/dist-packages/torch/utils/data/dataloader.py:624: UserWarning: This DataLoader will create 4 worker processes in total. Our suggested max number of worker in current system is 2, which is smaller than what this DataLoader is going to create. Please be aware that excessive worker creation might get DataLoader running slow or even freeze, lower the worker number to avoid potential slowness/freeze if necessary.\n",
            "  warnings.warn(\n",
            "2025-07-28 09:17:52,023 - training - INFO - Epoca 11 - accuracy: 0.7067 | precision: 0.7069 | recall: 0.7067 | f1: 0.7066 | loss: 0.5517 | val_accuracy: 0.7551 | val_precision: 0.7580 | val_recall: 0.7551 | val_f1: 0.7544 | val_loss: 0.5252\n",
            "2025-07-28 09:17:52,023 - training - INFO - Epoca 11 - accuracy: 0.7067 | precision: 0.7069 | recall: 0.7067 | f1: 0.7066 | loss: 0.5517 | val_accuracy: 0.7551 | val_precision: 0.7580 | val_recall: 0.7551 | val_f1: 0.7544 | val_loss: 0.5252\n",
            "2025-07-28 09:17:52,023 - training - INFO - Epoca 11 - accuracy: 0.7067 | precision: 0.7069 | recall: 0.7067 | f1: 0.7066 | loss: 0.5517 | val_accuracy: 0.7551 | val_precision: 0.7580 | val_recall: 0.7551 | val_f1: 0.7544 | val_loss: 0.5252\n",
            "2025-07-28 09:17:52,023 - training - INFO - Epoca 11 - accuracy: 0.7067 | precision: 0.7069 | recall: 0.7067 | f1: 0.7066 | loss: 0.5517 | val_accuracy: 0.7551 | val_precision: 0.7580 | val_recall: 0.7551 | val_f1: 0.7544 | val_loss: 0.5252\n",
            "2025-07-28 09:17:52,023 - training - INFO - Epoca 11 - accuracy: 0.7067 | precision: 0.7069 | recall: 0.7067 | f1: 0.7066 | loss: 0.5517 | val_accuracy: 0.7551 | val_precision: 0.7580 | val_recall: 0.7551 | val_f1: 0.7544 | val_loss: 0.5252\n",
            "INFO:training:Epoca 11 - accuracy: 0.7067 | precision: 0.7069 | recall: 0.7067 | f1: 0.7066 | loss: 0.5517 | val_accuracy: 0.7551 | val_precision: 0.7580 | val_recall: 0.7551 | val_f1: 0.7544 | val_loss: 0.5252\n",
            "2025-07-28 09:17:54,356 - training - INFO - Successfully saved weights to /content/drive/MyDrive/XAI_ProfAI/experiments/signature_detection_baseline_v1/weights/signature_detection_baseline_v1-weights-11-0.707-0.707-0.707-0.707-0.552-0.755-0.758-0.755-0.754-0.525.pth\n",
            "2025-07-28 09:17:54,356 - training - INFO - Successfully saved weights to /content/drive/MyDrive/XAI_ProfAI/experiments/signature_detection_baseline_v1/weights/signature_detection_baseline_v1-weights-11-0.707-0.707-0.707-0.707-0.552-0.755-0.758-0.755-0.754-0.525.pth\n",
            "2025-07-28 09:17:54,356 - training - INFO - Successfully saved weights to /content/drive/MyDrive/XAI_ProfAI/experiments/signature_detection_baseline_v1/weights/signature_detection_baseline_v1-weights-11-0.707-0.707-0.707-0.707-0.552-0.755-0.758-0.755-0.754-0.525.pth\n",
            "2025-07-28 09:17:54,356 - training - INFO - Successfully saved weights to /content/drive/MyDrive/XAI_ProfAI/experiments/signature_detection_baseline_v1/weights/signature_detection_baseline_v1-weights-11-0.707-0.707-0.707-0.707-0.552-0.755-0.758-0.755-0.754-0.525.pth\n",
            "2025-07-28 09:17:54,356 - training - INFO - Successfully saved weights to /content/drive/MyDrive/XAI_ProfAI/experiments/signature_detection_baseline_v1/weights/signature_detection_baseline_v1-weights-11-0.707-0.707-0.707-0.707-0.552-0.755-0.758-0.755-0.754-0.525.pth\n",
            "INFO:training:Successfully saved weights to /content/drive/MyDrive/XAI_ProfAI/experiments/signature_detection_baseline_v1/weights/signature_detection_baseline_v1-weights-11-0.707-0.707-0.707-0.707-0.552-0.755-0.758-0.755-0.754-0.525.pth\n",
            "2025-07-28 09:17:54,395 - training - INFO - Successfully saved optimizer to /content/drive/MyDrive/XAI_ProfAI/experiments/signature_detection_baseline_v1/weights/signature_detection_baseline_v1-optim-11.pth\n",
            "2025-07-28 09:17:54,395 - training - INFO - Successfully saved optimizer to /content/drive/MyDrive/XAI_ProfAI/experiments/signature_detection_baseline_v1/weights/signature_detection_baseline_v1-optim-11.pth\n",
            "2025-07-28 09:17:54,395 - training - INFO - Successfully saved optimizer to /content/drive/MyDrive/XAI_ProfAI/experiments/signature_detection_baseline_v1/weights/signature_detection_baseline_v1-optim-11.pth\n",
            "2025-07-28 09:17:54,395 - training - INFO - Successfully saved optimizer to /content/drive/MyDrive/XAI_ProfAI/experiments/signature_detection_baseline_v1/weights/signature_detection_baseline_v1-optim-11.pth\n",
            "2025-07-28 09:17:54,395 - training - INFO - Successfully saved optimizer to /content/drive/MyDrive/XAI_ProfAI/experiments/signature_detection_baseline_v1/weights/signature_detection_baseline_v1-optim-11.pth\n",
            "INFO:training:Successfully saved optimizer to /content/drive/MyDrive/XAI_ProfAI/experiments/signature_detection_baseline_v1/weights/signature_detection_baseline_v1-optim-11.pth\n",
            "2025-07-28 09:17:54,419 - training - INFO - Removed old file: signature_detection_baseline_v1-weights-9-0.686-0.690-0.686-0.684-0.581-0.735-0.742-0.735-0.733-0.538.pth\n",
            "2025-07-28 09:17:54,419 - training - INFO - Removed old file: signature_detection_baseline_v1-weights-9-0.686-0.690-0.686-0.684-0.581-0.735-0.742-0.735-0.733-0.538.pth\n",
            "2025-07-28 09:17:54,419 - training - INFO - Removed old file: signature_detection_baseline_v1-weights-9-0.686-0.690-0.686-0.684-0.581-0.735-0.742-0.735-0.733-0.538.pth\n",
            "2025-07-28 09:17:54,419 - training - INFO - Removed old file: signature_detection_baseline_v1-weights-9-0.686-0.690-0.686-0.684-0.581-0.735-0.742-0.735-0.733-0.538.pth\n",
            "2025-07-28 09:17:54,419 - training - INFO - Removed old file: signature_detection_baseline_v1-weights-9-0.686-0.690-0.686-0.684-0.581-0.735-0.742-0.735-0.733-0.538.pth\n",
            "INFO:training:Removed old file: signature_detection_baseline_v1-weights-9-0.686-0.690-0.686-0.684-0.581-0.735-0.742-0.735-0.733-0.538.pth\n",
            "2025-07-28 09:17:54,427 - training - INFO - Removed old file: signature_detection_baseline_v1-optim-9.pth\n",
            "2025-07-28 09:17:54,427 - training - INFO - Removed old file: signature_detection_baseline_v1-optim-9.pth\n",
            "2025-07-28 09:17:54,427 - training - INFO - Removed old file: signature_detection_baseline_v1-optim-9.pth\n",
            "2025-07-28 09:17:54,427 - training - INFO - Removed old file: signature_detection_baseline_v1-optim-9.pth\n",
            "2025-07-28 09:17:54,427 - training - INFO - Removed old file: signature_detection_baseline_v1-optim-9.pth\n",
            "INFO:training:Removed old file: signature_detection_baseline_v1-optim-9.pth\n",
            "2025-07-28 09:17:54,432 - training - INFO - ModelCheckpoint: Saved model at epoch 11\n",
            "2025-07-28 09:17:54,432 - training - INFO - ModelCheckpoint: Saved model at epoch 11\n",
            "2025-07-28 09:17:54,432 - training - INFO - ModelCheckpoint: Saved model at epoch 11\n",
            "2025-07-28 09:17:54,432 - training - INFO - ModelCheckpoint: Saved model at epoch 11\n",
            "2025-07-28 09:17:54,432 - training - INFO - ModelCheckpoint: Saved model at epoch 11\n",
            "INFO:training:ModelCheckpoint: Saved model at epoch 11\n",
            "2025-07-28 09:17:54,436 - training - INFO - Epoch 12/50\n",
            "2025-07-28 09:17:54,436 - training - INFO - Epoch 12/50\n",
            "2025-07-28 09:17:54,436 - training - INFO - Epoch 12/50\n",
            "2025-07-28 09:17:54,436 - training - INFO - Epoch 12/50\n",
            "2025-07-28 09:17:54,436 - training - INFO - Epoch 12/50\n",
            "INFO:training:Epoch 12/50\n"
          ]
        },
        {
          "name": "stdout",
          "output_type": "stream",
          "text": [
            "\n",
            "Epoch 00011: val_loss improved from 0.53832 to 0.52517, saving model to best_baseline_model.pth\n"
          ]
        },
        {
          "name": "stderr",
          "output_type": "stream",
          "text": [
            "/usr/local/lib/python3.11/dist-packages/torch/utils/data/dataloader.py:624: UserWarning: This DataLoader will create 4 worker processes in total. Our suggested max number of worker in current system is 2, which is smaller than what this DataLoader is going to create. Please be aware that excessive worker creation might get DataLoader running slow or even freeze, lower the worker number to avoid potential slowness/freeze if necessary.\n",
            "  warnings.warn(\n",
            "/usr/local/lib/python3.11/dist-packages/torch/utils/data/dataloader.py:624: UserWarning: This DataLoader will create 4 worker processes in total. Our suggested max number of worker in current system is 2, which is smaller than what this DataLoader is going to create. Please be aware that excessive worker creation might get DataLoader running slow or even freeze, lower the worker number to avoid potential slowness/freeze if necessary.\n",
            "  warnings.warn(\n",
            "2025-07-28 09:18:08,768 - training - INFO - Epoca 12 - accuracy: 0.6974 | precision: 0.6974 | recall: 0.6974 | f1: 0.6974 | loss: 0.5695 | val_accuracy: 0.6692 | val_precision: 0.7553 | val_recall: 0.6692 | val_f1: 0.6387 | val_loss: 0.6397\n",
            "2025-07-28 09:18:08,768 - training - INFO - Epoca 12 - accuracy: 0.6974 | precision: 0.6974 | recall: 0.6974 | f1: 0.6974 | loss: 0.5695 | val_accuracy: 0.6692 | val_precision: 0.7553 | val_recall: 0.6692 | val_f1: 0.6387 | val_loss: 0.6397\n",
            "2025-07-28 09:18:08,768 - training - INFO - Epoca 12 - accuracy: 0.6974 | precision: 0.6974 | recall: 0.6974 | f1: 0.6974 | loss: 0.5695 | val_accuracy: 0.6692 | val_precision: 0.7553 | val_recall: 0.6692 | val_f1: 0.6387 | val_loss: 0.6397\n",
            "2025-07-28 09:18:08,768 - training - INFO - Epoca 12 - accuracy: 0.6974 | precision: 0.6974 | recall: 0.6974 | f1: 0.6974 | loss: 0.5695 | val_accuracy: 0.6692 | val_precision: 0.7553 | val_recall: 0.6692 | val_f1: 0.6387 | val_loss: 0.6397\n",
            "2025-07-28 09:18:08,768 - training - INFO - Epoca 12 - accuracy: 0.6974 | precision: 0.6974 | recall: 0.6974 | f1: 0.6974 | loss: 0.5695 | val_accuracy: 0.6692 | val_precision: 0.7553 | val_recall: 0.6692 | val_f1: 0.6387 | val_loss: 0.6397\n",
            "INFO:training:Epoca 12 - accuracy: 0.6974 | precision: 0.6974 | recall: 0.6974 | f1: 0.6974 | loss: 0.5695 | val_accuracy: 0.6692 | val_precision: 0.7553 | val_recall: 0.6692 | val_f1: 0.6387 | val_loss: 0.6397\n",
            "2025-07-28 09:18:10,409 - training - INFO - ModelCheckpoint: Saved model at epoch 12\n",
            "2025-07-28 09:18:10,409 - training - INFO - ModelCheckpoint: Saved model at epoch 12\n",
            "2025-07-28 09:18:10,409 - training - INFO - ModelCheckpoint: Saved model at epoch 12\n",
            "2025-07-28 09:18:10,409 - training - INFO - ModelCheckpoint: Saved model at epoch 12\n",
            "2025-07-28 09:18:10,409 - training - INFO - ModelCheckpoint: Saved model at epoch 12\n",
            "INFO:training:ModelCheckpoint: Saved model at epoch 12\n",
            "2025-07-28 09:18:10,414 - training - INFO - Epoch 13/50\n",
            "2025-07-28 09:18:10,414 - training - INFO - Epoch 13/50\n",
            "2025-07-28 09:18:10,414 - training - INFO - Epoch 13/50\n",
            "2025-07-28 09:18:10,414 - training - INFO - Epoch 13/50\n",
            "2025-07-28 09:18:10,414 - training - INFO - Epoch 13/50\n",
            "INFO:training:Epoch 13/50\n",
            "/usr/local/lib/python3.11/dist-packages/torch/utils/data/dataloader.py:624: UserWarning: This DataLoader will create 4 worker processes in total. Our suggested max number of worker in current system is 2, which is smaller than what this DataLoader is going to create. Please be aware that excessive worker creation might get DataLoader running slow or even freeze, lower the worker number to avoid potential slowness/freeze if necessary.\n",
            "  warnings.warn(\n",
            "/usr/local/lib/python3.11/dist-packages/torch/utils/data/dataloader.py:624: UserWarning: This DataLoader will create 4 worker processes in total. Our suggested max number of worker in current system is 2, which is smaller than what this DataLoader is going to create. Please be aware that excessive worker creation might get DataLoader running slow or even freeze, lower the worker number to avoid potential slowness/freeze if necessary.\n",
            "  warnings.warn(\n",
            "2025-07-28 09:18:24,554 - training - INFO - Epoca 13 - accuracy: 0.7078 | precision: 0.7079 | recall: 0.7078 | f1: 0.7077 | loss: 0.5579 | val_accuracy: 0.7702 | val_precision: 0.7722 | val_recall: 0.7702 | val_f1: 0.7698 | val_loss: 0.5087\n",
            "2025-07-28 09:18:24,554 - training - INFO - Epoca 13 - accuracy: 0.7078 | precision: 0.7079 | recall: 0.7078 | f1: 0.7077 | loss: 0.5579 | val_accuracy: 0.7702 | val_precision: 0.7722 | val_recall: 0.7702 | val_f1: 0.7698 | val_loss: 0.5087\n",
            "2025-07-28 09:18:24,554 - training - INFO - Epoca 13 - accuracy: 0.7078 | precision: 0.7079 | recall: 0.7078 | f1: 0.7077 | loss: 0.5579 | val_accuracy: 0.7702 | val_precision: 0.7722 | val_recall: 0.7702 | val_f1: 0.7698 | val_loss: 0.5087\n",
            "2025-07-28 09:18:24,554 - training - INFO - Epoca 13 - accuracy: 0.7078 | precision: 0.7079 | recall: 0.7078 | f1: 0.7077 | loss: 0.5579 | val_accuracy: 0.7702 | val_precision: 0.7722 | val_recall: 0.7702 | val_f1: 0.7698 | val_loss: 0.5087\n",
            "2025-07-28 09:18:24,554 - training - INFO - Epoca 13 - accuracy: 0.7078 | precision: 0.7079 | recall: 0.7078 | f1: 0.7077 | loss: 0.5579 | val_accuracy: 0.7702 | val_precision: 0.7722 | val_recall: 0.7702 | val_f1: 0.7698 | val_loss: 0.5087\n",
            "INFO:training:Epoca 13 - accuracy: 0.7078 | precision: 0.7079 | recall: 0.7078 | f1: 0.7077 | loss: 0.5579 | val_accuracy: 0.7702 | val_precision: 0.7722 | val_recall: 0.7702 | val_f1: 0.7698 | val_loss: 0.5087\n",
            "2025-07-28 09:18:26,320 - training - INFO - Successfully saved weights to /content/drive/MyDrive/XAI_ProfAI/experiments/signature_detection_baseline_v1/weights/signature_detection_baseline_v1-weights-13-0.708-0.708-0.708-0.708-0.558-0.770-0.772-0.770-0.770-0.509.pth\n",
            "2025-07-28 09:18:26,320 - training - INFO - Successfully saved weights to /content/drive/MyDrive/XAI_ProfAI/experiments/signature_detection_baseline_v1/weights/signature_detection_baseline_v1-weights-13-0.708-0.708-0.708-0.708-0.558-0.770-0.772-0.770-0.770-0.509.pth\n",
            "2025-07-28 09:18:26,320 - training - INFO - Successfully saved weights to /content/drive/MyDrive/XAI_ProfAI/experiments/signature_detection_baseline_v1/weights/signature_detection_baseline_v1-weights-13-0.708-0.708-0.708-0.708-0.558-0.770-0.772-0.770-0.770-0.509.pth\n",
            "2025-07-28 09:18:26,320 - training - INFO - Successfully saved weights to /content/drive/MyDrive/XAI_ProfAI/experiments/signature_detection_baseline_v1/weights/signature_detection_baseline_v1-weights-13-0.708-0.708-0.708-0.708-0.558-0.770-0.772-0.770-0.770-0.509.pth\n",
            "2025-07-28 09:18:26,320 - training - INFO - Successfully saved weights to /content/drive/MyDrive/XAI_ProfAI/experiments/signature_detection_baseline_v1/weights/signature_detection_baseline_v1-weights-13-0.708-0.708-0.708-0.708-0.558-0.770-0.772-0.770-0.770-0.509.pth\n",
            "INFO:training:Successfully saved weights to /content/drive/MyDrive/XAI_ProfAI/experiments/signature_detection_baseline_v1/weights/signature_detection_baseline_v1-weights-13-0.708-0.708-0.708-0.708-0.558-0.770-0.772-0.770-0.770-0.509.pth\n",
            "2025-07-28 09:18:26,359 - training - INFO - Successfully saved optimizer to /content/drive/MyDrive/XAI_ProfAI/experiments/signature_detection_baseline_v1/weights/signature_detection_baseline_v1-optim-13.pth\n",
            "2025-07-28 09:18:26,359 - training - INFO - Successfully saved optimizer to /content/drive/MyDrive/XAI_ProfAI/experiments/signature_detection_baseline_v1/weights/signature_detection_baseline_v1-optim-13.pth\n",
            "2025-07-28 09:18:26,359 - training - INFO - Successfully saved optimizer to /content/drive/MyDrive/XAI_ProfAI/experiments/signature_detection_baseline_v1/weights/signature_detection_baseline_v1-optim-13.pth\n",
            "2025-07-28 09:18:26,359 - training - INFO - Successfully saved optimizer to /content/drive/MyDrive/XAI_ProfAI/experiments/signature_detection_baseline_v1/weights/signature_detection_baseline_v1-optim-13.pth\n",
            "2025-07-28 09:18:26,359 - training - INFO - Successfully saved optimizer to /content/drive/MyDrive/XAI_ProfAI/experiments/signature_detection_baseline_v1/weights/signature_detection_baseline_v1-optim-13.pth\n",
            "INFO:training:Successfully saved optimizer to /content/drive/MyDrive/XAI_ProfAI/experiments/signature_detection_baseline_v1/weights/signature_detection_baseline_v1-optim-13.pth\n",
            "2025-07-28 09:18:26,382 - training - INFO - Removed old file: signature_detection_baseline_v1-weights-11-0.707-0.707-0.707-0.707-0.552-0.755-0.758-0.755-0.754-0.525.pth\n",
            "2025-07-28 09:18:26,382 - training - INFO - Removed old file: signature_detection_baseline_v1-weights-11-0.707-0.707-0.707-0.707-0.552-0.755-0.758-0.755-0.754-0.525.pth\n",
            "2025-07-28 09:18:26,382 - training - INFO - Removed old file: signature_detection_baseline_v1-weights-11-0.707-0.707-0.707-0.707-0.552-0.755-0.758-0.755-0.754-0.525.pth\n",
            "2025-07-28 09:18:26,382 - training - INFO - Removed old file: signature_detection_baseline_v1-weights-11-0.707-0.707-0.707-0.707-0.552-0.755-0.758-0.755-0.754-0.525.pth\n",
            "2025-07-28 09:18:26,382 - training - INFO - Removed old file: signature_detection_baseline_v1-weights-11-0.707-0.707-0.707-0.707-0.552-0.755-0.758-0.755-0.754-0.525.pth\n",
            "INFO:training:Removed old file: signature_detection_baseline_v1-weights-11-0.707-0.707-0.707-0.707-0.552-0.755-0.758-0.755-0.754-0.525.pth\n",
            "2025-07-28 09:18:26,390 - training - INFO - Removed old file: signature_detection_baseline_v1-optim-11.pth\n",
            "2025-07-28 09:18:26,390 - training - INFO - Removed old file: signature_detection_baseline_v1-optim-11.pth\n",
            "2025-07-28 09:18:26,390 - training - INFO - Removed old file: signature_detection_baseline_v1-optim-11.pth\n",
            "2025-07-28 09:18:26,390 - training - INFO - Removed old file: signature_detection_baseline_v1-optim-11.pth\n",
            "2025-07-28 09:18:26,390 - training - INFO - Removed old file: signature_detection_baseline_v1-optim-11.pth\n",
            "INFO:training:Removed old file: signature_detection_baseline_v1-optim-11.pth\n",
            "2025-07-28 09:18:26,396 - training - INFO - ModelCheckpoint: Saved model at epoch 13\n",
            "2025-07-28 09:18:26,396 - training - INFO - ModelCheckpoint: Saved model at epoch 13\n",
            "2025-07-28 09:18:26,396 - training - INFO - ModelCheckpoint: Saved model at epoch 13\n",
            "2025-07-28 09:18:26,396 - training - INFO - ModelCheckpoint: Saved model at epoch 13\n",
            "2025-07-28 09:18:26,396 - training - INFO - ModelCheckpoint: Saved model at epoch 13\n",
            "INFO:training:ModelCheckpoint: Saved model at epoch 13\n",
            "2025-07-28 09:18:26,399 - training - INFO - Epoch 14/50\n",
            "2025-07-28 09:18:26,399 - training - INFO - Epoch 14/50\n",
            "2025-07-28 09:18:26,399 - training - INFO - Epoch 14/50\n",
            "2025-07-28 09:18:26,399 - training - INFO - Epoch 14/50\n",
            "2025-07-28 09:18:26,399 - training - INFO - Epoch 14/50\n",
            "INFO:training:Epoch 14/50\n"
          ]
        },
        {
          "name": "stdout",
          "output_type": "stream",
          "text": [
            "\n",
            "Epoch 00013: val_loss improved from 0.52517 to 0.50866, saving model to best_baseline_model.pth\n"
          ]
        },
        {
          "name": "stderr",
          "output_type": "stream",
          "text": [
            "/usr/local/lib/python3.11/dist-packages/torch/utils/data/dataloader.py:624: UserWarning: This DataLoader will create 4 worker processes in total. Our suggested max number of worker in current system is 2, which is smaller than what this DataLoader is going to create. Please be aware that excessive worker creation might get DataLoader running slow or even freeze, lower the worker number to avoid potential slowness/freeze if necessary.\n",
            "  warnings.warn(\n",
            "/usr/local/lib/python3.11/dist-packages/torch/utils/data/dataloader.py:624: UserWarning: This DataLoader will create 4 worker processes in total. Our suggested max number of worker in current system is 2, which is smaller than what this DataLoader is going to create. Please be aware that excessive worker creation might get DataLoader running slow or even freeze, lower the worker number to avoid potential slowness/freeze if necessary.\n",
            "  warnings.warn(\n",
            "2025-07-28 09:18:40,596 - training - INFO - Epoca 14 - accuracy: 0.7083 | precision: 0.7101 | recall: 0.7083 | f1: 0.7077 | loss: 0.5687 | val_accuracy: 0.7449 | val_precision: 0.7624 | val_recall: 0.7449 | val_f1: 0.7406 | val_loss: 0.5167\n",
            "2025-07-28 09:18:40,596 - training - INFO - Epoca 14 - accuracy: 0.7083 | precision: 0.7101 | recall: 0.7083 | f1: 0.7077 | loss: 0.5687 | val_accuracy: 0.7449 | val_precision: 0.7624 | val_recall: 0.7449 | val_f1: 0.7406 | val_loss: 0.5167\n",
            "2025-07-28 09:18:40,596 - training - INFO - Epoca 14 - accuracy: 0.7083 | precision: 0.7101 | recall: 0.7083 | f1: 0.7077 | loss: 0.5687 | val_accuracy: 0.7449 | val_precision: 0.7624 | val_recall: 0.7449 | val_f1: 0.7406 | val_loss: 0.5167\n",
            "2025-07-28 09:18:40,596 - training - INFO - Epoca 14 - accuracy: 0.7083 | precision: 0.7101 | recall: 0.7083 | f1: 0.7077 | loss: 0.5687 | val_accuracy: 0.7449 | val_precision: 0.7624 | val_recall: 0.7449 | val_f1: 0.7406 | val_loss: 0.5167\n",
            "2025-07-28 09:18:40,596 - training - INFO - Epoca 14 - accuracy: 0.7083 | precision: 0.7101 | recall: 0.7083 | f1: 0.7077 | loss: 0.5687 | val_accuracy: 0.7449 | val_precision: 0.7624 | val_recall: 0.7449 | val_f1: 0.7406 | val_loss: 0.5167\n",
            "INFO:training:Epoca 14 - accuracy: 0.7083 | precision: 0.7101 | recall: 0.7083 | f1: 0.7077 | loss: 0.5687 | val_accuracy: 0.7449 | val_precision: 0.7624 | val_recall: 0.7449 | val_f1: 0.7406 | val_loss: 0.5167\n",
            "2025-07-28 09:18:42,294 - training - INFO - ModelCheckpoint: Saved model at epoch 14\n",
            "2025-07-28 09:18:42,294 - training - INFO - ModelCheckpoint: Saved model at epoch 14\n",
            "2025-07-28 09:18:42,294 - training - INFO - ModelCheckpoint: Saved model at epoch 14\n",
            "2025-07-28 09:18:42,294 - training - INFO - ModelCheckpoint: Saved model at epoch 14\n",
            "2025-07-28 09:18:42,294 - training - INFO - ModelCheckpoint: Saved model at epoch 14\n",
            "INFO:training:ModelCheckpoint: Saved model at epoch 14\n",
            "2025-07-28 09:18:42,298 - training - INFO - Epoch 15/50\n",
            "2025-07-28 09:18:42,298 - training - INFO - Epoch 15/50\n",
            "2025-07-28 09:18:42,298 - training - INFO - Epoch 15/50\n",
            "2025-07-28 09:18:42,298 - training - INFO - Epoch 15/50\n",
            "2025-07-28 09:18:42,298 - training - INFO - Epoch 15/50\n",
            "INFO:training:Epoch 15/50\n",
            "/usr/local/lib/python3.11/dist-packages/torch/utils/data/dataloader.py:624: UserWarning: This DataLoader will create 4 worker processes in total. Our suggested max number of worker in current system is 2, which is smaller than what this DataLoader is going to create. Please be aware that excessive worker creation might get DataLoader running slow or even freeze, lower the worker number to avoid potential slowness/freeze if necessary.\n",
            "  warnings.warn(\n",
            "/usr/local/lib/python3.11/dist-packages/torch/utils/data/dataloader.py:624: UserWarning: This DataLoader will create 4 worker processes in total. Our suggested max number of worker in current system is 2, which is smaller than what this DataLoader is going to create. Please be aware that excessive worker creation might get DataLoader running slow or even freeze, lower the worker number to avoid potential slowness/freeze if necessary.\n",
            "  warnings.warn(\n",
            "2025-07-28 09:18:56,678 - training - INFO - Epoca 15 - accuracy: 0.7193 | precision: 0.7193 | recall: 0.7193 | f1: 0.7193 | loss: 0.5477 | val_accuracy: 0.7753 | val_precision: 0.7778 | val_recall: 0.7753 | val_f1: 0.7747 | val_loss: 0.4906\n",
            "2025-07-28 09:18:56,678 - training - INFO - Epoca 15 - accuracy: 0.7193 | precision: 0.7193 | recall: 0.7193 | f1: 0.7193 | loss: 0.5477 | val_accuracy: 0.7753 | val_precision: 0.7778 | val_recall: 0.7753 | val_f1: 0.7747 | val_loss: 0.4906\n",
            "2025-07-28 09:18:56,678 - training - INFO - Epoca 15 - accuracy: 0.7193 | precision: 0.7193 | recall: 0.7193 | f1: 0.7193 | loss: 0.5477 | val_accuracy: 0.7753 | val_precision: 0.7778 | val_recall: 0.7753 | val_f1: 0.7747 | val_loss: 0.4906\n",
            "2025-07-28 09:18:56,678 - training - INFO - Epoca 15 - accuracy: 0.7193 | precision: 0.7193 | recall: 0.7193 | f1: 0.7193 | loss: 0.5477 | val_accuracy: 0.7753 | val_precision: 0.7778 | val_recall: 0.7753 | val_f1: 0.7747 | val_loss: 0.4906\n",
            "2025-07-28 09:18:56,678 - training - INFO - Epoca 15 - accuracy: 0.7193 | precision: 0.7193 | recall: 0.7193 | f1: 0.7193 | loss: 0.5477 | val_accuracy: 0.7753 | val_precision: 0.7778 | val_recall: 0.7753 | val_f1: 0.7747 | val_loss: 0.4906\n",
            "INFO:training:Epoca 15 - accuracy: 0.7193 | precision: 0.7193 | recall: 0.7193 | f1: 0.7193 | loss: 0.5477 | val_accuracy: 0.7753 | val_precision: 0.7778 | val_recall: 0.7753 | val_f1: 0.7747 | val_loss: 0.4906\n",
            "2025-07-28 09:18:58,453 - training - INFO - Successfully saved weights to /content/drive/MyDrive/XAI_ProfAI/experiments/signature_detection_baseline_v1/weights/signature_detection_baseline_v1-weights-15-0.719-0.719-0.719-0.719-0.548-0.775-0.778-0.775-0.775-0.491.pth\n",
            "2025-07-28 09:18:58,453 - training - INFO - Successfully saved weights to /content/drive/MyDrive/XAI_ProfAI/experiments/signature_detection_baseline_v1/weights/signature_detection_baseline_v1-weights-15-0.719-0.719-0.719-0.719-0.548-0.775-0.778-0.775-0.775-0.491.pth\n",
            "2025-07-28 09:18:58,453 - training - INFO - Successfully saved weights to /content/drive/MyDrive/XAI_ProfAI/experiments/signature_detection_baseline_v1/weights/signature_detection_baseline_v1-weights-15-0.719-0.719-0.719-0.719-0.548-0.775-0.778-0.775-0.775-0.491.pth\n",
            "2025-07-28 09:18:58,453 - training - INFO - Successfully saved weights to /content/drive/MyDrive/XAI_ProfAI/experiments/signature_detection_baseline_v1/weights/signature_detection_baseline_v1-weights-15-0.719-0.719-0.719-0.719-0.548-0.775-0.778-0.775-0.775-0.491.pth\n",
            "2025-07-28 09:18:58,453 - training - INFO - Successfully saved weights to /content/drive/MyDrive/XAI_ProfAI/experiments/signature_detection_baseline_v1/weights/signature_detection_baseline_v1-weights-15-0.719-0.719-0.719-0.719-0.548-0.775-0.778-0.775-0.775-0.491.pth\n",
            "INFO:training:Successfully saved weights to /content/drive/MyDrive/XAI_ProfAI/experiments/signature_detection_baseline_v1/weights/signature_detection_baseline_v1-weights-15-0.719-0.719-0.719-0.719-0.548-0.775-0.778-0.775-0.775-0.491.pth\n",
            "2025-07-28 09:18:58,488 - training - INFO - Successfully saved optimizer to /content/drive/MyDrive/XAI_ProfAI/experiments/signature_detection_baseline_v1/weights/signature_detection_baseline_v1-optim-15.pth\n",
            "2025-07-28 09:18:58,488 - training - INFO - Successfully saved optimizer to /content/drive/MyDrive/XAI_ProfAI/experiments/signature_detection_baseline_v1/weights/signature_detection_baseline_v1-optim-15.pth\n",
            "2025-07-28 09:18:58,488 - training - INFO - Successfully saved optimizer to /content/drive/MyDrive/XAI_ProfAI/experiments/signature_detection_baseline_v1/weights/signature_detection_baseline_v1-optim-15.pth\n",
            "2025-07-28 09:18:58,488 - training - INFO - Successfully saved optimizer to /content/drive/MyDrive/XAI_ProfAI/experiments/signature_detection_baseline_v1/weights/signature_detection_baseline_v1-optim-15.pth\n",
            "2025-07-28 09:18:58,488 - training - INFO - Successfully saved optimizer to /content/drive/MyDrive/XAI_ProfAI/experiments/signature_detection_baseline_v1/weights/signature_detection_baseline_v1-optim-15.pth\n",
            "INFO:training:Successfully saved optimizer to /content/drive/MyDrive/XAI_ProfAI/experiments/signature_detection_baseline_v1/weights/signature_detection_baseline_v1-optim-15.pth\n",
            "2025-07-28 09:18:58,512 - training - INFO - Removed old file: signature_detection_baseline_v1-weights-13-0.708-0.708-0.708-0.708-0.558-0.770-0.772-0.770-0.770-0.509.pth\n",
            "2025-07-28 09:18:58,512 - training - INFO - Removed old file: signature_detection_baseline_v1-weights-13-0.708-0.708-0.708-0.708-0.558-0.770-0.772-0.770-0.770-0.509.pth\n",
            "2025-07-28 09:18:58,512 - training - INFO - Removed old file: signature_detection_baseline_v1-weights-13-0.708-0.708-0.708-0.708-0.558-0.770-0.772-0.770-0.770-0.509.pth\n",
            "2025-07-28 09:18:58,512 - training - INFO - Removed old file: signature_detection_baseline_v1-weights-13-0.708-0.708-0.708-0.708-0.558-0.770-0.772-0.770-0.770-0.509.pth\n",
            "2025-07-28 09:18:58,512 - training - INFO - Removed old file: signature_detection_baseline_v1-weights-13-0.708-0.708-0.708-0.708-0.558-0.770-0.772-0.770-0.770-0.509.pth\n",
            "INFO:training:Removed old file: signature_detection_baseline_v1-weights-13-0.708-0.708-0.708-0.708-0.558-0.770-0.772-0.770-0.770-0.509.pth\n",
            "2025-07-28 09:18:58,521 - training - INFO - Removed old file: signature_detection_baseline_v1-optim-13.pth\n",
            "2025-07-28 09:18:58,521 - training - INFO - Removed old file: signature_detection_baseline_v1-optim-13.pth\n",
            "2025-07-28 09:18:58,521 - training - INFO - Removed old file: signature_detection_baseline_v1-optim-13.pth\n",
            "2025-07-28 09:18:58,521 - training - INFO - Removed old file: signature_detection_baseline_v1-optim-13.pth\n",
            "2025-07-28 09:18:58,521 - training - INFO - Removed old file: signature_detection_baseline_v1-optim-13.pth\n",
            "INFO:training:Removed old file: signature_detection_baseline_v1-optim-13.pth\n",
            "2025-07-28 09:18:58,529 - training - INFO - ModelCheckpoint: Saved model at epoch 15\n",
            "2025-07-28 09:18:58,529 - training - INFO - ModelCheckpoint: Saved model at epoch 15\n",
            "2025-07-28 09:18:58,529 - training - INFO - ModelCheckpoint: Saved model at epoch 15\n",
            "2025-07-28 09:18:58,529 - training - INFO - ModelCheckpoint: Saved model at epoch 15\n",
            "2025-07-28 09:18:58,529 - training - INFO - ModelCheckpoint: Saved model at epoch 15\n",
            "INFO:training:ModelCheckpoint: Saved model at epoch 15\n",
            "2025-07-28 09:18:58,533 - training - INFO - Epoch 16/50\n",
            "2025-07-28 09:18:58,533 - training - INFO - Epoch 16/50\n",
            "2025-07-28 09:18:58,533 - training - INFO - Epoch 16/50\n",
            "2025-07-28 09:18:58,533 - training - INFO - Epoch 16/50\n",
            "2025-07-28 09:18:58,533 - training - INFO - Epoch 16/50\n",
            "INFO:training:Epoch 16/50\n"
          ]
        },
        {
          "name": "stdout",
          "output_type": "stream",
          "text": [
            "\n",
            "Epoch 00015: val_loss improved from 0.50866 to 0.49058, saving model to best_baseline_model.pth\n"
          ]
        },
        {
          "name": "stderr",
          "output_type": "stream",
          "text": [
            "/usr/local/lib/python3.11/dist-packages/torch/utils/data/dataloader.py:624: UserWarning: This DataLoader will create 4 worker processes in total. Our suggested max number of worker in current system is 2, which is smaller than what this DataLoader is going to create. Please be aware that excessive worker creation might get DataLoader running slow or even freeze, lower the worker number to avoid potential slowness/freeze if necessary.\n",
            "  warnings.warn(\n",
            "/usr/local/lib/python3.11/dist-packages/torch/utils/data/dataloader.py:624: UserWarning: This DataLoader will create 4 worker processes in total. Our suggested max number of worker in current system is 2, which is smaller than what this DataLoader is going to create. Please be aware that excessive worker creation might get DataLoader running slow or even freeze, lower the worker number to avoid potential slowness/freeze if necessary.\n",
            "  warnings.warn(\n",
            "2025-07-28 09:19:12,893 - training - INFO - Epoca 16 - accuracy: 0.7292 | precision: 0.7294 | recall: 0.7292 | f1: 0.7291 | loss: 0.5240 | val_accuracy: 0.7652 | val_precision: 0.7653 | val_recall: 0.7652 | val_f1: 0.7651 | val_loss: 0.4799\n",
            "2025-07-28 09:19:12,893 - training - INFO - Epoca 16 - accuracy: 0.7292 | precision: 0.7294 | recall: 0.7292 | f1: 0.7291 | loss: 0.5240 | val_accuracy: 0.7652 | val_precision: 0.7653 | val_recall: 0.7652 | val_f1: 0.7651 | val_loss: 0.4799\n",
            "2025-07-28 09:19:12,893 - training - INFO - Epoca 16 - accuracy: 0.7292 | precision: 0.7294 | recall: 0.7292 | f1: 0.7291 | loss: 0.5240 | val_accuracy: 0.7652 | val_precision: 0.7653 | val_recall: 0.7652 | val_f1: 0.7651 | val_loss: 0.4799\n",
            "2025-07-28 09:19:12,893 - training - INFO - Epoca 16 - accuracy: 0.7292 | precision: 0.7294 | recall: 0.7292 | f1: 0.7291 | loss: 0.5240 | val_accuracy: 0.7652 | val_precision: 0.7653 | val_recall: 0.7652 | val_f1: 0.7651 | val_loss: 0.4799\n",
            "2025-07-28 09:19:12,893 - training - INFO - Epoca 16 - accuracy: 0.7292 | precision: 0.7294 | recall: 0.7292 | f1: 0.7291 | loss: 0.5240 | val_accuracy: 0.7652 | val_precision: 0.7653 | val_recall: 0.7652 | val_f1: 0.7651 | val_loss: 0.4799\n",
            "INFO:training:Epoca 16 - accuracy: 0.7292 | precision: 0.7294 | recall: 0.7292 | f1: 0.7291 | loss: 0.5240 | val_accuracy: 0.7652 | val_precision: 0.7653 | val_recall: 0.7652 | val_f1: 0.7651 | val_loss: 0.4799\n",
            "2025-07-28 09:19:15,557 - training - INFO - Successfully saved weights to /content/drive/MyDrive/XAI_ProfAI/experiments/signature_detection_baseline_v1/weights/signature_detection_baseline_v1-weights-16-0.729-0.729-0.729-0.729-0.524-0.765-0.765-0.765-0.765-0.480.pth\n",
            "2025-07-28 09:19:15,557 - training - INFO - Successfully saved weights to /content/drive/MyDrive/XAI_ProfAI/experiments/signature_detection_baseline_v1/weights/signature_detection_baseline_v1-weights-16-0.729-0.729-0.729-0.729-0.524-0.765-0.765-0.765-0.765-0.480.pth\n",
            "2025-07-28 09:19:15,557 - training - INFO - Successfully saved weights to /content/drive/MyDrive/XAI_ProfAI/experiments/signature_detection_baseline_v1/weights/signature_detection_baseline_v1-weights-16-0.729-0.729-0.729-0.729-0.524-0.765-0.765-0.765-0.765-0.480.pth\n",
            "2025-07-28 09:19:15,557 - training - INFO - Successfully saved weights to /content/drive/MyDrive/XAI_ProfAI/experiments/signature_detection_baseline_v1/weights/signature_detection_baseline_v1-weights-16-0.729-0.729-0.729-0.729-0.524-0.765-0.765-0.765-0.765-0.480.pth\n",
            "2025-07-28 09:19:15,557 - training - INFO - Successfully saved weights to /content/drive/MyDrive/XAI_ProfAI/experiments/signature_detection_baseline_v1/weights/signature_detection_baseline_v1-weights-16-0.729-0.729-0.729-0.729-0.524-0.765-0.765-0.765-0.765-0.480.pth\n",
            "INFO:training:Successfully saved weights to /content/drive/MyDrive/XAI_ProfAI/experiments/signature_detection_baseline_v1/weights/signature_detection_baseline_v1-weights-16-0.729-0.729-0.729-0.729-0.524-0.765-0.765-0.765-0.765-0.480.pth\n",
            "2025-07-28 09:19:15,606 - training - INFO - Successfully saved optimizer to /content/drive/MyDrive/XAI_ProfAI/experiments/signature_detection_baseline_v1/weights/signature_detection_baseline_v1-optim-16.pth\n",
            "2025-07-28 09:19:15,606 - training - INFO - Successfully saved optimizer to /content/drive/MyDrive/XAI_ProfAI/experiments/signature_detection_baseline_v1/weights/signature_detection_baseline_v1-optim-16.pth\n",
            "2025-07-28 09:19:15,606 - training - INFO - Successfully saved optimizer to /content/drive/MyDrive/XAI_ProfAI/experiments/signature_detection_baseline_v1/weights/signature_detection_baseline_v1-optim-16.pth\n",
            "2025-07-28 09:19:15,606 - training - INFO - Successfully saved optimizer to /content/drive/MyDrive/XAI_ProfAI/experiments/signature_detection_baseline_v1/weights/signature_detection_baseline_v1-optim-16.pth\n",
            "2025-07-28 09:19:15,606 - training - INFO - Successfully saved optimizer to /content/drive/MyDrive/XAI_ProfAI/experiments/signature_detection_baseline_v1/weights/signature_detection_baseline_v1-optim-16.pth\n",
            "INFO:training:Successfully saved optimizer to /content/drive/MyDrive/XAI_ProfAI/experiments/signature_detection_baseline_v1/weights/signature_detection_baseline_v1-optim-16.pth\n",
            "2025-07-28 09:19:15,642 - training - INFO - Removed old file: signature_detection_baseline_v1-weights-15-0.719-0.719-0.719-0.719-0.548-0.775-0.778-0.775-0.775-0.491.pth\n",
            "2025-07-28 09:19:15,642 - training - INFO - Removed old file: signature_detection_baseline_v1-weights-15-0.719-0.719-0.719-0.719-0.548-0.775-0.778-0.775-0.775-0.491.pth\n",
            "2025-07-28 09:19:15,642 - training - INFO - Removed old file: signature_detection_baseline_v1-weights-15-0.719-0.719-0.719-0.719-0.548-0.775-0.778-0.775-0.775-0.491.pth\n",
            "2025-07-28 09:19:15,642 - training - INFO - Removed old file: signature_detection_baseline_v1-weights-15-0.719-0.719-0.719-0.719-0.548-0.775-0.778-0.775-0.775-0.491.pth\n",
            "2025-07-28 09:19:15,642 - training - INFO - Removed old file: signature_detection_baseline_v1-weights-15-0.719-0.719-0.719-0.719-0.548-0.775-0.778-0.775-0.775-0.491.pth\n",
            "INFO:training:Removed old file: signature_detection_baseline_v1-weights-15-0.719-0.719-0.719-0.719-0.548-0.775-0.778-0.775-0.775-0.491.pth\n",
            "2025-07-28 09:19:15,651 - training - INFO - Removed old file: signature_detection_baseline_v1-optim-15.pth\n",
            "2025-07-28 09:19:15,651 - training - INFO - Removed old file: signature_detection_baseline_v1-optim-15.pth\n",
            "2025-07-28 09:19:15,651 - training - INFO - Removed old file: signature_detection_baseline_v1-optim-15.pth\n",
            "2025-07-28 09:19:15,651 - training - INFO - Removed old file: signature_detection_baseline_v1-optim-15.pth\n",
            "2025-07-28 09:19:15,651 - training - INFO - Removed old file: signature_detection_baseline_v1-optim-15.pth\n",
            "INFO:training:Removed old file: signature_detection_baseline_v1-optim-15.pth\n",
            "2025-07-28 09:19:15,656 - training - INFO - ModelCheckpoint: Saved model at epoch 16\n",
            "2025-07-28 09:19:15,656 - training - INFO - ModelCheckpoint: Saved model at epoch 16\n",
            "2025-07-28 09:19:15,656 - training - INFO - ModelCheckpoint: Saved model at epoch 16\n",
            "2025-07-28 09:19:15,656 - training - INFO - ModelCheckpoint: Saved model at epoch 16\n",
            "2025-07-28 09:19:15,656 - training - INFO - ModelCheckpoint: Saved model at epoch 16\n",
            "INFO:training:ModelCheckpoint: Saved model at epoch 16\n",
            "2025-07-28 09:19:15,661 - training - INFO - Epoch 17/50\n",
            "2025-07-28 09:19:15,661 - training - INFO - Epoch 17/50\n",
            "2025-07-28 09:19:15,661 - training - INFO - Epoch 17/50\n",
            "2025-07-28 09:19:15,661 - training - INFO - Epoch 17/50\n",
            "2025-07-28 09:19:15,661 - training - INFO - Epoch 17/50\n",
            "INFO:training:Epoch 17/50\n"
          ]
        },
        {
          "name": "stdout",
          "output_type": "stream",
          "text": [
            "\n",
            "Epoch 00016: val_loss improved from 0.49058 to 0.47991, saving model to best_baseline_model.pth\n"
          ]
        },
        {
          "name": "stderr",
          "output_type": "stream",
          "text": [
            "/usr/local/lib/python3.11/dist-packages/torch/utils/data/dataloader.py:624: UserWarning: This DataLoader will create 4 worker processes in total. Our suggested max number of worker in current system is 2, which is smaller than what this DataLoader is going to create. Please be aware that excessive worker creation might get DataLoader running slow or even freeze, lower the worker number to avoid potential slowness/freeze if necessary.\n",
            "  warnings.warn(\n",
            "/usr/local/lib/python3.11/dist-packages/torch/utils/data/dataloader.py:624: UserWarning: This DataLoader will create 4 worker processes in total. Our suggested max number of worker in current system is 2, which is smaller than what this DataLoader is going to create. Please be aware that excessive worker creation might get DataLoader running slow or even freeze, lower the worker number to avoid potential slowness/freeze if necessary.\n",
            "  warnings.warn(\n",
            "2025-07-28 09:19:30,087 - training - INFO - Epoca 17 - accuracy: 0.7188 | precision: 0.7204 | recall: 0.7188 | f1: 0.7182 | loss: 0.5408 | val_accuracy: 0.7727 | val_precision: 0.7737 | val_recall: 0.7727 | val_f1: 0.7725 | val_loss: 0.4783\n",
            "2025-07-28 09:19:30,087 - training - INFO - Epoca 17 - accuracy: 0.7188 | precision: 0.7204 | recall: 0.7188 | f1: 0.7182 | loss: 0.5408 | val_accuracy: 0.7727 | val_precision: 0.7737 | val_recall: 0.7727 | val_f1: 0.7725 | val_loss: 0.4783\n",
            "2025-07-28 09:19:30,087 - training - INFO - Epoca 17 - accuracy: 0.7188 | precision: 0.7204 | recall: 0.7188 | f1: 0.7182 | loss: 0.5408 | val_accuracy: 0.7727 | val_precision: 0.7737 | val_recall: 0.7727 | val_f1: 0.7725 | val_loss: 0.4783\n",
            "2025-07-28 09:19:30,087 - training - INFO - Epoca 17 - accuracy: 0.7188 | precision: 0.7204 | recall: 0.7188 | f1: 0.7182 | loss: 0.5408 | val_accuracy: 0.7727 | val_precision: 0.7737 | val_recall: 0.7727 | val_f1: 0.7725 | val_loss: 0.4783\n",
            "2025-07-28 09:19:30,087 - training - INFO - Epoca 17 - accuracy: 0.7188 | precision: 0.7204 | recall: 0.7188 | f1: 0.7182 | loss: 0.5408 | val_accuracy: 0.7727 | val_precision: 0.7737 | val_recall: 0.7727 | val_f1: 0.7725 | val_loss: 0.4783\n",
            "INFO:training:Epoca 17 - accuracy: 0.7188 | precision: 0.7204 | recall: 0.7188 | f1: 0.7182 | loss: 0.5408 | val_accuracy: 0.7727 | val_precision: 0.7737 | val_recall: 0.7727 | val_f1: 0.7725 | val_loss: 0.4783\n",
            "2025-07-28 09:19:32,311 - training - INFO - Successfully saved weights to /content/drive/MyDrive/XAI_ProfAI/experiments/signature_detection_baseline_v1/weights/signature_detection_baseline_v1-weights-17-0.719-0.720-0.719-0.718-0.541-0.773-0.774-0.773-0.773-0.478.pth\n",
            "2025-07-28 09:19:32,311 - training - INFO - Successfully saved weights to /content/drive/MyDrive/XAI_ProfAI/experiments/signature_detection_baseline_v1/weights/signature_detection_baseline_v1-weights-17-0.719-0.720-0.719-0.718-0.541-0.773-0.774-0.773-0.773-0.478.pth\n",
            "2025-07-28 09:19:32,311 - training - INFO - Successfully saved weights to /content/drive/MyDrive/XAI_ProfAI/experiments/signature_detection_baseline_v1/weights/signature_detection_baseline_v1-weights-17-0.719-0.720-0.719-0.718-0.541-0.773-0.774-0.773-0.773-0.478.pth\n",
            "2025-07-28 09:19:32,311 - training - INFO - Successfully saved weights to /content/drive/MyDrive/XAI_ProfAI/experiments/signature_detection_baseline_v1/weights/signature_detection_baseline_v1-weights-17-0.719-0.720-0.719-0.718-0.541-0.773-0.774-0.773-0.773-0.478.pth\n",
            "2025-07-28 09:19:32,311 - training - INFO - Successfully saved weights to /content/drive/MyDrive/XAI_ProfAI/experiments/signature_detection_baseline_v1/weights/signature_detection_baseline_v1-weights-17-0.719-0.720-0.719-0.718-0.541-0.773-0.774-0.773-0.773-0.478.pth\n",
            "INFO:training:Successfully saved weights to /content/drive/MyDrive/XAI_ProfAI/experiments/signature_detection_baseline_v1/weights/signature_detection_baseline_v1-weights-17-0.719-0.720-0.719-0.718-0.541-0.773-0.774-0.773-0.773-0.478.pth\n",
            "2025-07-28 09:19:32,348 - training - INFO - Successfully saved optimizer to /content/drive/MyDrive/XAI_ProfAI/experiments/signature_detection_baseline_v1/weights/signature_detection_baseline_v1-optim-17.pth\n",
            "2025-07-28 09:19:32,348 - training - INFO - Successfully saved optimizer to /content/drive/MyDrive/XAI_ProfAI/experiments/signature_detection_baseline_v1/weights/signature_detection_baseline_v1-optim-17.pth\n",
            "2025-07-28 09:19:32,348 - training - INFO - Successfully saved optimizer to /content/drive/MyDrive/XAI_ProfAI/experiments/signature_detection_baseline_v1/weights/signature_detection_baseline_v1-optim-17.pth\n",
            "2025-07-28 09:19:32,348 - training - INFO - Successfully saved optimizer to /content/drive/MyDrive/XAI_ProfAI/experiments/signature_detection_baseline_v1/weights/signature_detection_baseline_v1-optim-17.pth\n",
            "2025-07-28 09:19:32,348 - training - INFO - Successfully saved optimizer to /content/drive/MyDrive/XAI_ProfAI/experiments/signature_detection_baseline_v1/weights/signature_detection_baseline_v1-optim-17.pth\n",
            "INFO:training:Successfully saved optimizer to /content/drive/MyDrive/XAI_ProfAI/experiments/signature_detection_baseline_v1/weights/signature_detection_baseline_v1-optim-17.pth\n",
            "2025-07-28 09:19:32,375 - training - INFO - Removed old file: signature_detection_baseline_v1-weights-16-0.729-0.729-0.729-0.729-0.524-0.765-0.765-0.765-0.765-0.480.pth\n",
            "2025-07-28 09:19:32,375 - training - INFO - Removed old file: signature_detection_baseline_v1-weights-16-0.729-0.729-0.729-0.729-0.524-0.765-0.765-0.765-0.765-0.480.pth\n",
            "2025-07-28 09:19:32,375 - training - INFO - Removed old file: signature_detection_baseline_v1-weights-16-0.729-0.729-0.729-0.729-0.524-0.765-0.765-0.765-0.765-0.480.pth\n",
            "2025-07-28 09:19:32,375 - training - INFO - Removed old file: signature_detection_baseline_v1-weights-16-0.729-0.729-0.729-0.729-0.524-0.765-0.765-0.765-0.765-0.480.pth\n",
            "2025-07-28 09:19:32,375 - training - INFO - Removed old file: signature_detection_baseline_v1-weights-16-0.729-0.729-0.729-0.729-0.524-0.765-0.765-0.765-0.765-0.480.pth\n",
            "INFO:training:Removed old file: signature_detection_baseline_v1-weights-16-0.729-0.729-0.729-0.729-0.524-0.765-0.765-0.765-0.765-0.480.pth\n",
            "2025-07-28 09:19:32,385 - training - INFO - Removed old file: signature_detection_baseline_v1-optim-16.pth\n",
            "2025-07-28 09:19:32,385 - training - INFO - Removed old file: signature_detection_baseline_v1-optim-16.pth\n",
            "2025-07-28 09:19:32,385 - training - INFO - Removed old file: signature_detection_baseline_v1-optim-16.pth\n",
            "2025-07-28 09:19:32,385 - training - INFO - Removed old file: signature_detection_baseline_v1-optim-16.pth\n",
            "2025-07-28 09:19:32,385 - training - INFO - Removed old file: signature_detection_baseline_v1-optim-16.pth\n",
            "INFO:training:Removed old file: signature_detection_baseline_v1-optim-16.pth\n",
            "2025-07-28 09:19:32,389 - training - INFO - ModelCheckpoint: Saved model at epoch 17\n",
            "2025-07-28 09:19:32,389 - training - INFO - ModelCheckpoint: Saved model at epoch 17\n",
            "2025-07-28 09:19:32,389 - training - INFO - ModelCheckpoint: Saved model at epoch 17\n",
            "2025-07-28 09:19:32,389 - training - INFO - ModelCheckpoint: Saved model at epoch 17\n",
            "2025-07-28 09:19:32,389 - training - INFO - ModelCheckpoint: Saved model at epoch 17\n",
            "INFO:training:ModelCheckpoint: Saved model at epoch 17\n",
            "2025-07-28 09:19:32,396 - training - INFO - Epoch 18/50\n",
            "2025-07-28 09:19:32,396 - training - INFO - Epoch 18/50\n",
            "2025-07-28 09:19:32,396 - training - INFO - Epoch 18/50\n",
            "2025-07-28 09:19:32,396 - training - INFO - Epoch 18/50\n",
            "2025-07-28 09:19:32,396 - training - INFO - Epoch 18/50\n",
            "INFO:training:Epoch 18/50\n"
          ]
        },
        {
          "name": "stdout",
          "output_type": "stream",
          "text": [
            "\n",
            "Epoch 00017: val_loss improved from 0.47991 to 0.47829, saving model to best_baseline_model.pth\n"
          ]
        },
        {
          "name": "stderr",
          "output_type": "stream",
          "text": [
            "/usr/local/lib/python3.11/dist-packages/torch/utils/data/dataloader.py:624: UserWarning: This DataLoader will create 4 worker processes in total. Our suggested max number of worker in current system is 2, which is smaller than what this DataLoader is going to create. Please be aware that excessive worker creation might get DataLoader running slow or even freeze, lower the worker number to avoid potential slowness/freeze if necessary.\n",
            "  warnings.warn(\n",
            "/usr/local/lib/python3.11/dist-packages/torch/utils/data/dataloader.py:624: UserWarning: This DataLoader will create 4 worker processes in total. Our suggested max number of worker in current system is 2, which is smaller than what this DataLoader is going to create. Please be aware that excessive worker creation might get DataLoader running slow or even freeze, lower the worker number to avoid potential slowness/freeze if necessary.\n",
            "  warnings.warn(\n",
            "2025-07-28 09:19:46,526 - training - INFO - Epoca 18 - accuracy: 0.7549 | precision: 0.7553 | recall: 0.7549 | f1: 0.7548 | loss: 0.5088 | val_accuracy: 0.7551 | val_precision: 0.7689 | val_recall: 0.7551 | val_f1: 0.7518 | val_loss: 0.4944\n",
            "2025-07-28 09:19:46,526 - training - INFO - Epoca 18 - accuracy: 0.7549 | precision: 0.7553 | recall: 0.7549 | f1: 0.7548 | loss: 0.5088 | val_accuracy: 0.7551 | val_precision: 0.7689 | val_recall: 0.7551 | val_f1: 0.7518 | val_loss: 0.4944\n",
            "2025-07-28 09:19:46,526 - training - INFO - Epoca 18 - accuracy: 0.7549 | precision: 0.7553 | recall: 0.7549 | f1: 0.7548 | loss: 0.5088 | val_accuracy: 0.7551 | val_precision: 0.7689 | val_recall: 0.7551 | val_f1: 0.7518 | val_loss: 0.4944\n",
            "2025-07-28 09:19:46,526 - training - INFO - Epoca 18 - accuracy: 0.7549 | precision: 0.7553 | recall: 0.7549 | f1: 0.7548 | loss: 0.5088 | val_accuracy: 0.7551 | val_precision: 0.7689 | val_recall: 0.7551 | val_f1: 0.7518 | val_loss: 0.4944\n",
            "2025-07-28 09:19:46,526 - training - INFO - Epoca 18 - accuracy: 0.7549 | precision: 0.7553 | recall: 0.7549 | f1: 0.7548 | loss: 0.5088 | val_accuracy: 0.7551 | val_precision: 0.7689 | val_recall: 0.7551 | val_f1: 0.7518 | val_loss: 0.4944\n",
            "INFO:training:Epoca 18 - accuracy: 0.7549 | precision: 0.7553 | recall: 0.7549 | f1: 0.7548 | loss: 0.5088 | val_accuracy: 0.7551 | val_precision: 0.7689 | val_recall: 0.7551 | val_f1: 0.7518 | val_loss: 0.4944\n",
            "2025-07-28 09:19:48,236 - training - INFO - ModelCheckpoint: Saved model at epoch 18\n",
            "2025-07-28 09:19:48,236 - training - INFO - ModelCheckpoint: Saved model at epoch 18\n",
            "2025-07-28 09:19:48,236 - training - INFO - ModelCheckpoint: Saved model at epoch 18\n",
            "2025-07-28 09:19:48,236 - training - INFO - ModelCheckpoint: Saved model at epoch 18\n",
            "2025-07-28 09:19:48,236 - training - INFO - ModelCheckpoint: Saved model at epoch 18\n",
            "INFO:training:ModelCheckpoint: Saved model at epoch 18\n",
            "2025-07-28 09:19:48,249 - training - INFO - Epoch 19/50\n",
            "2025-07-28 09:19:48,249 - training - INFO - Epoch 19/50\n",
            "2025-07-28 09:19:48,249 - training - INFO - Epoch 19/50\n",
            "2025-07-28 09:19:48,249 - training - INFO - Epoch 19/50\n",
            "2025-07-28 09:19:48,249 - training - INFO - Epoch 19/50\n",
            "INFO:training:Epoch 19/50\n",
            "/usr/local/lib/python3.11/dist-packages/torch/utils/data/dataloader.py:624: UserWarning: This DataLoader will create 4 worker processes in total. Our suggested max number of worker in current system is 2, which is smaller than what this DataLoader is going to create. Please be aware that excessive worker creation might get DataLoader running slow or even freeze, lower the worker number to avoid potential slowness/freeze if necessary.\n",
            "  warnings.warn(\n",
            "/usr/local/lib/python3.11/dist-packages/torch/utils/data/dataloader.py:624: UserWarning: This DataLoader will create 4 worker processes in total. Our suggested max number of worker in current system is 2, which is smaller than what this DataLoader is going to create. Please be aware that excessive worker creation might get DataLoader running slow or even freeze, lower the worker number to avoid potential slowness/freeze if necessary.\n",
            "  warnings.warn(\n",
            "2025-07-28 09:20:02,710 - training - INFO - Epoca 19 - accuracy: 0.7500 | precision: 0.7502 | recall: 0.7500 | f1: 0.7499 | loss: 0.5057 | val_accuracy: 0.7828 | val_precision: 0.7949 | val_recall: 0.7828 | val_f1: 0.7806 | val_loss: 0.4336\n",
            "2025-07-28 09:20:02,710 - training - INFO - Epoca 19 - accuracy: 0.7500 | precision: 0.7502 | recall: 0.7500 | f1: 0.7499 | loss: 0.5057 | val_accuracy: 0.7828 | val_precision: 0.7949 | val_recall: 0.7828 | val_f1: 0.7806 | val_loss: 0.4336\n",
            "2025-07-28 09:20:02,710 - training - INFO - Epoca 19 - accuracy: 0.7500 | precision: 0.7502 | recall: 0.7500 | f1: 0.7499 | loss: 0.5057 | val_accuracy: 0.7828 | val_precision: 0.7949 | val_recall: 0.7828 | val_f1: 0.7806 | val_loss: 0.4336\n",
            "2025-07-28 09:20:02,710 - training - INFO - Epoca 19 - accuracy: 0.7500 | precision: 0.7502 | recall: 0.7500 | f1: 0.7499 | loss: 0.5057 | val_accuracy: 0.7828 | val_precision: 0.7949 | val_recall: 0.7828 | val_f1: 0.7806 | val_loss: 0.4336\n",
            "2025-07-28 09:20:02,710 - training - INFO - Epoca 19 - accuracy: 0.7500 | precision: 0.7502 | recall: 0.7500 | f1: 0.7499 | loss: 0.5057 | val_accuracy: 0.7828 | val_precision: 0.7949 | val_recall: 0.7828 | val_f1: 0.7806 | val_loss: 0.4336\n",
            "INFO:training:Epoca 19 - accuracy: 0.7500 | precision: 0.7502 | recall: 0.7500 | f1: 0.7499 | loss: 0.5057 | val_accuracy: 0.7828 | val_precision: 0.7949 | val_recall: 0.7828 | val_f1: 0.7806 | val_loss: 0.4336\n",
            "2025-07-28 09:20:04,468 - training - INFO - Successfully saved weights to /content/drive/MyDrive/XAI_ProfAI/experiments/signature_detection_baseline_v1/weights/signature_detection_baseline_v1-weights-19-0.750-0.750-0.750-0.750-0.506-0.783-0.795-0.783-0.781-0.434.pth\n",
            "2025-07-28 09:20:04,468 - training - INFO - Successfully saved weights to /content/drive/MyDrive/XAI_ProfAI/experiments/signature_detection_baseline_v1/weights/signature_detection_baseline_v1-weights-19-0.750-0.750-0.750-0.750-0.506-0.783-0.795-0.783-0.781-0.434.pth\n",
            "2025-07-28 09:20:04,468 - training - INFO - Successfully saved weights to /content/drive/MyDrive/XAI_ProfAI/experiments/signature_detection_baseline_v1/weights/signature_detection_baseline_v1-weights-19-0.750-0.750-0.750-0.750-0.506-0.783-0.795-0.783-0.781-0.434.pth\n",
            "2025-07-28 09:20:04,468 - training - INFO - Successfully saved weights to /content/drive/MyDrive/XAI_ProfAI/experiments/signature_detection_baseline_v1/weights/signature_detection_baseline_v1-weights-19-0.750-0.750-0.750-0.750-0.506-0.783-0.795-0.783-0.781-0.434.pth\n",
            "2025-07-28 09:20:04,468 - training - INFO - Successfully saved weights to /content/drive/MyDrive/XAI_ProfAI/experiments/signature_detection_baseline_v1/weights/signature_detection_baseline_v1-weights-19-0.750-0.750-0.750-0.750-0.506-0.783-0.795-0.783-0.781-0.434.pth\n",
            "INFO:training:Successfully saved weights to /content/drive/MyDrive/XAI_ProfAI/experiments/signature_detection_baseline_v1/weights/signature_detection_baseline_v1-weights-19-0.750-0.750-0.750-0.750-0.506-0.783-0.795-0.783-0.781-0.434.pth\n",
            "2025-07-28 09:20:04,509 - training - INFO - Successfully saved optimizer to /content/drive/MyDrive/XAI_ProfAI/experiments/signature_detection_baseline_v1/weights/signature_detection_baseline_v1-optim-19.pth\n",
            "2025-07-28 09:20:04,509 - training - INFO - Successfully saved optimizer to /content/drive/MyDrive/XAI_ProfAI/experiments/signature_detection_baseline_v1/weights/signature_detection_baseline_v1-optim-19.pth\n",
            "2025-07-28 09:20:04,509 - training - INFO - Successfully saved optimizer to /content/drive/MyDrive/XAI_ProfAI/experiments/signature_detection_baseline_v1/weights/signature_detection_baseline_v1-optim-19.pth\n",
            "2025-07-28 09:20:04,509 - training - INFO - Successfully saved optimizer to /content/drive/MyDrive/XAI_ProfAI/experiments/signature_detection_baseline_v1/weights/signature_detection_baseline_v1-optim-19.pth\n",
            "2025-07-28 09:20:04,509 - training - INFO - Successfully saved optimizer to /content/drive/MyDrive/XAI_ProfAI/experiments/signature_detection_baseline_v1/weights/signature_detection_baseline_v1-optim-19.pth\n",
            "INFO:training:Successfully saved optimizer to /content/drive/MyDrive/XAI_ProfAI/experiments/signature_detection_baseline_v1/weights/signature_detection_baseline_v1-optim-19.pth\n",
            "2025-07-28 09:20:04,537 - training - INFO - Removed old file: signature_detection_baseline_v1-weights-17-0.719-0.720-0.719-0.718-0.541-0.773-0.774-0.773-0.773-0.478.pth\n",
            "2025-07-28 09:20:04,537 - training - INFO - Removed old file: signature_detection_baseline_v1-weights-17-0.719-0.720-0.719-0.718-0.541-0.773-0.774-0.773-0.773-0.478.pth\n",
            "2025-07-28 09:20:04,537 - training - INFO - Removed old file: signature_detection_baseline_v1-weights-17-0.719-0.720-0.719-0.718-0.541-0.773-0.774-0.773-0.773-0.478.pth\n",
            "2025-07-28 09:20:04,537 - training - INFO - Removed old file: signature_detection_baseline_v1-weights-17-0.719-0.720-0.719-0.718-0.541-0.773-0.774-0.773-0.773-0.478.pth\n",
            "2025-07-28 09:20:04,537 - training - INFO - Removed old file: signature_detection_baseline_v1-weights-17-0.719-0.720-0.719-0.718-0.541-0.773-0.774-0.773-0.773-0.478.pth\n",
            "INFO:training:Removed old file: signature_detection_baseline_v1-weights-17-0.719-0.720-0.719-0.718-0.541-0.773-0.774-0.773-0.773-0.478.pth\n",
            "2025-07-28 09:20:04,544 - training - INFO - Removed old file: signature_detection_baseline_v1-optim-17.pth\n",
            "2025-07-28 09:20:04,544 - training - INFO - Removed old file: signature_detection_baseline_v1-optim-17.pth\n",
            "2025-07-28 09:20:04,544 - training - INFO - Removed old file: signature_detection_baseline_v1-optim-17.pth\n",
            "2025-07-28 09:20:04,544 - training - INFO - Removed old file: signature_detection_baseline_v1-optim-17.pth\n",
            "2025-07-28 09:20:04,544 - training - INFO - Removed old file: signature_detection_baseline_v1-optim-17.pth\n",
            "INFO:training:Removed old file: signature_detection_baseline_v1-optim-17.pth\n",
            "2025-07-28 09:20:04,548 - training - INFO - ModelCheckpoint: Saved model at epoch 19\n",
            "2025-07-28 09:20:04,548 - training - INFO - ModelCheckpoint: Saved model at epoch 19\n",
            "2025-07-28 09:20:04,548 - training - INFO - ModelCheckpoint: Saved model at epoch 19\n",
            "2025-07-28 09:20:04,548 - training - INFO - ModelCheckpoint: Saved model at epoch 19\n",
            "2025-07-28 09:20:04,548 - training - INFO - ModelCheckpoint: Saved model at epoch 19\n",
            "INFO:training:ModelCheckpoint: Saved model at epoch 19\n",
            "2025-07-28 09:20:04,552 - training - INFO - Epoch 20/50\n",
            "2025-07-28 09:20:04,552 - training - INFO - Epoch 20/50\n",
            "2025-07-28 09:20:04,552 - training - INFO - Epoch 20/50\n",
            "2025-07-28 09:20:04,552 - training - INFO - Epoch 20/50\n",
            "2025-07-28 09:20:04,552 - training - INFO - Epoch 20/50\n",
            "INFO:training:Epoch 20/50\n"
          ]
        },
        {
          "name": "stdout",
          "output_type": "stream",
          "text": [
            "\n",
            "Epoch 00019: val_loss improved from 0.47829 to 0.43363, saving model to best_baseline_model.pth\n"
          ]
        },
        {
          "name": "stderr",
          "output_type": "stream",
          "text": [
            "/usr/local/lib/python3.11/dist-packages/torch/utils/data/dataloader.py:624: UserWarning: This DataLoader will create 4 worker processes in total. Our suggested max number of worker in current system is 2, which is smaller than what this DataLoader is going to create. Please be aware that excessive worker creation might get DataLoader running slow or even freeze, lower the worker number to avoid potential slowness/freeze if necessary.\n",
            "  warnings.warn(\n",
            "/usr/local/lib/python3.11/dist-packages/torch/utils/data/dataloader.py:624: UserWarning: This DataLoader will create 4 worker processes in total. Our suggested max number of worker in current system is 2, which is smaller than what this DataLoader is going to create. Please be aware that excessive worker creation might get DataLoader running slow or even freeze, lower the worker number to avoid potential slowness/freeze if necessary.\n",
            "  warnings.warn(\n",
            "2025-07-28 09:20:18,861 - training - INFO - Epoca 20 - accuracy: 0.7829 | precision: 0.7831 | recall: 0.7829 | f1: 0.7829 | loss: 0.4552 | val_accuracy: 0.7348 | val_precision: 0.7977 | val_recall: 0.7348 | val_f1: 0.7201 | val_loss: 0.5185\n",
            "2025-07-28 09:20:18,861 - training - INFO - Epoca 20 - accuracy: 0.7829 | precision: 0.7831 | recall: 0.7829 | f1: 0.7829 | loss: 0.4552 | val_accuracy: 0.7348 | val_precision: 0.7977 | val_recall: 0.7348 | val_f1: 0.7201 | val_loss: 0.5185\n",
            "2025-07-28 09:20:18,861 - training - INFO - Epoca 20 - accuracy: 0.7829 | precision: 0.7831 | recall: 0.7829 | f1: 0.7829 | loss: 0.4552 | val_accuracy: 0.7348 | val_precision: 0.7977 | val_recall: 0.7348 | val_f1: 0.7201 | val_loss: 0.5185\n",
            "2025-07-28 09:20:18,861 - training - INFO - Epoca 20 - accuracy: 0.7829 | precision: 0.7831 | recall: 0.7829 | f1: 0.7829 | loss: 0.4552 | val_accuracy: 0.7348 | val_precision: 0.7977 | val_recall: 0.7348 | val_f1: 0.7201 | val_loss: 0.5185\n",
            "2025-07-28 09:20:18,861 - training - INFO - Epoca 20 - accuracy: 0.7829 | precision: 0.7831 | recall: 0.7829 | f1: 0.7829 | loss: 0.4552 | val_accuracy: 0.7348 | val_precision: 0.7977 | val_recall: 0.7348 | val_f1: 0.7201 | val_loss: 0.5185\n",
            "INFO:training:Epoca 20 - accuracy: 0.7829 | precision: 0.7831 | recall: 0.7829 | f1: 0.7829 | loss: 0.4552 | val_accuracy: 0.7348 | val_precision: 0.7977 | val_recall: 0.7348 | val_f1: 0.7201 | val_loss: 0.5185\n",
            "2025-07-28 09:20:20,611 - training - INFO - ModelCheckpoint: Saved model at epoch 20\n",
            "2025-07-28 09:20:20,611 - training - INFO - ModelCheckpoint: Saved model at epoch 20\n",
            "2025-07-28 09:20:20,611 - training - INFO - ModelCheckpoint: Saved model at epoch 20\n",
            "2025-07-28 09:20:20,611 - training - INFO - ModelCheckpoint: Saved model at epoch 20\n",
            "2025-07-28 09:20:20,611 - training - INFO - ModelCheckpoint: Saved model at epoch 20\n",
            "INFO:training:ModelCheckpoint: Saved model at epoch 20\n",
            "2025-07-28 09:20:20,621 - training - INFO - Epoch 21/50\n",
            "2025-07-28 09:20:20,621 - training - INFO - Epoch 21/50\n",
            "2025-07-28 09:20:20,621 - training - INFO - Epoch 21/50\n",
            "2025-07-28 09:20:20,621 - training - INFO - Epoch 21/50\n",
            "2025-07-28 09:20:20,621 - training - INFO - Epoch 21/50\n",
            "INFO:training:Epoch 21/50\n",
            "/usr/local/lib/python3.11/dist-packages/torch/utils/data/dataloader.py:624: UserWarning: This DataLoader will create 4 worker processes in total. Our suggested max number of worker in current system is 2, which is smaller than what this DataLoader is going to create. Please be aware that excessive worker creation might get DataLoader running slow or even freeze, lower the worker number to avoid potential slowness/freeze if necessary.\n",
            "  warnings.warn(\n",
            "/usr/local/lib/python3.11/dist-packages/torch/utils/data/dataloader.py:624: UserWarning: This DataLoader will create 4 worker processes in total. Our suggested max number of worker in current system is 2, which is smaller than what this DataLoader is going to create. Please be aware that excessive worker creation might get DataLoader running slow or even freeze, lower the worker number to avoid potential slowness/freeze if necessary.\n",
            "  warnings.warn(\n",
            "2025-07-28 09:20:34,955 - training - INFO - Epoca 21 - accuracy: 0.7686 | precision: 0.7689 | recall: 0.7686 | f1: 0.7686 | loss: 0.4687 | val_accuracy: 0.8131 | val_precision: 0.8265 | val_recall: 0.8131 | val_f1: 0.8112 | val_loss: 0.3884\n",
            "2025-07-28 09:20:34,955 - training - INFO - Epoca 21 - accuracy: 0.7686 | precision: 0.7689 | recall: 0.7686 | f1: 0.7686 | loss: 0.4687 | val_accuracy: 0.8131 | val_precision: 0.8265 | val_recall: 0.8131 | val_f1: 0.8112 | val_loss: 0.3884\n",
            "2025-07-28 09:20:34,955 - training - INFO - Epoca 21 - accuracy: 0.7686 | precision: 0.7689 | recall: 0.7686 | f1: 0.7686 | loss: 0.4687 | val_accuracy: 0.8131 | val_precision: 0.8265 | val_recall: 0.8131 | val_f1: 0.8112 | val_loss: 0.3884\n",
            "2025-07-28 09:20:34,955 - training - INFO - Epoca 21 - accuracy: 0.7686 | precision: 0.7689 | recall: 0.7686 | f1: 0.7686 | loss: 0.4687 | val_accuracy: 0.8131 | val_precision: 0.8265 | val_recall: 0.8131 | val_f1: 0.8112 | val_loss: 0.3884\n",
            "2025-07-28 09:20:34,955 - training - INFO - Epoca 21 - accuracy: 0.7686 | precision: 0.7689 | recall: 0.7686 | f1: 0.7686 | loss: 0.4687 | val_accuracy: 0.8131 | val_precision: 0.8265 | val_recall: 0.8131 | val_f1: 0.8112 | val_loss: 0.3884\n",
            "INFO:training:Epoca 21 - accuracy: 0.7686 | precision: 0.7689 | recall: 0.7686 | f1: 0.7686 | loss: 0.4687 | val_accuracy: 0.8131 | val_precision: 0.8265 | val_recall: 0.8131 | val_f1: 0.8112 | val_loss: 0.3884\n",
            "2025-07-28 09:20:36,735 - training - INFO - Successfully saved weights to /content/drive/MyDrive/XAI_ProfAI/experiments/signature_detection_baseline_v1/weights/signature_detection_baseline_v1-weights-21-0.769-0.769-0.769-0.769-0.469-0.813-0.826-0.813-0.811-0.388.pth\n",
            "2025-07-28 09:20:36,735 - training - INFO - Successfully saved weights to /content/drive/MyDrive/XAI_ProfAI/experiments/signature_detection_baseline_v1/weights/signature_detection_baseline_v1-weights-21-0.769-0.769-0.769-0.769-0.469-0.813-0.826-0.813-0.811-0.388.pth\n",
            "2025-07-28 09:20:36,735 - training - INFO - Successfully saved weights to /content/drive/MyDrive/XAI_ProfAI/experiments/signature_detection_baseline_v1/weights/signature_detection_baseline_v1-weights-21-0.769-0.769-0.769-0.769-0.469-0.813-0.826-0.813-0.811-0.388.pth\n",
            "2025-07-28 09:20:36,735 - training - INFO - Successfully saved weights to /content/drive/MyDrive/XAI_ProfAI/experiments/signature_detection_baseline_v1/weights/signature_detection_baseline_v1-weights-21-0.769-0.769-0.769-0.769-0.469-0.813-0.826-0.813-0.811-0.388.pth\n",
            "2025-07-28 09:20:36,735 - training - INFO - Successfully saved weights to /content/drive/MyDrive/XAI_ProfAI/experiments/signature_detection_baseline_v1/weights/signature_detection_baseline_v1-weights-21-0.769-0.769-0.769-0.769-0.469-0.813-0.826-0.813-0.811-0.388.pth\n",
            "INFO:training:Successfully saved weights to /content/drive/MyDrive/XAI_ProfAI/experiments/signature_detection_baseline_v1/weights/signature_detection_baseline_v1-weights-21-0.769-0.769-0.769-0.769-0.469-0.813-0.826-0.813-0.811-0.388.pth\n",
            "2025-07-28 09:20:36,791 - training - INFO - Successfully saved optimizer to /content/drive/MyDrive/XAI_ProfAI/experiments/signature_detection_baseline_v1/weights/signature_detection_baseline_v1-optim-21.pth\n",
            "2025-07-28 09:20:36,791 - training - INFO - Successfully saved optimizer to /content/drive/MyDrive/XAI_ProfAI/experiments/signature_detection_baseline_v1/weights/signature_detection_baseline_v1-optim-21.pth\n",
            "2025-07-28 09:20:36,791 - training - INFO - Successfully saved optimizer to /content/drive/MyDrive/XAI_ProfAI/experiments/signature_detection_baseline_v1/weights/signature_detection_baseline_v1-optim-21.pth\n",
            "2025-07-28 09:20:36,791 - training - INFO - Successfully saved optimizer to /content/drive/MyDrive/XAI_ProfAI/experiments/signature_detection_baseline_v1/weights/signature_detection_baseline_v1-optim-21.pth\n",
            "2025-07-28 09:20:36,791 - training - INFO - Successfully saved optimizer to /content/drive/MyDrive/XAI_ProfAI/experiments/signature_detection_baseline_v1/weights/signature_detection_baseline_v1-optim-21.pth\n",
            "INFO:training:Successfully saved optimizer to /content/drive/MyDrive/XAI_ProfAI/experiments/signature_detection_baseline_v1/weights/signature_detection_baseline_v1-optim-21.pth\n",
            "2025-07-28 09:20:36,819 - training - INFO - Removed old file: signature_detection_baseline_v1-weights-19-0.750-0.750-0.750-0.750-0.506-0.783-0.795-0.783-0.781-0.434.pth\n",
            "2025-07-28 09:20:36,819 - training - INFO - Removed old file: signature_detection_baseline_v1-weights-19-0.750-0.750-0.750-0.750-0.506-0.783-0.795-0.783-0.781-0.434.pth\n",
            "2025-07-28 09:20:36,819 - training - INFO - Removed old file: signature_detection_baseline_v1-weights-19-0.750-0.750-0.750-0.750-0.506-0.783-0.795-0.783-0.781-0.434.pth\n",
            "2025-07-28 09:20:36,819 - training - INFO - Removed old file: signature_detection_baseline_v1-weights-19-0.750-0.750-0.750-0.750-0.506-0.783-0.795-0.783-0.781-0.434.pth\n",
            "2025-07-28 09:20:36,819 - training - INFO - Removed old file: signature_detection_baseline_v1-weights-19-0.750-0.750-0.750-0.750-0.506-0.783-0.795-0.783-0.781-0.434.pth\n",
            "INFO:training:Removed old file: signature_detection_baseline_v1-weights-19-0.750-0.750-0.750-0.750-0.506-0.783-0.795-0.783-0.781-0.434.pth\n",
            "2025-07-28 09:20:36,827 - training - INFO - Removed old file: signature_detection_baseline_v1-optim-19.pth\n",
            "2025-07-28 09:20:36,827 - training - INFO - Removed old file: signature_detection_baseline_v1-optim-19.pth\n",
            "2025-07-28 09:20:36,827 - training - INFO - Removed old file: signature_detection_baseline_v1-optim-19.pth\n",
            "2025-07-28 09:20:36,827 - training - INFO - Removed old file: signature_detection_baseline_v1-optim-19.pth\n",
            "2025-07-28 09:20:36,827 - training - INFO - Removed old file: signature_detection_baseline_v1-optim-19.pth\n",
            "INFO:training:Removed old file: signature_detection_baseline_v1-optim-19.pth\n",
            "2025-07-28 09:20:36,831 - training - INFO - ModelCheckpoint: Saved model at epoch 21\n",
            "2025-07-28 09:20:36,831 - training - INFO - ModelCheckpoint: Saved model at epoch 21\n",
            "2025-07-28 09:20:36,831 - training - INFO - ModelCheckpoint: Saved model at epoch 21\n",
            "2025-07-28 09:20:36,831 - training - INFO - ModelCheckpoint: Saved model at epoch 21\n",
            "2025-07-28 09:20:36,831 - training - INFO - ModelCheckpoint: Saved model at epoch 21\n",
            "INFO:training:ModelCheckpoint: Saved model at epoch 21\n",
            "2025-07-28 09:20:36,836 - training - INFO - Epoch 22/50\n",
            "2025-07-28 09:20:36,836 - training - INFO - Epoch 22/50\n",
            "2025-07-28 09:20:36,836 - training - INFO - Epoch 22/50\n",
            "2025-07-28 09:20:36,836 - training - INFO - Epoch 22/50\n",
            "2025-07-28 09:20:36,836 - training - INFO - Epoch 22/50\n",
            "INFO:training:Epoch 22/50\n"
          ]
        },
        {
          "name": "stdout",
          "output_type": "stream",
          "text": [
            "\n",
            "Epoch 00021: val_loss improved from 0.43363 to 0.38841, saving model to best_baseline_model.pth\n"
          ]
        },
        {
          "name": "stderr",
          "output_type": "stream",
          "text": [
            "/usr/local/lib/python3.11/dist-packages/torch/utils/data/dataloader.py:624: UserWarning: This DataLoader will create 4 worker processes in total. Our suggested max number of worker in current system is 2, which is smaller than what this DataLoader is going to create. Please be aware that excessive worker creation might get DataLoader running slow or even freeze, lower the worker number to avoid potential slowness/freeze if necessary.\n",
            "  warnings.warn(\n",
            "/usr/local/lib/python3.11/dist-packages/torch/utils/data/dataloader.py:624: UserWarning: This DataLoader will create 4 worker processes in total. Our suggested max number of worker in current system is 2, which is smaller than what this DataLoader is going to create. Please be aware that excessive worker creation might get DataLoader running slow or even freeze, lower the worker number to avoid potential slowness/freeze if necessary.\n",
            "  warnings.warn(\n",
            "2025-07-28 09:20:51,133 - training - INFO - Epoca 22 - accuracy: 0.7944 | precision: 0.7947 | recall: 0.7944 | f1: 0.7944 | loss: 0.4415 | val_accuracy: 0.8131 | val_precision: 0.8310 | val_recall: 0.8131 | val_f1: 0.8106 | val_loss: 0.3855\n",
            "2025-07-28 09:20:51,133 - training - INFO - Epoca 22 - accuracy: 0.7944 | precision: 0.7947 | recall: 0.7944 | f1: 0.7944 | loss: 0.4415 | val_accuracy: 0.8131 | val_precision: 0.8310 | val_recall: 0.8131 | val_f1: 0.8106 | val_loss: 0.3855\n",
            "2025-07-28 09:20:51,133 - training - INFO - Epoca 22 - accuracy: 0.7944 | precision: 0.7947 | recall: 0.7944 | f1: 0.7944 | loss: 0.4415 | val_accuracy: 0.8131 | val_precision: 0.8310 | val_recall: 0.8131 | val_f1: 0.8106 | val_loss: 0.3855\n",
            "2025-07-28 09:20:51,133 - training - INFO - Epoca 22 - accuracy: 0.7944 | precision: 0.7947 | recall: 0.7944 | f1: 0.7944 | loss: 0.4415 | val_accuracy: 0.8131 | val_precision: 0.8310 | val_recall: 0.8131 | val_f1: 0.8106 | val_loss: 0.3855\n",
            "2025-07-28 09:20:51,133 - training - INFO - Epoca 22 - accuracy: 0.7944 | precision: 0.7947 | recall: 0.7944 | f1: 0.7944 | loss: 0.4415 | val_accuracy: 0.8131 | val_precision: 0.8310 | val_recall: 0.8131 | val_f1: 0.8106 | val_loss: 0.3855\n",
            "INFO:training:Epoca 22 - accuracy: 0.7944 | precision: 0.7947 | recall: 0.7944 | f1: 0.7944 | loss: 0.4415 | val_accuracy: 0.8131 | val_precision: 0.8310 | val_recall: 0.8131 | val_f1: 0.8106 | val_loss: 0.3855\n",
            "2025-07-28 09:20:52,786 - training - INFO - Successfully saved weights to /content/drive/MyDrive/XAI_ProfAI/experiments/signature_detection_baseline_v1/weights/signature_detection_baseline_v1-weights-22-0.794-0.795-0.794-0.794-0.441-0.813-0.831-0.813-0.811-0.386.pth\n",
            "2025-07-28 09:20:52,786 - training - INFO - Successfully saved weights to /content/drive/MyDrive/XAI_ProfAI/experiments/signature_detection_baseline_v1/weights/signature_detection_baseline_v1-weights-22-0.794-0.795-0.794-0.794-0.441-0.813-0.831-0.813-0.811-0.386.pth\n",
            "2025-07-28 09:20:52,786 - training - INFO - Successfully saved weights to /content/drive/MyDrive/XAI_ProfAI/experiments/signature_detection_baseline_v1/weights/signature_detection_baseline_v1-weights-22-0.794-0.795-0.794-0.794-0.441-0.813-0.831-0.813-0.811-0.386.pth\n",
            "2025-07-28 09:20:52,786 - training - INFO - Successfully saved weights to /content/drive/MyDrive/XAI_ProfAI/experiments/signature_detection_baseline_v1/weights/signature_detection_baseline_v1-weights-22-0.794-0.795-0.794-0.794-0.441-0.813-0.831-0.813-0.811-0.386.pth\n",
            "2025-07-28 09:20:52,786 - training - INFO - Successfully saved weights to /content/drive/MyDrive/XAI_ProfAI/experiments/signature_detection_baseline_v1/weights/signature_detection_baseline_v1-weights-22-0.794-0.795-0.794-0.794-0.441-0.813-0.831-0.813-0.811-0.386.pth\n",
            "INFO:training:Successfully saved weights to /content/drive/MyDrive/XAI_ProfAI/experiments/signature_detection_baseline_v1/weights/signature_detection_baseline_v1-weights-22-0.794-0.795-0.794-0.794-0.441-0.813-0.831-0.813-0.811-0.386.pth\n",
            "2025-07-28 09:20:52,825 - training - INFO - Successfully saved optimizer to /content/drive/MyDrive/XAI_ProfAI/experiments/signature_detection_baseline_v1/weights/signature_detection_baseline_v1-optim-22.pth\n",
            "2025-07-28 09:20:52,825 - training - INFO - Successfully saved optimizer to /content/drive/MyDrive/XAI_ProfAI/experiments/signature_detection_baseline_v1/weights/signature_detection_baseline_v1-optim-22.pth\n",
            "2025-07-28 09:20:52,825 - training - INFO - Successfully saved optimizer to /content/drive/MyDrive/XAI_ProfAI/experiments/signature_detection_baseline_v1/weights/signature_detection_baseline_v1-optim-22.pth\n",
            "2025-07-28 09:20:52,825 - training - INFO - Successfully saved optimizer to /content/drive/MyDrive/XAI_ProfAI/experiments/signature_detection_baseline_v1/weights/signature_detection_baseline_v1-optim-22.pth\n",
            "2025-07-28 09:20:52,825 - training - INFO - Successfully saved optimizer to /content/drive/MyDrive/XAI_ProfAI/experiments/signature_detection_baseline_v1/weights/signature_detection_baseline_v1-optim-22.pth\n",
            "INFO:training:Successfully saved optimizer to /content/drive/MyDrive/XAI_ProfAI/experiments/signature_detection_baseline_v1/weights/signature_detection_baseline_v1-optim-22.pth\n",
            "2025-07-28 09:20:52,863 - training - INFO - Removed old file: signature_detection_baseline_v1-weights-21-0.769-0.769-0.769-0.769-0.469-0.813-0.826-0.813-0.811-0.388.pth\n",
            "2025-07-28 09:20:52,863 - training - INFO - Removed old file: signature_detection_baseline_v1-weights-21-0.769-0.769-0.769-0.769-0.469-0.813-0.826-0.813-0.811-0.388.pth\n",
            "2025-07-28 09:20:52,863 - training - INFO - Removed old file: signature_detection_baseline_v1-weights-21-0.769-0.769-0.769-0.769-0.469-0.813-0.826-0.813-0.811-0.388.pth\n",
            "2025-07-28 09:20:52,863 - training - INFO - Removed old file: signature_detection_baseline_v1-weights-21-0.769-0.769-0.769-0.769-0.469-0.813-0.826-0.813-0.811-0.388.pth\n",
            "2025-07-28 09:20:52,863 - training - INFO - Removed old file: signature_detection_baseline_v1-weights-21-0.769-0.769-0.769-0.769-0.469-0.813-0.826-0.813-0.811-0.388.pth\n",
            "INFO:training:Removed old file: signature_detection_baseline_v1-weights-21-0.769-0.769-0.769-0.769-0.469-0.813-0.826-0.813-0.811-0.388.pth\n",
            "2025-07-28 09:20:52,870 - training - INFO - Removed old file: signature_detection_baseline_v1-optim-21.pth\n",
            "2025-07-28 09:20:52,870 - training - INFO - Removed old file: signature_detection_baseline_v1-optim-21.pth\n",
            "2025-07-28 09:20:52,870 - training - INFO - Removed old file: signature_detection_baseline_v1-optim-21.pth\n",
            "2025-07-28 09:20:52,870 - training - INFO - Removed old file: signature_detection_baseline_v1-optim-21.pth\n",
            "2025-07-28 09:20:52,870 - training - INFO - Removed old file: signature_detection_baseline_v1-optim-21.pth\n",
            "INFO:training:Removed old file: signature_detection_baseline_v1-optim-21.pth\n",
            "2025-07-28 09:20:52,876 - training - INFO - ModelCheckpoint: Saved model at epoch 22\n",
            "2025-07-28 09:20:52,876 - training - INFO - ModelCheckpoint: Saved model at epoch 22\n",
            "2025-07-28 09:20:52,876 - training - INFO - ModelCheckpoint: Saved model at epoch 22\n",
            "2025-07-28 09:20:52,876 - training - INFO - ModelCheckpoint: Saved model at epoch 22\n",
            "2025-07-28 09:20:52,876 - training - INFO - ModelCheckpoint: Saved model at epoch 22\n",
            "INFO:training:ModelCheckpoint: Saved model at epoch 22\n",
            "2025-07-28 09:20:52,882 - training - INFO - Epoch 23/50\n",
            "2025-07-28 09:20:52,882 - training - INFO - Epoch 23/50\n",
            "2025-07-28 09:20:52,882 - training - INFO - Epoch 23/50\n",
            "2025-07-28 09:20:52,882 - training - INFO - Epoch 23/50\n",
            "2025-07-28 09:20:52,882 - training - INFO - Epoch 23/50\n",
            "INFO:training:Epoch 23/50\n"
          ]
        },
        {
          "name": "stdout",
          "output_type": "stream",
          "text": [
            "\n",
            "Epoch 00022: val_loss improved from 0.38841 to 0.38552, saving model to best_baseline_model.pth\n"
          ]
        },
        {
          "name": "stderr",
          "output_type": "stream",
          "text": [
            "/usr/local/lib/python3.11/dist-packages/torch/utils/data/dataloader.py:624: UserWarning: This DataLoader will create 4 worker processes in total. Our suggested max number of worker in current system is 2, which is smaller than what this DataLoader is going to create. Please be aware that excessive worker creation might get DataLoader running slow or even freeze, lower the worker number to avoid potential slowness/freeze if necessary.\n",
            "  warnings.warn(\n",
            "/usr/local/lib/python3.11/dist-packages/torch/utils/data/dataloader.py:624: UserWarning: This DataLoader will create 4 worker processes in total. Our suggested max number of worker in current system is 2, which is smaller than what this DataLoader is going to create. Please be aware that excessive worker creation might get DataLoader running slow or even freeze, lower the worker number to avoid potential slowness/freeze if necessary.\n",
            "  warnings.warn(\n",
            "2025-07-28 09:21:07,503 - training - INFO - Epoca 23 - accuracy: 0.7834 | precision: 0.7838 | recall: 0.7834 | f1: 0.7834 | loss: 0.4425 | val_accuracy: 0.8561 | val_precision: 0.8563 | val_recall: 0.8561 | val_f1: 0.8560 | val_loss: 0.3349\n",
            "2025-07-28 09:21:07,503 - training - INFO - Epoca 23 - accuracy: 0.7834 | precision: 0.7838 | recall: 0.7834 | f1: 0.7834 | loss: 0.4425 | val_accuracy: 0.8561 | val_precision: 0.8563 | val_recall: 0.8561 | val_f1: 0.8560 | val_loss: 0.3349\n",
            "2025-07-28 09:21:07,503 - training - INFO - Epoca 23 - accuracy: 0.7834 | precision: 0.7838 | recall: 0.7834 | f1: 0.7834 | loss: 0.4425 | val_accuracy: 0.8561 | val_precision: 0.8563 | val_recall: 0.8561 | val_f1: 0.8560 | val_loss: 0.3349\n",
            "2025-07-28 09:21:07,503 - training - INFO - Epoca 23 - accuracy: 0.7834 | precision: 0.7838 | recall: 0.7834 | f1: 0.7834 | loss: 0.4425 | val_accuracy: 0.8561 | val_precision: 0.8563 | val_recall: 0.8561 | val_f1: 0.8560 | val_loss: 0.3349\n",
            "2025-07-28 09:21:07,503 - training - INFO - Epoca 23 - accuracy: 0.7834 | precision: 0.7838 | recall: 0.7834 | f1: 0.7834 | loss: 0.4425 | val_accuracy: 0.8561 | val_precision: 0.8563 | val_recall: 0.8561 | val_f1: 0.8560 | val_loss: 0.3349\n",
            "INFO:training:Epoca 23 - accuracy: 0.7834 | precision: 0.7838 | recall: 0.7834 | f1: 0.7834 | loss: 0.4425 | val_accuracy: 0.8561 | val_precision: 0.8563 | val_recall: 0.8561 | val_f1: 0.8560 | val_loss: 0.3349\n",
            "2025-07-28 09:21:10,661 - training - INFO - Successfully saved weights to /content/drive/MyDrive/XAI_ProfAI/experiments/signature_detection_baseline_v1/weights/signature_detection_baseline_v1-weights-23-0.783-0.784-0.783-0.783-0.442-0.856-0.856-0.856-0.856-0.335.pth\n",
            "2025-07-28 09:21:10,661 - training - INFO - Successfully saved weights to /content/drive/MyDrive/XAI_ProfAI/experiments/signature_detection_baseline_v1/weights/signature_detection_baseline_v1-weights-23-0.783-0.784-0.783-0.783-0.442-0.856-0.856-0.856-0.856-0.335.pth\n",
            "2025-07-28 09:21:10,661 - training - INFO - Successfully saved weights to /content/drive/MyDrive/XAI_ProfAI/experiments/signature_detection_baseline_v1/weights/signature_detection_baseline_v1-weights-23-0.783-0.784-0.783-0.783-0.442-0.856-0.856-0.856-0.856-0.335.pth\n",
            "2025-07-28 09:21:10,661 - training - INFO - Successfully saved weights to /content/drive/MyDrive/XAI_ProfAI/experiments/signature_detection_baseline_v1/weights/signature_detection_baseline_v1-weights-23-0.783-0.784-0.783-0.783-0.442-0.856-0.856-0.856-0.856-0.335.pth\n",
            "2025-07-28 09:21:10,661 - training - INFO - Successfully saved weights to /content/drive/MyDrive/XAI_ProfAI/experiments/signature_detection_baseline_v1/weights/signature_detection_baseline_v1-weights-23-0.783-0.784-0.783-0.783-0.442-0.856-0.856-0.856-0.856-0.335.pth\n",
            "INFO:training:Successfully saved weights to /content/drive/MyDrive/XAI_ProfAI/experiments/signature_detection_baseline_v1/weights/signature_detection_baseline_v1-weights-23-0.783-0.784-0.783-0.783-0.442-0.856-0.856-0.856-0.856-0.335.pth\n",
            "2025-07-28 09:21:10,698 - training - INFO - Successfully saved optimizer to /content/drive/MyDrive/XAI_ProfAI/experiments/signature_detection_baseline_v1/weights/signature_detection_baseline_v1-optim-23.pth\n",
            "2025-07-28 09:21:10,698 - training - INFO - Successfully saved optimizer to /content/drive/MyDrive/XAI_ProfAI/experiments/signature_detection_baseline_v1/weights/signature_detection_baseline_v1-optim-23.pth\n",
            "2025-07-28 09:21:10,698 - training - INFO - Successfully saved optimizer to /content/drive/MyDrive/XAI_ProfAI/experiments/signature_detection_baseline_v1/weights/signature_detection_baseline_v1-optim-23.pth\n",
            "2025-07-28 09:21:10,698 - training - INFO - Successfully saved optimizer to /content/drive/MyDrive/XAI_ProfAI/experiments/signature_detection_baseline_v1/weights/signature_detection_baseline_v1-optim-23.pth\n",
            "2025-07-28 09:21:10,698 - training - INFO - Successfully saved optimizer to /content/drive/MyDrive/XAI_ProfAI/experiments/signature_detection_baseline_v1/weights/signature_detection_baseline_v1-optim-23.pth\n",
            "INFO:training:Successfully saved optimizer to /content/drive/MyDrive/XAI_ProfAI/experiments/signature_detection_baseline_v1/weights/signature_detection_baseline_v1-optim-23.pth\n",
            "2025-07-28 09:21:10,721 - training - INFO - Removed old file: signature_detection_baseline_v1-weights-22-0.794-0.795-0.794-0.794-0.441-0.813-0.831-0.813-0.811-0.386.pth\n",
            "2025-07-28 09:21:10,721 - training - INFO - Removed old file: signature_detection_baseline_v1-weights-22-0.794-0.795-0.794-0.794-0.441-0.813-0.831-0.813-0.811-0.386.pth\n",
            "2025-07-28 09:21:10,721 - training - INFO - Removed old file: signature_detection_baseline_v1-weights-22-0.794-0.795-0.794-0.794-0.441-0.813-0.831-0.813-0.811-0.386.pth\n",
            "2025-07-28 09:21:10,721 - training - INFO - Removed old file: signature_detection_baseline_v1-weights-22-0.794-0.795-0.794-0.794-0.441-0.813-0.831-0.813-0.811-0.386.pth\n",
            "2025-07-28 09:21:10,721 - training - INFO - Removed old file: signature_detection_baseline_v1-weights-22-0.794-0.795-0.794-0.794-0.441-0.813-0.831-0.813-0.811-0.386.pth\n",
            "INFO:training:Removed old file: signature_detection_baseline_v1-weights-22-0.794-0.795-0.794-0.794-0.441-0.813-0.831-0.813-0.811-0.386.pth\n",
            "2025-07-28 09:21:10,727 - training - INFO - Removed old file: signature_detection_baseline_v1-optim-22.pth\n",
            "2025-07-28 09:21:10,727 - training - INFO - Removed old file: signature_detection_baseline_v1-optim-22.pth\n",
            "2025-07-28 09:21:10,727 - training - INFO - Removed old file: signature_detection_baseline_v1-optim-22.pth\n",
            "2025-07-28 09:21:10,727 - training - INFO - Removed old file: signature_detection_baseline_v1-optim-22.pth\n",
            "2025-07-28 09:21:10,727 - training - INFO - Removed old file: signature_detection_baseline_v1-optim-22.pth\n",
            "INFO:training:Removed old file: signature_detection_baseline_v1-optim-22.pth\n",
            "2025-07-28 09:21:10,732 - training - INFO - ModelCheckpoint: Saved model at epoch 23\n",
            "2025-07-28 09:21:10,732 - training - INFO - ModelCheckpoint: Saved model at epoch 23\n",
            "2025-07-28 09:21:10,732 - training - INFO - ModelCheckpoint: Saved model at epoch 23\n",
            "2025-07-28 09:21:10,732 - training - INFO - ModelCheckpoint: Saved model at epoch 23\n",
            "2025-07-28 09:21:10,732 - training - INFO - ModelCheckpoint: Saved model at epoch 23\n",
            "INFO:training:ModelCheckpoint: Saved model at epoch 23\n",
            "2025-07-28 09:21:10,736 - training - INFO - Epoch 24/50\n",
            "2025-07-28 09:21:10,736 - training - INFO - Epoch 24/50\n",
            "2025-07-28 09:21:10,736 - training - INFO - Epoch 24/50\n",
            "2025-07-28 09:21:10,736 - training - INFO - Epoch 24/50\n",
            "2025-07-28 09:21:10,736 - training - INFO - Epoch 24/50\n",
            "INFO:training:Epoch 24/50\n"
          ]
        },
        {
          "name": "stdout",
          "output_type": "stream",
          "text": [
            "\n",
            "Epoch 00023: val_loss improved from 0.38552 to 0.33491, saving model to best_baseline_model.pth\n"
          ]
        },
        {
          "name": "stderr",
          "output_type": "stream",
          "text": [
            "/usr/local/lib/python3.11/dist-packages/torch/utils/data/dataloader.py:624: UserWarning: This DataLoader will create 4 worker processes in total. Our suggested max number of worker in current system is 2, which is smaller than what this DataLoader is going to create. Please be aware that excessive worker creation might get DataLoader running slow or even freeze, lower the worker number to avoid potential slowness/freeze if necessary.\n",
            "  warnings.warn(\n",
            "/usr/local/lib/python3.11/dist-packages/torch/utils/data/dataloader.py:624: UserWarning: This DataLoader will create 4 worker processes in total. Our suggested max number of worker in current system is 2, which is smaller than what this DataLoader is going to create. Please be aware that excessive worker creation might get DataLoader running slow or even freeze, lower the worker number to avoid potential slowness/freeze if necessary.\n",
            "  warnings.warn(\n",
            "2025-07-28 09:21:24,869 - training - INFO - Epoca 24 - accuracy: 0.8054 | precision: 0.8061 | recall: 0.8054 | f1: 0.8052 | loss: 0.4073 | val_accuracy: 0.8384 | val_precision: 0.8543 | val_recall: 0.8384 | val_f1: 0.8365 | val_loss: 0.3427\n",
            "2025-07-28 09:21:24,869 - training - INFO - Epoca 24 - accuracy: 0.8054 | precision: 0.8061 | recall: 0.8054 | f1: 0.8052 | loss: 0.4073 | val_accuracy: 0.8384 | val_precision: 0.8543 | val_recall: 0.8384 | val_f1: 0.8365 | val_loss: 0.3427\n",
            "2025-07-28 09:21:24,869 - training - INFO - Epoca 24 - accuracy: 0.8054 | precision: 0.8061 | recall: 0.8054 | f1: 0.8052 | loss: 0.4073 | val_accuracy: 0.8384 | val_precision: 0.8543 | val_recall: 0.8384 | val_f1: 0.8365 | val_loss: 0.3427\n",
            "2025-07-28 09:21:24,869 - training - INFO - Epoca 24 - accuracy: 0.8054 | precision: 0.8061 | recall: 0.8054 | f1: 0.8052 | loss: 0.4073 | val_accuracy: 0.8384 | val_precision: 0.8543 | val_recall: 0.8384 | val_f1: 0.8365 | val_loss: 0.3427\n",
            "2025-07-28 09:21:24,869 - training - INFO - Epoca 24 - accuracy: 0.8054 | precision: 0.8061 | recall: 0.8054 | f1: 0.8052 | loss: 0.4073 | val_accuracy: 0.8384 | val_precision: 0.8543 | val_recall: 0.8384 | val_f1: 0.8365 | val_loss: 0.3427\n",
            "INFO:training:Epoca 24 - accuracy: 0.8054 | precision: 0.8061 | recall: 0.8054 | f1: 0.8052 | loss: 0.4073 | val_accuracy: 0.8384 | val_precision: 0.8543 | val_recall: 0.8384 | val_f1: 0.8365 | val_loss: 0.3427\n",
            "2025-07-28 09:21:26,527 - training - INFO - ModelCheckpoint: Saved model at epoch 24\n",
            "2025-07-28 09:21:26,527 - training - INFO - ModelCheckpoint: Saved model at epoch 24\n",
            "2025-07-28 09:21:26,527 - training - INFO - ModelCheckpoint: Saved model at epoch 24\n",
            "2025-07-28 09:21:26,527 - training - INFO - ModelCheckpoint: Saved model at epoch 24\n",
            "2025-07-28 09:21:26,527 - training - INFO - ModelCheckpoint: Saved model at epoch 24\n",
            "INFO:training:ModelCheckpoint: Saved model at epoch 24\n",
            "2025-07-28 09:21:26,533 - training - INFO - Epoch 25/50\n",
            "2025-07-28 09:21:26,533 - training - INFO - Epoch 25/50\n",
            "2025-07-28 09:21:26,533 - training - INFO - Epoch 25/50\n",
            "2025-07-28 09:21:26,533 - training - INFO - Epoch 25/50\n",
            "2025-07-28 09:21:26,533 - training - INFO - Epoch 25/50\n",
            "INFO:training:Epoch 25/50\n",
            "/usr/local/lib/python3.11/dist-packages/torch/utils/data/dataloader.py:624: UserWarning: This DataLoader will create 4 worker processes in total. Our suggested max number of worker in current system is 2, which is smaller than what this DataLoader is going to create. Please be aware that excessive worker creation might get DataLoader running slow or even freeze, lower the worker number to avoid potential slowness/freeze if necessary.\n",
            "  warnings.warn(\n",
            "/usr/local/lib/python3.11/dist-packages/torch/utils/data/dataloader.py:624: UserWarning: This DataLoader will create 4 worker processes in total. Our suggested max number of worker in current system is 2, which is smaller than what this DataLoader is going to create. Please be aware that excessive worker creation might get DataLoader running slow or even freeze, lower the worker number to avoid potential slowness/freeze if necessary.\n",
            "  warnings.warn(\n",
            "2025-07-28 09:21:40,972 - training - INFO - Epoca 25 - accuracy: 0.8010 | precision: 0.8017 | recall: 0.8010 | f1: 0.8009 | loss: 0.4176 | val_accuracy: 0.8788 | val_precision: 0.8865 | val_recall: 0.8788 | val_f1: 0.8782 | val_loss: 0.3155\n",
            "2025-07-28 09:21:40,972 - training - INFO - Epoca 25 - accuracy: 0.8010 | precision: 0.8017 | recall: 0.8010 | f1: 0.8009 | loss: 0.4176 | val_accuracy: 0.8788 | val_precision: 0.8865 | val_recall: 0.8788 | val_f1: 0.8782 | val_loss: 0.3155\n",
            "2025-07-28 09:21:40,972 - training - INFO - Epoca 25 - accuracy: 0.8010 | precision: 0.8017 | recall: 0.8010 | f1: 0.8009 | loss: 0.4176 | val_accuracy: 0.8788 | val_precision: 0.8865 | val_recall: 0.8788 | val_f1: 0.8782 | val_loss: 0.3155\n",
            "2025-07-28 09:21:40,972 - training - INFO - Epoca 25 - accuracy: 0.8010 | precision: 0.8017 | recall: 0.8010 | f1: 0.8009 | loss: 0.4176 | val_accuracy: 0.8788 | val_precision: 0.8865 | val_recall: 0.8788 | val_f1: 0.8782 | val_loss: 0.3155\n",
            "2025-07-28 09:21:40,972 - training - INFO - Epoca 25 - accuracy: 0.8010 | precision: 0.8017 | recall: 0.8010 | f1: 0.8009 | loss: 0.4176 | val_accuracy: 0.8788 | val_precision: 0.8865 | val_recall: 0.8788 | val_f1: 0.8782 | val_loss: 0.3155\n",
            "INFO:training:Epoca 25 - accuracy: 0.8010 | precision: 0.8017 | recall: 0.8010 | f1: 0.8009 | loss: 0.4176 | val_accuracy: 0.8788 | val_precision: 0.8865 | val_recall: 0.8788 | val_f1: 0.8782 | val_loss: 0.3155\n",
            "2025-07-28 09:21:42,721 - training - INFO - Successfully saved weights to /content/drive/MyDrive/XAI_ProfAI/experiments/signature_detection_baseline_v1/weights/signature_detection_baseline_v1-weights-25-0.801-0.802-0.801-0.801-0.418-0.879-0.887-0.879-0.878-0.316.pth\n",
            "2025-07-28 09:21:42,721 - training - INFO - Successfully saved weights to /content/drive/MyDrive/XAI_ProfAI/experiments/signature_detection_baseline_v1/weights/signature_detection_baseline_v1-weights-25-0.801-0.802-0.801-0.801-0.418-0.879-0.887-0.879-0.878-0.316.pth\n",
            "2025-07-28 09:21:42,721 - training - INFO - Successfully saved weights to /content/drive/MyDrive/XAI_ProfAI/experiments/signature_detection_baseline_v1/weights/signature_detection_baseline_v1-weights-25-0.801-0.802-0.801-0.801-0.418-0.879-0.887-0.879-0.878-0.316.pth\n",
            "2025-07-28 09:21:42,721 - training - INFO - Successfully saved weights to /content/drive/MyDrive/XAI_ProfAI/experiments/signature_detection_baseline_v1/weights/signature_detection_baseline_v1-weights-25-0.801-0.802-0.801-0.801-0.418-0.879-0.887-0.879-0.878-0.316.pth\n",
            "2025-07-28 09:21:42,721 - training - INFO - Successfully saved weights to /content/drive/MyDrive/XAI_ProfAI/experiments/signature_detection_baseline_v1/weights/signature_detection_baseline_v1-weights-25-0.801-0.802-0.801-0.801-0.418-0.879-0.887-0.879-0.878-0.316.pth\n",
            "INFO:training:Successfully saved weights to /content/drive/MyDrive/XAI_ProfAI/experiments/signature_detection_baseline_v1/weights/signature_detection_baseline_v1-weights-25-0.801-0.802-0.801-0.801-0.418-0.879-0.887-0.879-0.878-0.316.pth\n",
            "2025-07-28 09:21:42,775 - training - INFO - Successfully saved optimizer to /content/drive/MyDrive/XAI_ProfAI/experiments/signature_detection_baseline_v1/weights/signature_detection_baseline_v1-optim-25.pth\n",
            "2025-07-28 09:21:42,775 - training - INFO - Successfully saved optimizer to /content/drive/MyDrive/XAI_ProfAI/experiments/signature_detection_baseline_v1/weights/signature_detection_baseline_v1-optim-25.pth\n",
            "2025-07-28 09:21:42,775 - training - INFO - Successfully saved optimizer to /content/drive/MyDrive/XAI_ProfAI/experiments/signature_detection_baseline_v1/weights/signature_detection_baseline_v1-optim-25.pth\n",
            "2025-07-28 09:21:42,775 - training - INFO - Successfully saved optimizer to /content/drive/MyDrive/XAI_ProfAI/experiments/signature_detection_baseline_v1/weights/signature_detection_baseline_v1-optim-25.pth\n",
            "2025-07-28 09:21:42,775 - training - INFO - Successfully saved optimizer to /content/drive/MyDrive/XAI_ProfAI/experiments/signature_detection_baseline_v1/weights/signature_detection_baseline_v1-optim-25.pth\n",
            "INFO:training:Successfully saved optimizer to /content/drive/MyDrive/XAI_ProfAI/experiments/signature_detection_baseline_v1/weights/signature_detection_baseline_v1-optim-25.pth\n",
            "2025-07-28 09:21:42,799 - training - INFO - Removed old file: signature_detection_baseline_v1-weights-23-0.783-0.784-0.783-0.783-0.442-0.856-0.856-0.856-0.856-0.335.pth\n",
            "2025-07-28 09:21:42,799 - training - INFO - Removed old file: signature_detection_baseline_v1-weights-23-0.783-0.784-0.783-0.783-0.442-0.856-0.856-0.856-0.856-0.335.pth\n",
            "2025-07-28 09:21:42,799 - training - INFO - Removed old file: signature_detection_baseline_v1-weights-23-0.783-0.784-0.783-0.783-0.442-0.856-0.856-0.856-0.856-0.335.pth\n",
            "2025-07-28 09:21:42,799 - training - INFO - Removed old file: signature_detection_baseline_v1-weights-23-0.783-0.784-0.783-0.783-0.442-0.856-0.856-0.856-0.856-0.335.pth\n",
            "2025-07-28 09:21:42,799 - training - INFO - Removed old file: signature_detection_baseline_v1-weights-23-0.783-0.784-0.783-0.783-0.442-0.856-0.856-0.856-0.856-0.335.pth\n",
            "INFO:training:Removed old file: signature_detection_baseline_v1-weights-23-0.783-0.784-0.783-0.783-0.442-0.856-0.856-0.856-0.856-0.335.pth\n",
            "2025-07-28 09:21:42,807 - training - INFO - Removed old file: signature_detection_baseline_v1-optim-23.pth\n",
            "2025-07-28 09:21:42,807 - training - INFO - Removed old file: signature_detection_baseline_v1-optim-23.pth\n",
            "2025-07-28 09:21:42,807 - training - INFO - Removed old file: signature_detection_baseline_v1-optim-23.pth\n",
            "2025-07-28 09:21:42,807 - training - INFO - Removed old file: signature_detection_baseline_v1-optim-23.pth\n",
            "2025-07-28 09:21:42,807 - training - INFO - Removed old file: signature_detection_baseline_v1-optim-23.pth\n",
            "INFO:training:Removed old file: signature_detection_baseline_v1-optim-23.pth\n",
            "2025-07-28 09:21:42,811 - training - INFO - ModelCheckpoint: Saved model at epoch 25\n",
            "2025-07-28 09:21:42,811 - training - INFO - ModelCheckpoint: Saved model at epoch 25\n",
            "2025-07-28 09:21:42,811 - training - INFO - ModelCheckpoint: Saved model at epoch 25\n",
            "2025-07-28 09:21:42,811 - training - INFO - ModelCheckpoint: Saved model at epoch 25\n",
            "2025-07-28 09:21:42,811 - training - INFO - ModelCheckpoint: Saved model at epoch 25\n",
            "INFO:training:ModelCheckpoint: Saved model at epoch 25\n",
            "2025-07-28 09:21:42,816 - training - INFO - Epoch 26/50\n",
            "2025-07-28 09:21:42,816 - training - INFO - Epoch 26/50\n",
            "2025-07-28 09:21:42,816 - training - INFO - Epoch 26/50\n",
            "2025-07-28 09:21:42,816 - training - INFO - Epoch 26/50\n",
            "2025-07-28 09:21:42,816 - training - INFO - Epoch 26/50\n",
            "INFO:training:Epoch 26/50\n"
          ]
        },
        {
          "name": "stdout",
          "output_type": "stream",
          "text": [
            "\n",
            "Epoch 00025: val_loss improved from 0.33491 to 0.31551, saving model to best_baseline_model.pth\n"
          ]
        },
        {
          "name": "stderr",
          "output_type": "stream",
          "text": [
            "/usr/local/lib/python3.11/dist-packages/torch/utils/data/dataloader.py:624: UserWarning: This DataLoader will create 4 worker processes in total. Our suggested max number of worker in current system is 2, which is smaller than what this DataLoader is going to create. Please be aware that excessive worker creation might get DataLoader running slow or even freeze, lower the worker number to avoid potential slowness/freeze if necessary.\n",
            "  warnings.warn(\n",
            "/usr/local/lib/python3.11/dist-packages/torch/utils/data/dataloader.py:624: UserWarning: This DataLoader will create 4 worker processes in total. Our suggested max number of worker in current system is 2, which is smaller than what this DataLoader is going to create. Please be aware that excessive worker creation might get DataLoader running slow or even freeze, lower the worker number to avoid potential slowness/freeze if necessary.\n",
            "  warnings.warn(\n",
            "2025-07-28 09:21:57,051 - training - INFO - Epoca 26 - accuracy: 0.8246 | precision: 0.8251 | recall: 0.8246 | f1: 0.8245 | loss: 0.3846 | val_accuracy: 0.9015 | val_precision: 0.9020 | val_recall: 0.9015 | val_f1: 0.9015 | val_loss: 0.2501\n",
            "2025-07-28 09:21:57,051 - training - INFO - Epoca 26 - accuracy: 0.8246 | precision: 0.8251 | recall: 0.8246 | f1: 0.8245 | loss: 0.3846 | val_accuracy: 0.9015 | val_precision: 0.9020 | val_recall: 0.9015 | val_f1: 0.9015 | val_loss: 0.2501\n",
            "2025-07-28 09:21:57,051 - training - INFO - Epoca 26 - accuracy: 0.8246 | precision: 0.8251 | recall: 0.8246 | f1: 0.8245 | loss: 0.3846 | val_accuracy: 0.9015 | val_precision: 0.9020 | val_recall: 0.9015 | val_f1: 0.9015 | val_loss: 0.2501\n",
            "2025-07-28 09:21:57,051 - training - INFO - Epoca 26 - accuracy: 0.8246 | precision: 0.8251 | recall: 0.8246 | f1: 0.8245 | loss: 0.3846 | val_accuracy: 0.9015 | val_precision: 0.9020 | val_recall: 0.9015 | val_f1: 0.9015 | val_loss: 0.2501\n",
            "2025-07-28 09:21:57,051 - training - INFO - Epoca 26 - accuracy: 0.8246 | precision: 0.8251 | recall: 0.8246 | f1: 0.8245 | loss: 0.3846 | val_accuracy: 0.9015 | val_precision: 0.9020 | val_recall: 0.9015 | val_f1: 0.9015 | val_loss: 0.2501\n",
            "INFO:training:Epoca 26 - accuracy: 0.8246 | precision: 0.8251 | recall: 0.8246 | f1: 0.8245 | loss: 0.3846 | val_accuracy: 0.9015 | val_precision: 0.9020 | val_recall: 0.9015 | val_f1: 0.9015 | val_loss: 0.2501\n",
            "2025-07-28 09:21:58,809 - training - INFO - Successfully saved weights to /content/drive/MyDrive/XAI_ProfAI/experiments/signature_detection_baseline_v1/weights/signature_detection_baseline_v1-weights-26-0.825-0.825-0.825-0.824-0.385-0.902-0.902-0.902-0.901-0.250.pth\n",
            "2025-07-28 09:21:58,809 - training - INFO - Successfully saved weights to /content/drive/MyDrive/XAI_ProfAI/experiments/signature_detection_baseline_v1/weights/signature_detection_baseline_v1-weights-26-0.825-0.825-0.825-0.824-0.385-0.902-0.902-0.902-0.901-0.250.pth\n",
            "2025-07-28 09:21:58,809 - training - INFO - Successfully saved weights to /content/drive/MyDrive/XAI_ProfAI/experiments/signature_detection_baseline_v1/weights/signature_detection_baseline_v1-weights-26-0.825-0.825-0.825-0.824-0.385-0.902-0.902-0.902-0.901-0.250.pth\n",
            "2025-07-28 09:21:58,809 - training - INFO - Successfully saved weights to /content/drive/MyDrive/XAI_ProfAI/experiments/signature_detection_baseline_v1/weights/signature_detection_baseline_v1-weights-26-0.825-0.825-0.825-0.824-0.385-0.902-0.902-0.902-0.901-0.250.pth\n",
            "2025-07-28 09:21:58,809 - training - INFO - Successfully saved weights to /content/drive/MyDrive/XAI_ProfAI/experiments/signature_detection_baseline_v1/weights/signature_detection_baseline_v1-weights-26-0.825-0.825-0.825-0.824-0.385-0.902-0.902-0.902-0.901-0.250.pth\n",
            "INFO:training:Successfully saved weights to /content/drive/MyDrive/XAI_ProfAI/experiments/signature_detection_baseline_v1/weights/signature_detection_baseline_v1-weights-26-0.825-0.825-0.825-0.824-0.385-0.902-0.902-0.902-0.901-0.250.pth\n",
            "2025-07-28 09:21:58,858 - training - INFO - Successfully saved optimizer to /content/drive/MyDrive/XAI_ProfAI/experiments/signature_detection_baseline_v1/weights/signature_detection_baseline_v1-optim-26.pth\n",
            "2025-07-28 09:21:58,858 - training - INFO - Successfully saved optimizer to /content/drive/MyDrive/XAI_ProfAI/experiments/signature_detection_baseline_v1/weights/signature_detection_baseline_v1-optim-26.pth\n",
            "2025-07-28 09:21:58,858 - training - INFO - Successfully saved optimizer to /content/drive/MyDrive/XAI_ProfAI/experiments/signature_detection_baseline_v1/weights/signature_detection_baseline_v1-optim-26.pth\n",
            "2025-07-28 09:21:58,858 - training - INFO - Successfully saved optimizer to /content/drive/MyDrive/XAI_ProfAI/experiments/signature_detection_baseline_v1/weights/signature_detection_baseline_v1-optim-26.pth\n",
            "2025-07-28 09:21:58,858 - training - INFO - Successfully saved optimizer to /content/drive/MyDrive/XAI_ProfAI/experiments/signature_detection_baseline_v1/weights/signature_detection_baseline_v1-optim-26.pth\n",
            "INFO:training:Successfully saved optimizer to /content/drive/MyDrive/XAI_ProfAI/experiments/signature_detection_baseline_v1/weights/signature_detection_baseline_v1-optim-26.pth\n",
            "2025-07-28 09:21:58,886 - training - INFO - Removed old file: signature_detection_baseline_v1-weights-25-0.801-0.802-0.801-0.801-0.418-0.879-0.887-0.879-0.878-0.316.pth\n",
            "2025-07-28 09:21:58,886 - training - INFO - Removed old file: signature_detection_baseline_v1-weights-25-0.801-0.802-0.801-0.801-0.418-0.879-0.887-0.879-0.878-0.316.pth\n",
            "2025-07-28 09:21:58,886 - training - INFO - Removed old file: signature_detection_baseline_v1-weights-25-0.801-0.802-0.801-0.801-0.418-0.879-0.887-0.879-0.878-0.316.pth\n",
            "2025-07-28 09:21:58,886 - training - INFO - Removed old file: signature_detection_baseline_v1-weights-25-0.801-0.802-0.801-0.801-0.418-0.879-0.887-0.879-0.878-0.316.pth\n",
            "2025-07-28 09:21:58,886 - training - INFO - Removed old file: signature_detection_baseline_v1-weights-25-0.801-0.802-0.801-0.801-0.418-0.879-0.887-0.879-0.878-0.316.pth\n",
            "INFO:training:Removed old file: signature_detection_baseline_v1-weights-25-0.801-0.802-0.801-0.801-0.418-0.879-0.887-0.879-0.878-0.316.pth\n",
            "2025-07-28 09:21:58,895 - training - INFO - Removed old file: signature_detection_baseline_v1-optim-25.pth\n",
            "2025-07-28 09:21:58,895 - training - INFO - Removed old file: signature_detection_baseline_v1-optim-25.pth\n",
            "2025-07-28 09:21:58,895 - training - INFO - Removed old file: signature_detection_baseline_v1-optim-25.pth\n",
            "2025-07-28 09:21:58,895 - training - INFO - Removed old file: signature_detection_baseline_v1-optim-25.pth\n",
            "2025-07-28 09:21:58,895 - training - INFO - Removed old file: signature_detection_baseline_v1-optim-25.pth\n",
            "INFO:training:Removed old file: signature_detection_baseline_v1-optim-25.pth\n",
            "2025-07-28 09:21:58,902 - training - INFO - ModelCheckpoint: Saved model at epoch 26\n",
            "2025-07-28 09:21:58,902 - training - INFO - ModelCheckpoint: Saved model at epoch 26\n",
            "2025-07-28 09:21:58,902 - training - INFO - ModelCheckpoint: Saved model at epoch 26\n",
            "2025-07-28 09:21:58,902 - training - INFO - ModelCheckpoint: Saved model at epoch 26\n",
            "2025-07-28 09:21:58,902 - training - INFO - ModelCheckpoint: Saved model at epoch 26\n",
            "INFO:training:ModelCheckpoint: Saved model at epoch 26\n",
            "2025-07-28 09:21:58,905 - training - INFO - Epoch 27/50\n",
            "2025-07-28 09:21:58,905 - training - INFO - Epoch 27/50\n",
            "2025-07-28 09:21:58,905 - training - INFO - Epoch 27/50\n",
            "2025-07-28 09:21:58,905 - training - INFO - Epoch 27/50\n",
            "2025-07-28 09:21:58,905 - training - INFO - Epoch 27/50\n",
            "INFO:training:Epoch 27/50\n"
          ]
        },
        {
          "name": "stdout",
          "output_type": "stream",
          "text": [
            "\n",
            "Epoch 00026: val_loss improved from 0.31551 to 0.25006, saving model to best_baseline_model.pth\n"
          ]
        },
        {
          "name": "stderr",
          "output_type": "stream",
          "text": [
            "/usr/local/lib/python3.11/dist-packages/torch/utils/data/dataloader.py:624: UserWarning: This DataLoader will create 4 worker processes in total. Our suggested max number of worker in current system is 2, which is smaller than what this DataLoader is going to create. Please be aware that excessive worker creation might get DataLoader running slow or even freeze, lower the worker number to avoid potential slowness/freeze if necessary.\n",
            "  warnings.warn(\n",
            "/usr/local/lib/python3.11/dist-packages/torch/utils/data/dataloader.py:624: UserWarning: This DataLoader will create 4 worker processes in total. Our suggested max number of worker in current system is 2, which is smaller than what this DataLoader is going to create. Please be aware that excessive worker creation might get DataLoader running slow or even freeze, lower the worker number to avoid potential slowness/freeze if necessary.\n",
            "  warnings.warn(\n",
            "2025-07-28 09:22:13,314 - training - INFO - Epoca 27 - accuracy: 0.8443 | precision: 0.8450 | recall: 0.8443 | f1: 0.8442 | loss: 0.3617 | val_accuracy: 0.9394 | val_precision: 0.9396 | val_recall: 0.9394 | val_f1: 0.9394 | val_loss: 0.2263\n",
            "2025-07-28 09:22:13,314 - training - INFO - Epoca 27 - accuracy: 0.8443 | precision: 0.8450 | recall: 0.8443 | f1: 0.8442 | loss: 0.3617 | val_accuracy: 0.9394 | val_precision: 0.9396 | val_recall: 0.9394 | val_f1: 0.9394 | val_loss: 0.2263\n",
            "2025-07-28 09:22:13,314 - training - INFO - Epoca 27 - accuracy: 0.8443 | precision: 0.8450 | recall: 0.8443 | f1: 0.8442 | loss: 0.3617 | val_accuracy: 0.9394 | val_precision: 0.9396 | val_recall: 0.9394 | val_f1: 0.9394 | val_loss: 0.2263\n",
            "2025-07-28 09:22:13,314 - training - INFO - Epoca 27 - accuracy: 0.8443 | precision: 0.8450 | recall: 0.8443 | f1: 0.8442 | loss: 0.3617 | val_accuracy: 0.9394 | val_precision: 0.9396 | val_recall: 0.9394 | val_f1: 0.9394 | val_loss: 0.2263\n",
            "2025-07-28 09:22:13,314 - training - INFO - Epoca 27 - accuracy: 0.8443 | precision: 0.8450 | recall: 0.8443 | f1: 0.8442 | loss: 0.3617 | val_accuracy: 0.9394 | val_precision: 0.9396 | val_recall: 0.9394 | val_f1: 0.9394 | val_loss: 0.2263\n",
            "INFO:training:Epoca 27 - accuracy: 0.8443 | precision: 0.8450 | recall: 0.8443 | f1: 0.8442 | loss: 0.3617 | val_accuracy: 0.9394 | val_precision: 0.9396 | val_recall: 0.9394 | val_f1: 0.9394 | val_loss: 0.2263\n",
            "2025-07-28 09:22:14,948 - training - INFO - Successfully saved weights to /content/drive/MyDrive/XAI_ProfAI/experiments/signature_detection_baseline_v1/weights/signature_detection_baseline_v1-weights-27-0.844-0.845-0.844-0.844-0.362-0.939-0.940-0.939-0.939-0.226.pth\n",
            "2025-07-28 09:22:14,948 - training - INFO - Successfully saved weights to /content/drive/MyDrive/XAI_ProfAI/experiments/signature_detection_baseline_v1/weights/signature_detection_baseline_v1-weights-27-0.844-0.845-0.844-0.844-0.362-0.939-0.940-0.939-0.939-0.226.pth\n",
            "2025-07-28 09:22:14,948 - training - INFO - Successfully saved weights to /content/drive/MyDrive/XAI_ProfAI/experiments/signature_detection_baseline_v1/weights/signature_detection_baseline_v1-weights-27-0.844-0.845-0.844-0.844-0.362-0.939-0.940-0.939-0.939-0.226.pth\n",
            "2025-07-28 09:22:14,948 - training - INFO - Successfully saved weights to /content/drive/MyDrive/XAI_ProfAI/experiments/signature_detection_baseline_v1/weights/signature_detection_baseline_v1-weights-27-0.844-0.845-0.844-0.844-0.362-0.939-0.940-0.939-0.939-0.226.pth\n",
            "2025-07-28 09:22:14,948 - training - INFO - Successfully saved weights to /content/drive/MyDrive/XAI_ProfAI/experiments/signature_detection_baseline_v1/weights/signature_detection_baseline_v1-weights-27-0.844-0.845-0.844-0.844-0.362-0.939-0.940-0.939-0.939-0.226.pth\n",
            "INFO:training:Successfully saved weights to /content/drive/MyDrive/XAI_ProfAI/experiments/signature_detection_baseline_v1/weights/signature_detection_baseline_v1-weights-27-0.844-0.845-0.844-0.844-0.362-0.939-0.940-0.939-0.939-0.226.pth\n",
            "2025-07-28 09:22:14,985 - training - INFO - Successfully saved optimizer to /content/drive/MyDrive/XAI_ProfAI/experiments/signature_detection_baseline_v1/weights/signature_detection_baseline_v1-optim-27.pth\n",
            "2025-07-28 09:22:14,985 - training - INFO - Successfully saved optimizer to /content/drive/MyDrive/XAI_ProfAI/experiments/signature_detection_baseline_v1/weights/signature_detection_baseline_v1-optim-27.pth\n",
            "2025-07-28 09:22:14,985 - training - INFO - Successfully saved optimizer to /content/drive/MyDrive/XAI_ProfAI/experiments/signature_detection_baseline_v1/weights/signature_detection_baseline_v1-optim-27.pth\n",
            "2025-07-28 09:22:14,985 - training - INFO - Successfully saved optimizer to /content/drive/MyDrive/XAI_ProfAI/experiments/signature_detection_baseline_v1/weights/signature_detection_baseline_v1-optim-27.pth\n",
            "2025-07-28 09:22:14,985 - training - INFO - Successfully saved optimizer to /content/drive/MyDrive/XAI_ProfAI/experiments/signature_detection_baseline_v1/weights/signature_detection_baseline_v1-optim-27.pth\n",
            "INFO:training:Successfully saved optimizer to /content/drive/MyDrive/XAI_ProfAI/experiments/signature_detection_baseline_v1/weights/signature_detection_baseline_v1-optim-27.pth\n",
            "2025-07-28 09:22:15,007 - training - INFO - Removed old file: signature_detection_baseline_v1-weights-26-0.825-0.825-0.825-0.824-0.385-0.902-0.902-0.902-0.901-0.250.pth\n",
            "2025-07-28 09:22:15,007 - training - INFO - Removed old file: signature_detection_baseline_v1-weights-26-0.825-0.825-0.825-0.824-0.385-0.902-0.902-0.902-0.901-0.250.pth\n",
            "2025-07-28 09:22:15,007 - training - INFO - Removed old file: signature_detection_baseline_v1-weights-26-0.825-0.825-0.825-0.824-0.385-0.902-0.902-0.902-0.901-0.250.pth\n",
            "2025-07-28 09:22:15,007 - training - INFO - Removed old file: signature_detection_baseline_v1-weights-26-0.825-0.825-0.825-0.824-0.385-0.902-0.902-0.902-0.901-0.250.pth\n",
            "2025-07-28 09:22:15,007 - training - INFO - Removed old file: signature_detection_baseline_v1-weights-26-0.825-0.825-0.825-0.824-0.385-0.902-0.902-0.902-0.901-0.250.pth\n",
            "INFO:training:Removed old file: signature_detection_baseline_v1-weights-26-0.825-0.825-0.825-0.824-0.385-0.902-0.902-0.902-0.901-0.250.pth\n",
            "2025-07-28 09:22:15,015 - training - INFO - Removed old file: signature_detection_baseline_v1-optim-26.pth\n",
            "2025-07-28 09:22:15,015 - training - INFO - Removed old file: signature_detection_baseline_v1-optim-26.pth\n",
            "2025-07-28 09:22:15,015 - training - INFO - Removed old file: signature_detection_baseline_v1-optim-26.pth\n",
            "2025-07-28 09:22:15,015 - training - INFO - Removed old file: signature_detection_baseline_v1-optim-26.pth\n",
            "2025-07-28 09:22:15,015 - training - INFO - Removed old file: signature_detection_baseline_v1-optim-26.pth\n",
            "INFO:training:Removed old file: signature_detection_baseline_v1-optim-26.pth\n",
            "2025-07-28 09:22:15,020 - training - INFO - ModelCheckpoint: Saved model at epoch 27\n",
            "2025-07-28 09:22:15,020 - training - INFO - ModelCheckpoint: Saved model at epoch 27\n",
            "2025-07-28 09:22:15,020 - training - INFO - ModelCheckpoint: Saved model at epoch 27\n",
            "2025-07-28 09:22:15,020 - training - INFO - ModelCheckpoint: Saved model at epoch 27\n",
            "2025-07-28 09:22:15,020 - training - INFO - ModelCheckpoint: Saved model at epoch 27\n",
            "INFO:training:ModelCheckpoint: Saved model at epoch 27\n",
            "2025-07-28 09:22:15,024 - training - INFO - Epoch 28/50\n",
            "2025-07-28 09:22:15,024 - training - INFO - Epoch 28/50\n",
            "2025-07-28 09:22:15,024 - training - INFO - Epoch 28/50\n",
            "2025-07-28 09:22:15,024 - training - INFO - Epoch 28/50\n",
            "2025-07-28 09:22:15,024 - training - INFO - Epoch 28/50\n",
            "INFO:training:Epoch 28/50\n"
          ]
        },
        {
          "name": "stdout",
          "output_type": "stream",
          "text": [
            "\n",
            "Epoch 00027: val_loss improved from 0.25006 to 0.22635, saving model to best_baseline_model.pth\n"
          ]
        },
        {
          "name": "stderr",
          "output_type": "stream",
          "text": [
            "/usr/local/lib/python3.11/dist-packages/torch/utils/data/dataloader.py:624: UserWarning: This DataLoader will create 4 worker processes in total. Our suggested max number of worker in current system is 2, which is smaller than what this DataLoader is going to create. Please be aware that excessive worker creation might get DataLoader running slow or even freeze, lower the worker number to avoid potential slowness/freeze if necessary.\n",
            "  warnings.warn(\n",
            "/usr/local/lib/python3.11/dist-packages/torch/utils/data/dataloader.py:624: UserWarning: This DataLoader will create 4 worker processes in total. Our suggested max number of worker in current system is 2, which is smaller than what this DataLoader is going to create. Please be aware that excessive worker creation might get DataLoader running slow or even freeze, lower the worker number to avoid potential slowness/freeze if necessary.\n",
            "  warnings.warn(\n",
            "2025-07-28 09:22:29,395 - training - INFO - Epoca 28 - accuracy: 0.8300 | precision: 0.8304 | recall: 0.8300 | f1: 0.8300 | loss: 0.3619 | val_accuracy: 0.8157 | val_precision: 0.8512 | val_recall: 0.8157 | val_f1: 0.8109 | val_loss: 0.3657\n",
            "2025-07-28 09:22:29,395 - training - INFO - Epoca 28 - accuracy: 0.8300 | precision: 0.8304 | recall: 0.8300 | f1: 0.8300 | loss: 0.3619 | val_accuracy: 0.8157 | val_precision: 0.8512 | val_recall: 0.8157 | val_f1: 0.8109 | val_loss: 0.3657\n",
            "2025-07-28 09:22:29,395 - training - INFO - Epoca 28 - accuracy: 0.8300 | precision: 0.8304 | recall: 0.8300 | f1: 0.8300 | loss: 0.3619 | val_accuracy: 0.8157 | val_precision: 0.8512 | val_recall: 0.8157 | val_f1: 0.8109 | val_loss: 0.3657\n",
            "2025-07-28 09:22:29,395 - training - INFO - Epoca 28 - accuracy: 0.8300 | precision: 0.8304 | recall: 0.8300 | f1: 0.8300 | loss: 0.3619 | val_accuracy: 0.8157 | val_precision: 0.8512 | val_recall: 0.8157 | val_f1: 0.8109 | val_loss: 0.3657\n",
            "2025-07-28 09:22:29,395 - training - INFO - Epoca 28 - accuracy: 0.8300 | precision: 0.8304 | recall: 0.8300 | f1: 0.8300 | loss: 0.3619 | val_accuracy: 0.8157 | val_precision: 0.8512 | val_recall: 0.8157 | val_f1: 0.8109 | val_loss: 0.3657\n",
            "INFO:training:Epoca 28 - accuracy: 0.8300 | precision: 0.8304 | recall: 0.8300 | f1: 0.8300 | loss: 0.3619 | val_accuracy: 0.8157 | val_precision: 0.8512 | val_recall: 0.8157 | val_f1: 0.8109 | val_loss: 0.3657\n",
            "2025-07-28 09:22:31,347 - training - INFO - ModelCheckpoint: Saved model at epoch 28\n",
            "2025-07-28 09:22:31,347 - training - INFO - ModelCheckpoint: Saved model at epoch 28\n",
            "2025-07-28 09:22:31,347 - training - INFO - ModelCheckpoint: Saved model at epoch 28\n",
            "2025-07-28 09:22:31,347 - training - INFO - ModelCheckpoint: Saved model at epoch 28\n",
            "2025-07-28 09:22:31,347 - training - INFO - ModelCheckpoint: Saved model at epoch 28\n",
            "INFO:training:ModelCheckpoint: Saved model at epoch 28\n",
            "2025-07-28 09:22:31,356 - training - INFO - Epoch 29/50\n",
            "2025-07-28 09:22:31,356 - training - INFO - Epoch 29/50\n",
            "2025-07-28 09:22:31,356 - training - INFO - Epoch 29/50\n",
            "2025-07-28 09:22:31,356 - training - INFO - Epoch 29/50\n",
            "2025-07-28 09:22:31,356 - training - INFO - Epoch 29/50\n",
            "INFO:training:Epoch 29/50\n",
            "/usr/local/lib/python3.11/dist-packages/torch/utils/data/dataloader.py:624: UserWarning: This DataLoader will create 4 worker processes in total. Our suggested max number of worker in current system is 2, which is smaller than what this DataLoader is going to create. Please be aware that excessive worker creation might get DataLoader running slow or even freeze, lower the worker number to avoid potential slowness/freeze if necessary.\n",
            "  warnings.warn(\n",
            "/usr/local/lib/python3.11/dist-packages/torch/utils/data/dataloader.py:624: UserWarning: This DataLoader will create 4 worker processes in total. Our suggested max number of worker in current system is 2, which is smaller than what this DataLoader is going to create. Please be aware that excessive worker creation might get DataLoader running slow or even freeze, lower the worker number to avoid potential slowness/freeze if necessary.\n",
            "  warnings.warn(\n",
            "2025-07-28 09:22:45,733 - training - INFO - Epoca 29 - accuracy: 0.8158 | precision: 0.8164 | recall: 0.8158 | f1: 0.8157 | loss: 0.4053 | val_accuracy: 0.8788 | val_precision: 0.8798 | val_recall: 0.8788 | val_f1: 0.8787 | val_loss: 0.2995\n",
            "2025-07-28 09:22:45,733 - training - INFO - Epoca 29 - accuracy: 0.8158 | precision: 0.8164 | recall: 0.8158 | f1: 0.8157 | loss: 0.4053 | val_accuracy: 0.8788 | val_precision: 0.8798 | val_recall: 0.8788 | val_f1: 0.8787 | val_loss: 0.2995\n",
            "2025-07-28 09:22:45,733 - training - INFO - Epoca 29 - accuracy: 0.8158 | precision: 0.8164 | recall: 0.8158 | f1: 0.8157 | loss: 0.4053 | val_accuracy: 0.8788 | val_precision: 0.8798 | val_recall: 0.8788 | val_f1: 0.8787 | val_loss: 0.2995\n",
            "2025-07-28 09:22:45,733 - training - INFO - Epoca 29 - accuracy: 0.8158 | precision: 0.8164 | recall: 0.8158 | f1: 0.8157 | loss: 0.4053 | val_accuracy: 0.8788 | val_precision: 0.8798 | val_recall: 0.8788 | val_f1: 0.8787 | val_loss: 0.2995\n",
            "2025-07-28 09:22:45,733 - training - INFO - Epoca 29 - accuracy: 0.8158 | precision: 0.8164 | recall: 0.8158 | f1: 0.8157 | loss: 0.4053 | val_accuracy: 0.8788 | val_precision: 0.8798 | val_recall: 0.8788 | val_f1: 0.8787 | val_loss: 0.2995\n",
            "INFO:training:Epoca 29 - accuracy: 0.8158 | precision: 0.8164 | recall: 0.8158 | f1: 0.8157 | loss: 0.4053 | val_accuracy: 0.8788 | val_precision: 0.8798 | val_recall: 0.8788 | val_f1: 0.8787 | val_loss: 0.2995\n",
            "2025-07-28 09:22:47,974 - training - INFO - ModelCheckpoint: Saved model at epoch 29\n",
            "2025-07-28 09:22:47,974 - training - INFO - ModelCheckpoint: Saved model at epoch 29\n",
            "2025-07-28 09:22:47,974 - training - INFO - ModelCheckpoint: Saved model at epoch 29\n",
            "2025-07-28 09:22:47,974 - training - INFO - ModelCheckpoint: Saved model at epoch 29\n",
            "2025-07-28 09:22:47,974 - training - INFO - ModelCheckpoint: Saved model at epoch 29\n",
            "INFO:training:ModelCheckpoint: Saved model at epoch 29\n",
            "2025-07-28 09:22:47,979 - training - INFO - Epoch 30/50\n",
            "2025-07-28 09:22:47,979 - training - INFO - Epoch 30/50\n",
            "2025-07-28 09:22:47,979 - training - INFO - Epoch 30/50\n",
            "2025-07-28 09:22:47,979 - training - INFO - Epoch 30/50\n",
            "2025-07-28 09:22:47,979 - training - INFO - Epoch 30/50\n",
            "INFO:training:Epoch 30/50\n",
            "/usr/local/lib/python3.11/dist-packages/torch/utils/data/dataloader.py:624: UserWarning: This DataLoader will create 4 worker processes in total. Our suggested max number of worker in current system is 2, which is smaller than what this DataLoader is going to create. Please be aware that excessive worker creation might get DataLoader running slow or even freeze, lower the worker number to avoid potential slowness/freeze if necessary.\n",
            "  warnings.warn(\n",
            "/usr/local/lib/python3.11/dist-packages/torch/utils/data/dataloader.py:624: UserWarning: This DataLoader will create 4 worker processes in total. Our suggested max number of worker in current system is 2, which is smaller than what this DataLoader is going to create. Please be aware that excessive worker creation might get DataLoader running slow or even freeze, lower the worker number to avoid potential slowness/freeze if necessary.\n",
            "  warnings.warn(\n",
            "2025-07-28 09:23:02,302 - training - INFO - Epoca 30 - accuracy: 0.8185 | precision: 0.8187 | recall: 0.8185 | f1: 0.8185 | loss: 0.3922 | val_accuracy: 0.7424 | val_precision: 0.8211 | val_recall: 0.7424 | val_f1: 0.7256 | val_loss: 0.4519\n",
            "2025-07-28 09:23:02,302 - training - INFO - Epoca 30 - accuracy: 0.8185 | precision: 0.8187 | recall: 0.8185 | f1: 0.8185 | loss: 0.3922 | val_accuracy: 0.7424 | val_precision: 0.8211 | val_recall: 0.7424 | val_f1: 0.7256 | val_loss: 0.4519\n",
            "2025-07-28 09:23:02,302 - training - INFO - Epoca 30 - accuracy: 0.8185 | precision: 0.8187 | recall: 0.8185 | f1: 0.8185 | loss: 0.3922 | val_accuracy: 0.7424 | val_precision: 0.8211 | val_recall: 0.7424 | val_f1: 0.7256 | val_loss: 0.4519\n",
            "2025-07-28 09:23:02,302 - training - INFO - Epoca 30 - accuracy: 0.8185 | precision: 0.8187 | recall: 0.8185 | f1: 0.8185 | loss: 0.3922 | val_accuracy: 0.7424 | val_precision: 0.8211 | val_recall: 0.7424 | val_f1: 0.7256 | val_loss: 0.4519\n",
            "2025-07-28 09:23:02,302 - training - INFO - Epoca 30 - accuracy: 0.8185 | precision: 0.8187 | recall: 0.8185 | f1: 0.8185 | loss: 0.3922 | val_accuracy: 0.7424 | val_precision: 0.8211 | val_recall: 0.7424 | val_f1: 0.7256 | val_loss: 0.4519\n",
            "INFO:training:Epoca 30 - accuracy: 0.8185 | precision: 0.8187 | recall: 0.8185 | f1: 0.8185 | loss: 0.3922 | val_accuracy: 0.7424 | val_precision: 0.8211 | val_recall: 0.7424 | val_f1: 0.7256 | val_loss: 0.4519\n",
            "2025-07-28 09:23:03,970 - training - INFO - ModelCheckpoint: Saved model at epoch 30\n",
            "2025-07-28 09:23:03,970 - training - INFO - ModelCheckpoint: Saved model at epoch 30\n",
            "2025-07-28 09:23:03,970 - training - INFO - ModelCheckpoint: Saved model at epoch 30\n",
            "2025-07-28 09:23:03,970 - training - INFO - ModelCheckpoint: Saved model at epoch 30\n",
            "2025-07-28 09:23:03,970 - training - INFO - ModelCheckpoint: Saved model at epoch 30\n",
            "INFO:training:ModelCheckpoint: Saved model at epoch 30\n",
            "2025-07-28 09:23:03,980 - training - INFO - Epoch 31/50\n",
            "2025-07-28 09:23:03,980 - training - INFO - Epoch 31/50\n",
            "2025-07-28 09:23:03,980 - training - INFO - Epoch 31/50\n",
            "2025-07-28 09:23:03,980 - training - INFO - Epoch 31/50\n",
            "2025-07-28 09:23:03,980 - training - INFO - Epoch 31/50\n",
            "INFO:training:Epoch 31/50\n",
            "/usr/local/lib/python3.11/dist-packages/torch/utils/data/dataloader.py:624: UserWarning: This DataLoader will create 4 worker processes in total. Our suggested max number of worker in current system is 2, which is smaller than what this DataLoader is going to create. Please be aware that excessive worker creation might get DataLoader running slow or even freeze, lower the worker number to avoid potential slowness/freeze if necessary.\n",
            "  warnings.warn(\n",
            "/usr/local/lib/python3.11/dist-packages/torch/utils/data/dataloader.py:624: UserWarning: This DataLoader will create 4 worker processes in total. Our suggested max number of worker in current system is 2, which is smaller than what this DataLoader is going to create. Please be aware that excessive worker creation might get DataLoader running slow or even freeze, lower the worker number to avoid potential slowness/freeze if necessary.\n",
            "  warnings.warn(\n",
            "2025-07-28 09:23:18,273 - training - INFO - Epoca 31 - accuracy: 0.8103 | precision: 0.8108 | recall: 0.8103 | f1: 0.8102 | loss: 0.4112 | val_accuracy: 0.8359 | val_precision: 0.8662 | val_recall: 0.8359 | val_f1: 0.8324 | val_loss: 0.3494\n",
            "2025-07-28 09:23:18,273 - training - INFO - Epoca 31 - accuracy: 0.8103 | precision: 0.8108 | recall: 0.8103 | f1: 0.8102 | loss: 0.4112 | val_accuracy: 0.8359 | val_precision: 0.8662 | val_recall: 0.8359 | val_f1: 0.8324 | val_loss: 0.3494\n",
            "2025-07-28 09:23:18,273 - training - INFO - Epoca 31 - accuracy: 0.8103 | precision: 0.8108 | recall: 0.8103 | f1: 0.8102 | loss: 0.4112 | val_accuracy: 0.8359 | val_precision: 0.8662 | val_recall: 0.8359 | val_f1: 0.8324 | val_loss: 0.3494\n",
            "2025-07-28 09:23:18,273 - training - INFO - Epoca 31 - accuracy: 0.8103 | precision: 0.8108 | recall: 0.8103 | f1: 0.8102 | loss: 0.4112 | val_accuracy: 0.8359 | val_precision: 0.8662 | val_recall: 0.8359 | val_f1: 0.8324 | val_loss: 0.3494\n",
            "2025-07-28 09:23:18,273 - training - INFO - Epoca 31 - accuracy: 0.8103 | precision: 0.8108 | recall: 0.8103 | f1: 0.8102 | loss: 0.4112 | val_accuracy: 0.8359 | val_precision: 0.8662 | val_recall: 0.8359 | val_f1: 0.8324 | val_loss: 0.3494\n",
            "INFO:training:Epoca 31 - accuracy: 0.8103 | precision: 0.8108 | recall: 0.8103 | f1: 0.8102 | loss: 0.4112 | val_accuracy: 0.8359 | val_precision: 0.8662 | val_recall: 0.8359 | val_f1: 0.8324 | val_loss: 0.3494\n",
            "2025-07-28 09:23:19,919 - training - INFO - ModelCheckpoint: Saved model at epoch 31\n",
            "2025-07-28 09:23:19,919 - training - INFO - ModelCheckpoint: Saved model at epoch 31\n",
            "2025-07-28 09:23:19,919 - training - INFO - ModelCheckpoint: Saved model at epoch 31\n",
            "2025-07-28 09:23:19,919 - training - INFO - ModelCheckpoint: Saved model at epoch 31\n",
            "2025-07-28 09:23:19,919 - training - INFO - ModelCheckpoint: Saved model at epoch 31\n",
            "INFO:training:ModelCheckpoint: Saved model at epoch 31\n",
            "2025-07-28 09:23:19,927 - training - INFO - Epoch 32/50\n",
            "2025-07-28 09:23:19,927 - training - INFO - Epoch 32/50\n",
            "2025-07-28 09:23:19,927 - training - INFO - Epoch 32/50\n",
            "2025-07-28 09:23:19,927 - training - INFO - Epoch 32/50\n",
            "2025-07-28 09:23:19,927 - training - INFO - Epoch 32/50\n",
            "INFO:training:Epoch 32/50\n",
            "/usr/local/lib/python3.11/dist-packages/torch/utils/data/dataloader.py:624: UserWarning: This DataLoader will create 4 worker processes in total. Our suggested max number of worker in current system is 2, which is smaller than what this DataLoader is going to create. Please be aware that excessive worker creation might get DataLoader running slow or even freeze, lower the worker number to avoid potential slowness/freeze if necessary.\n",
            "  warnings.warn(\n",
            "/usr/local/lib/python3.11/dist-packages/torch/utils/data/dataloader.py:624: UserWarning: This DataLoader will create 4 worker processes in total. Our suggested max number of worker in current system is 2, which is smaller than what this DataLoader is going to create. Please be aware that excessive worker creation might get DataLoader running slow or even freeze, lower the worker number to avoid potential slowness/freeze if necessary.\n",
            "  warnings.warn(\n",
            "2025-07-28 09:23:34,389 - training - INFO - Epoca 32 - accuracy: 0.8399 | precision: 0.8400 | recall: 0.8399 | f1: 0.8399 | loss: 0.3489 | val_accuracy: 0.9242 | val_precision: 0.9329 | val_recall: 0.9242 | val_f1: 0.9239 | val_loss: 0.2051\n",
            "2025-07-28 09:23:34,389 - training - INFO - Epoca 32 - accuracy: 0.8399 | precision: 0.8400 | recall: 0.8399 | f1: 0.8399 | loss: 0.3489 | val_accuracy: 0.9242 | val_precision: 0.9329 | val_recall: 0.9242 | val_f1: 0.9239 | val_loss: 0.2051\n",
            "2025-07-28 09:23:34,389 - training - INFO - Epoca 32 - accuracy: 0.8399 | precision: 0.8400 | recall: 0.8399 | f1: 0.8399 | loss: 0.3489 | val_accuracy: 0.9242 | val_precision: 0.9329 | val_recall: 0.9242 | val_f1: 0.9239 | val_loss: 0.2051\n",
            "2025-07-28 09:23:34,389 - training - INFO - Epoca 32 - accuracy: 0.8399 | precision: 0.8400 | recall: 0.8399 | f1: 0.8399 | loss: 0.3489 | val_accuracy: 0.9242 | val_precision: 0.9329 | val_recall: 0.9242 | val_f1: 0.9239 | val_loss: 0.2051\n",
            "2025-07-28 09:23:34,389 - training - INFO - Epoca 32 - accuracy: 0.8399 | precision: 0.8400 | recall: 0.8399 | f1: 0.8399 | loss: 0.3489 | val_accuracy: 0.9242 | val_precision: 0.9329 | val_recall: 0.9242 | val_f1: 0.9239 | val_loss: 0.2051\n",
            "INFO:training:Epoca 32 - accuracy: 0.8399 | precision: 0.8400 | recall: 0.8399 | f1: 0.8399 | loss: 0.3489 | val_accuracy: 0.9242 | val_precision: 0.9329 | val_recall: 0.9242 | val_f1: 0.9239 | val_loss: 0.2051\n",
            "2025-07-28 09:23:36,843 - training - INFO - Successfully saved weights to /content/drive/MyDrive/XAI_ProfAI/experiments/signature_detection_baseline_v1/weights/signature_detection_baseline_v1-weights-32-0.840-0.840-0.840-0.840-0.349-0.924-0.933-0.924-0.924-0.205.pth\n",
            "2025-07-28 09:23:36,843 - training - INFO - Successfully saved weights to /content/drive/MyDrive/XAI_ProfAI/experiments/signature_detection_baseline_v1/weights/signature_detection_baseline_v1-weights-32-0.840-0.840-0.840-0.840-0.349-0.924-0.933-0.924-0.924-0.205.pth\n",
            "2025-07-28 09:23:36,843 - training - INFO - Successfully saved weights to /content/drive/MyDrive/XAI_ProfAI/experiments/signature_detection_baseline_v1/weights/signature_detection_baseline_v1-weights-32-0.840-0.840-0.840-0.840-0.349-0.924-0.933-0.924-0.924-0.205.pth\n",
            "2025-07-28 09:23:36,843 - training - INFO - Successfully saved weights to /content/drive/MyDrive/XAI_ProfAI/experiments/signature_detection_baseline_v1/weights/signature_detection_baseline_v1-weights-32-0.840-0.840-0.840-0.840-0.349-0.924-0.933-0.924-0.924-0.205.pth\n",
            "2025-07-28 09:23:36,843 - training - INFO - Successfully saved weights to /content/drive/MyDrive/XAI_ProfAI/experiments/signature_detection_baseline_v1/weights/signature_detection_baseline_v1-weights-32-0.840-0.840-0.840-0.840-0.349-0.924-0.933-0.924-0.924-0.205.pth\n",
            "INFO:training:Successfully saved weights to /content/drive/MyDrive/XAI_ProfAI/experiments/signature_detection_baseline_v1/weights/signature_detection_baseline_v1-weights-32-0.840-0.840-0.840-0.840-0.349-0.924-0.933-0.924-0.924-0.205.pth\n",
            "2025-07-28 09:23:36,888 - training - INFO - Successfully saved optimizer to /content/drive/MyDrive/XAI_ProfAI/experiments/signature_detection_baseline_v1/weights/signature_detection_baseline_v1-optim-32.pth\n",
            "2025-07-28 09:23:36,888 - training - INFO - Successfully saved optimizer to /content/drive/MyDrive/XAI_ProfAI/experiments/signature_detection_baseline_v1/weights/signature_detection_baseline_v1-optim-32.pth\n",
            "2025-07-28 09:23:36,888 - training - INFO - Successfully saved optimizer to /content/drive/MyDrive/XAI_ProfAI/experiments/signature_detection_baseline_v1/weights/signature_detection_baseline_v1-optim-32.pth\n",
            "2025-07-28 09:23:36,888 - training - INFO - Successfully saved optimizer to /content/drive/MyDrive/XAI_ProfAI/experiments/signature_detection_baseline_v1/weights/signature_detection_baseline_v1-optim-32.pth\n",
            "2025-07-28 09:23:36,888 - training - INFO - Successfully saved optimizer to /content/drive/MyDrive/XAI_ProfAI/experiments/signature_detection_baseline_v1/weights/signature_detection_baseline_v1-optim-32.pth\n",
            "INFO:training:Successfully saved optimizer to /content/drive/MyDrive/XAI_ProfAI/experiments/signature_detection_baseline_v1/weights/signature_detection_baseline_v1-optim-32.pth\n",
            "2025-07-28 09:23:36,915 - training - INFO - Removed old file: signature_detection_baseline_v1-weights-27-0.844-0.845-0.844-0.844-0.362-0.939-0.940-0.939-0.939-0.226.pth\n",
            "2025-07-28 09:23:36,915 - training - INFO - Removed old file: signature_detection_baseline_v1-weights-27-0.844-0.845-0.844-0.844-0.362-0.939-0.940-0.939-0.939-0.226.pth\n",
            "2025-07-28 09:23:36,915 - training - INFO - Removed old file: signature_detection_baseline_v1-weights-27-0.844-0.845-0.844-0.844-0.362-0.939-0.940-0.939-0.939-0.226.pth\n",
            "2025-07-28 09:23:36,915 - training - INFO - Removed old file: signature_detection_baseline_v1-weights-27-0.844-0.845-0.844-0.844-0.362-0.939-0.940-0.939-0.939-0.226.pth\n",
            "2025-07-28 09:23:36,915 - training - INFO - Removed old file: signature_detection_baseline_v1-weights-27-0.844-0.845-0.844-0.844-0.362-0.939-0.940-0.939-0.939-0.226.pth\n",
            "INFO:training:Removed old file: signature_detection_baseline_v1-weights-27-0.844-0.845-0.844-0.844-0.362-0.939-0.940-0.939-0.939-0.226.pth\n",
            "2025-07-28 09:23:36,924 - training - INFO - Removed old file: signature_detection_baseline_v1-optim-27.pth\n",
            "2025-07-28 09:23:36,924 - training - INFO - Removed old file: signature_detection_baseline_v1-optim-27.pth\n",
            "2025-07-28 09:23:36,924 - training - INFO - Removed old file: signature_detection_baseline_v1-optim-27.pth\n",
            "2025-07-28 09:23:36,924 - training - INFO - Removed old file: signature_detection_baseline_v1-optim-27.pth\n",
            "2025-07-28 09:23:36,924 - training - INFO - Removed old file: signature_detection_baseline_v1-optim-27.pth\n",
            "INFO:training:Removed old file: signature_detection_baseline_v1-optim-27.pth\n",
            "2025-07-28 09:23:36,928 - training - INFO - ModelCheckpoint: Saved model at epoch 32\n",
            "2025-07-28 09:23:36,928 - training - INFO - ModelCheckpoint: Saved model at epoch 32\n",
            "2025-07-28 09:23:36,928 - training - INFO - ModelCheckpoint: Saved model at epoch 32\n",
            "2025-07-28 09:23:36,928 - training - INFO - ModelCheckpoint: Saved model at epoch 32\n",
            "2025-07-28 09:23:36,928 - training - INFO - ModelCheckpoint: Saved model at epoch 32\n",
            "INFO:training:ModelCheckpoint: Saved model at epoch 32\n",
            "2025-07-28 09:23:36,932 - training - INFO - Epoch 33/50\n",
            "2025-07-28 09:23:36,932 - training - INFO - Epoch 33/50\n",
            "2025-07-28 09:23:36,932 - training - INFO - Epoch 33/50\n",
            "2025-07-28 09:23:36,932 - training - INFO - Epoch 33/50\n",
            "2025-07-28 09:23:36,932 - training - INFO - Epoch 33/50\n",
            "INFO:training:Epoch 33/50\n"
          ]
        },
        {
          "name": "stdout",
          "output_type": "stream",
          "text": [
            "\n",
            "Epoch 00032: val_loss improved from 0.22635 to 0.20511, saving model to best_baseline_model.pth\n"
          ]
        },
        {
          "name": "stderr",
          "output_type": "stream",
          "text": [
            "/usr/local/lib/python3.11/dist-packages/torch/utils/data/dataloader.py:624: UserWarning: This DataLoader will create 4 worker processes in total. Our suggested max number of worker in current system is 2, which is smaller than what this DataLoader is going to create. Please be aware that excessive worker creation might get DataLoader running slow or even freeze, lower the worker number to avoid potential slowness/freeze if necessary.\n",
            "  warnings.warn(\n",
            "/usr/local/lib/python3.11/dist-packages/torch/utils/data/dataloader.py:624: UserWarning: This DataLoader will create 4 worker processes in total. Our suggested max number of worker in current system is 2, which is smaller than what this DataLoader is going to create. Please be aware that excessive worker creation might get DataLoader running slow or even freeze, lower the worker number to avoid potential slowness/freeze if necessary.\n",
            "  warnings.warn(\n",
            "2025-07-28 09:23:51,267 - training - INFO - Epoca 33 - accuracy: 0.8602 | precision: 0.8611 | recall: 0.8602 | f1: 0.8601 | loss: 0.3220 | val_accuracy: 0.9571 | val_precision: 0.9585 | val_recall: 0.9571 | val_f1: 0.9570 | val_loss: 0.1559\n",
            "2025-07-28 09:23:51,267 - training - INFO - Epoca 33 - accuracy: 0.8602 | precision: 0.8611 | recall: 0.8602 | f1: 0.8601 | loss: 0.3220 | val_accuracy: 0.9571 | val_precision: 0.9585 | val_recall: 0.9571 | val_f1: 0.9570 | val_loss: 0.1559\n",
            "2025-07-28 09:23:51,267 - training - INFO - Epoca 33 - accuracy: 0.8602 | precision: 0.8611 | recall: 0.8602 | f1: 0.8601 | loss: 0.3220 | val_accuracy: 0.9571 | val_precision: 0.9585 | val_recall: 0.9571 | val_f1: 0.9570 | val_loss: 0.1559\n",
            "2025-07-28 09:23:51,267 - training - INFO - Epoca 33 - accuracy: 0.8602 | precision: 0.8611 | recall: 0.8602 | f1: 0.8601 | loss: 0.3220 | val_accuracy: 0.9571 | val_precision: 0.9585 | val_recall: 0.9571 | val_f1: 0.9570 | val_loss: 0.1559\n",
            "2025-07-28 09:23:51,267 - training - INFO - Epoca 33 - accuracy: 0.8602 | precision: 0.8611 | recall: 0.8602 | f1: 0.8601 | loss: 0.3220 | val_accuracy: 0.9571 | val_precision: 0.9585 | val_recall: 0.9571 | val_f1: 0.9570 | val_loss: 0.1559\n",
            "INFO:training:Epoca 33 - accuracy: 0.8602 | precision: 0.8611 | recall: 0.8602 | f1: 0.8601 | loss: 0.3220 | val_accuracy: 0.9571 | val_precision: 0.9585 | val_recall: 0.9571 | val_f1: 0.9570 | val_loss: 0.1559\n",
            "2025-07-28 09:23:52,952 - training - INFO - Successfully saved weights to /content/drive/MyDrive/XAI_ProfAI/experiments/signature_detection_baseline_v1/weights/signature_detection_baseline_v1-weights-33-0.860-0.861-0.860-0.860-0.322-0.957-0.958-0.957-0.957-0.156.pth\n",
            "2025-07-28 09:23:52,952 - training - INFO - Successfully saved weights to /content/drive/MyDrive/XAI_ProfAI/experiments/signature_detection_baseline_v1/weights/signature_detection_baseline_v1-weights-33-0.860-0.861-0.860-0.860-0.322-0.957-0.958-0.957-0.957-0.156.pth\n",
            "2025-07-28 09:23:52,952 - training - INFO - Successfully saved weights to /content/drive/MyDrive/XAI_ProfAI/experiments/signature_detection_baseline_v1/weights/signature_detection_baseline_v1-weights-33-0.860-0.861-0.860-0.860-0.322-0.957-0.958-0.957-0.957-0.156.pth\n",
            "2025-07-28 09:23:52,952 - training - INFO - Successfully saved weights to /content/drive/MyDrive/XAI_ProfAI/experiments/signature_detection_baseline_v1/weights/signature_detection_baseline_v1-weights-33-0.860-0.861-0.860-0.860-0.322-0.957-0.958-0.957-0.957-0.156.pth\n",
            "2025-07-28 09:23:52,952 - training - INFO - Successfully saved weights to /content/drive/MyDrive/XAI_ProfAI/experiments/signature_detection_baseline_v1/weights/signature_detection_baseline_v1-weights-33-0.860-0.861-0.860-0.860-0.322-0.957-0.958-0.957-0.957-0.156.pth\n",
            "INFO:training:Successfully saved weights to /content/drive/MyDrive/XAI_ProfAI/experiments/signature_detection_baseline_v1/weights/signature_detection_baseline_v1-weights-33-0.860-0.861-0.860-0.860-0.322-0.957-0.958-0.957-0.957-0.156.pth\n",
            "2025-07-28 09:23:53,002 - training - INFO - Successfully saved optimizer to /content/drive/MyDrive/XAI_ProfAI/experiments/signature_detection_baseline_v1/weights/signature_detection_baseline_v1-optim-33.pth\n",
            "2025-07-28 09:23:53,002 - training - INFO - Successfully saved optimizer to /content/drive/MyDrive/XAI_ProfAI/experiments/signature_detection_baseline_v1/weights/signature_detection_baseline_v1-optim-33.pth\n",
            "2025-07-28 09:23:53,002 - training - INFO - Successfully saved optimizer to /content/drive/MyDrive/XAI_ProfAI/experiments/signature_detection_baseline_v1/weights/signature_detection_baseline_v1-optim-33.pth\n",
            "2025-07-28 09:23:53,002 - training - INFO - Successfully saved optimizer to /content/drive/MyDrive/XAI_ProfAI/experiments/signature_detection_baseline_v1/weights/signature_detection_baseline_v1-optim-33.pth\n",
            "2025-07-28 09:23:53,002 - training - INFO - Successfully saved optimizer to /content/drive/MyDrive/XAI_ProfAI/experiments/signature_detection_baseline_v1/weights/signature_detection_baseline_v1-optim-33.pth\n",
            "INFO:training:Successfully saved optimizer to /content/drive/MyDrive/XAI_ProfAI/experiments/signature_detection_baseline_v1/weights/signature_detection_baseline_v1-optim-33.pth\n",
            "2025-07-28 09:23:53,032 - training - INFO - Removed old file: signature_detection_baseline_v1-weights-32-0.840-0.840-0.840-0.840-0.349-0.924-0.933-0.924-0.924-0.205.pth\n",
            "2025-07-28 09:23:53,032 - training - INFO - Removed old file: signature_detection_baseline_v1-weights-32-0.840-0.840-0.840-0.840-0.349-0.924-0.933-0.924-0.924-0.205.pth\n",
            "2025-07-28 09:23:53,032 - training - INFO - Removed old file: signature_detection_baseline_v1-weights-32-0.840-0.840-0.840-0.840-0.349-0.924-0.933-0.924-0.924-0.205.pth\n",
            "2025-07-28 09:23:53,032 - training - INFO - Removed old file: signature_detection_baseline_v1-weights-32-0.840-0.840-0.840-0.840-0.349-0.924-0.933-0.924-0.924-0.205.pth\n",
            "2025-07-28 09:23:53,032 - training - INFO - Removed old file: signature_detection_baseline_v1-weights-32-0.840-0.840-0.840-0.840-0.349-0.924-0.933-0.924-0.924-0.205.pth\n",
            "INFO:training:Removed old file: signature_detection_baseline_v1-weights-32-0.840-0.840-0.840-0.840-0.349-0.924-0.933-0.924-0.924-0.205.pth\n",
            "2025-07-28 09:23:53,040 - training - INFO - Removed old file: signature_detection_baseline_v1-optim-32.pth\n",
            "2025-07-28 09:23:53,040 - training - INFO - Removed old file: signature_detection_baseline_v1-optim-32.pth\n",
            "2025-07-28 09:23:53,040 - training - INFO - Removed old file: signature_detection_baseline_v1-optim-32.pth\n",
            "2025-07-28 09:23:53,040 - training - INFO - Removed old file: signature_detection_baseline_v1-optim-32.pth\n",
            "2025-07-28 09:23:53,040 - training - INFO - Removed old file: signature_detection_baseline_v1-optim-32.pth\n",
            "INFO:training:Removed old file: signature_detection_baseline_v1-optim-32.pth\n",
            "2025-07-28 09:23:53,044 - training - INFO - ModelCheckpoint: Saved model at epoch 33\n",
            "2025-07-28 09:23:53,044 - training - INFO - ModelCheckpoint: Saved model at epoch 33\n",
            "2025-07-28 09:23:53,044 - training - INFO - ModelCheckpoint: Saved model at epoch 33\n",
            "2025-07-28 09:23:53,044 - training - INFO - ModelCheckpoint: Saved model at epoch 33\n",
            "2025-07-28 09:23:53,044 - training - INFO - ModelCheckpoint: Saved model at epoch 33\n",
            "INFO:training:ModelCheckpoint: Saved model at epoch 33\n",
            "2025-07-28 09:23:53,050 - training - INFO - Epoch 34/50\n",
            "2025-07-28 09:23:53,050 - training - INFO - Epoch 34/50\n",
            "2025-07-28 09:23:53,050 - training - INFO - Epoch 34/50\n",
            "2025-07-28 09:23:53,050 - training - INFO - Epoch 34/50\n",
            "2025-07-28 09:23:53,050 - training - INFO - Epoch 34/50\n",
            "INFO:training:Epoch 34/50\n"
          ]
        },
        {
          "name": "stdout",
          "output_type": "stream",
          "text": [
            "\n",
            "Epoch 00033: val_loss improved from 0.20511 to 0.15593, saving model to best_baseline_model.pth\n"
          ]
        },
        {
          "name": "stderr",
          "output_type": "stream",
          "text": [
            "/usr/local/lib/python3.11/dist-packages/torch/utils/data/dataloader.py:624: UserWarning: This DataLoader will create 4 worker processes in total. Our suggested max number of worker in current system is 2, which is smaller than what this DataLoader is going to create. Please be aware that excessive worker creation might get DataLoader running slow or even freeze, lower the worker number to avoid potential slowness/freeze if necessary.\n",
            "  warnings.warn(\n",
            "/usr/local/lib/python3.11/dist-packages/torch/utils/data/dataloader.py:624: UserWarning: This DataLoader will create 4 worker processes in total. Our suggested max number of worker in current system is 2, which is smaller than what this DataLoader is going to create. Please be aware that excessive worker creation might get DataLoader running slow or even freeze, lower the worker number to avoid potential slowness/freeze if necessary.\n",
            "  warnings.warn(\n",
            "2025-07-28 09:24:07,613 - training - INFO - Epoca 34 - accuracy: 0.8816 | precision: 0.8818 | recall: 0.8816 | f1: 0.8816 | loss: 0.2724 | val_accuracy: 0.9116 | val_precision: 0.9220 | val_recall: 0.9116 | val_f1: 0.9111 | val_loss: 0.1967\n",
            "2025-07-28 09:24:07,613 - training - INFO - Epoca 34 - accuracy: 0.8816 | precision: 0.8818 | recall: 0.8816 | f1: 0.8816 | loss: 0.2724 | val_accuracy: 0.9116 | val_precision: 0.9220 | val_recall: 0.9116 | val_f1: 0.9111 | val_loss: 0.1967\n",
            "2025-07-28 09:24:07,613 - training - INFO - Epoca 34 - accuracy: 0.8816 | precision: 0.8818 | recall: 0.8816 | f1: 0.8816 | loss: 0.2724 | val_accuracy: 0.9116 | val_precision: 0.9220 | val_recall: 0.9116 | val_f1: 0.9111 | val_loss: 0.1967\n",
            "2025-07-28 09:24:07,613 - training - INFO - Epoca 34 - accuracy: 0.8816 | precision: 0.8818 | recall: 0.8816 | f1: 0.8816 | loss: 0.2724 | val_accuracy: 0.9116 | val_precision: 0.9220 | val_recall: 0.9116 | val_f1: 0.9111 | val_loss: 0.1967\n",
            "2025-07-28 09:24:07,613 - training - INFO - Epoca 34 - accuracy: 0.8816 | precision: 0.8818 | recall: 0.8816 | f1: 0.8816 | loss: 0.2724 | val_accuracy: 0.9116 | val_precision: 0.9220 | val_recall: 0.9116 | val_f1: 0.9111 | val_loss: 0.1967\n",
            "INFO:training:Epoca 34 - accuracy: 0.8816 | precision: 0.8818 | recall: 0.8816 | f1: 0.8816 | loss: 0.2724 | val_accuracy: 0.9116 | val_precision: 0.9220 | val_recall: 0.9116 | val_f1: 0.9111 | val_loss: 0.1967\n",
            "2025-07-28 09:24:09,665 - training - INFO - ModelCheckpoint: Saved model at epoch 34\n",
            "2025-07-28 09:24:09,665 - training - INFO - ModelCheckpoint: Saved model at epoch 34\n",
            "2025-07-28 09:24:09,665 - training - INFO - ModelCheckpoint: Saved model at epoch 34\n",
            "2025-07-28 09:24:09,665 - training - INFO - ModelCheckpoint: Saved model at epoch 34\n",
            "2025-07-28 09:24:09,665 - training - INFO - ModelCheckpoint: Saved model at epoch 34\n",
            "INFO:training:ModelCheckpoint: Saved model at epoch 34\n",
            "2025-07-28 09:24:09,672 - training - INFO - Epoch 35/50\n",
            "2025-07-28 09:24:09,672 - training - INFO - Epoch 35/50\n",
            "2025-07-28 09:24:09,672 - training - INFO - Epoch 35/50\n",
            "2025-07-28 09:24:09,672 - training - INFO - Epoch 35/50\n",
            "2025-07-28 09:24:09,672 - training - INFO - Epoch 35/50\n",
            "INFO:training:Epoch 35/50\n",
            "/usr/local/lib/python3.11/dist-packages/torch/utils/data/dataloader.py:624: UserWarning: This DataLoader will create 4 worker processes in total. Our suggested max number of worker in current system is 2, which is smaller than what this DataLoader is going to create. Please be aware that excessive worker creation might get DataLoader running slow or even freeze, lower the worker number to avoid potential slowness/freeze if necessary.\n",
            "  warnings.warn(\n",
            "/usr/local/lib/python3.11/dist-packages/torch/utils/data/dataloader.py:624: UserWarning: This DataLoader will create 4 worker processes in total. Our suggested max number of worker in current system is 2, which is smaller than what this DataLoader is going to create. Please be aware that excessive worker creation might get DataLoader running slow or even freeze, lower the worker number to avoid potential slowness/freeze if necessary.\n",
            "  warnings.warn(\n",
            "2025-07-28 09:24:24,327 - training - INFO - Epoca 35 - accuracy: 0.8586 | precision: 0.8593 | recall: 0.8586 | f1: 0.8585 | loss: 0.3253 | val_accuracy: 0.9646 | val_precision: 0.9651 | val_recall: 0.9646 | val_f1: 0.9646 | val_loss: 0.1421\n",
            "2025-07-28 09:24:24,327 - training - INFO - Epoca 35 - accuracy: 0.8586 | precision: 0.8593 | recall: 0.8586 | f1: 0.8585 | loss: 0.3253 | val_accuracy: 0.9646 | val_precision: 0.9651 | val_recall: 0.9646 | val_f1: 0.9646 | val_loss: 0.1421\n",
            "2025-07-28 09:24:24,327 - training - INFO - Epoca 35 - accuracy: 0.8586 | precision: 0.8593 | recall: 0.8586 | f1: 0.8585 | loss: 0.3253 | val_accuracy: 0.9646 | val_precision: 0.9651 | val_recall: 0.9646 | val_f1: 0.9646 | val_loss: 0.1421\n",
            "2025-07-28 09:24:24,327 - training - INFO - Epoca 35 - accuracy: 0.8586 | precision: 0.8593 | recall: 0.8586 | f1: 0.8585 | loss: 0.3253 | val_accuracy: 0.9646 | val_precision: 0.9651 | val_recall: 0.9646 | val_f1: 0.9646 | val_loss: 0.1421\n",
            "2025-07-28 09:24:24,327 - training - INFO - Epoca 35 - accuracy: 0.8586 | precision: 0.8593 | recall: 0.8586 | f1: 0.8585 | loss: 0.3253 | val_accuracy: 0.9646 | val_precision: 0.9651 | val_recall: 0.9646 | val_f1: 0.9646 | val_loss: 0.1421\n",
            "INFO:training:Epoca 35 - accuracy: 0.8586 | precision: 0.8593 | recall: 0.8586 | f1: 0.8585 | loss: 0.3253 | val_accuracy: 0.9646 | val_precision: 0.9651 | val_recall: 0.9646 | val_f1: 0.9646 | val_loss: 0.1421\n",
            "2025-07-28 09:24:26,557 - training - INFO - Successfully saved weights to /content/drive/MyDrive/XAI_ProfAI/experiments/signature_detection_baseline_v1/weights/signature_detection_baseline_v1-weights-35-0.859-0.859-0.859-0.858-0.325-0.965-0.965-0.965-0.965-0.142.pth\n",
            "2025-07-28 09:24:26,557 - training - INFO - Successfully saved weights to /content/drive/MyDrive/XAI_ProfAI/experiments/signature_detection_baseline_v1/weights/signature_detection_baseline_v1-weights-35-0.859-0.859-0.859-0.858-0.325-0.965-0.965-0.965-0.965-0.142.pth\n",
            "2025-07-28 09:24:26,557 - training - INFO - Successfully saved weights to /content/drive/MyDrive/XAI_ProfAI/experiments/signature_detection_baseline_v1/weights/signature_detection_baseline_v1-weights-35-0.859-0.859-0.859-0.858-0.325-0.965-0.965-0.965-0.965-0.142.pth\n",
            "2025-07-28 09:24:26,557 - training - INFO - Successfully saved weights to /content/drive/MyDrive/XAI_ProfAI/experiments/signature_detection_baseline_v1/weights/signature_detection_baseline_v1-weights-35-0.859-0.859-0.859-0.858-0.325-0.965-0.965-0.965-0.965-0.142.pth\n",
            "2025-07-28 09:24:26,557 - training - INFO - Successfully saved weights to /content/drive/MyDrive/XAI_ProfAI/experiments/signature_detection_baseline_v1/weights/signature_detection_baseline_v1-weights-35-0.859-0.859-0.859-0.858-0.325-0.965-0.965-0.965-0.965-0.142.pth\n",
            "INFO:training:Successfully saved weights to /content/drive/MyDrive/XAI_ProfAI/experiments/signature_detection_baseline_v1/weights/signature_detection_baseline_v1-weights-35-0.859-0.859-0.859-0.858-0.325-0.965-0.965-0.965-0.965-0.142.pth\n",
            "2025-07-28 09:24:26,599 - training - INFO - Successfully saved optimizer to /content/drive/MyDrive/XAI_ProfAI/experiments/signature_detection_baseline_v1/weights/signature_detection_baseline_v1-optim-35.pth\n",
            "2025-07-28 09:24:26,599 - training - INFO - Successfully saved optimizer to /content/drive/MyDrive/XAI_ProfAI/experiments/signature_detection_baseline_v1/weights/signature_detection_baseline_v1-optim-35.pth\n",
            "2025-07-28 09:24:26,599 - training - INFO - Successfully saved optimizer to /content/drive/MyDrive/XAI_ProfAI/experiments/signature_detection_baseline_v1/weights/signature_detection_baseline_v1-optim-35.pth\n",
            "2025-07-28 09:24:26,599 - training - INFO - Successfully saved optimizer to /content/drive/MyDrive/XAI_ProfAI/experiments/signature_detection_baseline_v1/weights/signature_detection_baseline_v1-optim-35.pth\n",
            "2025-07-28 09:24:26,599 - training - INFO - Successfully saved optimizer to /content/drive/MyDrive/XAI_ProfAI/experiments/signature_detection_baseline_v1/weights/signature_detection_baseline_v1-optim-35.pth\n",
            "INFO:training:Successfully saved optimizer to /content/drive/MyDrive/XAI_ProfAI/experiments/signature_detection_baseline_v1/weights/signature_detection_baseline_v1-optim-35.pth\n",
            "2025-07-28 09:24:26,638 - training - INFO - Removed old file: signature_detection_baseline_v1-weights-33-0.860-0.861-0.860-0.860-0.322-0.957-0.958-0.957-0.957-0.156.pth\n",
            "2025-07-28 09:24:26,638 - training - INFO - Removed old file: signature_detection_baseline_v1-weights-33-0.860-0.861-0.860-0.860-0.322-0.957-0.958-0.957-0.957-0.156.pth\n",
            "2025-07-28 09:24:26,638 - training - INFO - Removed old file: signature_detection_baseline_v1-weights-33-0.860-0.861-0.860-0.860-0.322-0.957-0.958-0.957-0.957-0.156.pth\n",
            "2025-07-28 09:24:26,638 - training - INFO - Removed old file: signature_detection_baseline_v1-weights-33-0.860-0.861-0.860-0.860-0.322-0.957-0.958-0.957-0.957-0.156.pth\n",
            "2025-07-28 09:24:26,638 - training - INFO - Removed old file: signature_detection_baseline_v1-weights-33-0.860-0.861-0.860-0.860-0.322-0.957-0.958-0.957-0.957-0.156.pth\n",
            "INFO:training:Removed old file: signature_detection_baseline_v1-weights-33-0.860-0.861-0.860-0.860-0.322-0.957-0.958-0.957-0.957-0.156.pth\n",
            "2025-07-28 09:24:26,650 - training - INFO - Removed old file: signature_detection_baseline_v1-optim-33.pth\n",
            "2025-07-28 09:24:26,650 - training - INFO - Removed old file: signature_detection_baseline_v1-optim-33.pth\n",
            "2025-07-28 09:24:26,650 - training - INFO - Removed old file: signature_detection_baseline_v1-optim-33.pth\n",
            "2025-07-28 09:24:26,650 - training - INFO - Removed old file: signature_detection_baseline_v1-optim-33.pth\n",
            "2025-07-28 09:24:26,650 - training - INFO - Removed old file: signature_detection_baseline_v1-optim-33.pth\n",
            "INFO:training:Removed old file: signature_detection_baseline_v1-optim-33.pth\n",
            "2025-07-28 09:24:26,659 - training - INFO - ModelCheckpoint: Saved model at epoch 35\n",
            "2025-07-28 09:24:26,659 - training - INFO - ModelCheckpoint: Saved model at epoch 35\n",
            "2025-07-28 09:24:26,659 - training - INFO - ModelCheckpoint: Saved model at epoch 35\n",
            "2025-07-28 09:24:26,659 - training - INFO - ModelCheckpoint: Saved model at epoch 35\n",
            "2025-07-28 09:24:26,659 - training - INFO - ModelCheckpoint: Saved model at epoch 35\n",
            "INFO:training:ModelCheckpoint: Saved model at epoch 35\n",
            "2025-07-28 09:24:26,668 - training - INFO - Epoch 36/50\n",
            "2025-07-28 09:24:26,668 - training - INFO - Epoch 36/50\n",
            "2025-07-28 09:24:26,668 - training - INFO - Epoch 36/50\n",
            "2025-07-28 09:24:26,668 - training - INFO - Epoch 36/50\n",
            "2025-07-28 09:24:26,668 - training - INFO - Epoch 36/50\n",
            "INFO:training:Epoch 36/50\n"
          ]
        },
        {
          "name": "stdout",
          "output_type": "stream",
          "text": [
            "\n",
            "Epoch 00035: val_loss improved from 0.15593 to 0.14208, saving model to best_baseline_model.pth\n"
          ]
        },
        {
          "name": "stderr",
          "output_type": "stream",
          "text": [
            "/usr/local/lib/python3.11/dist-packages/torch/utils/data/dataloader.py:624: UserWarning: This DataLoader will create 4 worker processes in total. Our suggested max number of worker in current system is 2, which is smaller than what this DataLoader is going to create. Please be aware that excessive worker creation might get DataLoader running slow or even freeze, lower the worker number to avoid potential slowness/freeze if necessary.\n",
            "  warnings.warn(\n",
            "/usr/local/lib/python3.11/dist-packages/torch/utils/data/dataloader.py:624: UserWarning: This DataLoader will create 4 worker processes in total. Our suggested max number of worker in current system is 2, which is smaller than what this DataLoader is going to create. Please be aware that excessive worker creation might get DataLoader running slow or even freeze, lower the worker number to avoid potential slowness/freeze if necessary.\n",
            "  warnings.warn(\n",
            "2025-07-28 09:24:41,045 - training - INFO - Epoca 36 - accuracy: 0.8849 | precision: 0.8851 | recall: 0.8849 | f1: 0.8849 | loss: 0.2935 | val_accuracy: 0.9571 | val_precision: 0.9590 | val_recall: 0.9571 | val_f1: 0.9570 | val_loss: 0.1427\n",
            "2025-07-28 09:24:41,045 - training - INFO - Epoca 36 - accuracy: 0.8849 | precision: 0.8851 | recall: 0.8849 | f1: 0.8849 | loss: 0.2935 | val_accuracy: 0.9571 | val_precision: 0.9590 | val_recall: 0.9571 | val_f1: 0.9570 | val_loss: 0.1427\n",
            "2025-07-28 09:24:41,045 - training - INFO - Epoca 36 - accuracy: 0.8849 | precision: 0.8851 | recall: 0.8849 | f1: 0.8849 | loss: 0.2935 | val_accuracy: 0.9571 | val_precision: 0.9590 | val_recall: 0.9571 | val_f1: 0.9570 | val_loss: 0.1427\n",
            "2025-07-28 09:24:41,045 - training - INFO - Epoca 36 - accuracy: 0.8849 | precision: 0.8851 | recall: 0.8849 | f1: 0.8849 | loss: 0.2935 | val_accuracy: 0.9571 | val_precision: 0.9590 | val_recall: 0.9571 | val_f1: 0.9570 | val_loss: 0.1427\n",
            "2025-07-28 09:24:41,045 - training - INFO - Epoca 36 - accuracy: 0.8849 | precision: 0.8851 | recall: 0.8849 | f1: 0.8849 | loss: 0.2935 | val_accuracy: 0.9571 | val_precision: 0.9590 | val_recall: 0.9571 | val_f1: 0.9570 | val_loss: 0.1427\n",
            "INFO:training:Epoca 36 - accuracy: 0.8849 | precision: 0.8851 | recall: 0.8849 | f1: 0.8849 | loss: 0.2935 | val_accuracy: 0.9571 | val_precision: 0.9590 | val_recall: 0.9571 | val_f1: 0.9570 | val_loss: 0.1427\n",
            "2025-07-28 09:24:42,763 - training - INFO - ModelCheckpoint: Saved model at epoch 36\n",
            "2025-07-28 09:24:42,763 - training - INFO - ModelCheckpoint: Saved model at epoch 36\n",
            "2025-07-28 09:24:42,763 - training - INFO - ModelCheckpoint: Saved model at epoch 36\n",
            "2025-07-28 09:24:42,763 - training - INFO - ModelCheckpoint: Saved model at epoch 36\n",
            "2025-07-28 09:24:42,763 - training - INFO - ModelCheckpoint: Saved model at epoch 36\n",
            "INFO:training:ModelCheckpoint: Saved model at epoch 36\n",
            "2025-07-28 09:24:42,773 - training - INFO - Epoch 37/50\n",
            "2025-07-28 09:24:42,773 - training - INFO - Epoch 37/50\n",
            "2025-07-28 09:24:42,773 - training - INFO - Epoch 37/50\n",
            "2025-07-28 09:24:42,773 - training - INFO - Epoch 37/50\n",
            "2025-07-28 09:24:42,773 - training - INFO - Epoch 37/50\n",
            "INFO:training:Epoch 37/50\n",
            "/usr/local/lib/python3.11/dist-packages/torch/utils/data/dataloader.py:624: UserWarning: This DataLoader will create 4 worker processes in total. Our suggested max number of worker in current system is 2, which is smaller than what this DataLoader is going to create. Please be aware that excessive worker creation might get DataLoader running slow or even freeze, lower the worker number to avoid potential slowness/freeze if necessary.\n",
            "  warnings.warn(\n",
            "/usr/local/lib/python3.11/dist-packages/torch/utils/data/dataloader.py:624: UserWarning: This DataLoader will create 4 worker processes in total. Our suggested max number of worker in current system is 2, which is smaller than what this DataLoader is going to create. Please be aware that excessive worker creation might get DataLoader running slow or even freeze, lower the worker number to avoid potential slowness/freeze if necessary.\n",
            "  warnings.warn(\n",
            "2025-07-28 09:24:57,263 - training - INFO - Epoca 37 - accuracy: 0.9013 | precision: 0.9019 | recall: 0.9013 | f1: 0.9013 | loss: 0.2534 | val_accuracy: 0.9747 | val_precision: 0.9760 | val_recall: 0.9747 | val_f1: 0.9747 | val_loss: 0.1208\n",
            "2025-07-28 09:24:57,263 - training - INFO - Epoca 37 - accuracy: 0.9013 | precision: 0.9019 | recall: 0.9013 | f1: 0.9013 | loss: 0.2534 | val_accuracy: 0.9747 | val_precision: 0.9760 | val_recall: 0.9747 | val_f1: 0.9747 | val_loss: 0.1208\n",
            "2025-07-28 09:24:57,263 - training - INFO - Epoca 37 - accuracy: 0.9013 | precision: 0.9019 | recall: 0.9013 | f1: 0.9013 | loss: 0.2534 | val_accuracy: 0.9747 | val_precision: 0.9760 | val_recall: 0.9747 | val_f1: 0.9747 | val_loss: 0.1208\n",
            "2025-07-28 09:24:57,263 - training - INFO - Epoca 37 - accuracy: 0.9013 | precision: 0.9019 | recall: 0.9013 | f1: 0.9013 | loss: 0.2534 | val_accuracy: 0.9747 | val_precision: 0.9760 | val_recall: 0.9747 | val_f1: 0.9747 | val_loss: 0.1208\n",
            "2025-07-28 09:24:57,263 - training - INFO - Epoca 37 - accuracy: 0.9013 | precision: 0.9019 | recall: 0.9013 | f1: 0.9013 | loss: 0.2534 | val_accuracy: 0.9747 | val_precision: 0.9760 | val_recall: 0.9747 | val_f1: 0.9747 | val_loss: 0.1208\n",
            "INFO:training:Epoca 37 - accuracy: 0.9013 | precision: 0.9019 | recall: 0.9013 | f1: 0.9013 | loss: 0.2534 | val_accuracy: 0.9747 | val_precision: 0.9760 | val_recall: 0.9747 | val_f1: 0.9747 | val_loss: 0.1208\n",
            "2025-07-28 09:24:59,057 - training - INFO - Successfully saved weights to /content/drive/MyDrive/XAI_ProfAI/experiments/signature_detection_baseline_v1/weights/signature_detection_baseline_v1-weights-37-0.901-0.902-0.901-0.901-0.253-0.975-0.976-0.975-0.975-0.121.pth\n",
            "2025-07-28 09:24:59,057 - training - INFO - Successfully saved weights to /content/drive/MyDrive/XAI_ProfAI/experiments/signature_detection_baseline_v1/weights/signature_detection_baseline_v1-weights-37-0.901-0.902-0.901-0.901-0.253-0.975-0.976-0.975-0.975-0.121.pth\n",
            "2025-07-28 09:24:59,057 - training - INFO - Successfully saved weights to /content/drive/MyDrive/XAI_ProfAI/experiments/signature_detection_baseline_v1/weights/signature_detection_baseline_v1-weights-37-0.901-0.902-0.901-0.901-0.253-0.975-0.976-0.975-0.975-0.121.pth\n",
            "2025-07-28 09:24:59,057 - training - INFO - Successfully saved weights to /content/drive/MyDrive/XAI_ProfAI/experiments/signature_detection_baseline_v1/weights/signature_detection_baseline_v1-weights-37-0.901-0.902-0.901-0.901-0.253-0.975-0.976-0.975-0.975-0.121.pth\n",
            "2025-07-28 09:24:59,057 - training - INFO - Successfully saved weights to /content/drive/MyDrive/XAI_ProfAI/experiments/signature_detection_baseline_v1/weights/signature_detection_baseline_v1-weights-37-0.901-0.902-0.901-0.901-0.253-0.975-0.976-0.975-0.975-0.121.pth\n",
            "INFO:training:Successfully saved weights to /content/drive/MyDrive/XAI_ProfAI/experiments/signature_detection_baseline_v1/weights/signature_detection_baseline_v1-weights-37-0.901-0.902-0.901-0.901-0.253-0.975-0.976-0.975-0.975-0.121.pth\n",
            "2025-07-28 09:24:59,099 - training - INFO - Successfully saved optimizer to /content/drive/MyDrive/XAI_ProfAI/experiments/signature_detection_baseline_v1/weights/signature_detection_baseline_v1-optim-37.pth\n",
            "2025-07-28 09:24:59,099 - training - INFO - Successfully saved optimizer to /content/drive/MyDrive/XAI_ProfAI/experiments/signature_detection_baseline_v1/weights/signature_detection_baseline_v1-optim-37.pth\n",
            "2025-07-28 09:24:59,099 - training - INFO - Successfully saved optimizer to /content/drive/MyDrive/XAI_ProfAI/experiments/signature_detection_baseline_v1/weights/signature_detection_baseline_v1-optim-37.pth\n",
            "2025-07-28 09:24:59,099 - training - INFO - Successfully saved optimizer to /content/drive/MyDrive/XAI_ProfAI/experiments/signature_detection_baseline_v1/weights/signature_detection_baseline_v1-optim-37.pth\n",
            "2025-07-28 09:24:59,099 - training - INFO - Successfully saved optimizer to /content/drive/MyDrive/XAI_ProfAI/experiments/signature_detection_baseline_v1/weights/signature_detection_baseline_v1-optim-37.pth\n",
            "INFO:training:Successfully saved optimizer to /content/drive/MyDrive/XAI_ProfAI/experiments/signature_detection_baseline_v1/weights/signature_detection_baseline_v1-optim-37.pth\n",
            "2025-07-28 09:24:59,123 - training - INFO - Removed old file: signature_detection_baseline_v1-weights-35-0.859-0.859-0.859-0.858-0.325-0.965-0.965-0.965-0.965-0.142.pth\n",
            "2025-07-28 09:24:59,123 - training - INFO - Removed old file: signature_detection_baseline_v1-weights-35-0.859-0.859-0.859-0.858-0.325-0.965-0.965-0.965-0.965-0.142.pth\n",
            "2025-07-28 09:24:59,123 - training - INFO - Removed old file: signature_detection_baseline_v1-weights-35-0.859-0.859-0.859-0.858-0.325-0.965-0.965-0.965-0.965-0.142.pth\n",
            "2025-07-28 09:24:59,123 - training - INFO - Removed old file: signature_detection_baseline_v1-weights-35-0.859-0.859-0.859-0.858-0.325-0.965-0.965-0.965-0.965-0.142.pth\n",
            "2025-07-28 09:24:59,123 - training - INFO - Removed old file: signature_detection_baseline_v1-weights-35-0.859-0.859-0.859-0.858-0.325-0.965-0.965-0.965-0.965-0.142.pth\n",
            "INFO:training:Removed old file: signature_detection_baseline_v1-weights-35-0.859-0.859-0.859-0.858-0.325-0.965-0.965-0.965-0.965-0.142.pth\n",
            "2025-07-28 09:24:59,131 - training - INFO - Removed old file: signature_detection_baseline_v1-optim-35.pth\n",
            "2025-07-28 09:24:59,131 - training - INFO - Removed old file: signature_detection_baseline_v1-optim-35.pth\n",
            "2025-07-28 09:24:59,131 - training - INFO - Removed old file: signature_detection_baseline_v1-optim-35.pth\n",
            "2025-07-28 09:24:59,131 - training - INFO - Removed old file: signature_detection_baseline_v1-optim-35.pth\n",
            "2025-07-28 09:24:59,131 - training - INFO - Removed old file: signature_detection_baseline_v1-optim-35.pth\n",
            "INFO:training:Removed old file: signature_detection_baseline_v1-optim-35.pth\n",
            "2025-07-28 09:24:59,136 - training - INFO - ModelCheckpoint: Saved model at epoch 37\n",
            "2025-07-28 09:24:59,136 - training - INFO - ModelCheckpoint: Saved model at epoch 37\n",
            "2025-07-28 09:24:59,136 - training - INFO - ModelCheckpoint: Saved model at epoch 37\n",
            "2025-07-28 09:24:59,136 - training - INFO - ModelCheckpoint: Saved model at epoch 37\n",
            "2025-07-28 09:24:59,136 - training - INFO - ModelCheckpoint: Saved model at epoch 37\n",
            "INFO:training:ModelCheckpoint: Saved model at epoch 37\n",
            "2025-07-28 09:24:59,140 - training - INFO - Epoch 38/50\n",
            "2025-07-28 09:24:59,140 - training - INFO - Epoch 38/50\n",
            "2025-07-28 09:24:59,140 - training - INFO - Epoch 38/50\n",
            "2025-07-28 09:24:59,140 - training - INFO - Epoch 38/50\n",
            "2025-07-28 09:24:59,140 - training - INFO - Epoch 38/50\n",
            "INFO:training:Epoch 38/50\n"
          ]
        },
        {
          "name": "stdout",
          "output_type": "stream",
          "text": [
            "\n",
            "Epoch 00037: val_loss improved from 0.14208 to 0.12084, saving model to best_baseline_model.pth\n"
          ]
        },
        {
          "name": "stderr",
          "output_type": "stream",
          "text": [
            "/usr/local/lib/python3.11/dist-packages/torch/utils/data/dataloader.py:624: UserWarning: This DataLoader will create 4 worker processes in total. Our suggested max number of worker in current system is 2, which is smaller than what this DataLoader is going to create. Please be aware that excessive worker creation might get DataLoader running slow or even freeze, lower the worker number to avoid potential slowness/freeze if necessary.\n",
            "  warnings.warn(\n",
            "/usr/local/lib/python3.11/dist-packages/torch/utils/data/dataloader.py:624: UserWarning: This DataLoader will create 4 worker processes in total. Our suggested max number of worker in current system is 2, which is smaller than what this DataLoader is going to create. Please be aware that excessive worker creation might get DataLoader running slow or even freeze, lower the worker number to avoid potential slowness/freeze if necessary.\n",
            "  warnings.warn(\n",
            "2025-07-28 09:25:13,849 - training - INFO - Epoca 38 - accuracy: 0.8832 | precision: 0.8838 | recall: 0.8832 | f1: 0.8832 | loss: 0.2885 | val_accuracy: 0.9773 | val_precision: 0.9774 | val_recall: 0.9773 | val_f1: 0.9773 | val_loss: 0.0976\n",
            "2025-07-28 09:25:13,849 - training - INFO - Epoca 38 - accuracy: 0.8832 | precision: 0.8838 | recall: 0.8832 | f1: 0.8832 | loss: 0.2885 | val_accuracy: 0.9773 | val_precision: 0.9774 | val_recall: 0.9773 | val_f1: 0.9773 | val_loss: 0.0976\n",
            "2025-07-28 09:25:13,849 - training - INFO - Epoca 38 - accuracy: 0.8832 | precision: 0.8838 | recall: 0.8832 | f1: 0.8832 | loss: 0.2885 | val_accuracy: 0.9773 | val_precision: 0.9774 | val_recall: 0.9773 | val_f1: 0.9773 | val_loss: 0.0976\n",
            "2025-07-28 09:25:13,849 - training - INFO - Epoca 38 - accuracy: 0.8832 | precision: 0.8838 | recall: 0.8832 | f1: 0.8832 | loss: 0.2885 | val_accuracy: 0.9773 | val_precision: 0.9774 | val_recall: 0.9773 | val_f1: 0.9773 | val_loss: 0.0976\n",
            "2025-07-28 09:25:13,849 - training - INFO - Epoca 38 - accuracy: 0.8832 | precision: 0.8838 | recall: 0.8832 | f1: 0.8832 | loss: 0.2885 | val_accuracy: 0.9773 | val_precision: 0.9774 | val_recall: 0.9773 | val_f1: 0.9773 | val_loss: 0.0976\n",
            "INFO:training:Epoca 38 - accuracy: 0.8832 | precision: 0.8838 | recall: 0.8832 | f1: 0.8832 | loss: 0.2885 | val_accuracy: 0.9773 | val_precision: 0.9774 | val_recall: 0.9773 | val_f1: 0.9773 | val_loss: 0.0976\n",
            "2025-07-28 09:25:15,645 - training - INFO - Successfully saved weights to /content/drive/MyDrive/XAI_ProfAI/experiments/signature_detection_baseline_v1/weights/signature_detection_baseline_v1-weights-38-0.883-0.884-0.883-0.883-0.289-0.977-0.977-0.977-0.977-0.098.pth\n",
            "2025-07-28 09:25:15,645 - training - INFO - Successfully saved weights to /content/drive/MyDrive/XAI_ProfAI/experiments/signature_detection_baseline_v1/weights/signature_detection_baseline_v1-weights-38-0.883-0.884-0.883-0.883-0.289-0.977-0.977-0.977-0.977-0.098.pth\n",
            "2025-07-28 09:25:15,645 - training - INFO - Successfully saved weights to /content/drive/MyDrive/XAI_ProfAI/experiments/signature_detection_baseline_v1/weights/signature_detection_baseline_v1-weights-38-0.883-0.884-0.883-0.883-0.289-0.977-0.977-0.977-0.977-0.098.pth\n",
            "2025-07-28 09:25:15,645 - training - INFO - Successfully saved weights to /content/drive/MyDrive/XAI_ProfAI/experiments/signature_detection_baseline_v1/weights/signature_detection_baseline_v1-weights-38-0.883-0.884-0.883-0.883-0.289-0.977-0.977-0.977-0.977-0.098.pth\n",
            "2025-07-28 09:25:15,645 - training - INFO - Successfully saved weights to /content/drive/MyDrive/XAI_ProfAI/experiments/signature_detection_baseline_v1/weights/signature_detection_baseline_v1-weights-38-0.883-0.884-0.883-0.883-0.289-0.977-0.977-0.977-0.977-0.098.pth\n",
            "INFO:training:Successfully saved weights to /content/drive/MyDrive/XAI_ProfAI/experiments/signature_detection_baseline_v1/weights/signature_detection_baseline_v1-weights-38-0.883-0.884-0.883-0.883-0.289-0.977-0.977-0.977-0.977-0.098.pth\n",
            "2025-07-28 09:25:15,683 - training - INFO - Successfully saved optimizer to /content/drive/MyDrive/XAI_ProfAI/experiments/signature_detection_baseline_v1/weights/signature_detection_baseline_v1-optim-38.pth\n",
            "2025-07-28 09:25:15,683 - training - INFO - Successfully saved optimizer to /content/drive/MyDrive/XAI_ProfAI/experiments/signature_detection_baseline_v1/weights/signature_detection_baseline_v1-optim-38.pth\n",
            "2025-07-28 09:25:15,683 - training - INFO - Successfully saved optimizer to /content/drive/MyDrive/XAI_ProfAI/experiments/signature_detection_baseline_v1/weights/signature_detection_baseline_v1-optim-38.pth\n",
            "2025-07-28 09:25:15,683 - training - INFO - Successfully saved optimizer to /content/drive/MyDrive/XAI_ProfAI/experiments/signature_detection_baseline_v1/weights/signature_detection_baseline_v1-optim-38.pth\n",
            "2025-07-28 09:25:15,683 - training - INFO - Successfully saved optimizer to /content/drive/MyDrive/XAI_ProfAI/experiments/signature_detection_baseline_v1/weights/signature_detection_baseline_v1-optim-38.pth\n",
            "INFO:training:Successfully saved optimizer to /content/drive/MyDrive/XAI_ProfAI/experiments/signature_detection_baseline_v1/weights/signature_detection_baseline_v1-optim-38.pth\n",
            "2025-07-28 09:25:15,713 - training - INFO - Removed old file: signature_detection_baseline_v1-weights-37-0.901-0.902-0.901-0.901-0.253-0.975-0.976-0.975-0.975-0.121.pth\n",
            "2025-07-28 09:25:15,713 - training - INFO - Removed old file: signature_detection_baseline_v1-weights-37-0.901-0.902-0.901-0.901-0.253-0.975-0.976-0.975-0.975-0.121.pth\n",
            "2025-07-28 09:25:15,713 - training - INFO - Removed old file: signature_detection_baseline_v1-weights-37-0.901-0.902-0.901-0.901-0.253-0.975-0.976-0.975-0.975-0.121.pth\n",
            "2025-07-28 09:25:15,713 - training - INFO - Removed old file: signature_detection_baseline_v1-weights-37-0.901-0.902-0.901-0.901-0.253-0.975-0.976-0.975-0.975-0.121.pth\n",
            "2025-07-28 09:25:15,713 - training - INFO - Removed old file: signature_detection_baseline_v1-weights-37-0.901-0.902-0.901-0.901-0.253-0.975-0.976-0.975-0.975-0.121.pth\n",
            "INFO:training:Removed old file: signature_detection_baseline_v1-weights-37-0.901-0.902-0.901-0.901-0.253-0.975-0.976-0.975-0.975-0.121.pth\n",
            "2025-07-28 09:25:15,724 - training - INFO - Removed old file: signature_detection_baseline_v1-optim-37.pth\n",
            "2025-07-28 09:25:15,724 - training - INFO - Removed old file: signature_detection_baseline_v1-optim-37.pth\n",
            "2025-07-28 09:25:15,724 - training - INFO - Removed old file: signature_detection_baseline_v1-optim-37.pth\n",
            "2025-07-28 09:25:15,724 - training - INFO - Removed old file: signature_detection_baseline_v1-optim-37.pth\n",
            "2025-07-28 09:25:15,724 - training - INFO - Removed old file: signature_detection_baseline_v1-optim-37.pth\n",
            "INFO:training:Removed old file: signature_detection_baseline_v1-optim-37.pth\n",
            "2025-07-28 09:25:15,728 - training - INFO - ModelCheckpoint: Saved model at epoch 38\n",
            "2025-07-28 09:25:15,728 - training - INFO - ModelCheckpoint: Saved model at epoch 38\n",
            "2025-07-28 09:25:15,728 - training - INFO - ModelCheckpoint: Saved model at epoch 38\n",
            "2025-07-28 09:25:15,728 - training - INFO - ModelCheckpoint: Saved model at epoch 38\n",
            "2025-07-28 09:25:15,728 - training - INFO - ModelCheckpoint: Saved model at epoch 38\n",
            "INFO:training:ModelCheckpoint: Saved model at epoch 38\n",
            "2025-07-28 09:25:15,734 - training - INFO - Epoch 39/50\n",
            "2025-07-28 09:25:15,734 - training - INFO - Epoch 39/50\n",
            "2025-07-28 09:25:15,734 - training - INFO - Epoch 39/50\n",
            "2025-07-28 09:25:15,734 - training - INFO - Epoch 39/50\n",
            "2025-07-28 09:25:15,734 - training - INFO - Epoch 39/50\n",
            "INFO:training:Epoch 39/50\n"
          ]
        },
        {
          "name": "stdout",
          "output_type": "stream",
          "text": [
            "\n",
            "Epoch 00038: val_loss improved from 0.12084 to 0.09755, saving model to best_baseline_model.pth\n"
          ]
        },
        {
          "name": "stderr",
          "output_type": "stream",
          "text": [
            "/usr/local/lib/python3.11/dist-packages/torch/utils/data/dataloader.py:624: UserWarning: This DataLoader will create 4 worker processes in total. Our suggested max number of worker in current system is 2, which is smaller than what this DataLoader is going to create. Please be aware that excessive worker creation might get DataLoader running slow or even freeze, lower the worker number to avoid potential slowness/freeze if necessary.\n",
            "  warnings.warn(\n",
            "/usr/local/lib/python3.11/dist-packages/torch/utils/data/dataloader.py:624: UserWarning: This DataLoader will create 4 worker processes in total. Our suggested max number of worker in current system is 2, which is smaller than what this DataLoader is going to create. Please be aware that excessive worker creation might get DataLoader running slow or even freeze, lower the worker number to avoid potential slowness/freeze if necessary.\n",
            "  warnings.warn(\n",
            "2025-07-28 09:25:30,107 - training - INFO - Epoca 39 - accuracy: 0.8969 | precision: 0.8972 | recall: 0.8969 | f1: 0.8969 | loss: 0.2533 | val_accuracy: 0.9874 | val_precision: 0.9874 | val_recall: 0.9874 | val_f1: 0.9874 | val_loss: 0.0767\n",
            "2025-07-28 09:25:30,107 - training - INFO - Epoca 39 - accuracy: 0.8969 | precision: 0.8972 | recall: 0.8969 | f1: 0.8969 | loss: 0.2533 | val_accuracy: 0.9874 | val_precision: 0.9874 | val_recall: 0.9874 | val_f1: 0.9874 | val_loss: 0.0767\n",
            "2025-07-28 09:25:30,107 - training - INFO - Epoca 39 - accuracy: 0.8969 | precision: 0.8972 | recall: 0.8969 | f1: 0.8969 | loss: 0.2533 | val_accuracy: 0.9874 | val_precision: 0.9874 | val_recall: 0.9874 | val_f1: 0.9874 | val_loss: 0.0767\n",
            "2025-07-28 09:25:30,107 - training - INFO - Epoca 39 - accuracy: 0.8969 | precision: 0.8972 | recall: 0.8969 | f1: 0.8969 | loss: 0.2533 | val_accuracy: 0.9874 | val_precision: 0.9874 | val_recall: 0.9874 | val_f1: 0.9874 | val_loss: 0.0767\n",
            "2025-07-28 09:25:30,107 - training - INFO - Epoca 39 - accuracy: 0.8969 | precision: 0.8972 | recall: 0.8969 | f1: 0.8969 | loss: 0.2533 | val_accuracy: 0.9874 | val_precision: 0.9874 | val_recall: 0.9874 | val_f1: 0.9874 | val_loss: 0.0767\n",
            "INFO:training:Epoca 39 - accuracy: 0.8969 | precision: 0.8972 | recall: 0.8969 | f1: 0.8969 | loss: 0.2533 | val_accuracy: 0.9874 | val_precision: 0.9874 | val_recall: 0.9874 | val_f1: 0.9874 | val_loss: 0.0767\n",
            "2025-07-28 09:25:32,016 - training - INFO - Successfully saved weights to /content/drive/MyDrive/XAI_ProfAI/experiments/signature_detection_baseline_v1/weights/signature_detection_baseline_v1-weights-39-0.897-0.897-0.897-0.897-0.253-0.987-0.987-0.987-0.987-0.077.pth\n",
            "2025-07-28 09:25:32,016 - training - INFO - Successfully saved weights to /content/drive/MyDrive/XAI_ProfAI/experiments/signature_detection_baseline_v1/weights/signature_detection_baseline_v1-weights-39-0.897-0.897-0.897-0.897-0.253-0.987-0.987-0.987-0.987-0.077.pth\n",
            "2025-07-28 09:25:32,016 - training - INFO - Successfully saved weights to /content/drive/MyDrive/XAI_ProfAI/experiments/signature_detection_baseline_v1/weights/signature_detection_baseline_v1-weights-39-0.897-0.897-0.897-0.897-0.253-0.987-0.987-0.987-0.987-0.077.pth\n",
            "2025-07-28 09:25:32,016 - training - INFO - Successfully saved weights to /content/drive/MyDrive/XAI_ProfAI/experiments/signature_detection_baseline_v1/weights/signature_detection_baseline_v1-weights-39-0.897-0.897-0.897-0.897-0.253-0.987-0.987-0.987-0.987-0.077.pth\n",
            "2025-07-28 09:25:32,016 - training - INFO - Successfully saved weights to /content/drive/MyDrive/XAI_ProfAI/experiments/signature_detection_baseline_v1/weights/signature_detection_baseline_v1-weights-39-0.897-0.897-0.897-0.897-0.253-0.987-0.987-0.987-0.987-0.077.pth\n",
            "INFO:training:Successfully saved weights to /content/drive/MyDrive/XAI_ProfAI/experiments/signature_detection_baseline_v1/weights/signature_detection_baseline_v1-weights-39-0.897-0.897-0.897-0.897-0.253-0.987-0.987-0.987-0.987-0.077.pth\n",
            "2025-07-28 09:25:32,064 - training - INFO - Successfully saved optimizer to /content/drive/MyDrive/XAI_ProfAI/experiments/signature_detection_baseline_v1/weights/signature_detection_baseline_v1-optim-39.pth\n",
            "2025-07-28 09:25:32,064 - training - INFO - Successfully saved optimizer to /content/drive/MyDrive/XAI_ProfAI/experiments/signature_detection_baseline_v1/weights/signature_detection_baseline_v1-optim-39.pth\n",
            "2025-07-28 09:25:32,064 - training - INFO - Successfully saved optimizer to /content/drive/MyDrive/XAI_ProfAI/experiments/signature_detection_baseline_v1/weights/signature_detection_baseline_v1-optim-39.pth\n",
            "2025-07-28 09:25:32,064 - training - INFO - Successfully saved optimizer to /content/drive/MyDrive/XAI_ProfAI/experiments/signature_detection_baseline_v1/weights/signature_detection_baseline_v1-optim-39.pth\n",
            "2025-07-28 09:25:32,064 - training - INFO - Successfully saved optimizer to /content/drive/MyDrive/XAI_ProfAI/experiments/signature_detection_baseline_v1/weights/signature_detection_baseline_v1-optim-39.pth\n",
            "INFO:training:Successfully saved optimizer to /content/drive/MyDrive/XAI_ProfAI/experiments/signature_detection_baseline_v1/weights/signature_detection_baseline_v1-optim-39.pth\n",
            "2025-07-28 09:25:32,095 - training - INFO - Removed old file: signature_detection_baseline_v1-weights-38-0.883-0.884-0.883-0.883-0.289-0.977-0.977-0.977-0.977-0.098.pth\n",
            "2025-07-28 09:25:32,095 - training - INFO - Removed old file: signature_detection_baseline_v1-weights-38-0.883-0.884-0.883-0.883-0.289-0.977-0.977-0.977-0.977-0.098.pth\n",
            "2025-07-28 09:25:32,095 - training - INFO - Removed old file: signature_detection_baseline_v1-weights-38-0.883-0.884-0.883-0.883-0.289-0.977-0.977-0.977-0.977-0.098.pth\n",
            "2025-07-28 09:25:32,095 - training - INFO - Removed old file: signature_detection_baseline_v1-weights-38-0.883-0.884-0.883-0.883-0.289-0.977-0.977-0.977-0.977-0.098.pth\n",
            "2025-07-28 09:25:32,095 - training - INFO - Removed old file: signature_detection_baseline_v1-weights-38-0.883-0.884-0.883-0.883-0.289-0.977-0.977-0.977-0.977-0.098.pth\n",
            "INFO:training:Removed old file: signature_detection_baseline_v1-weights-38-0.883-0.884-0.883-0.883-0.289-0.977-0.977-0.977-0.977-0.098.pth\n",
            "2025-07-28 09:25:32,104 - training - INFO - Removed old file: signature_detection_baseline_v1-optim-38.pth\n",
            "2025-07-28 09:25:32,104 - training - INFO - Removed old file: signature_detection_baseline_v1-optim-38.pth\n",
            "2025-07-28 09:25:32,104 - training - INFO - Removed old file: signature_detection_baseline_v1-optim-38.pth\n",
            "2025-07-28 09:25:32,104 - training - INFO - Removed old file: signature_detection_baseline_v1-optim-38.pth\n",
            "2025-07-28 09:25:32,104 - training - INFO - Removed old file: signature_detection_baseline_v1-optim-38.pth\n",
            "INFO:training:Removed old file: signature_detection_baseline_v1-optim-38.pth\n",
            "2025-07-28 09:25:32,114 - training - INFO - ModelCheckpoint: Saved model at epoch 39\n",
            "2025-07-28 09:25:32,114 - training - INFO - ModelCheckpoint: Saved model at epoch 39\n",
            "2025-07-28 09:25:32,114 - training - INFO - ModelCheckpoint: Saved model at epoch 39\n",
            "2025-07-28 09:25:32,114 - training - INFO - ModelCheckpoint: Saved model at epoch 39\n",
            "2025-07-28 09:25:32,114 - training - INFO - ModelCheckpoint: Saved model at epoch 39\n",
            "INFO:training:ModelCheckpoint: Saved model at epoch 39\n",
            "2025-07-28 09:25:32,119 - training - INFO - Epoch 40/50\n",
            "2025-07-28 09:25:32,119 - training - INFO - Epoch 40/50\n",
            "2025-07-28 09:25:32,119 - training - INFO - Epoch 40/50\n",
            "2025-07-28 09:25:32,119 - training - INFO - Epoch 40/50\n",
            "2025-07-28 09:25:32,119 - training - INFO - Epoch 40/50\n",
            "INFO:training:Epoch 40/50\n"
          ]
        },
        {
          "name": "stdout",
          "output_type": "stream",
          "text": [
            "\n",
            "Epoch 00039: val_loss improved from 0.09755 to 0.07668, saving model to best_baseline_model.pth\n"
          ]
        },
        {
          "name": "stderr",
          "output_type": "stream",
          "text": [
            "/usr/local/lib/python3.11/dist-packages/torch/utils/data/dataloader.py:624: UserWarning: This DataLoader will create 4 worker processes in total. Our suggested max number of worker in current system is 2, which is smaller than what this DataLoader is going to create. Please be aware that excessive worker creation might get DataLoader running slow or even freeze, lower the worker number to avoid potential slowness/freeze if necessary.\n",
            "  warnings.warn(\n",
            "/usr/local/lib/python3.11/dist-packages/torch/utils/data/dataloader.py:624: UserWarning: This DataLoader will create 4 worker processes in total. Our suggested max number of worker in current system is 2, which is smaller than what this DataLoader is going to create. Please be aware that excessive worker creation might get DataLoader running slow or even freeze, lower the worker number to avoid potential slowness/freeze if necessary.\n",
            "  warnings.warn(\n",
            "2025-07-28 09:25:46,696 - training - INFO - Epoca 40 - accuracy: 0.8914 | precision: 0.8919 | recall: 0.8914 | f1: 0.8914 | loss: 0.2736 | val_accuracy: 0.9066 | val_precision: 0.9213 | val_recall: 0.9066 | val_f1: 0.9057 | val_loss: 0.2161\n",
            "2025-07-28 09:25:46,696 - training - INFO - Epoca 40 - accuracy: 0.8914 | precision: 0.8919 | recall: 0.8914 | f1: 0.8914 | loss: 0.2736 | val_accuracy: 0.9066 | val_precision: 0.9213 | val_recall: 0.9066 | val_f1: 0.9057 | val_loss: 0.2161\n",
            "2025-07-28 09:25:46,696 - training - INFO - Epoca 40 - accuracy: 0.8914 | precision: 0.8919 | recall: 0.8914 | f1: 0.8914 | loss: 0.2736 | val_accuracy: 0.9066 | val_precision: 0.9213 | val_recall: 0.9066 | val_f1: 0.9057 | val_loss: 0.2161\n",
            "2025-07-28 09:25:46,696 - training - INFO - Epoca 40 - accuracy: 0.8914 | precision: 0.8919 | recall: 0.8914 | f1: 0.8914 | loss: 0.2736 | val_accuracy: 0.9066 | val_precision: 0.9213 | val_recall: 0.9066 | val_f1: 0.9057 | val_loss: 0.2161\n",
            "2025-07-28 09:25:46,696 - training - INFO - Epoca 40 - accuracy: 0.8914 | precision: 0.8919 | recall: 0.8914 | f1: 0.8914 | loss: 0.2736 | val_accuracy: 0.9066 | val_precision: 0.9213 | val_recall: 0.9066 | val_f1: 0.9057 | val_loss: 0.2161\n",
            "INFO:training:Epoca 40 - accuracy: 0.8914 | precision: 0.8919 | recall: 0.8914 | f1: 0.8914 | loss: 0.2736 | val_accuracy: 0.9066 | val_precision: 0.9213 | val_recall: 0.9066 | val_f1: 0.9057 | val_loss: 0.2161\n",
            "2025-07-28 09:25:49,247 - training - INFO - ModelCheckpoint: Saved model at epoch 40\n",
            "2025-07-28 09:25:49,247 - training - INFO - ModelCheckpoint: Saved model at epoch 40\n",
            "2025-07-28 09:25:49,247 - training - INFO - ModelCheckpoint: Saved model at epoch 40\n",
            "2025-07-28 09:25:49,247 - training - INFO - ModelCheckpoint: Saved model at epoch 40\n",
            "2025-07-28 09:25:49,247 - training - INFO - ModelCheckpoint: Saved model at epoch 40\n",
            "INFO:training:ModelCheckpoint: Saved model at epoch 40\n",
            "2025-07-28 09:25:49,256 - training - INFO - Epoch 41/50\n",
            "2025-07-28 09:25:49,256 - training - INFO - Epoch 41/50\n",
            "2025-07-28 09:25:49,256 - training - INFO - Epoch 41/50\n",
            "2025-07-28 09:25:49,256 - training - INFO - Epoch 41/50\n",
            "2025-07-28 09:25:49,256 - training - INFO - Epoch 41/50\n",
            "INFO:training:Epoch 41/50\n",
            "/usr/local/lib/python3.11/dist-packages/torch/utils/data/dataloader.py:624: UserWarning: This DataLoader will create 4 worker processes in total. Our suggested max number of worker in current system is 2, which is smaller than what this DataLoader is going to create. Please be aware that excessive worker creation might get DataLoader running slow or even freeze, lower the worker number to avoid potential slowness/freeze if necessary.\n",
            "  warnings.warn(\n",
            "/usr/local/lib/python3.11/dist-packages/torch/utils/data/dataloader.py:624: UserWarning: This DataLoader will create 4 worker processes in total. Our suggested max number of worker in current system is 2, which is smaller than what this DataLoader is going to create. Please be aware that excessive worker creation might get DataLoader running slow or even freeze, lower the worker number to avoid potential slowness/freeze if necessary.\n",
            "  warnings.warn(\n",
            "2025-07-28 09:26:03,726 - training - INFO - Epoca 41 - accuracy: 0.8788 | precision: 0.8793 | recall: 0.8788 | f1: 0.8788 | loss: 0.2909 | val_accuracy: 0.8864 | val_precision: 0.9074 | val_recall: 0.8864 | val_f1: 0.8849 | val_loss: 0.2568\n",
            "2025-07-28 09:26:03,726 - training - INFO - Epoca 41 - accuracy: 0.8788 | precision: 0.8793 | recall: 0.8788 | f1: 0.8788 | loss: 0.2909 | val_accuracy: 0.8864 | val_precision: 0.9074 | val_recall: 0.8864 | val_f1: 0.8849 | val_loss: 0.2568\n",
            "2025-07-28 09:26:03,726 - training - INFO - Epoca 41 - accuracy: 0.8788 | precision: 0.8793 | recall: 0.8788 | f1: 0.8788 | loss: 0.2909 | val_accuracy: 0.8864 | val_precision: 0.9074 | val_recall: 0.8864 | val_f1: 0.8849 | val_loss: 0.2568\n",
            "2025-07-28 09:26:03,726 - training - INFO - Epoca 41 - accuracy: 0.8788 | precision: 0.8793 | recall: 0.8788 | f1: 0.8788 | loss: 0.2909 | val_accuracy: 0.8864 | val_precision: 0.9074 | val_recall: 0.8864 | val_f1: 0.8849 | val_loss: 0.2568\n",
            "2025-07-28 09:26:03,726 - training - INFO - Epoca 41 - accuracy: 0.8788 | precision: 0.8793 | recall: 0.8788 | f1: 0.8788 | loss: 0.2909 | val_accuracy: 0.8864 | val_precision: 0.9074 | val_recall: 0.8864 | val_f1: 0.8849 | val_loss: 0.2568\n",
            "INFO:training:Epoca 41 - accuracy: 0.8788 | precision: 0.8793 | recall: 0.8788 | f1: 0.8788 | loss: 0.2909 | val_accuracy: 0.8864 | val_precision: 0.9074 | val_recall: 0.8864 | val_f1: 0.8849 | val_loss: 0.2568\n",
            "2025-07-28 09:26:05,546 - training - INFO - ModelCheckpoint: Saved model at epoch 41\n",
            "2025-07-28 09:26:05,546 - training - INFO - ModelCheckpoint: Saved model at epoch 41\n",
            "2025-07-28 09:26:05,546 - training - INFO - ModelCheckpoint: Saved model at epoch 41\n",
            "2025-07-28 09:26:05,546 - training - INFO - ModelCheckpoint: Saved model at epoch 41\n",
            "2025-07-28 09:26:05,546 - training - INFO - ModelCheckpoint: Saved model at epoch 41\n",
            "INFO:training:ModelCheckpoint: Saved model at epoch 41\n",
            "2025-07-28 09:26:05,551 - training - INFO - Epoch 42/50\n",
            "2025-07-28 09:26:05,551 - training - INFO - Epoch 42/50\n",
            "2025-07-28 09:26:05,551 - training - INFO - Epoch 42/50\n",
            "2025-07-28 09:26:05,551 - training - INFO - Epoch 42/50\n",
            "2025-07-28 09:26:05,551 - training - INFO - Epoch 42/50\n",
            "INFO:training:Epoch 42/50\n",
            "/usr/local/lib/python3.11/dist-packages/torch/utils/data/dataloader.py:624: UserWarning: This DataLoader will create 4 worker processes in total. Our suggested max number of worker in current system is 2, which is smaller than what this DataLoader is going to create. Please be aware that excessive worker creation might get DataLoader running slow or even freeze, lower the worker number to avoid potential slowness/freeze if necessary.\n",
            "  warnings.warn(\n",
            "/usr/local/lib/python3.11/dist-packages/torch/utils/data/dataloader.py:624: UserWarning: This DataLoader will create 4 worker processes in total. Our suggested max number of worker in current system is 2, which is smaller than what this DataLoader is going to create. Please be aware that excessive worker creation might get DataLoader running slow or even freeze, lower the worker number to avoid potential slowness/freeze if necessary.\n",
            "  warnings.warn(\n",
            "2025-07-28 09:26:19,982 - training - INFO - Epoca 42 - accuracy: 0.8980 | precision: 0.8983 | recall: 0.8980 | f1: 0.8980 | loss: 0.2459 | val_accuracy: 0.9823 | val_precision: 0.9823 | val_recall: 0.9823 | val_f1: 0.9823 | val_loss: 0.0901\n",
            "2025-07-28 09:26:19,982 - training - INFO - Epoca 42 - accuracy: 0.8980 | precision: 0.8983 | recall: 0.8980 | f1: 0.8980 | loss: 0.2459 | val_accuracy: 0.9823 | val_precision: 0.9823 | val_recall: 0.9823 | val_f1: 0.9823 | val_loss: 0.0901\n",
            "2025-07-28 09:26:19,982 - training - INFO - Epoca 42 - accuracy: 0.8980 | precision: 0.8983 | recall: 0.8980 | f1: 0.8980 | loss: 0.2459 | val_accuracy: 0.9823 | val_precision: 0.9823 | val_recall: 0.9823 | val_f1: 0.9823 | val_loss: 0.0901\n",
            "2025-07-28 09:26:19,982 - training - INFO - Epoca 42 - accuracy: 0.8980 | precision: 0.8983 | recall: 0.8980 | f1: 0.8980 | loss: 0.2459 | val_accuracy: 0.9823 | val_precision: 0.9823 | val_recall: 0.9823 | val_f1: 0.9823 | val_loss: 0.0901\n",
            "2025-07-28 09:26:19,982 - training - INFO - Epoca 42 - accuracy: 0.8980 | precision: 0.8983 | recall: 0.8980 | f1: 0.8980 | loss: 0.2459 | val_accuracy: 0.9823 | val_precision: 0.9823 | val_recall: 0.9823 | val_f1: 0.9823 | val_loss: 0.0901\n",
            "INFO:training:Epoca 42 - accuracy: 0.8980 | precision: 0.8983 | recall: 0.8980 | f1: 0.8980 | loss: 0.2459 | val_accuracy: 0.9823 | val_precision: 0.9823 | val_recall: 0.9823 | val_f1: 0.9823 | val_loss: 0.0901\n",
            "2025-07-28 09:26:22,605 - training - INFO - ModelCheckpoint: Saved model at epoch 42\n",
            "2025-07-28 09:26:22,605 - training - INFO - ModelCheckpoint: Saved model at epoch 42\n",
            "2025-07-28 09:26:22,605 - training - INFO - ModelCheckpoint: Saved model at epoch 42\n",
            "2025-07-28 09:26:22,605 - training - INFO - ModelCheckpoint: Saved model at epoch 42\n",
            "2025-07-28 09:26:22,605 - training - INFO - ModelCheckpoint: Saved model at epoch 42\n",
            "INFO:training:ModelCheckpoint: Saved model at epoch 42\n",
            "2025-07-28 09:26:22,609 - training - INFO - Epoch 43/50\n",
            "2025-07-28 09:26:22,609 - training - INFO - Epoch 43/50\n",
            "2025-07-28 09:26:22,609 - training - INFO - Epoch 43/50\n",
            "2025-07-28 09:26:22,609 - training - INFO - Epoch 43/50\n",
            "2025-07-28 09:26:22,609 - training - INFO - Epoch 43/50\n",
            "INFO:training:Epoch 43/50\n",
            "/usr/local/lib/python3.11/dist-packages/torch/utils/data/dataloader.py:624: UserWarning: This DataLoader will create 4 worker processes in total. Our suggested max number of worker in current system is 2, which is smaller than what this DataLoader is going to create. Please be aware that excessive worker creation might get DataLoader running slow or even freeze, lower the worker number to avoid potential slowness/freeze if necessary.\n",
            "  warnings.warn(\n",
            "/usr/local/lib/python3.11/dist-packages/torch/utils/data/dataloader.py:624: UserWarning: This DataLoader will create 4 worker processes in total. Our suggested max number of worker in current system is 2, which is smaller than what this DataLoader is going to create. Please be aware that excessive worker creation might get DataLoader running slow or even freeze, lower the worker number to avoid potential slowness/freeze if necessary.\n",
            "  warnings.warn(\n",
            "2025-07-28 09:26:37,182 - training - INFO - Epoca 43 - accuracy: 0.9112 | precision: 0.9114 | recall: 0.9112 | f1: 0.9112 | loss: 0.2214 | val_accuracy: 0.9874 | val_precision: 0.9875 | val_recall: 0.9874 | val_f1: 0.9874 | val_loss: 0.0615\n",
            "2025-07-28 09:26:37,182 - training - INFO - Epoca 43 - accuracy: 0.9112 | precision: 0.9114 | recall: 0.9112 | f1: 0.9112 | loss: 0.2214 | val_accuracy: 0.9874 | val_precision: 0.9875 | val_recall: 0.9874 | val_f1: 0.9874 | val_loss: 0.0615\n",
            "2025-07-28 09:26:37,182 - training - INFO - Epoca 43 - accuracy: 0.9112 | precision: 0.9114 | recall: 0.9112 | f1: 0.9112 | loss: 0.2214 | val_accuracy: 0.9874 | val_precision: 0.9875 | val_recall: 0.9874 | val_f1: 0.9874 | val_loss: 0.0615\n",
            "2025-07-28 09:26:37,182 - training - INFO - Epoca 43 - accuracy: 0.9112 | precision: 0.9114 | recall: 0.9112 | f1: 0.9112 | loss: 0.2214 | val_accuracy: 0.9874 | val_precision: 0.9875 | val_recall: 0.9874 | val_f1: 0.9874 | val_loss: 0.0615\n",
            "2025-07-28 09:26:37,182 - training - INFO - Epoca 43 - accuracy: 0.9112 | precision: 0.9114 | recall: 0.9112 | f1: 0.9112 | loss: 0.2214 | val_accuracy: 0.9874 | val_precision: 0.9875 | val_recall: 0.9874 | val_f1: 0.9874 | val_loss: 0.0615\n",
            "INFO:training:Epoca 43 - accuracy: 0.9112 | precision: 0.9114 | recall: 0.9112 | f1: 0.9112 | loss: 0.2214 | val_accuracy: 0.9874 | val_precision: 0.9875 | val_recall: 0.9874 | val_f1: 0.9874 | val_loss: 0.0615\n",
            "2025-07-28 09:26:38,835 - training - INFO - Successfully saved weights to /content/drive/MyDrive/XAI_ProfAI/experiments/signature_detection_baseline_v1/weights/signature_detection_baseline_v1-weights-43-0.911-0.911-0.911-0.911-0.221-0.987-0.987-0.987-0.987-0.062.pth\n",
            "2025-07-28 09:26:38,835 - training - INFO - Successfully saved weights to /content/drive/MyDrive/XAI_ProfAI/experiments/signature_detection_baseline_v1/weights/signature_detection_baseline_v1-weights-43-0.911-0.911-0.911-0.911-0.221-0.987-0.987-0.987-0.987-0.062.pth\n",
            "2025-07-28 09:26:38,835 - training - INFO - Successfully saved weights to /content/drive/MyDrive/XAI_ProfAI/experiments/signature_detection_baseline_v1/weights/signature_detection_baseline_v1-weights-43-0.911-0.911-0.911-0.911-0.221-0.987-0.987-0.987-0.987-0.062.pth\n",
            "2025-07-28 09:26:38,835 - training - INFO - Successfully saved weights to /content/drive/MyDrive/XAI_ProfAI/experiments/signature_detection_baseline_v1/weights/signature_detection_baseline_v1-weights-43-0.911-0.911-0.911-0.911-0.221-0.987-0.987-0.987-0.987-0.062.pth\n",
            "2025-07-28 09:26:38,835 - training - INFO - Successfully saved weights to /content/drive/MyDrive/XAI_ProfAI/experiments/signature_detection_baseline_v1/weights/signature_detection_baseline_v1-weights-43-0.911-0.911-0.911-0.911-0.221-0.987-0.987-0.987-0.987-0.062.pth\n",
            "INFO:training:Successfully saved weights to /content/drive/MyDrive/XAI_ProfAI/experiments/signature_detection_baseline_v1/weights/signature_detection_baseline_v1-weights-43-0.911-0.911-0.911-0.911-0.221-0.987-0.987-0.987-0.987-0.062.pth\n",
            "2025-07-28 09:26:38,883 - training - INFO - Successfully saved optimizer to /content/drive/MyDrive/XAI_ProfAI/experiments/signature_detection_baseline_v1/weights/signature_detection_baseline_v1-optim-43.pth\n",
            "2025-07-28 09:26:38,883 - training - INFO - Successfully saved optimizer to /content/drive/MyDrive/XAI_ProfAI/experiments/signature_detection_baseline_v1/weights/signature_detection_baseline_v1-optim-43.pth\n",
            "2025-07-28 09:26:38,883 - training - INFO - Successfully saved optimizer to /content/drive/MyDrive/XAI_ProfAI/experiments/signature_detection_baseline_v1/weights/signature_detection_baseline_v1-optim-43.pth\n",
            "2025-07-28 09:26:38,883 - training - INFO - Successfully saved optimizer to /content/drive/MyDrive/XAI_ProfAI/experiments/signature_detection_baseline_v1/weights/signature_detection_baseline_v1-optim-43.pth\n",
            "2025-07-28 09:26:38,883 - training - INFO - Successfully saved optimizer to /content/drive/MyDrive/XAI_ProfAI/experiments/signature_detection_baseline_v1/weights/signature_detection_baseline_v1-optim-43.pth\n",
            "INFO:training:Successfully saved optimizer to /content/drive/MyDrive/XAI_ProfAI/experiments/signature_detection_baseline_v1/weights/signature_detection_baseline_v1-optim-43.pth\n",
            "2025-07-28 09:26:38,916 - training - INFO - Removed old file: signature_detection_baseline_v1-weights-39-0.897-0.897-0.897-0.897-0.253-0.987-0.987-0.987-0.987-0.077.pth\n",
            "2025-07-28 09:26:38,916 - training - INFO - Removed old file: signature_detection_baseline_v1-weights-39-0.897-0.897-0.897-0.897-0.253-0.987-0.987-0.987-0.987-0.077.pth\n",
            "2025-07-28 09:26:38,916 - training - INFO - Removed old file: signature_detection_baseline_v1-weights-39-0.897-0.897-0.897-0.897-0.253-0.987-0.987-0.987-0.987-0.077.pth\n",
            "2025-07-28 09:26:38,916 - training - INFO - Removed old file: signature_detection_baseline_v1-weights-39-0.897-0.897-0.897-0.897-0.253-0.987-0.987-0.987-0.987-0.077.pth\n",
            "2025-07-28 09:26:38,916 - training - INFO - Removed old file: signature_detection_baseline_v1-weights-39-0.897-0.897-0.897-0.897-0.253-0.987-0.987-0.987-0.987-0.077.pth\n",
            "INFO:training:Removed old file: signature_detection_baseline_v1-weights-39-0.897-0.897-0.897-0.897-0.253-0.987-0.987-0.987-0.987-0.077.pth\n",
            "2025-07-28 09:26:38,925 - training - INFO - Removed old file: signature_detection_baseline_v1-optim-39.pth\n",
            "2025-07-28 09:26:38,925 - training - INFO - Removed old file: signature_detection_baseline_v1-optim-39.pth\n",
            "2025-07-28 09:26:38,925 - training - INFO - Removed old file: signature_detection_baseline_v1-optim-39.pth\n",
            "2025-07-28 09:26:38,925 - training - INFO - Removed old file: signature_detection_baseline_v1-optim-39.pth\n",
            "2025-07-28 09:26:38,925 - training - INFO - Removed old file: signature_detection_baseline_v1-optim-39.pth\n",
            "INFO:training:Removed old file: signature_detection_baseline_v1-optim-39.pth\n",
            "2025-07-28 09:26:38,931 - training - INFO - ModelCheckpoint: Saved model at epoch 43\n",
            "2025-07-28 09:26:38,931 - training - INFO - ModelCheckpoint: Saved model at epoch 43\n",
            "2025-07-28 09:26:38,931 - training - INFO - ModelCheckpoint: Saved model at epoch 43\n",
            "2025-07-28 09:26:38,931 - training - INFO - ModelCheckpoint: Saved model at epoch 43\n",
            "2025-07-28 09:26:38,931 - training - INFO - ModelCheckpoint: Saved model at epoch 43\n",
            "INFO:training:ModelCheckpoint: Saved model at epoch 43\n",
            "2025-07-28 09:26:38,935 - training - INFO - Epoch 44/50\n",
            "2025-07-28 09:26:38,935 - training - INFO - Epoch 44/50\n",
            "2025-07-28 09:26:38,935 - training - INFO - Epoch 44/50\n",
            "2025-07-28 09:26:38,935 - training - INFO - Epoch 44/50\n",
            "2025-07-28 09:26:38,935 - training - INFO - Epoch 44/50\n",
            "INFO:training:Epoch 44/50\n"
          ]
        },
        {
          "name": "stdout",
          "output_type": "stream",
          "text": [
            "\n",
            "Epoch 00043: val_loss improved from 0.07668 to 0.06154, saving model to best_baseline_model.pth\n"
          ]
        },
        {
          "name": "stderr",
          "output_type": "stream",
          "text": [
            "/usr/local/lib/python3.11/dist-packages/torch/utils/data/dataloader.py:624: UserWarning: This DataLoader will create 4 worker processes in total. Our suggested max number of worker in current system is 2, which is smaller than what this DataLoader is going to create. Please be aware that excessive worker creation might get DataLoader running slow or even freeze, lower the worker number to avoid potential slowness/freeze if necessary.\n",
            "  warnings.warn(\n",
            "/usr/local/lib/python3.11/dist-packages/torch/utils/data/dataloader.py:624: UserWarning: This DataLoader will create 4 worker processes in total. Our suggested max number of worker in current system is 2, which is smaller than what this DataLoader is going to create. Please be aware that excessive worker creation might get DataLoader running slow or even freeze, lower the worker number to avoid potential slowness/freeze if necessary.\n",
            "  warnings.warn(\n",
            "2025-07-28 09:26:53,449 - training - INFO - Epoca 44 - accuracy: 0.9145 | precision: 0.9148 | recall: 0.9145 | f1: 0.9145 | loss: 0.2109 | val_accuracy: 0.9823 | val_precision: 0.9823 | val_recall: 0.9823 | val_f1: 0.9823 | val_loss: 0.0638\n",
            "2025-07-28 09:26:53,449 - training - INFO - Epoca 44 - accuracy: 0.9145 | precision: 0.9148 | recall: 0.9145 | f1: 0.9145 | loss: 0.2109 | val_accuracy: 0.9823 | val_precision: 0.9823 | val_recall: 0.9823 | val_f1: 0.9823 | val_loss: 0.0638\n",
            "2025-07-28 09:26:53,449 - training - INFO - Epoca 44 - accuracy: 0.9145 | precision: 0.9148 | recall: 0.9145 | f1: 0.9145 | loss: 0.2109 | val_accuracy: 0.9823 | val_precision: 0.9823 | val_recall: 0.9823 | val_f1: 0.9823 | val_loss: 0.0638\n",
            "2025-07-28 09:26:53,449 - training - INFO - Epoca 44 - accuracy: 0.9145 | precision: 0.9148 | recall: 0.9145 | f1: 0.9145 | loss: 0.2109 | val_accuracy: 0.9823 | val_precision: 0.9823 | val_recall: 0.9823 | val_f1: 0.9823 | val_loss: 0.0638\n",
            "2025-07-28 09:26:53,449 - training - INFO - Epoca 44 - accuracy: 0.9145 | precision: 0.9148 | recall: 0.9145 | f1: 0.9145 | loss: 0.2109 | val_accuracy: 0.9823 | val_precision: 0.9823 | val_recall: 0.9823 | val_f1: 0.9823 | val_loss: 0.0638\n",
            "INFO:training:Epoca 44 - accuracy: 0.9145 | precision: 0.9148 | recall: 0.9145 | f1: 0.9145 | loss: 0.2109 | val_accuracy: 0.9823 | val_precision: 0.9823 | val_recall: 0.9823 | val_f1: 0.9823 | val_loss: 0.0638\n",
            "2025-07-28 09:26:55,087 - training - INFO - ModelCheckpoint: Saved model at epoch 44\n",
            "2025-07-28 09:26:55,087 - training - INFO - ModelCheckpoint: Saved model at epoch 44\n",
            "2025-07-28 09:26:55,087 - training - INFO - ModelCheckpoint: Saved model at epoch 44\n",
            "2025-07-28 09:26:55,087 - training - INFO - ModelCheckpoint: Saved model at epoch 44\n",
            "2025-07-28 09:26:55,087 - training - INFO - ModelCheckpoint: Saved model at epoch 44\n",
            "INFO:training:ModelCheckpoint: Saved model at epoch 44\n",
            "2025-07-28 09:26:55,099 - training - INFO - Epoch 45/50\n",
            "2025-07-28 09:26:55,099 - training - INFO - Epoch 45/50\n",
            "2025-07-28 09:26:55,099 - training - INFO - Epoch 45/50\n",
            "2025-07-28 09:26:55,099 - training - INFO - Epoch 45/50\n",
            "2025-07-28 09:26:55,099 - training - INFO - Epoch 45/50\n",
            "INFO:training:Epoch 45/50\n",
            "/usr/local/lib/python3.11/dist-packages/torch/utils/data/dataloader.py:624: UserWarning: This DataLoader will create 4 worker processes in total. Our suggested max number of worker in current system is 2, which is smaller than what this DataLoader is going to create. Please be aware that excessive worker creation might get DataLoader running slow or even freeze, lower the worker number to avoid potential slowness/freeze if necessary.\n",
            "  warnings.warn(\n",
            "/usr/local/lib/python3.11/dist-packages/torch/utils/data/dataloader.py:624: UserWarning: This DataLoader will create 4 worker processes in total. Our suggested max number of worker in current system is 2, which is smaller than what this DataLoader is going to create. Please be aware that excessive worker creation might get DataLoader running slow or even freeze, lower the worker number to avoid potential slowness/freeze if necessary.\n",
            "  warnings.warn(\n",
            "2025-07-28 09:27:09,809 - training - INFO - Epoca 45 - accuracy: 0.8646 | precision: 0.8650 | recall: 0.8646 | f1: 0.8645 | loss: 0.3090 | val_accuracy: 0.9848 | val_precision: 0.9849 | val_recall: 0.9848 | val_f1: 0.9848 | val_loss: 0.1048\n",
            "2025-07-28 09:27:09,809 - training - INFO - Epoca 45 - accuracy: 0.8646 | precision: 0.8650 | recall: 0.8646 | f1: 0.8645 | loss: 0.3090 | val_accuracy: 0.9848 | val_precision: 0.9849 | val_recall: 0.9848 | val_f1: 0.9848 | val_loss: 0.1048\n",
            "2025-07-28 09:27:09,809 - training - INFO - Epoca 45 - accuracy: 0.8646 | precision: 0.8650 | recall: 0.8646 | f1: 0.8645 | loss: 0.3090 | val_accuracy: 0.9848 | val_precision: 0.9849 | val_recall: 0.9848 | val_f1: 0.9848 | val_loss: 0.1048\n",
            "2025-07-28 09:27:09,809 - training - INFO - Epoca 45 - accuracy: 0.8646 | precision: 0.8650 | recall: 0.8646 | f1: 0.8645 | loss: 0.3090 | val_accuracy: 0.9848 | val_precision: 0.9849 | val_recall: 0.9848 | val_f1: 0.9848 | val_loss: 0.1048\n",
            "2025-07-28 09:27:09,809 - training - INFO - Epoca 45 - accuracy: 0.8646 | precision: 0.8650 | recall: 0.8646 | f1: 0.8645 | loss: 0.3090 | val_accuracy: 0.9848 | val_precision: 0.9849 | val_recall: 0.9848 | val_f1: 0.9848 | val_loss: 0.1048\n",
            "INFO:training:Epoca 45 - accuracy: 0.8646 | precision: 0.8650 | recall: 0.8646 | f1: 0.8645 | loss: 0.3090 | val_accuracy: 0.9848 | val_precision: 0.9849 | val_recall: 0.9848 | val_f1: 0.9848 | val_loss: 0.1048\n",
            "2025-07-28 09:27:12,257 - training - INFO - ModelCheckpoint: Saved model at epoch 45\n",
            "2025-07-28 09:27:12,257 - training - INFO - ModelCheckpoint: Saved model at epoch 45\n",
            "2025-07-28 09:27:12,257 - training - INFO - ModelCheckpoint: Saved model at epoch 45\n",
            "2025-07-28 09:27:12,257 - training - INFO - ModelCheckpoint: Saved model at epoch 45\n",
            "2025-07-28 09:27:12,257 - training - INFO - ModelCheckpoint: Saved model at epoch 45\n",
            "INFO:training:ModelCheckpoint: Saved model at epoch 45\n",
            "2025-07-28 09:27:12,261 - training - INFO - Epoch 46/50\n",
            "2025-07-28 09:27:12,261 - training - INFO - Epoch 46/50\n",
            "2025-07-28 09:27:12,261 - training - INFO - Epoch 46/50\n",
            "2025-07-28 09:27:12,261 - training - INFO - Epoch 46/50\n",
            "2025-07-28 09:27:12,261 - training - INFO - Epoch 46/50\n",
            "INFO:training:Epoch 46/50\n",
            "/usr/local/lib/python3.11/dist-packages/torch/utils/data/dataloader.py:624: UserWarning: This DataLoader will create 4 worker processes in total. Our suggested max number of worker in current system is 2, which is smaller than what this DataLoader is going to create. Please be aware that excessive worker creation might get DataLoader running slow or even freeze, lower the worker number to avoid potential slowness/freeze if necessary.\n",
            "  warnings.warn(\n",
            "/usr/local/lib/python3.11/dist-packages/torch/utils/data/dataloader.py:624: UserWarning: This DataLoader will create 4 worker processes in total. Our suggested max number of worker in current system is 2, which is smaller than what this DataLoader is going to create. Please be aware that excessive worker creation might get DataLoader running slow or even freeze, lower the worker number to avoid potential slowness/freeze if necessary.\n",
            "  warnings.warn(\n",
            "2025-07-28 09:27:27,021 - training - INFO - Epoca 46 - accuracy: 0.9084 | precision: 0.9086 | recall: 0.9084 | f1: 0.9084 | loss: 0.2203 | val_accuracy: 0.9545 | val_precision: 0.9575 | val_recall: 0.9545 | val_f1: 0.9545 | val_loss: 0.1096\n",
            "2025-07-28 09:27:27,021 - training - INFO - Epoca 46 - accuracy: 0.9084 | precision: 0.9086 | recall: 0.9084 | f1: 0.9084 | loss: 0.2203 | val_accuracy: 0.9545 | val_precision: 0.9575 | val_recall: 0.9545 | val_f1: 0.9545 | val_loss: 0.1096\n",
            "2025-07-28 09:27:27,021 - training - INFO - Epoca 46 - accuracy: 0.9084 | precision: 0.9086 | recall: 0.9084 | f1: 0.9084 | loss: 0.2203 | val_accuracy: 0.9545 | val_precision: 0.9575 | val_recall: 0.9545 | val_f1: 0.9545 | val_loss: 0.1096\n",
            "2025-07-28 09:27:27,021 - training - INFO - Epoca 46 - accuracy: 0.9084 | precision: 0.9086 | recall: 0.9084 | f1: 0.9084 | loss: 0.2203 | val_accuracy: 0.9545 | val_precision: 0.9575 | val_recall: 0.9545 | val_f1: 0.9545 | val_loss: 0.1096\n",
            "2025-07-28 09:27:27,021 - training - INFO - Epoca 46 - accuracy: 0.9084 | precision: 0.9086 | recall: 0.9084 | f1: 0.9084 | loss: 0.2203 | val_accuracy: 0.9545 | val_precision: 0.9575 | val_recall: 0.9545 | val_f1: 0.9545 | val_loss: 0.1096\n",
            "INFO:training:Epoca 46 - accuracy: 0.9084 | precision: 0.9086 | recall: 0.9084 | f1: 0.9084 | loss: 0.2203 | val_accuracy: 0.9545 | val_precision: 0.9575 | val_recall: 0.9545 | val_f1: 0.9545 | val_loss: 0.1096\n",
            "2025-07-28 09:27:28,700 - training - INFO - ModelCheckpoint: Saved model at epoch 46\n",
            "2025-07-28 09:27:28,700 - training - INFO - ModelCheckpoint: Saved model at epoch 46\n",
            "2025-07-28 09:27:28,700 - training - INFO - ModelCheckpoint: Saved model at epoch 46\n",
            "2025-07-28 09:27:28,700 - training - INFO - ModelCheckpoint: Saved model at epoch 46\n",
            "2025-07-28 09:27:28,700 - training - INFO - ModelCheckpoint: Saved model at epoch 46\n",
            "INFO:training:ModelCheckpoint: Saved model at epoch 46\n",
            "2025-07-28 09:27:28,706 - training - INFO - Epoch 47/50\n",
            "2025-07-28 09:27:28,706 - training - INFO - Epoch 47/50\n",
            "2025-07-28 09:27:28,706 - training - INFO - Epoch 47/50\n",
            "2025-07-28 09:27:28,706 - training - INFO - Epoch 47/50\n",
            "2025-07-28 09:27:28,706 - training - INFO - Epoch 47/50\n",
            "INFO:training:Epoch 47/50\n",
            "/usr/local/lib/python3.11/dist-packages/torch/utils/data/dataloader.py:624: UserWarning: This DataLoader will create 4 worker processes in total. Our suggested max number of worker in current system is 2, which is smaller than what this DataLoader is going to create. Please be aware that excessive worker creation might get DataLoader running slow or even freeze, lower the worker number to avoid potential slowness/freeze if necessary.\n",
            "  warnings.warn(\n",
            "/usr/local/lib/python3.11/dist-packages/torch/utils/data/dataloader.py:624: UserWarning: This DataLoader will create 4 worker processes in total. Our suggested max number of worker in current system is 2, which is smaller than what this DataLoader is going to create. Please be aware that excessive worker creation might get DataLoader running slow or even freeze, lower the worker number to avoid potential slowness/freeze if necessary.\n",
            "  warnings.warn(\n",
            "2025-07-28 09:27:43,205 - training - INFO - Epoca 47 - accuracy: 0.9117 | precision: 0.9121 | recall: 0.9117 | f1: 0.9117 | loss: 0.2092 | val_accuracy: 0.9343 | val_precision: 0.9420 | val_recall: 0.9343 | val_f1: 0.9341 | val_loss: 0.1591\n",
            "2025-07-28 09:27:43,205 - training - INFO - Epoca 47 - accuracy: 0.9117 | precision: 0.9121 | recall: 0.9117 | f1: 0.9117 | loss: 0.2092 | val_accuracy: 0.9343 | val_precision: 0.9420 | val_recall: 0.9343 | val_f1: 0.9341 | val_loss: 0.1591\n",
            "2025-07-28 09:27:43,205 - training - INFO - Epoca 47 - accuracy: 0.9117 | precision: 0.9121 | recall: 0.9117 | f1: 0.9117 | loss: 0.2092 | val_accuracy: 0.9343 | val_precision: 0.9420 | val_recall: 0.9343 | val_f1: 0.9341 | val_loss: 0.1591\n",
            "2025-07-28 09:27:43,205 - training - INFO - Epoca 47 - accuracy: 0.9117 | precision: 0.9121 | recall: 0.9117 | f1: 0.9117 | loss: 0.2092 | val_accuracy: 0.9343 | val_precision: 0.9420 | val_recall: 0.9343 | val_f1: 0.9341 | val_loss: 0.1591\n",
            "2025-07-28 09:27:43,205 - training - INFO - Epoca 47 - accuracy: 0.9117 | precision: 0.9121 | recall: 0.9117 | f1: 0.9117 | loss: 0.2092 | val_accuracy: 0.9343 | val_precision: 0.9420 | val_recall: 0.9343 | val_f1: 0.9341 | val_loss: 0.1591\n",
            "INFO:training:Epoca 47 - accuracy: 0.9117 | precision: 0.9121 | recall: 0.9117 | f1: 0.9117 | loss: 0.2092 | val_accuracy: 0.9343 | val_precision: 0.9420 | val_recall: 0.9343 | val_f1: 0.9341 | val_loss: 0.1591\n",
            "2025-07-28 09:27:44,840 - training - INFO - ModelCheckpoint: Saved model at epoch 47\n",
            "2025-07-28 09:27:44,840 - training - INFO - ModelCheckpoint: Saved model at epoch 47\n",
            "2025-07-28 09:27:44,840 - training - INFO - ModelCheckpoint: Saved model at epoch 47\n",
            "2025-07-28 09:27:44,840 - training - INFO - ModelCheckpoint: Saved model at epoch 47\n",
            "2025-07-28 09:27:44,840 - training - INFO - ModelCheckpoint: Saved model at epoch 47\n",
            "INFO:training:ModelCheckpoint: Saved model at epoch 47\n",
            "2025-07-28 09:27:44,847 - training - INFO - Epoch 48/50\n",
            "2025-07-28 09:27:44,847 - training - INFO - Epoch 48/50\n",
            "2025-07-28 09:27:44,847 - training - INFO - Epoch 48/50\n",
            "2025-07-28 09:27:44,847 - training - INFO - Epoch 48/50\n",
            "2025-07-28 09:27:44,847 - training - INFO - Epoch 48/50\n",
            "INFO:training:Epoch 48/50\n",
            "/usr/local/lib/python3.11/dist-packages/torch/utils/data/dataloader.py:624: UserWarning: This DataLoader will create 4 worker processes in total. Our suggested max number of worker in current system is 2, which is smaller than what this DataLoader is going to create. Please be aware that excessive worker creation might get DataLoader running slow or even freeze, lower the worker number to avoid potential slowness/freeze if necessary.\n",
            "  warnings.warn(\n",
            "/usr/local/lib/python3.11/dist-packages/torch/utils/data/dataloader.py:624: UserWarning: This DataLoader will create 4 worker processes in total. Our suggested max number of worker in current system is 2, which is smaller than what this DataLoader is going to create. Please be aware that excessive worker creation might get DataLoader running slow or even freeze, lower the worker number to avoid potential slowness/freeze if necessary.\n",
            "  warnings.warn(\n",
            "2025-07-28 09:27:59,363 - training - INFO - Epoca 48 - accuracy: 0.9079 | precision: 0.9080 | recall: 0.9079 | f1: 0.9079 | loss: 0.2212 | val_accuracy: 0.9419 | val_precision: 0.9469 | val_recall: 0.9419 | val_f1: 0.9418 | val_loss: 0.1359\n",
            "2025-07-28 09:27:59,363 - training - INFO - Epoca 48 - accuracy: 0.9079 | precision: 0.9080 | recall: 0.9079 | f1: 0.9079 | loss: 0.2212 | val_accuracy: 0.9419 | val_precision: 0.9469 | val_recall: 0.9419 | val_f1: 0.9418 | val_loss: 0.1359\n",
            "2025-07-28 09:27:59,363 - training - INFO - Epoca 48 - accuracy: 0.9079 | precision: 0.9080 | recall: 0.9079 | f1: 0.9079 | loss: 0.2212 | val_accuracy: 0.9419 | val_precision: 0.9469 | val_recall: 0.9419 | val_f1: 0.9418 | val_loss: 0.1359\n",
            "2025-07-28 09:27:59,363 - training - INFO - Epoca 48 - accuracy: 0.9079 | precision: 0.9080 | recall: 0.9079 | f1: 0.9079 | loss: 0.2212 | val_accuracy: 0.9419 | val_precision: 0.9469 | val_recall: 0.9419 | val_f1: 0.9418 | val_loss: 0.1359\n",
            "2025-07-28 09:27:59,363 - training - INFO - Epoca 48 - accuracy: 0.9079 | precision: 0.9080 | recall: 0.9079 | f1: 0.9079 | loss: 0.2212 | val_accuracy: 0.9419 | val_precision: 0.9469 | val_recall: 0.9419 | val_f1: 0.9418 | val_loss: 0.1359\n",
            "INFO:training:Epoca 48 - accuracy: 0.9079 | precision: 0.9080 | recall: 0.9079 | f1: 0.9079 | loss: 0.2212 | val_accuracy: 0.9419 | val_precision: 0.9469 | val_recall: 0.9419 | val_f1: 0.9418 | val_loss: 0.1359\n",
            "2025-07-28 09:28:01,028 - training - INFO - ModelCheckpoint: Saved model at epoch 48\n",
            "2025-07-28 09:28:01,028 - training - INFO - ModelCheckpoint: Saved model at epoch 48\n",
            "2025-07-28 09:28:01,028 - training - INFO - ModelCheckpoint: Saved model at epoch 48\n",
            "2025-07-28 09:28:01,028 - training - INFO - ModelCheckpoint: Saved model at epoch 48\n",
            "2025-07-28 09:28:01,028 - training - INFO - ModelCheckpoint: Saved model at epoch 48\n",
            "INFO:training:ModelCheckpoint: Saved model at epoch 48\n",
            "2025-07-28 09:28:01,032 - training - INFO - ReduceLROnPlateau: Learning rate changed from 0.001 to 0.0001\n",
            "2025-07-28 09:28:01,032 - training - INFO - ReduceLROnPlateau: Learning rate changed from 0.001 to 0.0001\n",
            "2025-07-28 09:28:01,032 - training - INFO - ReduceLROnPlateau: Learning rate changed from 0.001 to 0.0001\n",
            "2025-07-28 09:28:01,032 - training - INFO - ReduceLROnPlateau: Learning rate changed from 0.001 to 0.0001\n",
            "2025-07-28 09:28:01,032 - training - INFO - ReduceLROnPlateau: Learning rate changed from 0.001 to 0.0001\n",
            "INFO:training:ReduceLROnPlateau: Learning rate changed from 0.001 to 0.0001\n",
            "2025-07-28 09:28:01,036 - training - INFO - Epoch 49/50\n",
            "2025-07-28 09:28:01,036 - training - INFO - Epoch 49/50\n",
            "2025-07-28 09:28:01,036 - training - INFO - Epoch 49/50\n",
            "2025-07-28 09:28:01,036 - training - INFO - Epoch 49/50\n",
            "2025-07-28 09:28:01,036 - training - INFO - Epoch 49/50\n",
            "INFO:training:Epoch 49/50\n"
          ]
        },
        {
          "name": "stdout",
          "output_type": "stream",
          "text": [
            "Epoch 48: reducing learning rate of group 0 to 1.0000e-04.\n"
          ]
        },
        {
          "name": "stderr",
          "output_type": "stream",
          "text": [
            "/usr/local/lib/python3.11/dist-packages/torch/utils/data/dataloader.py:624: UserWarning: This DataLoader will create 4 worker processes in total. Our suggested max number of worker in current system is 2, which is smaller than what this DataLoader is going to create. Please be aware that excessive worker creation might get DataLoader running slow or even freeze, lower the worker number to avoid potential slowness/freeze if necessary.\n",
            "  warnings.warn(\n",
            "/usr/local/lib/python3.11/dist-packages/torch/utils/data/dataloader.py:624: UserWarning: This DataLoader will create 4 worker processes in total. Our suggested max number of worker in current system is 2, which is smaller than what this DataLoader is going to create. Please be aware that excessive worker creation might get DataLoader running slow or even freeze, lower the worker number to avoid potential slowness/freeze if necessary.\n",
            "  warnings.warn(\n",
            "2025-07-28 09:28:15,727 - training - INFO - Epoca 49 - accuracy: 0.9293 | precision: 0.9296 | recall: 0.9293 | f1: 0.9293 | loss: 0.1884 | val_accuracy: 0.9646 | val_precision: 0.9664 | val_recall: 0.9646 | val_f1: 0.9646 | val_loss: 0.0849\n",
            "2025-07-28 09:28:15,727 - training - INFO - Epoca 49 - accuracy: 0.9293 | precision: 0.9296 | recall: 0.9293 | f1: 0.9293 | loss: 0.1884 | val_accuracy: 0.9646 | val_precision: 0.9664 | val_recall: 0.9646 | val_f1: 0.9646 | val_loss: 0.0849\n",
            "2025-07-28 09:28:15,727 - training - INFO - Epoca 49 - accuracy: 0.9293 | precision: 0.9296 | recall: 0.9293 | f1: 0.9293 | loss: 0.1884 | val_accuracy: 0.9646 | val_precision: 0.9664 | val_recall: 0.9646 | val_f1: 0.9646 | val_loss: 0.0849\n",
            "2025-07-28 09:28:15,727 - training - INFO - Epoca 49 - accuracy: 0.9293 | precision: 0.9296 | recall: 0.9293 | f1: 0.9293 | loss: 0.1884 | val_accuracy: 0.9646 | val_precision: 0.9664 | val_recall: 0.9646 | val_f1: 0.9646 | val_loss: 0.0849\n",
            "2025-07-28 09:28:15,727 - training - INFO - Epoca 49 - accuracy: 0.9293 | precision: 0.9296 | recall: 0.9293 | f1: 0.9293 | loss: 0.1884 | val_accuracy: 0.9646 | val_precision: 0.9664 | val_recall: 0.9646 | val_f1: 0.9646 | val_loss: 0.0849\n",
            "INFO:training:Epoca 49 - accuracy: 0.9293 | precision: 0.9296 | recall: 0.9293 | f1: 0.9293 | loss: 0.1884 | val_accuracy: 0.9646 | val_precision: 0.9664 | val_recall: 0.9646 | val_f1: 0.9646 | val_loss: 0.0849\n",
            "2025-07-28 09:28:17,484 - training - INFO - ModelCheckpoint: Saved model at epoch 49\n",
            "2025-07-28 09:28:17,484 - training - INFO - ModelCheckpoint: Saved model at epoch 49\n",
            "2025-07-28 09:28:17,484 - training - INFO - ModelCheckpoint: Saved model at epoch 49\n",
            "2025-07-28 09:28:17,484 - training - INFO - ModelCheckpoint: Saved model at epoch 49\n",
            "2025-07-28 09:28:17,484 - training - INFO - ModelCheckpoint: Saved model at epoch 49\n",
            "INFO:training:ModelCheckpoint: Saved model at epoch 49\n",
            "2025-07-28 09:28:17,490 - training - INFO - Epoch 50/50\n",
            "2025-07-28 09:28:17,490 - training - INFO - Epoch 50/50\n",
            "2025-07-28 09:28:17,490 - training - INFO - Epoch 50/50\n",
            "2025-07-28 09:28:17,490 - training - INFO - Epoch 50/50\n",
            "2025-07-28 09:28:17,490 - training - INFO - Epoch 50/50\n",
            "INFO:training:Epoch 50/50\n",
            "/usr/local/lib/python3.11/dist-packages/torch/utils/data/dataloader.py:624: UserWarning: This DataLoader will create 4 worker processes in total. Our suggested max number of worker in current system is 2, which is smaller than what this DataLoader is going to create. Please be aware that excessive worker creation might get DataLoader running slow or even freeze, lower the worker number to avoid potential slowness/freeze if necessary.\n",
            "  warnings.warn(\n",
            "/usr/local/lib/python3.11/dist-packages/torch/utils/data/dataloader.py:624: UserWarning: This DataLoader will create 4 worker processes in total. Our suggested max number of worker in current system is 2, which is smaller than what this DataLoader is going to create. Please be aware that excessive worker creation might get DataLoader running slow or even freeze, lower the worker number to avoid potential slowness/freeze if necessary.\n",
            "  warnings.warn(\n",
            "2025-07-28 09:28:32,067 - training - INFO - Epoca 50 - accuracy: 0.9397 | precision: 0.9404 | recall: 0.9397 | f1: 0.9397 | loss: 0.1666 | val_accuracy: 0.9672 | val_precision: 0.9686 | val_recall: 0.9672 | val_f1: 0.9671 | val_loss: 0.0751\n",
            "2025-07-28 09:28:32,067 - training - INFO - Epoca 50 - accuracy: 0.9397 | precision: 0.9404 | recall: 0.9397 | f1: 0.9397 | loss: 0.1666 | val_accuracy: 0.9672 | val_precision: 0.9686 | val_recall: 0.9672 | val_f1: 0.9671 | val_loss: 0.0751\n",
            "2025-07-28 09:28:32,067 - training - INFO - Epoca 50 - accuracy: 0.9397 | precision: 0.9404 | recall: 0.9397 | f1: 0.9397 | loss: 0.1666 | val_accuracy: 0.9672 | val_precision: 0.9686 | val_recall: 0.9672 | val_f1: 0.9671 | val_loss: 0.0751\n",
            "2025-07-28 09:28:32,067 - training - INFO - Epoca 50 - accuracy: 0.9397 | precision: 0.9404 | recall: 0.9397 | f1: 0.9397 | loss: 0.1666 | val_accuracy: 0.9672 | val_precision: 0.9686 | val_recall: 0.9672 | val_f1: 0.9671 | val_loss: 0.0751\n",
            "2025-07-28 09:28:32,067 - training - INFO - Epoca 50 - accuracy: 0.9397 | precision: 0.9404 | recall: 0.9397 | f1: 0.9397 | loss: 0.1666 | val_accuracy: 0.9672 | val_precision: 0.9686 | val_recall: 0.9672 | val_f1: 0.9671 | val_loss: 0.0751\n",
            "INFO:training:Epoca 50 - accuracy: 0.9397 | precision: 0.9404 | recall: 0.9397 | f1: 0.9397 | loss: 0.1666 | val_accuracy: 0.9672 | val_precision: 0.9686 | val_recall: 0.9672 | val_f1: 0.9671 | val_loss: 0.0751\n",
            "2025-07-28 09:28:33,847 - training - INFO - ModelCheckpoint: Saved model at epoch 50\n",
            "2025-07-28 09:28:33,847 - training - INFO - ModelCheckpoint: Saved model at epoch 50\n",
            "2025-07-28 09:28:33,847 - training - INFO - ModelCheckpoint: Saved model at epoch 50\n",
            "2025-07-28 09:28:33,847 - training - INFO - ModelCheckpoint: Saved model at epoch 50\n",
            "2025-07-28 09:28:33,847 - training - INFO - ModelCheckpoint: Saved model at epoch 50\n",
            "INFO:training:ModelCheckpoint: Saved model at epoch 50\n",
            "2025-07-28 09:28:33,858 - training - INFO - Training completated\n",
            "2025-07-28 09:28:33,858 - training - INFO - Training completated\n",
            "2025-07-28 09:28:33,858 - training - INFO - Training completated\n",
            "2025-07-28 09:28:33,858 - training - INFO - Training completated\n",
            "2025-07-28 09:28:33,858 - training - INFO - Training completated\n",
            "INFO:training:Training completated\n"
          ]
        }
      ],
      "source": [
        "# Train the model\n",
        "\n",
        "trained_model = trainer.train(\n",
        "    train_loader=dataloaders['train'],\n",
        "    val_loader=dataloaders['val'],\n",
        "    num_epochs=NUM_EPOCHS,\n",
        "    callbacks=callbacks\n",
        ")\n",
        "\n",
        "torch.save(trained_model.state_dict(), experiment.root / 'final_model_resnet_v1.pth')"
      ]
    },
    {
      "cell_type": "markdown",
      "id": "9f9425d8",
      "metadata": {
        "id": "9f9425d8"
      },
      "source": [
        "## Validation on Test Set"
      ]
    },
    {
      "cell_type": "code",
      "execution_count": 33,
      "id": "f80b6d07",
      "metadata": {
        "colab": {
          "base_uri": "https://localhost:8080/"
        },
        "id": "f80b6d07",
        "outputId": "84523c08-ec3f-4b55-c130-318fa9a51c47"
      },
      "outputs": [
        {
          "name": "stderr",
          "output_type": "stream",
          "text": [
            "/usr/local/lib/python3.11/dist-packages/torch/utils/data/dataloader.py:624: UserWarning: This DataLoader will create 4 worker processes in total. Our suggested max number of worker in current system is 2, which is smaller than what this DataLoader is going to create. Please be aware that excessive worker creation might get DataLoader running slow or even freeze, lower the worker number to avoid potential slowness/freeze if necessary.\n",
            "  warnings.warn(\n",
            "2025-07-28 09:30:09,317 - training - INFO - Test Results: {'accuracy': np.float64(0.9623115577889447), 'precision': 0.964292960032461, 'recall': 0.9623115577889447, 'f1': 0.9622713053369988, 'loss': 0.10424910601808797}\n",
            "2025-07-28 09:30:09,317 - training - INFO - Test Results: {'accuracy': np.float64(0.9623115577889447), 'precision': 0.964292960032461, 'recall': 0.9623115577889447, 'f1': 0.9622713053369988, 'loss': 0.10424910601808797}\n",
            "2025-07-28 09:30:09,317 - training - INFO - Test Results: {'accuracy': np.float64(0.9623115577889447), 'precision': 0.964292960032461, 'recall': 0.9623115577889447, 'f1': 0.9622713053369988, 'loss': 0.10424910601808797}\n",
            "2025-07-28 09:30:09,317 - training - INFO - Test Results: {'accuracy': np.float64(0.9623115577889447), 'precision': 0.964292960032461, 'recall': 0.9623115577889447, 'f1': 0.9622713053369988, 'loss': 0.10424910601808797}\n",
            "2025-07-28 09:30:09,317 - training - INFO - Test Results: {'accuracy': np.float64(0.9623115577889447), 'precision': 0.964292960032461, 'recall': 0.9623115577889447, 'f1': 0.9622713053369988, 'loss': 0.10424910601808797}\n",
            "INFO:training:Test Results: {'accuracy': np.float64(0.9623115577889447), 'precision': 0.964292960032461, 'recall': 0.9623115577889447, 'f1': 0.9622713053369988, 'loss': 0.10424910601808797}\n"
          ]
        }
      ],
      "source": [
        "# Evaluation on test set\n",
        "\n",
        "test_logs = trainer.validate(dataloaders['test'])\n",
        "experiment.save_history('test', **test_logs)\n",
        "logger.info(f\"Test Results: {test_logs}\")"
      ]
    },
    {
      "cell_type": "code",
      "execution_count": 34,
      "id": "efd41db6",
      "metadata": {
        "colab": {
          "base_uri": "https://localhost:8080/"
        },
        "id": "efd41db6",
        "outputId": "1cfa239f-5eeb-490e-b3e2-2c897873182d"
      },
      "outputs": [
        {
          "name": "stderr",
          "output_type": "stream",
          "text": [
            "/usr/local/lib/python3.11/dist-packages/torch/utils/data/dataloader.py:624: UserWarning: This DataLoader will create 4 worker processes in total. Our suggested max number of worker in current system is 2, which is smaller than what this DataLoader is going to create. Please be aware that excessive worker creation might get DataLoader running slow or even freeze, lower the worker number to avoid potential slowness/freeze if necessary.\n",
            "  warnings.warn(\n",
            "2025-07-28 09:30:12,963 - training - INFO - Confusion matrix saved as 'confusion_matrix.png'\n",
            "2025-07-28 09:30:12,963 - training - INFO - Confusion matrix saved as 'confusion_matrix.png'\n",
            "2025-07-28 09:30:12,963 - training - INFO - Confusion matrix saved as 'confusion_matrix.png'\n",
            "2025-07-28 09:30:12,963 - training - INFO - Confusion matrix saved as 'confusion_matrix.png'\n",
            "2025-07-28 09:30:12,963 - training - INFO - Confusion matrix saved as 'confusion_matrix.png'\n",
            "INFO:training:Confusion matrix saved as 'confusion_matrix.png'\n"
          ]
        }
      ],
      "source": [
        "# Get predictions on test set\n",
        "\n",
        "test_targets, test_predictions = trainer.predict(dataloaders['test'])\n",
        "\n",
        "plot_confusion_matrix(test_targets, test_predictions, classes = [\"original\", \"forgery\"],)\n",
        "logger.info(\"Confusion matrix saved as 'confusion_matrix.png'\")"
      ]
    },
    {
      "cell_type": "code",
      "execution_count": 35,
      "id": "d6e7f1e6",
      "metadata": {
        "id": "d6e7f1e6"
      },
      "outputs": [],
      "source": [
        "# Save test results\n",
        "test_results = {\n",
        "    'targets': test_targets.tolist(),\n",
        "    'predictions': test_predictions.tolist()\n",
        "}\n",
        "\n",
        "with open(f\"{experiment.results_dir}/test_results.json\", 'w') as f:\n",
        "    json.dump(test_results, f)"
      ]
    },
    {
      "cell_type": "markdown",
      "id": "874466ee",
      "metadata": {
        "id": "874466ee"
      },
      "source": [
        "## Analysis of Results"
      ]
    },
    {
      "cell_type": "code",
      "execution_count": 36,
      "id": "bda156b3",
      "metadata": {
        "id": "bda156b3"
      },
      "outputs": [],
      "source": [
        "# Generate and Save plots training history\n",
        "\n",
        "experiment.plot_history()"
      ]
    },
    {
      "cell_type": "code",
      "execution_count": 37,
      "id": "ce4a3cf0",
      "metadata": {
        "colab": {
          "base_uri": "https://localhost:8080/",
          "height": 542
        },
        "id": "ce4a3cf0",
        "outputId": "bfa26a0f-b77a-4245-b41e-c4c707775eaf"
      },
      "outputs": [
        {
          "data": {
            "text/html": [
              "<html>\n",
              "<head><meta charset=\"utf-8\" /></head>\n",
              "<body>\n",
              "    <div>            <script src=\"https://cdnjs.cloudflare.com/ajax/libs/mathjax/2.7.5/MathJax.js?config=TeX-AMS-MML_SVG\"></script><script type=\"text/javascript\">if (window.MathJax && window.MathJax.Hub && window.MathJax.Hub.Config) {window.MathJax.Hub.Config({SVG: {font: \"STIX-Web\"}});}</script>                <script type=\"text/javascript\">window.PlotlyConfig = {MathJaxConfig: 'local'};</script>\n",
              "        <script charset=\"utf-8\" src=\"https://cdn.plot.ly/plotly-2.35.2.min.js\"></script>                <div id=\"9e4f8f88-aa15-495f-ae4b-a2f07c6ea8eb\" class=\"plotly-graph-div\" style=\"height:525px; width:100%;\"></div>            <script type=\"text/javascript\">                                    window.PLOTLYENV=window.PLOTLYENV || {};                                    if (document.getElementById(\"9e4f8f88-aa15-495f-ae4b-a2f07c6ea8eb\")) {                    Plotly.newPlot(                        \"9e4f8f88-aa15-495f-ae4b-a2f07c6ea8eb\",                        [{\"mode\":\"lines+markers\",\"name\":\"Train Loss (Mean: 0.42, Std: 0.15)\",\"visible\":true,\"x\":[1,2,3,4,5,6,7,8,9,10,11,12,13,14,15,16,17,18,19,20,21,22,23,24,25,26,27,28,29,30,31,32,33,34,35,36,37,38,39,40,41,42,43,44,45,46,47,48,49,50],\"y\":[0.6872611825928527,0.681676707572565,0.6613340181493295,0.6422254339199541,0.6138594313277455,0.5903711003833576,0.5897658126971574,0.5832487201380704,0.5810724322483315,0.5743360674394171,0.5517350746518483,0.569508094828927,0.5578947020765245,0.5687263835935913,0.5476901761113887,0.5239796938126421,0.5408182040841711,0.508828619836082,0.5056908840993631,0.4552395550427173,0.4687155189390172,0.4414754445994533,0.4424611951263857,0.40727697188521,0.4175753381632002,0.3846411082494039,0.3617376774904658,0.3618536292537966,0.4052777282594988,0.3922085291902784,0.4111803947006506,0.348937583512113,0.3219970737221698,0.2723909870904031,0.3252749306150789,0.2934888621967766,0.2534476120836169,0.2885412746235195,0.2533048484333158,0.2735935556798172,0.2909360681039928,0.2459169305933645,0.2214349141487708,0.2108686865344724,0.3089719681414338,0.2202837964437119,0.2091923656339635,0.2211916208396366,0.1884018747158195,0.1665588331248365],\"type\":\"scatter\"},{\"mode\":\"lines+markers\",\"name\":\"Val Loss (Mean: 0.35, Std: 0.20)\",\"visible\":true,\"x\":[1,2,3,4,5,6,7,8,9,10,11,12,13,14,15,16,17,18,19,20,21,22,23,24,25,26,27,28,29,30,31,32,33,34,35,36,37,38,39,40,41,42,43,44,45,46,47,48,49,50],\"y\":[0.6919475173709368,0.6799590822422144,0.6173390803313015,0.6527671654417058,0.6093481598478375,0.6034661600686083,0.5691564378112254,0.5539078327140423,0.5383230435727823,0.5606855319605933,0.5251705622432208,0.6396541882946034,0.508656582748047,0.5167153853960712,0.4905767488961268,0.4799128117585423,0.4782870959753942,0.494360150110842,0.4336271546404771,0.5184801186275001,0.3884148197342651,0.3855221908200871,0.3349057931189585,0.3427278518375724,0.3155065013302697,0.2500595385679091,0.226349411663985,0.3656832653314176,0.2995239458601884,0.4518937068530405,0.3493871252344112,0.2051057657509139,0.1559311484899183,0.1967118161194252,0.142081766944341,0.142697434373802,0.12084254244286,0.097551836284122,0.0766838890396886,0.2161435285451436,0.2568434188989075,0.090141200601603,0.0615373690320987,0.0638368860395117,0.104837946894795,0.1095805124125697,0.1591307155110619,0.1358808590983501,0.0849106760149953,0.0751263109985927],\"type\":\"scatter\"},{\"mode\":\"lines+markers\",\"name\":\"Train Accuracy (Mean: 0.79, Std: 0.11)\",\"visible\":false,\"x\":[1,2,3,4,5,6,7,8,9,10,11,12,13,14,15,16,17,18,19,20,21,22,23,24,25,26,27,28,29,30,31,32,33,34,35,36,37,38,39,40,41,42,43,44,45,46,47,48,49,50],\"y\":[0.5021929824561403,0.5301535087719298,0.5794956140350878,0.6222587719298246,0.6447368421052632,0.6776315789473685,0.6864035087719298,0.6716008771929824,0.6858552631578947,0.6885964912280702,0.7066885964912281,0.6973684210526315,0.7077850877192983,0.7083333333333334,0.7192982456140351,0.7291666666666666,0.71875,0.7549342105263158,0.75,0.7828947368421053,0.768640350877193,0.7944078947368421,0.7834429824561403,0.8053728070175439,0.8009868421052632,0.8245614035087719,0.8442982456140351,0.8300438596491229,0.8157894736842105,0.8185307017543859,0.8103070175438597,0.8399122807017544,0.8601973684210527,0.881578947368421,0.8585526315789473,0.8848684210526315,0.9013157894736842,0.8832236842105263,0.8969298245614035,0.8914473684210527,0.8788377192982456,0.8980263157894737,0.9111842105263158,0.9144736842105264,0.8645833333333334,0.9084429824561404,0.9117324561403508,0.9078947368421052,0.9292763157894736,0.9396929824561404],\"type\":\"scatter\"},{\"mode\":\"lines+markers\",\"name\":\"Val Accuracy (Mean: 0.83, Std: 0.13)\",\"visible\":false,\"x\":[1,2,3,4,5,6,7,8,9,10,11,12,13,14,15,16,17,18,19,20,21,22,23,24,25,26,27,28,29,30,31,32,33,34,35,36,37,38,39,40,41,42,43,44,45,46,47,48,49,50],\"y\":[0.5,0.5075757575757576,0.6893939393939394,0.5757575757575758,0.6767676767676768,0.696969696969697,0.696969696969697,0.7247474747474747,0.7348484848484849,0.7146464646464646,0.7550505050505051,0.6691919191919192,0.7702020202020202,0.7449494949494949,0.7752525252525253,0.7651515151515151,0.7727272727272727,0.7550505050505051,0.7828282828282829,0.7348484848484849,0.8131313131313131,0.8131313131313131,0.8560606060606061,0.8383838383838383,0.8787878787878788,0.9015151515151516,0.9393939393939394,0.8156565656565656,0.8787878787878788,0.7424242424242424,0.8358585858585859,0.9242424242424242,0.9570707070707072,0.9116161616161615,0.9646464646464646,0.9570707070707072,0.9747474747474748,0.9772727272727272,0.9873737373737372,0.9065656565656566,0.8863636363636364,0.9823232323232324,0.9873737373737372,0.9823232323232324,0.9848484848484848,0.9545454545454546,0.9343434343434344,0.941919191919192,0.9646464646464646,0.9671717171717172],\"type\":\"scatter\"},{\"mode\":\"lines+markers\",\"name\":\"Train Precision (Mean: 0.79, Std: 0.11)\",\"visible\":false,\"x\":[1,2,3,4,5,6,7,8,9,10,11,12,13,14,15,16,17,18,19,20,21,22,23,24,25,26,27,28,29,30,31,32,33,34,35,36,37,38,39,40,41,42,43,44,45,46,47,48,49,50],\"y\":[0.5024922728657873,0.5324560405695642,0.5795109145626557,0.622271412795357,0.645555267838247,0.6777360735317625,0.6864148367408687,0.6726432533107009,0.6896496516391181,0.688672258684871,0.7068704634499056,0.6974408288105911,0.7079092471773393,0.710086476681152,0.7192993002621011,0.7294011039610077,0.7204038022878172,0.755320529267408,0.7501588317682788,0.7831384015594541,0.7689146848728137,0.7946794868060251,0.7837750944479815,0.806107620344151,0.8016574385916291,0.8250679151494132,0.8450065862500945,0.8303952640344722,0.8163981188805798,0.8187334203545413,0.8107912837408242,0.8400482028597722,0.8610839479544793,0.8818011211895195,0.8593005217693985,0.885104652914671,0.901933638443936,0.883793805840276,0.8971555057081373,0.8918675094839194,0.8792669600622717,0.8982688146721715,0.9113799242052284,0.9147584619746328,0.8650151050523748,0.9086224194434632,0.9120851135459211,0.90802208779481,0.9295991308103894,0.940381724264449],\"type\":\"scatter\"},{\"mode\":\"lines+markers\",\"name\":\"Val Precision (Mean: 0.86, Std: 0.09)\",\"visible\":false,\"x\":[1,2,3,4,5,6,7,8,9,10,11,12,13,14,15,16,17,18,19,20,21,22,23,24,25,26,27,28,29,30,31,32,33,34,35,36,37,38,39,40,41,42,43,44,45,46,47,48,49,50],\"y\":[0.75,0.751908396946565,0.7274607113316791,0.7291666666666666,0.7406250000000001,0.7512036434612883,0.7092682926829268,0.7248908854233135,0.7415584415584415,0.7388250319284801,0.7579521708846064,0.7553216059124678,0.7722086598997816,0.7623555446274896,0.7778106737378677,0.7653207075218866,0.7737327188940093,0.7689421447591382,0.7948622486969471,0.7977395466157876,0.8264546324859058,0.8309965487489215,0.8562878072436765,0.854326923076923,0.8865174388339405,0.9020176222704636,0.9395733387771767,0.851213282247765,0.8797565466448446,0.821081081081081,0.8662077596996244,0.9328995314940136,0.9584857866591612,0.9219595743011794,0.9650735294117646,0.9590495708979122,0.9759615384615384,0.977382319173364,0.9873861694258091,0.9212765957446808,0.9074074074074072,0.982335535545749,0.9874856486796786,0.982335535545749,0.9848979591836734,0.957533121084523,0.9419642857142856,0.9469468307406548,0.9663594470046084,0.9686180692372643],\"type\":\"scatter\"},{\"mode\":\"lines+markers\",\"name\":\"Train Recall (Mean: 0.79, Std: 0.11)\",\"visible\":false,\"x\":[1,2,3,4,5,6,7,8,9,10,11,12,13,14,15,16,17,18,19,20,21,22,23,24,25,26,27,28,29,30,31,32,33,34,35,36,37,38,39,40,41,42,43,44,45,46,47,48,49,50],\"y\":[0.5021929824561403,0.5301535087719298,0.5794956140350878,0.6222587719298246,0.6447368421052632,0.6776315789473685,0.6864035087719298,0.6716008771929824,0.6858552631578947,0.6885964912280702,0.7066885964912281,0.6973684210526315,0.7077850877192983,0.7083333333333334,0.7192982456140351,0.7291666666666666,0.71875,0.7549342105263158,0.75,0.7828947368421053,0.768640350877193,0.7944078947368421,0.7834429824561403,0.8053728070175439,0.8009868421052632,0.8245614035087719,0.8442982456140351,0.8300438596491229,0.8157894736842105,0.8185307017543859,0.8103070175438597,0.8399122807017544,0.8601973684210527,0.881578947368421,0.8585526315789473,0.8848684210526315,0.9013157894736842,0.8832236842105263,0.8969298245614035,0.8914473684210527,0.8788377192982456,0.8980263157894737,0.9111842105263158,0.9144736842105264,0.8645833333333334,0.9084429824561404,0.9117324561403508,0.9078947368421052,0.9292763157894736,0.9396929824561404],\"type\":\"scatter\"},{\"mode\":\"lines+markers\",\"name\":\"Val Recall (Mean: 0.83, Std: 0.13)\",\"visible\":false,\"x\":[1,2,3,4,5,6,7,8,9,10,11,12,13,14,15,16,17,18,19,20,21,22,23,24,25,26,27,28,29,30,31,32,33,34,35,36,37,38,39,40,41,42,43,44,45,46,47,48,49,50],\"y\":[0.5,0.5075757575757576,0.6893939393939394,0.5757575757575758,0.6767676767676768,0.696969696969697,0.696969696969697,0.7247474747474747,0.7348484848484849,0.7146464646464646,0.7550505050505051,0.6691919191919192,0.7702020202020202,0.7449494949494949,0.7752525252525253,0.7651515151515151,0.7727272727272727,0.7550505050505051,0.7828282828282829,0.7348484848484849,0.8131313131313131,0.8131313131313131,0.8560606060606061,0.8383838383838383,0.8787878787878788,0.9015151515151516,0.9393939393939394,0.8156565656565656,0.8787878787878788,0.7424242424242424,0.8358585858585859,0.9242424242424242,0.9570707070707072,0.9116161616161615,0.9646464646464646,0.9570707070707072,0.9747474747474748,0.9772727272727272,0.9873737373737372,0.9065656565656566,0.8863636363636364,0.9823232323232324,0.9873737373737372,0.9823232323232324,0.9848484848484848,0.9545454545454546,0.9343434343434344,0.941919191919192,0.9646464646464646,0.9671717171717172],\"type\":\"scatter\"},{\"mode\":\"lines+markers\",\"name\":\"Train F1 (Mean: 0.79, Std: 0.11)\",\"visible\":false,\"x\":[1,2,3,4,5,6,7,8,9,10,11,12,13,14,15,16,17,18,19,20,21,22,23,24,25,26,27,28,29,30,31,32,33,34,35,36,37,38,39,40,41,42,43,44,45,46,47,48,49,50],\"y\":[0.5005088957736132,0.522764544506341,0.5794947292882225,0.6222230024318809,0.6442993822504921,0.6775664499413017,0.6863959678478622,0.6711576089294896,0.684276062694561,0.6885515556568189,0.7066467152044946,0.6973509554086923,0.7077345748375966,0.7076986144833584,0.7192979081278712,0.7291119528619529,0.7182214178487595,0.754849105113281,0.7499494917912135,0.7828574049589904,0.7685693948897657,0.7943695136361156,0.7834108896834662,0.8052489978865106,0.8008761770603048,0.8244930360106805,0.8442038318683056,0.8299948036510998,0.8157008410477492,0.8185018429573656,0.8102330951865483,0.8398984216264016,0.8601160127037807,0.8815617172685218,0.858470439752588,0.8848577619389193,0.9012730558811048,0.8831831306244493,0.8969121003211513,0.8914160358803798,0.878798191060996,0.8980168748601857,0.91117246273093,0.9144576398305688,0.864549257767087,0.9084340928561668,0.9117088094014272,0.9078885351759456,0.9292630272632084,0.9396707876923006],\"type\":\"scatter\"},{\"mode\":\"lines+markers\",\"name\":\"Val F1 (Mean: 0.82, Std: 0.15)\",\"visible\":false,\"x\":[1,2,3,4,5,6,7,8,9,10,11,12,13,14,15,16,17,18,19,20,21,22,23,24,25,26,27,28,29,30,31,32,33,34,35,36,37,38,39,40,41,42,43,44,45,46,47,48,49,50],\"y\":[0.3333333333333333,0.3499507538449882,0.6758310871518419,0.4904880066170389,0.6537988689451684,0.6796807592752372,0.6924510717614166,0.7247035863027853,0.7329942784488238,0.7072366484131191,0.7543597122302157,0.6387238754518041,0.7697777380260274,0.7406477969069157,0.7747339490588349,0.7651140690473305,0.7725183823529411,0.7518460375603233,0.7805896299350582,0.7200659777156899,0.8112050304092362,0.8105753070458954,0.8560376552225574,0.8365451590434178,0.8781788351107465,0.9014843685214364,0.9393877551020408,0.8108696932226344,0.8787105337042804,0.7256201940059235,0.832385864150501,0.9238617719442166,0.9570375570375572,0.9110711879631708,0.9646383467278988,0.9570243924237296,0.9747313611883917,0.9772714228318888,0.987373656856806,0.9057427933636544,0.8848770277341705,0.982323119599528,0.9873730126843828,0.982323119599528,0.9848480983598196,0.9544711292795094,0.9340591776610736,0.9417553956834532,0.9646139705882354,0.9671463671463671],\"type\":\"scatter\"}],                        {\"template\":{\"data\":{\"histogram2dcontour\":[{\"type\":\"histogram2dcontour\",\"colorbar\":{\"outlinewidth\":0,\"ticks\":\"\"},\"colorscale\":[[0.0,\"#0d0887\"],[0.1111111111111111,\"#46039f\"],[0.2222222222222222,\"#7201a8\"],[0.3333333333333333,\"#9c179e\"],[0.4444444444444444,\"#bd3786\"],[0.5555555555555556,\"#d8576b\"],[0.6666666666666666,\"#ed7953\"],[0.7777777777777778,\"#fb9f3a\"],[0.8888888888888888,\"#fdca26\"],[1.0,\"#f0f921\"]]}],\"choropleth\":[{\"type\":\"choropleth\",\"colorbar\":{\"outlinewidth\":0,\"ticks\":\"\"}}],\"histogram2d\":[{\"type\":\"histogram2d\",\"colorbar\":{\"outlinewidth\":0,\"ticks\":\"\"},\"colorscale\":[[0.0,\"#0d0887\"],[0.1111111111111111,\"#46039f\"],[0.2222222222222222,\"#7201a8\"],[0.3333333333333333,\"#9c179e\"],[0.4444444444444444,\"#bd3786\"],[0.5555555555555556,\"#d8576b\"],[0.6666666666666666,\"#ed7953\"],[0.7777777777777778,\"#fb9f3a\"],[0.8888888888888888,\"#fdca26\"],[1.0,\"#f0f921\"]]}],\"heatmap\":[{\"type\":\"heatmap\",\"colorbar\":{\"outlinewidth\":0,\"ticks\":\"\"},\"colorscale\":[[0.0,\"#0d0887\"],[0.1111111111111111,\"#46039f\"],[0.2222222222222222,\"#7201a8\"],[0.3333333333333333,\"#9c179e\"],[0.4444444444444444,\"#bd3786\"],[0.5555555555555556,\"#d8576b\"],[0.6666666666666666,\"#ed7953\"],[0.7777777777777778,\"#fb9f3a\"],[0.8888888888888888,\"#fdca26\"],[1.0,\"#f0f921\"]]}],\"heatmapgl\":[{\"type\":\"heatmapgl\",\"colorbar\":{\"outlinewidth\":0,\"ticks\":\"\"},\"colorscale\":[[0.0,\"#0d0887\"],[0.1111111111111111,\"#46039f\"],[0.2222222222222222,\"#7201a8\"],[0.3333333333333333,\"#9c179e\"],[0.4444444444444444,\"#bd3786\"],[0.5555555555555556,\"#d8576b\"],[0.6666666666666666,\"#ed7953\"],[0.7777777777777778,\"#fb9f3a\"],[0.8888888888888888,\"#fdca26\"],[1.0,\"#f0f921\"]]}],\"contourcarpet\":[{\"type\":\"contourcarpet\",\"colorbar\":{\"outlinewidth\":0,\"ticks\":\"\"}}],\"contour\":[{\"type\":\"contour\",\"colorbar\":{\"outlinewidth\":0,\"ticks\":\"\"},\"colorscale\":[[0.0,\"#0d0887\"],[0.1111111111111111,\"#46039f\"],[0.2222222222222222,\"#7201a8\"],[0.3333333333333333,\"#9c179e\"],[0.4444444444444444,\"#bd3786\"],[0.5555555555555556,\"#d8576b\"],[0.6666666666666666,\"#ed7953\"],[0.7777777777777778,\"#fb9f3a\"],[0.8888888888888888,\"#fdca26\"],[1.0,\"#f0f921\"]]}],\"surface\":[{\"type\":\"surface\",\"colorbar\":{\"outlinewidth\":0,\"ticks\":\"\"},\"colorscale\":[[0.0,\"#0d0887\"],[0.1111111111111111,\"#46039f\"],[0.2222222222222222,\"#7201a8\"],[0.3333333333333333,\"#9c179e\"],[0.4444444444444444,\"#bd3786\"],[0.5555555555555556,\"#d8576b\"],[0.6666666666666666,\"#ed7953\"],[0.7777777777777778,\"#fb9f3a\"],[0.8888888888888888,\"#fdca26\"],[1.0,\"#f0f921\"]]}],\"mesh3d\":[{\"type\":\"mesh3d\",\"colorbar\":{\"outlinewidth\":0,\"ticks\":\"\"}}],\"scatter\":[{\"fillpattern\":{\"fillmode\":\"overlay\",\"size\":10,\"solidity\":0.2},\"type\":\"scatter\"}],\"parcoords\":[{\"type\":\"parcoords\",\"line\":{\"colorbar\":{\"outlinewidth\":0,\"ticks\":\"\"}}}],\"scatterpolargl\":[{\"type\":\"scatterpolargl\",\"marker\":{\"colorbar\":{\"outlinewidth\":0,\"ticks\":\"\"}}}],\"bar\":[{\"error_x\":{\"color\":\"#2a3f5f\"},\"error_y\":{\"color\":\"#2a3f5f\"},\"marker\":{\"line\":{\"color\":\"#E5ECF6\",\"width\":0.5},\"pattern\":{\"fillmode\":\"overlay\",\"size\":10,\"solidity\":0.2}},\"type\":\"bar\"}],\"scattergeo\":[{\"type\":\"scattergeo\",\"marker\":{\"colorbar\":{\"outlinewidth\":0,\"ticks\":\"\"}}}],\"scatterpolar\":[{\"type\":\"scatterpolar\",\"marker\":{\"colorbar\":{\"outlinewidth\":0,\"ticks\":\"\"}}}],\"histogram\":[{\"marker\":{\"pattern\":{\"fillmode\":\"overlay\",\"size\":10,\"solidity\":0.2}},\"type\":\"histogram\"}],\"scattergl\":[{\"type\":\"scattergl\",\"marker\":{\"colorbar\":{\"outlinewidth\":0,\"ticks\":\"\"}}}],\"scatter3d\":[{\"type\":\"scatter3d\",\"line\":{\"colorbar\":{\"outlinewidth\":0,\"ticks\":\"\"}},\"marker\":{\"colorbar\":{\"outlinewidth\":0,\"ticks\":\"\"}}}],\"scattermapbox\":[{\"type\":\"scattermapbox\",\"marker\":{\"colorbar\":{\"outlinewidth\":0,\"ticks\":\"\"}}}],\"scatterternary\":[{\"type\":\"scatterternary\",\"marker\":{\"colorbar\":{\"outlinewidth\":0,\"ticks\":\"\"}}}],\"scattercarpet\":[{\"type\":\"scattercarpet\",\"marker\":{\"colorbar\":{\"outlinewidth\":0,\"ticks\":\"\"}}}],\"carpet\":[{\"aaxis\":{\"endlinecolor\":\"#2a3f5f\",\"gridcolor\":\"white\",\"linecolor\":\"white\",\"minorgridcolor\":\"white\",\"startlinecolor\":\"#2a3f5f\"},\"baxis\":{\"endlinecolor\":\"#2a3f5f\",\"gridcolor\":\"white\",\"linecolor\":\"white\",\"minorgridcolor\":\"white\",\"startlinecolor\":\"#2a3f5f\"},\"type\":\"carpet\"}],\"table\":[{\"cells\":{\"fill\":{\"color\":\"#EBF0F8\"},\"line\":{\"color\":\"white\"}},\"header\":{\"fill\":{\"color\":\"#C8D4E3\"},\"line\":{\"color\":\"white\"}},\"type\":\"table\"}],\"barpolar\":[{\"marker\":{\"line\":{\"color\":\"#E5ECF6\",\"width\":0.5},\"pattern\":{\"fillmode\":\"overlay\",\"size\":10,\"solidity\":0.2}},\"type\":\"barpolar\"}],\"pie\":[{\"automargin\":true,\"type\":\"pie\"}]},\"layout\":{\"autotypenumbers\":\"strict\",\"colorway\":[\"#636efa\",\"#EF553B\",\"#00cc96\",\"#ab63fa\",\"#FFA15A\",\"#19d3f3\",\"#FF6692\",\"#B6E880\",\"#FF97FF\",\"#FECB52\"],\"font\":{\"color\":\"#2a3f5f\"},\"hovermode\":\"closest\",\"hoverlabel\":{\"align\":\"left\"},\"paper_bgcolor\":\"white\",\"plot_bgcolor\":\"#E5ECF6\",\"polar\":{\"bgcolor\":\"#E5ECF6\",\"angularaxis\":{\"gridcolor\":\"white\",\"linecolor\":\"white\",\"ticks\":\"\"},\"radialaxis\":{\"gridcolor\":\"white\",\"linecolor\":\"white\",\"ticks\":\"\"}},\"ternary\":{\"bgcolor\":\"#E5ECF6\",\"aaxis\":{\"gridcolor\":\"white\",\"linecolor\":\"white\",\"ticks\":\"\"},\"baxis\":{\"gridcolor\":\"white\",\"linecolor\":\"white\",\"ticks\":\"\"},\"caxis\":{\"gridcolor\":\"white\",\"linecolor\":\"white\",\"ticks\":\"\"}},\"coloraxis\":{\"colorbar\":{\"outlinewidth\":0,\"ticks\":\"\"}},\"colorscale\":{\"sequential\":[[0.0,\"#0d0887\"],[0.1111111111111111,\"#46039f\"],[0.2222222222222222,\"#7201a8\"],[0.3333333333333333,\"#9c179e\"],[0.4444444444444444,\"#bd3786\"],[0.5555555555555556,\"#d8576b\"],[0.6666666666666666,\"#ed7953\"],[0.7777777777777778,\"#fb9f3a\"],[0.8888888888888888,\"#fdca26\"],[1.0,\"#f0f921\"]],\"sequentialminus\":[[0.0,\"#0d0887\"],[0.1111111111111111,\"#46039f\"],[0.2222222222222222,\"#7201a8\"],[0.3333333333333333,\"#9c179e\"],[0.4444444444444444,\"#bd3786\"],[0.5555555555555556,\"#d8576b\"],[0.6666666666666666,\"#ed7953\"],[0.7777777777777778,\"#fb9f3a\"],[0.8888888888888888,\"#fdca26\"],[1.0,\"#f0f921\"]],\"diverging\":[[0,\"#8e0152\"],[0.1,\"#c51b7d\"],[0.2,\"#de77ae\"],[0.3,\"#f1b6da\"],[0.4,\"#fde0ef\"],[0.5,\"#f7f7f7\"],[0.6,\"#e6f5d0\"],[0.7,\"#b8e186\"],[0.8,\"#7fbc41\"],[0.9,\"#4d9221\"],[1,\"#276419\"]]},\"xaxis\":{\"gridcolor\":\"white\",\"linecolor\":\"white\",\"ticks\":\"\",\"title\":{\"standoff\":15},\"zerolinecolor\":\"white\",\"automargin\":true,\"zerolinewidth\":2},\"yaxis\":{\"gridcolor\":\"white\",\"linecolor\":\"white\",\"ticks\":\"\",\"title\":{\"standoff\":15},\"zerolinecolor\":\"white\",\"automargin\":true,\"zerolinewidth\":2},\"scene\":{\"xaxis\":{\"backgroundcolor\":\"#E5ECF6\",\"gridcolor\":\"white\",\"linecolor\":\"white\",\"showbackground\":true,\"ticks\":\"\",\"zerolinecolor\":\"white\",\"gridwidth\":2},\"yaxis\":{\"backgroundcolor\":\"#E5ECF6\",\"gridcolor\":\"white\",\"linecolor\":\"white\",\"showbackground\":true,\"ticks\":\"\",\"zerolinecolor\":\"white\",\"gridwidth\":2},\"zaxis\":{\"backgroundcolor\":\"#E5ECF6\",\"gridcolor\":\"white\",\"linecolor\":\"white\",\"showbackground\":true,\"ticks\":\"\",\"zerolinecolor\":\"white\",\"gridwidth\":2}},\"shapedefaults\":{\"line\":{\"color\":\"#2a3f5f\"}},\"annotationdefaults\":{\"arrowcolor\":\"#2a3f5f\",\"arrowhead\":0,\"arrowwidth\":1},\"geo\":{\"bgcolor\":\"white\",\"landcolor\":\"#E5ECF6\",\"subunitcolor\":\"white\",\"showland\":true,\"showlakes\":true,\"lakecolor\":\"white\"},\"title\":{\"x\":0.05},\"mapbox\":{\"style\":\"light\"}}},\"title\":{\"text\":\"Model Performance per Epoch\"},\"xaxis\":{\"title\":{\"text\":\"Epoch\"}},\"yaxis\":{\"title\":{\"text\":\"Metric Value\"}},\"updatemenus\":[{\"buttons\":[{\"args\":[{\"visible\":[true,true,false,false,false,false,false,false,false,false]},{\"title\":\"Loss\"}],\"label\":\"Loss\",\"method\":\"update\"},{\"args\":[{\"visible\":[false,false,true,true,false,false,false,false,false,false]},{\"title\":\"Accuracy\"}],\"label\":\"Accuracy\",\"method\":\"update\"},{\"args\":[{\"visible\":[false,false,false,false,true,true,false,false,false,false]},{\"title\":\"Precision\"}],\"label\":\"Precision\",\"method\":\"update\"},{\"args\":[{\"visible\":[false,false,false,false,false,false,true,true,false,false]},{\"title\":\"Recall\"}],\"label\":\"Recall\",\"method\":\"update\"},{\"args\":[{\"visible\":[false,false,false,false,false,false,false,false,true,true]},{\"title\":\"F1\"}],\"label\":\"F1\",\"method\":\"update\"}],\"direction\":\"down\",\"showactive\":true}],\"legend\":{\"title\":{\"text\":\"Legend\"}}},                        {\"responsive\": true}                    ).then(function(){\n",
              "                            \n",
              "var gd = document.getElementById('9e4f8f88-aa15-495f-ae4b-a2f07c6ea8eb');\n",
              "var x = new MutationObserver(function (mutations, observer) {{\n",
              "        var display = window.getComputedStyle(gd).display;\n",
              "        if (!display || display === 'none') {{\n",
              "            console.log([gd, 'removed!']);\n",
              "            Plotly.purge(gd);\n",
              "            observer.disconnect();\n",
              "        }}\n",
              "}});\n",
              "\n",
              "// Listen for the removal of the full notebook cells\n",
              "var notebookContainer = gd.closest('#notebook-container');\n",
              "if (notebookContainer) {{\n",
              "    x.observe(notebookContainer, {childList: true});\n",
              "}}\n",
              "\n",
              "// Listen for the clearing of the current output cell\n",
              "var outputEl = gd.closest('.output');\n",
              "if (outputEl) {{\n",
              "    x.observe(outputEl, {childList: true});\n",
              "}}\n",
              "\n",
              "                        })                };                            </script>        </div>\n",
              "</body>\n",
              "</html>"
            ]
          },
          "metadata": {},
          "output_type": "display_data"
        }
      ],
      "source": [
        "# Evaluation train and validation results\n",
        "\n",
        "scatter_plot_metrics(f'{experiment.root}/history/train.csv',\n",
        "                     f'{experiment.root}/history/val.csv')"
      ]
    },
    {
      "cell_type": "code",
      "execution_count": 38,
      "id": "4f77522e",
      "metadata": {
        "id": "4f77522e"
      },
      "outputs": [],
      "source": [
        "# Replace missing values with 0 in column lr from val.csv and test.csv (TO BE REFACTORED)\n",
        "\n",
        "val = pd.read_csv(f\"{experiment.root}/history/val.csv\")\n",
        "val['lr'] = val['lr'].fillna(0).to_numpy()\n",
        "val.to_csv(f\"{experiment.root}/history/val.csv\", index=False)\n",
        "\n",
        "test = pd.read_csv(f\"{experiment.root}/history/test.csv\")\n",
        "test['lr'] = test['lr'].fillna(0).to_numpy()\n",
        "test.to_csv(f\"{experiment.root}/history/test.csv\", index=False)"
      ]
    },
    {
      "cell_type": "code",
      "execution_count": 39,
      "id": "cbb17e42",
      "metadata": {
        "colab": {
          "base_uri": "https://localhost:8080/"
        },
        "id": "cbb17e42",
        "outputId": "cbe38b9b-a90e-490e-ca11-075d5024e6a9"
      },
      "outputs": [
        {
          "name": "stdout",
          "output_type": "stream",
          "text": [
            "Average validation metrics: {'loss': 0.11292581480711394, 'accuracy': 0.9525252525252526, 'precision': 0.9562843507562672, 'recall': 0.9525252525252526, 'f1': 0.9524092080717278, 'lr': 0.0}\n"
          ]
        }
      ],
      "source": [
        "# Calculate average metrics for last n epochs\n",
        "\n",
        "experiment = Experiment(\"signature_detection_baseline_v1\", \"/content/drive/MyDrive/XAI_ProfAI/experiments\")\n",
        "experiment.load_history_from_file(\"val\")\n",
        "experiment.load_history_from_file(\"train\")\n",
        "experiment.load_history_from_file(\"test\")\n",
        "\n",
        "avg_metrics = experiment.calculate_average_metrics('val', last_n_epochs=5)\n",
        "print(\"Average validation metrics:\", avg_metrics)"
      ]
    },
    {
      "cell_type": "code",
      "execution_count": 40,
      "id": "413db41f",
      "metadata": {
        "colab": {
          "base_uri": "https://localhost:8080/"
        },
        "id": "413db41f",
        "outputId": "8add7e89-0215-460d-cbef-926038761933"
      },
      "outputs": [
        {
          "name": "stderr",
          "output_type": "stream",
          "text": [
            "2025-07-28 09:32:00,320 - signature_detection_baseline_v1 - INFO - Successfully exported results to /content/drive/MyDrive/XAI_ProfAI/experiments/signature_detection_baseline_v1/results/results.json\n",
            "INFO:signature_detection_baseline_v1:Successfully exported results to /content/drive/MyDrive/XAI_ProfAI/experiments/signature_detection_baseline_v1/results/results.json\n"
          ]
        }
      ],
      "source": [
        "# Export results in JSON\n",
        "\n",
        "experiment.export_results_to_json(\"/content/drive/MyDrive/XAI_ProfAI/experiments/signature_detection_baseline_v1/results/results.json\")"
      ]
    },
    {
      "cell_type": "code",
      "execution_count": 41,
      "id": "ba9a57ea",
      "metadata": {
        "colab": {
          "base_uri": "https://localhost:8080/"
        },
        "id": "ba9a57ea",
        "outputId": "a5b85100-5349-4f0c-b885-1664776d4299"
      },
      "outputs": [
        {
          "name": "stdout",
          "output_type": "stream",
          "text": [
            "Best validation accuracy was achieved at epoch 39 with 98.7%\n"
          ]
        }
      ],
      "source": [
        "# Find best epoch according to validation accuracy\n",
        "\n",
        "metric = 'accuracy'\n",
        "\n",
        "best_epoch = experiment.get_best_epoch(metric, mode='max')\n",
        "print(f\"Best validation accuracy was achieved at epoch {best_epoch} with {100*experiment.history['val'][metric][best_epoch-1]:.1f}%\")"
      ]
    },
    {
      "cell_type": "code",
      "execution_count": 42,
      "id": "4674dba7",
      "metadata": {
        "id": "4674dba7"
      },
      "outputs": [],
      "source": [
        "\n",
        "# Plot learning rate\n",
        "\n",
        "experiment.plot_learning_rate(experiment.history['train']['lr'])"
      ]
    },
    {
      "cell_type": "code",
      "execution_count": null,
      "id": "033a8260",
      "metadata": {
        "colab": {
          "base_uri": "https://localhost:8080/",
          "height": 1000
        },
        "id": "033a8260",
        "outputId": "0bc20bb7-e521-4c49-a96e-c24ccda23a28"
      },
      "outputs": [
        {
          "name": "stderr",
          "output_type": "stream",
          "text": [
            "/usr/local/lib/python3.11/dist-packages/torch/utils/data/dataloader.py:624: UserWarning:\n",
            "\n",
            "This DataLoader will create 4 worker processes in total. Our suggested max number of worker in current system is 2, which is smaller than what this DataLoader is going to create. Please be aware that excessive worker creation might get DataLoader running slow or even freeze, lower the worker number to avoid potential slowness/freeze if necessary.\n",
            "\n"
          ]
        },
        {
          "data": {
            "image/png": "[encoded data removed]",
            "text/plain": [
              "<Figure size 1500x1500 with 15 Axes>"
            ]
          },
          "metadata": {},
          "output_type": "display_data"
        }
      ],
      "source": [
        "# Plot misclassified images with ground truth and prediction\n",
        "\n",
        "plot_misclassified_images(\n",
        "    model=trained_model,\n",
        "    dataloader=dataloaders['test'],\n",
        "    device=device,\n",
        "    num_images=16,\n",
        "    class_names=[\"original\", \"forgery\"],\n",
        "    mean=config['preprocessing']['image']['mean'],\n",
        "    std=config['preprocessing']['image']['std']\n",
        ")"
      ]
    },
    {
      "cell_type": "markdown",
      "id": "7151f65a",
      "metadata": {
        "id": "7151f65a"
      },
      "source": [
        "## eXplainability"
      ]
    }
  ],
  "metadata": {
    "accelerator": "GPU",
    "colab": {
      "gpuType": "T4",
      "provenance": []
    },
    "kernelspec": {
      "display_name": "Python 3",
      "name": "python3"
    },
    "language_info": {
      "name": "python"
    }
  },
  "nbformat": 4,
  "nbformat_minor": 5
}
