{
  "cells": [
    {
      "cell_type": "markdown",
      "id": "e4cbc264",
      "metadata": {
        "id": "e4cbc264"
      },
      "source": [
        "# XAI Project for signature classification using CEDAR dataset"
      ]
    },
    {
      "cell_type": "markdown",
      "id": "8821236a",
      "metadata": {
        "id": "8821236a"
      },
      "source": [
        "## Configurations Colab & Kaggle API"
      ]
    },
    {
      "cell_type": "code",
      "execution_count": null,
      "id": "7e76ef70",
      "metadata": {
        "id": "7e76ef70"
      },
      "outputs": [],
      "source": [
        "!git clone https://github.com/silvano315/eXplainability-for-signature-detection.git"
      ]
    },
    {
      "cell_type": "code",
      "execution_count": null,
      "id": "56e246a6",
      "metadata": {
        "id": "56e246a6"
      },
      "outputs": [],
      "source": [
        "import os\n",
        "\n",
        "os.chdir(\"eXplainability-for-signature-detection\")\n",
        "os.getcwd()"
      ]
    },
    {
      "cell_type": "code",
      "execution_count": null,
      "id": "eb9f21fa",
      "metadata": {
        "id": "eb9f21fa"
      },
      "outputs": [],
      "source": [
        "from google.colab import drive\n",
        "drive.mount('/content/drive')"
      ]
    },
    {
      "cell_type": "code",
      "execution_count": null,
      "id": "4fa1d795",
      "metadata": {
        "id": "4fa1d795"
      },
      "outputs": [],
      "source": [
        "# Move your Kaggle API to /root/.config/kaggle and /root/.kaggle/kaggle.json\n",
        "\n",
        "os.makedirs('/root/.kaggle', exist_ok = True)\n",
        "\n",
        "!cp /content/drive/MyDrive/Kaggle_api/kaggle.json /root/.config/kaggle.json\n",
        "!cp /content/drive/MyDrive/Kaggle_api/kaggle.json /root/.kaggle/kaggle.json"
      ]
    },
    {
      "cell_type": "markdown",
      "id": "49734ac8",
      "metadata": {
        "id": "49734ac8"
      },
      "source": [
        "## Import libraries"
      ]
    },
    {
      "cell_type": "code",
      "execution_count": null,
      "id": "845e6e10",
      "metadata": {
        "id": "845e6e10"
      },
      "outputs": [],
      "source": [
        "import json\n",
        "import logging\n",
        "import yaml\n",
        "import torch\n",
        "import pandas as pd\n",
        "from pathlib import Path\n",
        "from torch.utils.data import DataLoader\n",
        "from torchvision import transforms, datasets\n",
        "\n",
        "from src.utils.kaggle_downloader import setup_dataset\n",
        "from src.utils.logger_setup import get_logger\n",
        "from src.utils.dataset_analyzer import create_dataset_metadata, validate_dataset_consistency, \\\n",
        "                                        save_metadata, load_metadata\n",
        "from src.utils.eda import print_dataset_statistics, plot_dataset_distribution, \\\n",
        "                            show_sample_images, analyze_image_properties, generate_eda_report\n",
        "from src.data.cedar_dataset import CEDARDataset, create_dataloaders, create_balanced_splits\n",
        "from src.model.model_factory import get_available_models, validate_model_config, create_model\n",
        "from src.training.experiment import Experiment\n",
        "from src.training.callbacks import EarlyStopping, ModelCheckpoint, ReduceLROnPlateau\n",
        "from src.training.trainer import ModelTrainer\n",
        "from src.visualization.plot_results import scatter_plot_metrics, plot_confusion_matrix, plot_misclassified_images"
      ]
    },
    {
      "cell_type": "markdown",
      "id": "6e0a74a5",
      "metadata": {
        "id": "6e0a74a5"
      },
      "source": [
        "## Configurations"
      ]
    },
    {
      "cell_type": "code",
      "execution_count": null,
      "id": "a925e730",
      "metadata": {
        "id": "a925e730"
      },
      "outputs": [],
      "source": [
        "# Load config\n",
        "\n",
        "with open('config/config.yaml', 'r') as f:\n",
        "    config = yaml.safe_load(f)"
      ]
    },
    {
      "cell_type": "code",
      "execution_count": null,
      "id": "acabf57c",
      "metadata": {
        "id": "acabf57c"
      },
      "outputs": [],
      "source": [
        "# Setup paths\n",
        "\n",
        "DATA_PATH = Path(config['paths']['data']['raw_path'])\n",
        "MODELS_PATH = Path(config['paths']['data']['models_path'])\n",
        "MODELS_PATH.mkdir(parents=True, exist_ok=True)"
      ]
    },
    {
      "cell_type": "code",
      "execution_count": null,
      "id": "76d42f09",
      "metadata": {
        "id": "76d42f09"
      },
      "outputs": [],
      "source": [
        "# Training parameters\n",
        "\n",
        "BATCH_SIZE = config['training']['batch_size']\n",
        "NUM_EPOCHS = config['training']['num_epochs']\n",
        "LEARNING_RATE = config['training']['learning_rate']\n",
        "NUM_CLASSES = config['dataset']['num_classes']"
      ]
    },
    {
      "cell_type": "markdown",
      "id": "60a1ede8",
      "metadata": {
        "id": "60a1ede8"
      },
      "source": [
        "## Load data"
      ]
    },
    {
      "cell_type": "code",
      "execution_count": null,
      "id": "298caa61",
      "metadata": {
        "id": "298caa61"
      },
      "outputs": [],
      "source": [
        "# Download Malimg dataset from Kaggle\n",
        "\n",
        "dataset_path = setup_dataset()\n",
        "print(f\"Dataset found at: {dataset_path}\")"
      ]
    },
    {
      "cell_type": "code",
      "execution_count": null,
      "id": "d2fcb74e",
      "metadata": {
        "id": "d2fcb74e"
      },
      "outputs": [],
      "source": [
        "# Generate metadata for the dataset\n",
        "\n",
        "signatures_path = Path(\"data/raw/cedardataset/signatures\")\n",
        "metadata = create_dataset_metadata(signatures_path)"
      ]
    },
    {
      "cell_type": "code",
      "execution_count": null,
      "id": "0b5f4efb",
      "metadata": {
        "id": "0b5f4efb"
      },
      "outputs": [],
      "source": [
        "# Save or load metadata with FLAG\n",
        "\n",
        "SAVE_METADATA = False\n",
        "dataset_metadata_path = Path(\"metadata/metadata.json\")\n",
        "\n",
        "if SAVE_METADATA:\n",
        "    save_metadata(metadata, dataset_metadata_path)\n",
        "else:\n",
        "    metadata = load_metadata(dataset_metadata_path)"
      ]
    },
    {
      "cell_type": "code",
      "execution_count": null,
      "id": "51552082",
      "metadata": {
        "id": "51552082"
      },
      "outputs": [],
      "source": [
        "# Validate dataset consistency (statistics, class distribution, etc.)\n",
        "\n",
        "validate_metadata = validate_dataset_consistency(metadata)\n",
        "for key, value in validate_metadata.items():\n",
        "    if isinstance(value, dict):\n",
        "        print(f\"{key}:\")\n",
        "        for subkey, subvalue in value.items():\n",
        "            print(f\"  {subkey}: {subvalue}\")\n",
        "    else:\n",
        "      print(f\"{key}: {value}\")"
      ]
    },
    {
      "cell_type": "markdown",
      "id": "a65385e4",
      "metadata": {
        "id": "a65385e4"
      },
      "source": [
        "## Exploratory Data Analysis"
      ]
    },
    {
      "cell_type": "code",
      "execution_count": null,
      "id": "6b0ad6d4",
      "metadata": {
        "id": "6b0ad6d4"
      },
      "outputs": [],
      "source": [
        "# Print a complete EDA report\n",
        "\n",
        "signatures_path = Path(\"data/raw/cedardataset/signatures\")\n",
        "output_dir = Path(\"reports/eda\")\n",
        "\n",
        "generate_eda_report(signatures_path, metadata, output_dir)"
      ]
    },
    {
      "cell_type": "code",
      "execution_count": null,
      "id": "a2ebe1ea",
      "metadata": {
        "id": "a2ebe1ea"
      },
      "outputs": [],
      "source": [
        "# I you want to run the EDA report step by step\n",
        "\n",
        "print_dataset_statistics(metadata)"
      ]
    },
    {
      "cell_type": "code",
      "execution_count": null,
      "id": "a1c92b2f",
      "metadata": {
        "id": "a1c92b2f"
      },
      "outputs": [],
      "source": [
        "# I you want to run the EDA report step by step\n",
        "\n",
        "plot_dataset_distribution(metadata)"
      ]
    },
    {
      "cell_type": "markdown",
      "id": "e4cdd330",
      "metadata": {
        "id": "e4cdd330"
      },
      "source": [
        "## Create Data Loaders"
      ]
    },
    {
      "cell_type": "code",
      "execution_count": null,
      "id": "cb2b1b85",
      "metadata": {
        "id": "cb2b1b85"
      },
      "outputs": [],
      "source": [
        "# If you haven't run it before\n",
        "\n",
        "dataset_metadata_path = Path(\"metadata/metadata.json\")\n",
        "\n",
        "metadata = load_metadata(dataset_metadata_path)"
      ]
    },
    {
      "cell_type": "code",
      "execution_count": null,
      "id": "84659a9a",
      "metadata": {
        "id": "84659a9a"
      },
      "outputs": [],
      "source": [
        "# Update metadata with balanced splits\n",
        "\n",
        "metadata_with_splits = create_balanced_splits(metadata)\n",
        "\n",
        "print(\"\\n\")\n",
        "print(\"You can see the split key updated\")\n",
        "for i, (key, value) in enumerate(metadata_with_splits.items()):\n",
        "    print(f\"{key}: {value}\")\n",
        "    if i == 5:\n",
        "      break"
      ]
    },
    {
      "cell_type": "code",
      "execution_count": null,
      "id": "c1438a46",
      "metadata": {
        "id": "c1438a46"
      },
      "outputs": [],
      "source": [
        "# Create dataloaders for training, validation, and test sets\n",
        "\n",
        "data_path = Path(\"data/raw/cedardataset/signatures\")\n",
        "\n",
        "dataloaders = create_dataloaders(data_path, metadata_with_splits)"
      ]
    },
    {
      "cell_type": "code",
      "execution_count": null,
      "id": "6c9552c1",
      "metadata": {
        "id": "6c9552c1"
      },
      "outputs": [],
      "source": [
        "# You can check the dataloaders for each split\n",
        "\n",
        "for split, loader in dataloaders.items():\n",
        "    print(f\"{split} DataLoader:\")\n",
        "    for i, (images, labels) in enumerate(loader):\n",
        "        print(f\"  Batch {i+1}: {len(images)} images\")\n",
        "        print(f\"  Labels: {labels}\")\n",
        "        print(f\"  Images shape: {images.shape}\")\n",
        "        if i == 2:\n",
        "            break\n",
        "    print(\"\\n\")\n",
        "    print(f\"Class counts: {loader.dataset.get_class_counts()}\")\n",
        "    print(f\"Subject info: {loader.dataset.get_subject_info()}\")"
      ]
    },
    {
      "cell_type": "markdown",
      "id": "91a8b5cb",
      "metadata": {
        "id": "91a8b5cb"
      },
      "source": [
        "## Model Definition & Setup Training"
      ]
    },
    {
      "cell_type": "code",
      "execution_count": null,
      "id": "3cf33818",
      "metadata": {
        "id": "3cf33818"
      },
      "outputs": [],
      "source": [
        "# Model configuration --> Baseline model\n",
        "\n",
        "model_config = {\n",
        "    'type': 'baseline',\n",
        "    'num_classes': 2,\n",
        "    'input_channels': 3\n",
        "}"
      ]
    },
    {
      "cell_type": "code",
      "execution_count": null,
      "id": "3fdf54ab",
      "metadata": {
        "id": "3fdf54ab"
      },
      "outputs": [],
      "source": [
        "# Model configuration --> Transfer learning model\n",
        "\n",
        "model_config = {\n",
        "    'type': 'transfer',\n",
        "    'model_name': 'resnet50',\n",
        "    'num_classes': NUM_CLASSES,\n",
        "    'pretrained': True,\n",
        "    'use_custom_classifier': True\n",
        "}"
      ]
    },
    {
      "cell_type": "code",
      "execution_count": null,
      "id": "690000a8",
      "metadata": {
        "id": "690000a8"
      },
      "outputs": [],
      "source": [
        "# Give a look at every avialable model\n",
        "\n",
        "get_available_models()"
      ]
    },
    {
      "cell_type": "code",
      "execution_count": null,
      "id": "49d8d1e2",
      "metadata": {
        "id": "49d8d1e2"
      },
      "outputs": [],
      "source": [
        "# Validate configuration\n",
        "\n",
        "validate_model_config(model_config)"
      ]
    },
    {
      "cell_type": "code",
      "execution_count": null,
      "id": "285b8f2f",
      "metadata": {
        "id": "285b8f2f"
      },
      "outputs": [],
      "source": [
        "# Create model\n",
        "\n",
        "model = create_model(model_config)"
      ]
    },
    {
      "cell_type": "code",
      "execution_count": null,
      "id": "18a3527e",
      "metadata": {
        "id": "18a3527e"
      },
      "outputs": [],
      "source": [
        "# Optimizer e Loss\n",
        "\n",
        "optimizer = torch.optim.Adam(\n",
        "    model.parameters(),\n",
        "    lr=LEARNING_RATE\n",
        ")\n",
        "\n",
        "criterion = torch.nn.CrossEntropyLoss()"
      ]
    },
    {
      "cell_type": "code",
      "execution_count": null,
      "id": "71d005b4",
      "metadata": {
        "id": "71d005b4"
      },
      "outputs": [],
      "source": [
        "# Setup experiment\n",
        "\n",
        "logger = get_logger()\n",
        "\n",
        "experiment = Experiment(\n",
        "    name=\"signature_detection_resnet_v1\",       # maybe use the name of the model\n",
        "    root=\"/content/drive/MyDrive/XAI_ProfAI/experiments\",\n",
        "    logger=logger\n",
        ")\n",
        "experiment.init()"
      ]
    },
    {
      "cell_type": "code",
      "execution_count": null,
      "id": "4abe134c",
      "metadata": {
        "id": "4abe134c"
      },
      "outputs": [],
      "source": [
        "# Setup callbacks\n",
        "\n",
        "callbacks = [\n",
        "    EarlyStopping(\n",
        "        monitor='val_loss',\n",
        "        patience=config['training']['early_stopping']['patience'],\n",
        "        min_delta=config['training']['early_stopping']['min_delta'],\n",
        "        verbose=True\n",
        "    ),\n",
        "    ModelCheckpoint(\n",
        "        filepath='best_baseline_model.pth',\n",
        "        monitor='val_loss',\n",
        "        save_best_only=True,\n",
        "        verbose=1\n",
        "    ),\n",
        "    ReduceLROnPlateau(\n",
        "        optimizer=optimizer,\n",
        "        mode='min',\n",
        "        patience=5,\n",
        "        factor=0.1,\n",
        "        verbose=True\n",
        "    )\n",
        "]"
      ]
    },
    {
      "cell_type": "code",
      "execution_count": null,
      "id": "47f5ea8c",
      "metadata": {
        "id": "47f5ea8c"
      },
      "outputs": [],
      "source": [
        "# Initialize trainer\n",
        "\n",
        "device = torch.device(\"cuda\" if torch.cuda.is_available() else \"cpu\")\n",
        "print(f\"Using device: {device}\")\n",
        "\n",
        "trainer = ModelTrainer(\n",
        "    model=model,\n",
        "    optimizer=optimizer,\n",
        "    criterion=criterion,\n",
        "    experiment=experiment,\n",
        "    device=device,\n",
        "    logger=logger\n",
        ")"
      ]
    },
    {
      "cell_type": "code",
      "execution_count": null,
      "id": "533b25b0",
      "metadata": {
        "id": "533b25b0"
      },
      "outputs": [],
      "source": [
        "# Train the model\n",
        "\n",
        "trained_model = trainer.train(\n",
        "    train_loader=dataloaders['train'],\n",
        "    val_loader=dataloaders['val'],\n",
        "    num_epochs=NUM_EPOCHS,\n",
        "    callbacks=callbacks\n",
        ")\n",
        "\n",
        "torch.save(trained_model.state_dict(), experiment.root / 'final_model_resnet_v1.pth')"
      ]
    },
    {
      "cell_type": "markdown",
      "id": "9f9425d8",
      "metadata": {
        "id": "9f9425d8"
      },
      "source": [
        "## Validation on Test Set"
      ]
    },
    {
      "cell_type": "code",
      "execution_count": null,
      "id": "f80b6d07",
      "metadata": {
        "id": "f80b6d07"
      },
      "outputs": [],
      "source": [
        "# Evaluation on test set\n",
        "\n",
        "test_logs = trainer.validate(dataloaders['test'])\n",
        "experiment.save_history('test', **test_logs)\n",
        "logger.info(f\"Test Results: {test_logs}\")"
      ]
    },
    {
      "cell_type": "code",
      "execution_count": null,
      "id": "efd41db6",
      "metadata": {
        "id": "efd41db6"
      },
      "outputs": [],
      "source": [
        "# Get predictions on test set\n",
        "\n",
        "test_targets, test_predictions = trainer.predict(dataloaders['test'])\n",
        "\n",
        "plot_confusion_matrix(test_targets, test_predictions, classes = [\"original\", \"forgery\"],)\n",
        "logger.info(\"Confusion matrix saved as 'confusion_matrix.png'\")"
      ]
    },
    {
      "cell_type": "code",
      "execution_count": null,
      "id": "d6e7f1e6",
      "metadata": {
        "id": "d6e7f1e6"
      },
      "outputs": [],
      "source": [
        "# Save test results\n",
        "test_results = {\n",
        "    'targets': test_targets.tolist(),\n",
        "    'predictions': test_predictions.tolist()\n",
        "}\n",
        "\n",
        "with open(f\"{experiment.results_dir}/test_results.json\", 'w') as f:\n",
        "    json.dump(test_results, f)"
      ]
    },
    {
      "cell_type": "markdown",
      "id": "874466ee",
      "metadata": {
        "id": "874466ee"
      },
      "source": [
        "## Analysis of Results"
      ]
    },
    {
      "cell_type": "code",
      "execution_count": null,
      "id": "bda156b3",
      "metadata": {
        "id": "bda156b3"
      },
      "outputs": [],
      "source": [
        "# Generate and Save plots training history\n",
        "\n",
        "experiment.plot_history()"
      ]
    },
    {
      "cell_type": "code",
      "execution_count": null,
      "id": "ce4a3cf0",
      "metadata": {
        "id": "ce4a3cf0"
      },
      "outputs": [],
      "source": [
        "# Evaluation train and validation results\n",
        "\n",
        "scatter_plot_metrics(f'{experiment.root}/history/train.csv',\n",
        "                     f'{experiment.root}/history/val.csv')"
      ]
    },
    {
      "cell_type": "code",
      "execution_count": null,
      "id": "4f77522e",
      "metadata": {
        "id": "4f77522e"
      },
      "outputs": [],
      "source": [
        "# Replace missing values with 0 in column lr from val.csv and test.csv (TO BE REFACTORED)\n",
        "\n",
        "val = pd.read_csv(f\"{experiment.root}/history/val.csv\")\n",
        "val['lr'] = val['lr'].fillna(0).to_numpy()\n",
        "val.to_csv(f\"{experiment.root}/history/val.csv\", index=False)\n",
        "\n",
        "test = pd.read_csv(f\"{experiment.root}/history/test.csv\")\n",
        "test['lr'] = test['lr'].fillna(0).to_numpy()\n",
        "test.to_csv(f\"{experiment.root}/history/test.csv\", index=False)"
      ]
    },
    {
      "cell_type": "code",
      "execution_count": null,
      "id": "cbb17e42",
      "metadata": {
        "id": "cbb17e42"
      },
      "outputs": [],
      "source": [
        "# Calculate average metrics for last n epochs\n",
        "\n",
        "experiment = Experiment(\"signature_detection_resnet_v1\", \"/content/drive/MyDrive/XAI_ProfAI/experiments\")\n",
        "experiment.load_history_from_file(\"val\")\n",
        "experiment.load_history_from_file(\"train\")\n",
        "experiment.load_history_from_file(\"test\")\n",
        "\n",
        "avg_metrics = experiment.calculate_average_metrics('val', last_n_epochs=5)\n",
        "print(\"Average validation metrics:\", avg_metrics)"
      ]
    },
    {
      "cell_type": "code",
      "execution_count": null,
      "id": "413db41f",
      "metadata": {
        "id": "413db41f"
      },
      "outputs": [],
      "source": [
        "# Export results in JSON\n",
        "\n",
        "experiment.export_results_to_json(\"/content/drive/MyDrive/XAI_ProfAI/experiments/signature_detection_resnet_v1/results/results.json\")"
      ]
    },
    {
      "cell_type": "code",
      "execution_count": null,
      "id": "ba9a57ea",
      "metadata": {
        "id": "ba9a57ea"
      },
      "outputs": [],
      "source": [
        "# Find best epoch according to validation accuracy\n",
        "\n",
        "metric = 'accuracy'\n",
        "\n",
        "best_epoch = experiment.get_best_epoch(metric, mode='max')\n",
        "print(f\"Best validation accuracy was achieved at epoch {best_epoch} with {100*experiment.history['val'][metric][best_epoch-1]:.1f}%\")"
      ]
    },
    {
      "cell_type": "code",
      "execution_count": null,
      "id": "4674dba7",
      "metadata": {
        "id": "4674dba7"
      },
      "outputs": [],
      "source": [
        "\n",
        "# Plot learning rate\n",
        "\n",
        "experiment.plot_learning_rate(experiment.history['train']['lr'])"
      ]
    },
    {
      "cell_type": "code",
      "execution_count": null,
      "id": "033a8260",
      "metadata": {
        "id": "033a8260"
      },
      "outputs": [],
      "source": [
        "# Plot misclassified images with ground truth and prediction\n",
        "\n",
        "plot_misclassified_images(\n",
        "    model=trained_model,\n",
        "    dataloader=dataloaders['test'],\n",
        "    device=device,\n",
        "    num_images=16,\n",
        "    class_names=[\"original\", \"forgery\"],\n",
        "    mean=config['preprocessing']['image']['mean'],\n",
        "    std=config['preprocessing']['image']['std']\n",
        ")"
      ]
    },
    {
      "cell_type": "markdown",
      "id": "7151f65a",
      "metadata": {
        "id": "7151f65a"
      },
      "source": [
        "## eXplainability"
      ]
    },
    {
      "cell_type": "code",
      "execution_count": null,
      "id": "55ecd5c5",
      "metadata": {},
      "outputs": [],
      "source": [
        "from src.xai.explainer import SignatureExplainer\n",
        "from src.xai.visualizer import XAIVisualizer"
      ]
    },
    {
      "cell_type": "code",
      "execution_count": null,
      "id": "cf884c65",
      "metadata": {},
      "outputs": [],
      "source": [
        "# Load model e setup\n",
        "\n",
        "explainer = SignatureExplainer(model, device)\n",
        "visualizer = XAIVisualizer()"
      ]
    },
    {
      "cell_type": "code",
      "execution_count": null,
      "id": "ba789aa9",
      "metadata": {},
      "outputs": [],
      "source": [
        "# Choose an image from the test set\n",
        "\n",
        "image = next(iter(dataloaders['test']))[0][0]\n",
        "image = image.unsqueeze(0).to(device)"
      ]
    },
    {
      "cell_type": "code",
      "execution_count": null,
      "id": "a9f2b881",
      "metadata": {},
      "outputs": [],
      "source": [
        "# Single explanation\n",
        "\n",
        "grad_cam_map = explainer.grad_cam(image.unsqueeze(0), target_layer=\"conv3\")\n",
        "visualizer.plot_single_explanation(image, grad_cam_map, \"Grad-CAM\")"
      ]
    },
    {
      "cell_type": "code",
      "execution_count": null,
      "id": "d666d061",
      "metadata": {},
      "outputs": [],
      "source": [
        "int_grad_map = explainer.integrated_gradients(image.unsqueeze(0))\n",
        "visualizer.plot_single_explanation(image, int_grad_map, \"Integrated-Gradients\")"
      ]
    },
    {
      "cell_type": "code",
      "execution_count": null,
      "id": "3d88c00f",
      "metadata": {},
      "outputs": [],
      "source": [
        "occ_map = explainer.occlusion_map(image.unsqueeze(0))\n",
        "visualizer.plot_single_explanation(image, occ_map, \"Occlusion\")"
      ]
    },
    {
      "cell_type": "code",
      "execution_count": null,
      "id": "17b325e0",
      "metadata": {},
      "outputs": [],
      "source": [
        "# Compare all methods - TO BE FIXED\n",
        "\n",
        "explanations = explainer.compare_explanations(image.unsqueeze(0), target_layer=\"conv3\")\n",
        "visualizer.plot_comparison(image, explanations)"
      ]
    }
  ],
  "metadata": {
    "accelerator": "GPU",
    "colab": {
      "gpuType": "T4",
      "provenance": []
    },
    "kernelspec": {
      "display_name": "Python 3",
      "name": "python3"
    },
    "language_info": {
      "name": "python"
    }
  },
  "nbformat": 4,
  "nbformat_minor": 5
}
